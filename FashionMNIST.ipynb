{
  "nbformat": 4,
  "nbformat_minor": 0,
  "metadata": {
    "colab": {
      "name": "FashionMNIST.ipynb",
      "provenance": [],
      "authorship_tag": "ABX9TyPV4uY/aCzktm+f8WHV+Y3L",
      "include_colab_link": true
    },
    "kernelspec": {
      "name": "python3",
      "display_name": "Python 3"
    },
    "accelerator": "GPU"
  },
  "cells": [
    {
      "cell_type": "markdown",
      "metadata": {
        "id": "view-in-github",
        "colab_type": "text"
      },
      "source": [
        "<a href=\"https://colab.research.google.com/github/cullena20/inspiritai/blob/main/FashionMNIST.ipynb\" target=\"_parent\"><img src=\"https://colab.research.google.com/assets/colab-badge.svg\" alt=\"Open In Colab\"/></a>"
      ]
    },
    {
      "cell_type": "markdown",
      "metadata": {
        "id": "zf0WjeY-IVYm"
      },
      "source": [
        "# Fashion MNIST Classifier\n"
      ]
    },
    {
      "cell_type": "code",
      "metadata": {
        "colab": {
          "base_uri": "https://localhost:8080/"
        },
        "id": "ikn3GyIwHIk7",
        "outputId": "50a78ccf-4def-4798-b023-2a4147c07680"
      },
      "source": [
        "import tensorflow as tf\n",
        "from tensorflow import keras  # perhaps this wasn't the cleanest way\n",
        "import numpy as np\n",
        "import matplotlib.pyplot as plt\n",
        "\n",
        "print(tf.__version__)"
      ],
      "execution_count": null,
      "outputs": [
        {
          "output_type": "stream",
          "text": [
            "2.4.0\n"
          ],
          "name": "stdout"
        }
      ]
    },
    {
      "cell_type": "markdown",
      "metadata": {
        "id": "j5LXzDJ3MG_a"
      },
      "source": [
        "## Data Exploration\n"
      ]
    },
    {
      "cell_type": "markdown",
      "metadata": {
        "id": "sPwD-cUDIbox"
      },
      "source": [
        "Load our data and explore it a little.\n"
      ]
    },
    {
      "cell_type": "code",
      "metadata": {
        "colab": {
          "base_uri": "https://localhost:8080/"
        },
        "id": "0Qh-XfJXHezH",
        "outputId": "4e7e3337-72e5-4586-c738-83c7ecc19735"
      },
      "source": [
        "fashion_mnist = keras.datasets.fashion_mnist\n",
        "(train_images, train_labels), (test_images, test_labels) = fashion_mnist.load_data()"
      ],
      "execution_count": null,
      "outputs": [
        {
          "output_type": "stream",
          "text": [
            "Downloading data from https://storage.googleapis.com/tensorflow/tf-keras-datasets/train-labels-idx1-ubyte.gz\n",
            "32768/29515 [=================================] - 0s 0us/step\n",
            "Downloading data from https://storage.googleapis.com/tensorflow/tf-keras-datasets/train-images-idx3-ubyte.gz\n",
            "26427392/26421880 [==============================] - 0s 0us/step\n",
            "Downloading data from https://storage.googleapis.com/tensorflow/tf-keras-datasets/t10k-labels-idx1-ubyte.gz\n",
            "8192/5148 [===============================================] - 0s 0us/step\n",
            "Downloading data from https://storage.googleapis.com/tensorflow/tf-keras-datasets/t10k-images-idx3-ubyte.gz\n",
            "4423680/4422102 [==============================] - 0s 0us/step\n"
          ],
          "name": "stdout"
        }
      ]
    },
    {
      "cell_type": "code",
      "metadata": {
        "id": "igldd8paJMAg"
      },
      "source": [
        "# labels were already converted to numbers\n",
        "class_names = ['T-shirt/top', 'Trouser', 'Pullover', 'Dress', 'Coat',\n",
        "               'Sandal', 'Shirt', 'Sneaker', 'Bag', 'Ankle boot']"
      ],
      "execution_count": null,
      "outputs": []
    },
    {
      "cell_type": "markdown",
      "metadata": {
        "id": "VbPbP4ktKHLc"
      },
      "source": [
        "Every pixel in the image is a value from 0 to 255. We normalize the features (putting to a 0 to 1 range) by dividing by 255."
      ]
    },
    {
      "cell_type": "code",
      "metadata": {
        "id": "khoZu4dvJw0a"
      },
      "source": [
        "train_images = train_images / 255.0\n",
        "test_images = test_images / 255.0"
      ],
      "execution_count": null,
      "outputs": []
    },
    {
      "cell_type": "markdown",
      "metadata": {
        "id": "FuwaWwupIeTY"
      },
      "source": [
        "There are 60,000 training images and 10,000 testing images. Each image is 28 * 28 pixels (note not rgb)"
      ]
    },
    {
      "cell_type": "code",
      "metadata": {
        "colab": {
          "base_uri": "https://localhost:8080/"
        },
        "id": "dTp9IwgIHwVU",
        "outputId": "0d26010a-a0ec-4f49-cdfc-99964325f494"
      },
      "source": [
        "print(\"Train Images:\", train_images.shape)\n",
        "print(\"Train Labels:\", train_labels.shape)\n",
        "print(\"Test Images:\", test_images.shape)\n",
        "print(\"Test Labels:\", test_labels.shape)"
      ],
      "execution_count": null,
      "outputs": [
        {
          "output_type": "stream",
          "text": [
            "Train Images: (60000, 28, 28)\n",
            "Train Labels: (60000,)\n",
            "Test Images: (10000, 28, 28)\n",
            "Test Labels: (10000,)\n"
          ],
          "name": "stdout"
        }
      ]
    },
    {
      "cell_type": "code",
      "metadata": {
        "colab": {
          "base_uri": "https://localhost:8080/",
          "height": 589
        },
        "id": "yjGXFxIQ1D3v",
        "outputId": "ab9c3804-7338-452a-e1d6-def0d17bab84"
      },
      "source": [
        "plt.figure(figsize=(10,10))\n",
        "for i in range(25):\n",
        "    plt.subplot(5, 5, i+1)\n",
        "    plt.xticks([])\n",
        "    plt.yticks([])\n",
        "    plt.grid(False)\n",
        "    plt.imshow(train_images[i], cmap=plt.cm.binary)\n",
        "    plt.xlabel(class_names[train_labels[i]])\n",
        "plt.show()"
      ],
      "execution_count": null,
      "outputs": [
        {
          "output_type": "display_data",
          "data": {
            "image/png": "[encoded data removed]",
            "text/plain": [
              "<Figure size 720x720 with 25 Axes>"
            ]
          },
          "metadata": {
            "tags": []
          }
        }
      ]
    },
    {
      "cell_type": "code",
      "metadata": {
        "colab": {
          "base_uri": "https://localhost:8080/",
          "height": 286
        },
        "id": "0E-r41wdH5iG",
        "outputId": "b05ffda0-dbb5-4f50-99c3-725a6720eea5"
      },
      "source": [
        "import random\n",
        "inx = random.randint(0, 59999)\n",
        "label = train_labels[inx]\n",
        "plt.imshow(train_images[inx], cmap=plt.cm.binary) # can put in cmap=plt.cm.binary to get black and white images\n",
        "plt.colorbar()\n",
        "print(label, class_names[label])\n",
        "plt.show()"
      ],
      "execution_count": null,
      "outputs": [
        {
          "output_type": "stream",
          "text": [
            "5 Sandal\n"
          ],
          "name": "stdout"
        },
        {
          "output_type": "display_data",
          "data": {
            "image/png": "[encoded data removed]",
            "text/plain": [
              "<Figure size 432x288 with 2 Axes>"
            ]
          },
          "metadata": {
            "tags": [],
            "needs_background": "light"
          }
        }
      ]
    },
    {
      "cell_type": "markdown",
      "metadata": {
        "id": "I8Voheo3L_r2"
      },
      "source": [
        "## Building The Model"
      ]
    },
    {
      "cell_type": "markdown",
      "metadata": {
        "id": "ZQ2_KeXcQztJ"
      },
      "source": [
        "We will build and evaluate a very simple artificial nueral network. There is different syntax to do this, but I went with the way in the tensforflow website.\n"
      ]
    },
    {
      "cell_type": "code",
      "metadata": {
        "id": "ix_z5K_0L_Sc"
      },
      "source": [
        "model = keras.Sequential([\n",
        "    keras.layers.Flatten(input_shape=(28, 28)),\n",
        "    keras.layers.Dense(128, activation='relu'),\n",
        "    keras.layers.Dense(10, activation='softmax') # tf website put softmax seperate.\n",
        "])\n",
        "# note\n",
        "# logits are produced in the final layer and are to be inputted in the softmax function\n",
        "# tf website put softmax function seperatley for probability (softmax returns probability)"
      ],
      "execution_count": null,
      "outputs": []
    },
    {
      "cell_type": "code",
      "metadata": {
        "id": "kFe5c9eiPbm6"
      },
      "source": [
        "model.compile(optimizer='adam',\n",
        "              loss=keras.losses.SparseCategoricalCrossentropy(from_logits=True),  # i need to understand what logits are\n",
        "              metrics=['accuracy'])"
      ],
      "execution_count": null,
      "outputs": []
    },
    {
      "cell_type": "code",
      "metadata": {
        "colab": {
          "base_uri": "https://localhost:8080/"
        },
        "id": "WmYy4s0ACiAp",
        "outputId": "c3fc6e83-84f2-438f-9ed8-514871369a52"
      },
      "source": [
        "model.summary()"
      ],
      "execution_count": null,
      "outputs": [
        {
          "output_type": "stream",
          "text": [
            "Model: \"sequential\"\n",
            "_________________________________________________________________\n",
            "Layer (type)                 Output Shape              Param #   \n",
            "=================================================================\n",
            "flatten (Flatten)            (None, 784)               0         \n",
            "_________________________________________________________________\n",
            "dense (Dense)                (None, 128)               100480    \n",
            "_________________________________________________________________\n",
            "dense_1 (Dense)              (None, 10)                1290      \n",
            "=================================================================\n",
            "Total params: 101,770\n",
            "Trainable params: 101,770\n",
            "Non-trainable params: 0\n",
            "_________________________________________________________________\n"
          ],
          "name": "stdout"
        }
      ]
    },
    {
      "cell_type": "markdown",
      "metadata": {
        "id": "puCRBT57XCny"
      },
      "source": [
        "There is a lot to examine as the model trains. What can you notice?"
      ]
    },
    {
      "cell_type": "code",
      "metadata": {
        "colab": {
          "base_uri": "https://localhost:8080/"
        },
        "id": "UFB-OiY-Npwb",
        "outputId": "55b72b68-30bf-45bd-cbad-44b31d7dab6d"
      },
      "source": [
        "history = model.fit(train_images, train_labels, validation_split=0.2, epochs=5)"
      ],
      "execution_count": null,
      "outputs": [
        {
          "output_type": "stream",
          "text": [
            "Epoch 1/5\n",
            "1500/1500 [==============================] - 5s 2ms/step - loss: 0.6528 - accuracy: 0.7742 - val_loss: 0.4164 - val_accuracy: 0.8497\n",
            "Epoch 2/5\n",
            "1500/1500 [==============================] - 3s 2ms/step - loss: 0.4031 - accuracy: 0.8562 - val_loss: 0.4128 - val_accuracy: 0.8561\n",
            "Epoch 3/5\n",
            "1500/1500 [==============================] - 3s 2ms/step - loss: 0.3532 - accuracy: 0.8720 - val_loss: 0.3468 - val_accuracy: 0.8752\n",
            "Epoch 4/5\n",
            "1500/1500 [==============================] - 3s 2ms/step - loss: 0.3224 - accuracy: 0.8808 - val_loss: 0.3565 - val_accuracy: 0.8724\n",
            "Epoch 5/5\n",
            "1500/1500 [==============================] - 3s 2ms/step - loss: 0.3069 - accuracy: 0.8884 - val_loss: 0.3480 - val_accuracy: 0.8712\n"
          ],
          "name": "stdout"
        }
      ]
    },
    {
      "cell_type": "code",
      "metadata": {
        "colab": {
          "base_uri": "https://localhost:8080/"
        },
        "id": "-qWjtPQYQPL0",
        "outputId": "129ee8d8-534a-429f-fe64-1348cbe8817a"
      },
      "source": [
        "test_acc, test_loss = model.evaluate(test_images, test_labels, verbose=2)"
      ],
      "execution_count": null,
      "outputs": [
        {
          "output_type": "stream",
          "text": [
            "313/313 - 1s - loss: 0.3709 - accuracy: 0.8662\n"
          ],
          "name": "stdout"
        }
      ]
    },
    {
      "cell_type": "markdown",
      "metadata": {
        "id": "QYyGyQsqWiOO"
      },
      "source": [
        "You can notice the accuracy of the training data, validation accuracy, and below the testing data. You can also note the losses. You can observe how this changes as we train the model."
      ]
    },
    {
      "cell_type": "markdown",
      "metadata": {
        "id": "hCAR0E4_Q47E"
      },
      "source": [
        "Now let's try a CNN!"
      ]
    },
    {
      "cell_type": "code",
      "metadata": {
        "id": "19H2O9zTRBSd"
      },
      "source": [
        "cnn = keras.Sequential([\n",
        "  keras.layers.Conv2D(32, (5, 5), input_shape=(28, 28, 1), activation='relu'),\n",
        "  keras.layers.Dropout(0.4),\n",
        "  keras.layers.MaxPooling2D(pool_size=(2,2)),\n",
        "  keras.layers.Conv2D(16, (3, 3), activation='relu'),\n",
        "  keras.layers.Dropout(0.4),\n",
        "  keras.layers.Flatten(),\n",
        "  keras.layers.Dense(128, activation='relu'),\n",
        "  keras.layers.Dense(10, activation='softmax')\n",
        "])"
      ],
      "execution_count": null,
      "outputs": []
    },
    {
      "cell_type": "code",
      "metadata": {
        "id": "Mywiye94SxOy"
      },
      "source": [
        "cnn.compile(optimizer=keras.optimizers.SGD(momentum=0.95),\n",
        "            loss=keras.losses.SparseCategoricalCrossentropy,\n",
        "            metrics=['accuracy'])"
      ],
      "execution_count": null,
      "outputs": []
    },
    {
      "cell_type": "code",
      "metadata": {
        "colab": {
          "base_uri": "https://localhost:8080/"
        },
        "id": "_ErYN2KFCdfA",
        "outputId": "141cee67-a2a8-43fc-c083-17673c928737"
      },
      "source": [
        "cnn.summary()"
      ],
      "execution_count": null,
      "outputs": [
        {
          "output_type": "stream",
          "text": [
            "Model: \"sequential_1\"\n",
            "_________________________________________________________________\n",
            "Layer (type)                 Output Shape              Param #   \n",
            "=================================================================\n",
            "conv2d (Conv2D)              (None, 24, 24, 32)        832       \n",
            "_________________________________________________________________\n",
            "dropout (Dropout)            (None, 24, 24, 32)        0         \n",
            "_________________________________________________________________\n",
            "max_pooling2d (MaxPooling2D) (None, 12, 12, 32)        0         \n",
            "_________________________________________________________________\n",
            "conv2d_1 (Conv2D)            (None, 10, 10, 16)        4624      \n",
            "_________________________________________________________________\n",
            "dropout_1 (Dropout)          (None, 10, 10, 16)        0         \n",
            "_________________________________________________________________\n",
            "flatten_1 (Flatten)          (None, 1600)              0         \n",
            "_________________________________________________________________\n",
            "dense_2 (Dense)              (None, 128)               204928    \n",
            "_________________________________________________________________\n",
            "dense_3 (Dense)              (None, 10)                1290      \n",
            "=================================================================\n",
            "Total params: 211,674\n",
            "Trainable params: 211,674\n",
            "Non-trainable params: 0\n",
            "_________________________________________________________________\n"
          ],
          "name": "stdout"
        }
      ]
    },
    {
      "cell_type": "code",
      "metadata": {
        "colab": {
          "base_uri": "https://localhost:8080/"
        },
        "id": "3BrPNFvWTJ6U",
        "outputId": "561ea554-04e2-4955-9553-434514992f7c"
      },
      "source": [
        "cnn_history = model.fit(train_images, train_labels, validation_split=0.2, epochs=5)"
      ],
      "execution_count": null,
      "outputs": [
        {
          "output_type": "stream",
          "text": [
            "Epoch 1/5\n",
            "1500/1500 [==============================] - 3s 2ms/step - loss: 0.2833 - accuracy: 0.8957 - val_loss: 0.3321 - val_accuracy: 0.8796\n",
            "Epoch 2/5\n",
            "1500/1500 [==============================] - 3s 2ms/step - loss: 0.2725 - accuracy: 0.9000 - val_loss: 0.3210 - val_accuracy: 0.8860\n",
            "Epoch 3/5\n",
            "1500/1500 [==============================] - 3s 2ms/step - loss: 0.2611 - accuracy: 0.9033 - val_loss: 0.3280 - val_accuracy: 0.8831\n",
            "Epoch 4/5\n",
            "1500/1500 [==============================] - 3s 2ms/step - loss: 0.2506 - accuracy: 0.9068 - val_loss: 0.3258 - val_accuracy: 0.8842\n",
            "Epoch 5/5\n",
            "1500/1500 [==============================] - 3s 2ms/step - loss: 0.2404 - accuracy: 0.9087 - val_loss: 0.3091 - val_accuracy: 0.8894\n"
          ],
          "name": "stdout"
        }
      ]
    },
    {
      "cell_type": "code",
      "metadata": {
        "colab": {
          "base_uri": "https://localhost:8080/"
        },
        "id": "jR5qiz5kTQE_",
        "outputId": "32ed9de7-8c8d-4cb1-f11c-33fac0305497"
      },
      "source": [
        "cnn_test_acc, test_loss = model.evaluate(test_images, test_labels, verbose=2)"
      ],
      "execution_count": null,
      "outputs": [
        {
          "output_type": "stream",
          "text": [
            "313/313 - 1s - loss: 0.3366 - accuracy: 0.8822\n"
          ],
          "name": "stdout"
        }
      ]
    },
    {
      "cell_type": "markdown",
      "metadata": {
        "id": "kRep17nrXKVX"
      },
      "source": [
        "Again you can examine the performance of this model. The CNN I designed did not do much better than the simple ANN."
      ]
    },
    {
      "cell_type": "markdown",
      "metadata": {
        "id": "I0uej317UreG"
      },
      "source": [
        "## Evaluating The Model"
      ]
    },
    {
      "cell_type": "markdown",
      "metadata": {
        "id": "9SeOB_DnUmPo"
      },
      "source": [
        "We can examine the predictions that our model gave us. It outputs an array of 10 integers (one for each label), each representing a probability. The softmax activation gave us this."
      ]
    },
    {
      "cell_type": "code",
      "metadata": {
        "colab": {
          "base_uri": "https://localhost:8080/"
        },
        "id": "waltDfxuUfE8",
        "outputId": "048d87d8-fbcf-4109-c0e0-ad62f7fe0080"
      },
      "source": [
        "preds = model.predict(test_images)\n",
        "preds[0]"
      ],
      "execution_count": null,
      "outputs": [
        {
          "output_type": "execute_result",
          "data": {
            "text/plain": [
              "array([2.2199890e-06, 1.1619421e-08, 2.2868197e-07, 4.0214490e-10,\n",
              "       8.9217110e-08, 1.2822894e-03, 1.8857853e-07, 9.2181927e-03,\n",
              "       1.1567540e-05, 9.8948520e-01], dtype=float32)"
            ]
          },
          "metadata": {
            "tags": []
          },
          "execution_count": 17
        }
      ]
    },
    {
      "cell_type": "markdown",
      "metadata": {
        "id": "l1yIirCSV44H"
      },
      "source": [
        "The below code allows us to examine our models predictions. We can see some interesting things here. What observations can you make? Where does our model do well? Where does it fall behind?"
      ]
    },
    {
      "cell_type": "code",
      "metadata": {
        "colab": {
          "base_uri": "https://localhost:8080/",
          "height": 589
        },
        "id": "LLlrarVw3VzI",
        "outputId": "bd069ba9-01a4-408b-ac5f-6cc7e48637ce"
      },
      "source": [
        "plt.figure(figsize=(10,10))\n",
        "for i in range(25):\n",
        "    label = test_labels[i]\n",
        "    pred = np.argmax(preds[i])\n",
        "    pred_prob = np.max(preds[i])\n",
        "    plt.subplot(5, 5, i+1)\n",
        "    plt.xticks([])\n",
        "    plt.yticks([])\n",
        "    plt.grid(False)\n",
        "    plt.imshow(test_images[i], cmap=plt.cm.binary)\n",
        "    plt.xlabel(class_names[pred])\n",
        "    # plt.xlabel(\"{:2.0%}% of being {}\".format(pred_prob, class_names[pred]))\n",
        "plt.show()"
      ],
      "execution_count": null,
      "outputs": [
        {
          "output_type": "display_data",
          "data": {
            "image/png": "[encoded data removed]",
            "text/plain": [
              "<Figure size 720x720 with 25 Axes>"
            ]
          },
          "metadata": {
            "tags": []
          }
        }
      ]
    },
    {
      "cell_type": "code",
      "metadata": {
        "colab": {
          "base_uri": "https://localhost:8080/",
          "height": 299
        },
        "id": "SAxoFRqMVAsG",
        "outputId": "e7de03d3-4c72-47bd-c601-31a8149d9a16"
      },
      "source": [
        "inx = random.randint(0, 9999)\n",
        "label = test_labels[inx]\n",
        "pred = np.argmax(preds[inx])  # np.argmax returns the index of the max\n",
        "pred_prob = np.max(preds[inx])  # np.max returns the max value\n",
        "print(\"Prediction:\", class_names[pred], \"Probability: \", pred_prob)\n",
        "print(\"Actual Label:\", class_names[label])\n",
        "plt.imshow(test_images[inx], cmap=plt.cm.binary)\n",
        "plt.show()"
      ],
      "execution_count": null,
      "outputs": [
        {
          "output_type": "stream",
          "text": [
            "Prediction: Sandal Probability:  0.9999999\n",
            "Actual Label: Sandal\n"
          ],
          "name": "stdout"
        },
        {
          "output_type": "display_data",
          "data": {
            "image/png": "[encoded data removed]",
            "text/plain": [
              "<Figure size 432x288 with 1 Axes>"
            ]
          },
          "metadata": {
            "tags": [],
            "needs_background": "light"
          }
        }
      ]
    },
    {
      "cell_type": "markdown",
      "metadata": {
        "id": "z-Ug36qUC6zy"
      },
      "source": [
        "Notice how our model generally does very well. It struggles with more ambiguous images."
      ]
    },
    {
      "cell_type": "markdown",
      "metadata": {
        "id": "acPrgRJa5EL0"
      },
      "source": [
        "## Additional Things"
      ]
    },
    {
      "cell_type": "markdown",
      "metadata": {
        "id": "3KmnFI7f5HaB"
      },
      "source": [
        "*  Understand how to use matplot lib better and make some things here to better visualize data and results (subplots and all of that.\n",
        "*  Make more projects with Tf/Keras and get a better feel for doing this myself. This was a great start after Inspirit AI. A lot more to come.\n",
        "*  Learn more specifics about loss, activation, all that jazz.\n"
      ]
    }
  ]
}