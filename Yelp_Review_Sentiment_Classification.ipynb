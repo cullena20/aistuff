{
  "nbformat": 4,
  "nbformat_minor": 0,
  "metadata": {
    "colab": {
      "name": "Yelp_Review_Sentiment_Classification.ipynb",
      "provenance": [],
      "collapsed_sections": [],
      "include_colab_link": true
    },
    "language_info": {
      "codemirror_mode": {
        "name": "ipython",
        "version": 3
      },
      "file_extension": ".py",
      "mimetype": "text/x-python",
      "name": "python",
      "nbconvert_exporter": "python",
      "pygments_lexer": "ipython3",
      "version": "3.6.4"
    },
    "kernelspec": {
      "name": "python3",
      "display_name": "Python 3"
    }
  },
  "cells": [
    {
      "cell_type": "markdown",
      "metadata": {
        "id": "view-in-github",
        "colab_type": "text"
      },
      "source": [
        "<a href=\"https://colab.research.google.com/github/cullena20/inspiritai/blob/main/Yelp_Review_Sentiment_Classification.ipynb\" target=\"_parent\"><img src=\"https://colab.research.google.com/assets/colab-badge.svg\" alt=\"Open In Colab\"/></a>"
      ]
    },
    {
      "cell_type": "markdown",
      "metadata": {
        "id": "svLhCiU3Evm6"
      },
      "source": [
        "# Introduction to Yelp Review Sentiment Classification\n",
        "\n",
        "In this project, we will build a classifier that can predict a user's rating of a given restaurant from their review. In doing so, we will explore the broader topic of sentiment analysis, that is, being able to quantify an individual's opinion about a particular topic merely from the words they use. Nowadays, sentiment analysis is used widely by companies in order to better understand their user's preferences and tastes.\n",
        "\n",
        "\n"
      ]
    },
    {
      "cell_type": "markdown",
      "metadata": {
        "id": "BZgELVS8I6kc"
      },
      "source": [
        "![Example of a Yelp review](https://wordstream-files-prod.s3.amazonaws.com/s3fs-public/styles/simple_image/public/images/yelp-reviews-filtered.png)"
      ]
    },
    {
      "cell_type": "code",
      "metadata": {
        "id": "2jS5ThMCEvnC",
        "colab": {
          "base_uri": "https://localhost:8080/"
        },
        "outputId": "76f9ce68-1bcc-48d0-90aa-af88e243f533"
      },
      "source": [
        "# Import our libraries (this may take a minute or two)\n",
        "import pandas as pd   # Great for tables (google spreadsheets, microsoft excel, csv). \n",
        "import numpy as np\n",
        "import matplotlib.pyplot as plt\n",
        "import seaborn as sns\n",
        "import string\n",
        "import nltk  # nltk and spacy are both nlp frameworks\n",
        "import spacy\n",
        "import wordcloud\n",
        "import os # Good for navigating your computer's files \n",
        "import sys\n",
        "\n",
        "from nltk.corpus import stopwords\n",
        "from nltk.stem import WordNetLemmatizer\n",
        "from nltk.tokenize import word_tokenize, sent_tokenize\n",
        "from spacy.lang.en.stop_words import STOP_WORDS\n",
        "nltk.download('wordnet')\n",
        "nltk.download('punkt')\n",
        "\n",
        "from wordcloud import WordCloud\n",
        "import matplotlib.pyplot as plt\n",
        "from sklearn.feature_extraction.text import CountVectorizer\n",
        "from sklearn.model_selection import train_test_split\n",
        "from sklearn.linear_model import LogisticRegression\n",
        "from sklearn.metrics import confusion_matrix, classification_report\n",
        "!python -m spacy download en_core_web_md\n",
        "import en_core_web_md\n",
        "\n"
      ],
      "execution_count": null,
      "outputs": [
        {
          "output_type": "stream",
          "text": [
            "[nltk_data] Downloading package wordnet to /root/nltk_data...\n",
            "[nltk_data]   Unzipping corpora/wordnet.zip.\n",
            "[nltk_data] Downloading package punkt to /root/nltk_data...\n",
            "[nltk_data]   Unzipping tokenizers/punkt.zip.\n",
            "Collecting en_core_web_md==2.2.5\n",
            "\u001b[?25l  Downloading https://github.com/explosion/spacy-models/releases/download/en_core_web_md-2.2.5/en_core_web_md-2.2.5.tar.gz (96.4MB)\n",
            "\u001b[K     |████████████████████████████████| 96.4MB 1.2MB/s \n",
            "\u001b[?25hRequirement already satisfied: spacy>=2.2.2 in /usr/local/lib/python3.6/dist-packages (from en_core_web_md==2.2.5) (2.2.4)\n",
            "Requirement already satisfied: preshed<3.1.0,>=3.0.2 in /usr/local/lib/python3.6/dist-packages (from spacy>=2.2.2->en_core_web_md==2.2.5) (3.0.5)\n",
            "Requirement already satisfied: numpy>=1.15.0 in /usr/local/lib/python3.6/dist-packages (from spacy>=2.2.2->en_core_web_md==2.2.5) (1.19.4)\n",
            "Requirement already satisfied: catalogue<1.1.0,>=0.0.7 in /usr/local/lib/python3.6/dist-packages (from spacy>=2.2.2->en_core_web_md==2.2.5) (1.0.0)\n",
            "Requirement already satisfied: srsly<1.1.0,>=1.0.2 in /usr/local/lib/python3.6/dist-packages (from spacy>=2.2.2->en_core_web_md==2.2.5) (1.0.5)\n",
            "Requirement already satisfied: tqdm<5.0.0,>=4.38.0 in /usr/local/lib/python3.6/dist-packages (from spacy>=2.2.2->en_core_web_md==2.2.5) (4.41.1)\n",
            "Requirement already satisfied: thinc==7.4.0 in /usr/local/lib/python3.6/dist-packages (from spacy>=2.2.2->en_core_web_md==2.2.5) (7.4.0)\n",
            "Requirement already satisfied: plac<1.2.0,>=0.9.6 in /usr/local/lib/python3.6/dist-packages (from spacy>=2.2.2->en_core_web_md==2.2.5) (1.1.3)\n",
            "Requirement already satisfied: setuptools in /usr/local/lib/python3.6/dist-packages (from spacy>=2.2.2->en_core_web_md==2.2.5) (51.0.0)\n",
            "Requirement already satisfied: blis<0.5.0,>=0.4.0 in /usr/local/lib/python3.6/dist-packages (from spacy>=2.2.2->en_core_web_md==2.2.5) (0.4.1)\n",
            "Requirement already satisfied: murmurhash<1.1.0,>=0.28.0 in /usr/local/lib/python3.6/dist-packages (from spacy>=2.2.2->en_core_web_md==2.2.5) (1.0.5)\n",
            "Requirement already satisfied: cymem<2.1.0,>=2.0.2 in /usr/local/lib/python3.6/dist-packages (from spacy>=2.2.2->en_core_web_md==2.2.5) (2.0.5)\n",
            "Requirement already satisfied: wasabi<1.1.0,>=0.4.0 in /usr/local/lib/python3.6/dist-packages (from spacy>=2.2.2->en_core_web_md==2.2.5) (0.8.0)\n",
            "Requirement already satisfied: requests<3.0.0,>=2.13.0 in /usr/local/lib/python3.6/dist-packages (from spacy>=2.2.2->en_core_web_md==2.2.5) (2.23.0)\n",
            "Requirement already satisfied: importlib-metadata>=0.20; python_version < \"3.8\" in /usr/local/lib/python3.6/dist-packages (from catalogue<1.1.0,>=0.0.7->spacy>=2.2.2->en_core_web_md==2.2.5) (3.3.0)\n",
            "Requirement already satisfied: urllib3!=1.25.0,!=1.25.1,<1.26,>=1.21.1 in /usr/local/lib/python3.6/dist-packages (from requests<3.0.0,>=2.13.0->spacy>=2.2.2->en_core_web_md==2.2.5) (1.24.3)\n",
            "Requirement already satisfied: chardet<4,>=3.0.2 in /usr/local/lib/python3.6/dist-packages (from requests<3.0.0,>=2.13.0->spacy>=2.2.2->en_core_web_md==2.2.5) (3.0.4)\n",
            "Requirement already satisfied: idna<3,>=2.5 in /usr/local/lib/python3.6/dist-packages (from requests<3.0.0,>=2.13.0->spacy>=2.2.2->en_core_web_md==2.2.5) (2.10)\n",
            "Requirement already satisfied: certifi>=2017.4.17 in /usr/local/lib/python3.6/dist-packages (from requests<3.0.0,>=2.13.0->spacy>=2.2.2->en_core_web_md==2.2.5) (2020.12.5)\n",
            "Requirement already satisfied: typing-extensions>=3.6.4; python_version < \"3.8\" in /usr/local/lib/python3.6/dist-packages (from importlib-metadata>=0.20; python_version < \"3.8\"->catalogue<1.1.0,>=0.0.7->spacy>=2.2.2->en_core_web_md==2.2.5) (3.7.4.3)\n",
            "Requirement already satisfied: zipp>=0.5 in /usr/local/lib/python3.6/dist-packages (from importlib-metadata>=0.20; python_version < \"3.8\"->catalogue<1.1.0,>=0.0.7->spacy>=2.2.2->en_core_web_md==2.2.5) (3.4.0)\n",
            "Building wheels for collected packages: en-core-web-md\n",
            "  Building wheel for en-core-web-md (setup.py) ... \u001b[?25l\u001b[?25hdone\n",
            "  Created wheel for en-core-web-md: filename=en_core_web_md-2.2.5-cp36-none-any.whl size=98051304 sha256=c6fab6a865ed4b155bd0b6da4ecf25af3bb039402a951139ecc53305487e0a10\n",
            "  Stored in directory: /tmp/pip-ephem-wheel-cache-1txis6kk/wheels/df/94/ad/f5cf59224cea6b5686ac4fd1ad19c8a07bc026e13c36502d81\n",
            "Successfully built en-core-web-md\n",
            "Installing collected packages: en-core-web-md\n",
            "Successfully installed en-core-web-md-2.2.5\n",
            "\u001b[38;5;2m✔ Download and installation successful\u001b[0m\n",
            "You can now load the model via spacy.load('en_core_web_md')\n"
          ],
          "name": "stdout"
        }
      ]
    },
    {
      "cell_type": "code",
      "metadata": {
        "id": "KsF8tioZLicU"
      },
      "source": [
        "# Import our data\n",
        "\n",
        "import gdown\n",
        "gdown.download('https://drive.google.com/uc?id=1u0tnEF2Q1a7H_gUEH-ZB3ATx02w8dF4p', 'yelp_final.csv', True)\n",
        "data_file  = 'yelp_final.csv'\n"
      ],
      "execution_count": null,
      "outputs": []
    },
    {
      "cell_type": "markdown",
      "metadata": {
        "id": "DQ267zCBOjet"
      },
      "source": [
        "## Data Exploration"
      ]
    },
    {
      "cell_type": "markdown",
      "metadata": {
        "id": "_BLs_2JkEvnw"
      },
      "source": [
        "First we read in the file containing the reviews and take a look at the data available to us."
      ]
    },
    {
      "cell_type": "code",
      "metadata": {
        "id": "8dZ_lymcN_K9"
      },
      "source": [
        "# read our data in using 'pd.read_csv('file')'\n",
        "yelp = pd.read_csv(data_file)"
      ],
      "execution_count": null,
      "outputs": []
    },
    {
      "cell_type": "code",
      "metadata": {
        "id": "hp0c1vAdEvoF",
        "colab": {
          "base_uri": "https://localhost:8080/",
          "height": 204
        },
        "outputId": "168809be-b435-4fb3-c62d-fbc691bce072"
      },
      "source": [
        "#Show data\n",
        "yelp.head()"
      ],
      "execution_count": null,
      "outputs": [
        {
          "output_type": "execute_result",
          "data": {
            "text/html": [
              "<div>\n",
              "<style scoped>\n",
              "    .dataframe tbody tr th:only-of-type {\n",
              "        vertical-align: middle;\n",
              "    }\n",
              "\n",
              "    .dataframe tbody tr th {\n",
              "        vertical-align: top;\n",
              "    }\n",
              "\n",
              "    .dataframe thead th {\n",
              "        text-align: right;\n",
              "    }\n",
              "</style>\n",
              "<table border=\"1\" class=\"dataframe\">\n",
              "  <thead>\n",
              "    <tr style=\"text-align: right;\">\n",
              "      <th></th>\n",
              "      <th>business_id</th>\n",
              "      <th>stars</th>\n",
              "      <th>text</th>\n",
              "      <th>user_id</th>\n",
              "      <th>cool</th>\n",
              "      <th>useful</th>\n",
              "      <th>funny</th>\n",
              "    </tr>\n",
              "  </thead>\n",
              "  <tbody>\n",
              "    <tr>\n",
              "      <th>0</th>\n",
              "      <td>9yKzy9PApeiPPOUJEtnvkg</td>\n",
              "      <td>5</td>\n",
              "      <td>My wife took me here on my birthday for breakf...</td>\n",
              "      <td>rLtl8ZkDX5vH5nAx9C3q5Q</td>\n",
              "      <td>2</td>\n",
              "      <td>5</td>\n",
              "      <td>0</td>\n",
              "    </tr>\n",
              "    <tr>\n",
              "      <th>1</th>\n",
              "      <td>ZRJwVLyzEJq1VAihDhYiow</td>\n",
              "      <td>5</td>\n",
              "      <td>I have no idea why some people give bad review...</td>\n",
              "      <td>0a2KyEL0d3Yb1V6aivbIuQ</td>\n",
              "      <td>0</td>\n",
              "      <td>0</td>\n",
              "      <td>0</td>\n",
              "    </tr>\n",
              "    <tr>\n",
              "      <th>2</th>\n",
              "      <td>_1QQZuf4zZOyFCvXc0o6Vg</td>\n",
              "      <td>5</td>\n",
              "      <td>Rosie, Dakota, and I LOVE Chaparral Dog Park!!...</td>\n",
              "      <td>uZetl9T0NcROGOyFfughhg</td>\n",
              "      <td>1</td>\n",
              "      <td>2</td>\n",
              "      <td>0</td>\n",
              "    </tr>\n",
              "    <tr>\n",
              "      <th>3</th>\n",
              "      <td>6ozycU1RpktNG2-1BroVtw</td>\n",
              "      <td>5</td>\n",
              "      <td>General Manager Scott Petello is a good egg!!!...</td>\n",
              "      <td>vYmM4KTsC8ZfQBg-j5MWkw</td>\n",
              "      <td>0</td>\n",
              "      <td>0</td>\n",
              "      <td>0</td>\n",
              "    </tr>\n",
              "    <tr>\n",
              "      <th>4</th>\n",
              "      <td>zp713qNhx8d9KCJJnrw1xA</td>\n",
              "      <td>5</td>\n",
              "      <td>Drop what you're doing and drive here. After I...</td>\n",
              "      <td>wFweIWhv2fREZV_dYkz_1g</td>\n",
              "      <td>7</td>\n",
              "      <td>7</td>\n",
              "      <td>4</td>\n",
              "    </tr>\n",
              "  </tbody>\n",
              "</table>\n",
              "</div>"
            ],
            "text/plain": [
              "              business_id  stars  ... useful funny\n",
              "0  9yKzy9PApeiPPOUJEtnvkg      5  ...      5     0\n",
              "1  ZRJwVLyzEJq1VAihDhYiow      5  ...      0     0\n",
              "2  _1QQZuf4zZOyFCvXc0o6Vg      5  ...      2     0\n",
              "3  6ozycU1RpktNG2-1BroVtw      5  ...      0     0\n",
              "4  zp713qNhx8d9KCJJnrw1xA      5  ...      7     4\n",
              "\n",
              "[5 rows x 7 columns]"
            ]
          },
          "metadata": {
            "tags": []
          },
          "execution_count": 4
        }
      ]
    },
    {
      "cell_type": "code",
      "metadata": {
        "colab": {
          "base_uri": "https://localhost:8080/"
        },
        "id": "VeJjxFVUTcYL",
        "outputId": "41e58906-d45f-40ea-e458-b8d6697e5de5"
      },
      "source": [
        "print(STOP_WORDS)"
      ],
      "execution_count": null,
      "outputs": [
        {
          "output_type": "stream",
          "text": [
            "{'‘m', 'elsewhere', 'please', 'fifty', 'against', 'whereupon', 'full', 'of', 'n’t', 'more', 'for', 'nine', 'these', 'ever', 'ten', 'whole', 'but', 'move', 'neither', 'several', 'six', 'last', 'among', '‘ll', 'formerly', '‘s', 'down', 'once', 'ca', 'using', 'via', 'a', 'whoever', 'just', 'perhaps', 'around', 'fifteen', 'only', 'across', 'during', 'their', 'someone', 'therein', 'here', 'keep', 'ourselves', 'were', 'either', 'below', 'does', 'all', 'yourselves', 'over', 'thru', 'seems', 'are', '’d', 'to', 'was', 'then', 'empty', 'me', 'everywhere', 'top', '’ve', 'say', 'third', 'throughout', 'whether', 'upon', 'other', 'us', 'else', 'they', 'no', 'became', 'somehow', 'afterwards', 'sometimes', 'few', 'least', 'any', \"'ll\", 'even', 'how', 'make', 'since', 'used', 'yourself', 'something', 'before', 'back', 'very', 'meanwhile', 'or', 'too', 'others', 'amongst', 'nevertheless', 'up', 'herself', 'always', 'anywhere', 'out', 'the', 'really', 'could', 'whatever', 'each', 'wherein', 'four', 'although', '’m', 'this', 'some', '‘ve', 'himself', 'latterly', 'quite', 'thence', 'whose', \"'s\", 'with', 'per', 'within', 'if', 'see', 'beforehand', 'have', 'though', 'nor', 'serious', 'unless', 'we', 'whereas', 'she', 'whenever', 'whereby', 'twelve', 'become', 'your', 'along', 'whither', 'he', 'its', 'by', '‘re', 'seem', 'mine', 'now', 'next', 'give', 'moreover', 'everyone', 'further', 'off', 'due', 'our', 'indeed', 'that', 'towards', 'without', \"'re\", 'nobody', 'every', 'show', 'enough', 'various', 'an', 'becomes', 'many', 'which', 'not', 'wherever', 'n‘t', 'why', 'hundred', 'less', 'what', 'i', 'done', 'namely', 'whom', \"'ve\", 'it', 'myself', 'amount', 'hereupon', 'go', 'again', 'do', 'first', 'anyone', '‘d', '’ll', 'former', 'eight', 'noone', 'can', 'themselves', 'anything', 'his', 'own', 'together', 'thereafter', 'one', 'mostly', 'often', 'sometime', 'thereupon', 'whereafter', 'almost', 'much', 'nowhere', 'somewhere', 'you', 'above', 'also', 'behind', 'beside', 'sixty', 'yet', 'about', 'yours', 'onto', 'anyhow', 'both', 'into', 'should', 'those', 'such', 'so', 'at', 'most', 'part', 'except', 'hers', 'seeming', 'him', 'has', 'thus', 'put', 'take', 'becoming', 'until', 'where', 'otherwise', 'seemed', 'been', 'as', 'her', 'two', 'hence', 'side', 'cannot', 'front', 'never', 'toward', 'eleven', 'might', 'and', 'under', 'everything', 'between', 'whence', 'had', 'latter', 'therefore', 'another', 'must', 'anyway', 'already', 'thereby', 'same', 'well', 'nothing', 'herein', 'after', 'did', 'regarding', 'however', 'being', 'may', 'than', 'them', 'alone', '’re', 'rather', 'doing', '’s', 'forty', 'through', \"'d\", 'be', 'is', 'while', 'who', 'hereby', 'made', \"n't\", 'hereafter', 'name', 'will', 'itself', 'besides', 'from', 'on', 'still', 'would', 'none', 'my', 'three', 'am', 'beyond', 'ours', 'there', \"'m\", 'because', 'bottom', 'get', 'call', 'twenty', 'in', 're', 'five', 'when'}\n"
          ],
          "name": "stdout"
        }
      ]
    },
    {
      "cell_type": "markdown",
      "metadata": {
        "id": "QjL5FrSLEvoP"
      },
      "source": [
        "We have access to 7 columns of data. For our purposes the business_id and user_id information are not important. Also as you can see the data in these columns do not really correspond to business names or user names. They are random strings, generated by a process called hashing to anonymize the users and businesses.\n",
        "\n",
        "What is *hashing*? We do not need to go in depth about this as it is a concept from computer science unrelated to machine learning. It is a way of *encrypting* data using some predefined function, that maps any kind of data to a random string of a defined length. You can read more about it [here](https://medium.com/tech-tales/what-is-hashing-6edba0ebfa67). \n",
        "\n",
        "\n"
      ]
    },
    {
      "cell_type": "code",
      "metadata": {
        "id": "pB1yKcUtcpg9"
      },
      "source": [
        "#Run to remove unnecessary columns\n",
        "yelp.drop(labels=['business_id','user_id'],inplace=True,axis=1)"
      ],
      "execution_count": null,
      "outputs": []
    },
    {
      "cell_type": "markdown",
      "metadata": {
        "id": "MExj8roOEvog"
      },
      "source": [
        "The text column is the one we are primarily focused with. Let's take a look at a few of these reviews to better understand our problem."
      ]
    },
    {
      "cell_type": "code",
      "metadata": {
        "colab": {
          "base_uri": "https://localhost:8080/"
        },
        "id": "lPcffP-qUYQK",
        "outputId": "f37a2677-2066-4e7d-cdca-67a1653b89ec"
      },
      "source": [
        "print(yelp.shape)\n",
        "print(yelp[yelp['stars'] == 1]['text'].shape)\n",
        "print(yelp[yelp['stars'] == 2]['text'].shape)\n",
        "print(yelp[yelp['stars'] == 3]['text'].shape)\n",
        "print(yelp[yelp['stars'] == 4]['text'].shape)\n",
        "print(yelp[yelp['stars'] == 5]['text'].shape)"
      ],
      "execution_count": null,
      "outputs": [
        {
          "output_type": "stream",
          "text": [
            "(1000, 5)\n",
            "(74,)\n",
            "(93,)\n",
            "(146,)\n",
            "(354,)\n",
            "(333,)\n"
          ],
          "name": "stdout"
        }
      ]
    },
    {
      "cell_type": "code",
      "metadata": {
        "id": "la3rUPKgEvoi"
      },
      "source": [
        "# Check the text in differently rated reviews\n",
        "num_stars =  1\n",
        "for t in yelp[yelp['stars'] == num_stars]['text'].head(20).values:\n",
        "    print (t) "
      ],
      "execution_count": null,
      "outputs": []
    },
    {
      "cell_type": "markdown",
      "metadata": {
        "id": "0GZ6NN4yEvos"
      },
      "source": [
        "We can start to see that there are certain quantitative differences between highly rated reviews and poorly rated reviews. Certain words, for example, 'delightful', 'impressive', 'amazing', might be more associated with 4 or 5 star reviews. However one might be able to see that these words might also be present in a 2 star review. For example: \"The seating and ambience were impressive, but the food served to us was not\". \n"
      ]
    },
    {
      "cell_type": "markdown",
      "metadata": {
        "id": "ZpU7nrWTEvov"
      },
      "source": [
        "### **Exercise 1**\n",
        "\n",
        "Can you think of any combinations of words, or rules, that would indicate how many stars a given review corresponds to? Note them down below:\n",
        "\n",
        "\n"
      ]
    },
    {
      "cell_type": "code",
      "metadata": {
        "id": "dxuZyKOKy6Cc"
      },
      "source": [
        "#@title Rules\n",
        "rule_1 = \"disgusting\" #@param {type:\"string\"}\n",
        "rule_2 = \"!!!\" #@param {type:\"string\"}\n",
        "rule_3 = \"!!!\" #@param {type:\"string\"}\n",
        "rule_5 = \"amazing\" #@param {type:\"string\"}\n",
        "rule_6 = \"would recommend\" #@param {type:\"string\"}"
      ],
      "execution_count": null,
      "outputs": []
    },
    {
      "cell_type": "markdown",
      "metadata": {
        "id": "J4PQg8FhEvow"
      },
      "source": [
        "It is not really the presence of individual words that gives us an indication of the stars given to a review, but more  the *relative occurrence* of these words in each review that might give us an indication of a user's rating. If this does not make sense immediately, do not worry, we will come back to this concept later. \n"
      ]
    },
    {
      "cell_type": "markdown",
      "metadata": {
        "id": "TQHod14KEvoz"
      },
      "source": [
        "#### Word Clouds\n",
        "\n",
        "Another way to take a look at the most prominent words in any given star rating is through the use of word clouds. "
      ]
    },
    {
      "cell_type": "markdown",
      "metadata": {
        "id": "oHY5IhnKEvo8"
      },
      "source": [
        "Edit the value in the cell below to see the word cloud for each star rating."
      ]
    },
    {
      "cell_type": "code",
      "metadata": {
        "id": "FtMnf1zLEvo_"
      },
      "source": [
        "#@title Word cloud for differently rated reviews\n",
        "num_stars =  1#@param {type:\"integer\"}\n",
        "this_star_text = ''\n",
        "for t in yelp[yelp['stars'] == num_stars]['text'].values: # form field cell\n",
        "    this_star_text += t + ' '\n",
        "\n",
        "wordcloud = WordCloud()    \n",
        "wordcloud.generate_from_text(this_star_text)\n",
        "plt.figure(figsize=(14,7))\n",
        "plt.imshow(wordcloud, interpolation='bilinear')\n",
        "plt.show()"
      ],
      "execution_count": null,
      "outputs": []
    },
    {
      "cell_type": "markdown",
      "metadata": {
        "id": "Nn4v3upxEvpL"
      },
      "source": [
        "**What are the differences between the reviews that have 1, 2, 3, 4, and 5 stars?**\n",
        "\n",
        "*As* we can see, in this case, the word cloud does not give us a great deal of distinguishing information between reviews that have 1, 2, 3, 4, or 5 stars. All these reviews seem to prominently feature words such as 'place', 'food', 'service' and 'table'. Human intuition will only get us so far. \n",
        "\n",
        "Before we go any further, we will need to clean up our text."
      ]
    },
    {
      "cell_type": "markdown",
      "metadata": {
        "id": "W8raBKzTEvpM"
      },
      "source": [
        "## Text Preprocessing"
      ]
    },
    {
      "cell_type": "markdown",
      "metadata": {
        "id": "pby7LlwhEvpN"
      },
      "source": [
        "#### Tokenization\n",
        "\n",
        "First of all, we would like to convert each review from a single string into a list of words (this is a process known as tokenizaton). All NLP algorithms require a list of words as arguments and not actual sentences. Enter some example text into the cell below to see the tokenized version. Note this is using nltk.word_tokenize"
      ]
    },
    {
      "cell_type": "code",
      "metadata": {
        "id": "Cgc3xGWYVlJA"
      },
      "source": [
        "from nltk.tokenize import sent_tokenize"
      ],
      "execution_count": null,
      "outputs": []
    },
    {
      "cell_type": "code",
      "metadata": {
        "id": "7XOaa1uEEvpY",
        "colab": {
          "base_uri": "https://localhost:8080/"
        },
        "outputId": "4e420c1d-c506-4465-9389-e904f563d749"
      },
      "source": [
        "#@title Basic tokenization example\n",
        "example_text = \"All the people I spoke to were super nice and very welcoming. Mr. Smith says hi.\" #@param {type:\"string\"}\n",
        "tokens = word_tokenize(example_text)\n",
        "tokens2 = sent_tokenize(example_text)\n",
        "print(tokens)\n",
        "print(tokens2)"
      ],
      "execution_count": null,
      "outputs": [
        {
          "output_type": "stream",
          "text": [
            "['All', 'the', 'people', 'I', 'spoke', 'to', 'were', 'super', 'nice', 'and', 'very', 'welcoming', '.', 'Mr.', 'Smith', 'says', 'hi', '.']\n",
            "['All the people I spoke to were super nice and very welcoming.', 'Mr. Smith says hi.']\n"
          ],
          "name": "stdout"
        }
      ]
    },
    {
      "cell_type": "markdown",
      "metadata": {
        "id": "QKCP5Q_LEvpg"
      },
      "source": [
        "#### Stopwords\n",
        "\n",
        "We can see that certain particular words might be associated with 4 or 5 star reviews, and some words would be associated with 1 or 2 star reviews. However, at the same time, there are some words that do not really possess any relevant information for our current problem. In the field of NLP there is a concept of words that are \"stopwords\" - words that exist to provide grammatical structure, but do not convey information about the particular subject. Edit the cell below to see if a given word is a stop word."
      ]
    },
    {
      "cell_type": "code",
      "metadata": {
        "id": "Nqq4w-ZrEvpj",
        "colab": {
          "base_uri": "https://localhost:8080/"
        },
        "outputId": "9e981f9c-1e82-4bcc-d401-4db93c762262"
      },
      "source": [
        "#@title Check if a word is a stop word\n",
        "example_word = \"is\" #@param {type:'string'}\n",
        "if example_word.lower() in STOP_WORDS:  # STOP_WORDS comes from spacy\n",
        "  print (example_word + \" is a stop word.\")\n",
        "else:\n",
        "  print (example_word + \" is NOT a stop word.\")"
      ],
      "execution_count": null,
      "outputs": [
        {
          "output_type": "stream",
          "text": [
            "is is a stop word.\n"
          ],
          "name": "stdout"
        }
      ]
    },
    {
      "cell_type": "markdown",
      "metadata": {
        "id": "5vubl4ejEvpv"
      },
      "source": [
        "We would like to remove these stopwords from the user reviews."
      ]
    },
    {
      "cell_type": "markdown",
      "metadata": {
        "id": "EUZ35Ay9Evpy"
      },
      "source": [
        "Tokenization and removal of stop words are universal to nearly every NLP application. In some cases, additional cleaning may be required (for example, removal of proper nouns, removal of digits) but we can build a text preprocessing function with these \"base\" cleaning steps."
      ]
    },
    {
      "cell_type": "markdown",
      "metadata": {
        "id": "LPsaFxJiEvp9"
      },
      "source": [
        "Putting all these together, we can come up with a text cleaning function that we can apply to all of our reviews."
      ]
    },
    {
      "cell_type": "markdown",
      "metadata": {
        "id": "Y3duj0BVEvqQ"
      },
      "source": [
        "Apply the text cleaning function on an example text to see if it works properly. "
      ]
    },
    {
      "cell_type": "markdown",
      "metadata": {
        "id": "6mLW7krRcBIG"
      },
      "source": [
        "# Intro to Spacy\n"
      ]
    },
    {
      "cell_type": "markdown",
      "metadata": {
        "id": "dcX6gwcFaFRd"
      },
      "source": [
        "Now a library we are going to use is Spacy.\n",
        "\n",
        "Spacy, like the other Python libraries, gives us a lot of useful functions that we can directly use.\n",
        "\n",
        "Unlike the other libraries, spacy does a lot more. It gives us insights into the English Language (actually, you can use many other languages here). The way it does is it downloads a set of information about the English Language and lets you use it.\n",
        "\n",
        "`\n",
        "nlp = spacy.load('en_core_web_sm')\n",
        "`\n",
        "\n",
        "Now when you call any sentence with this nlp object you will get quite a few helper functions that are really useful for a lot of tasks.\n",
        "\n",
        "Lets explore some of the things that Spacy provides.\n"
      ]
    },
    {
      "cell_type": "code",
      "metadata": {
        "id": "ldEPkz8NcI6_",
        "colab": {
          "base_uri": "https://localhost:8080/"
        },
        "outputId": "c4ecdab7-cd8c-44b9-b903-ea2e9317d3e8"
      },
      "source": [
        "nlp = en_core_web_md.load()\n",
        "doc = nlp(u\"We are running out of time! Are we though?\")\n",
        "print(doc)\n",
        "print(type(doc))  # doc is an object from spacy\n"
      ],
      "execution_count": null,
      "outputs": [
        {
          "output_type": "stream",
          "text": [
            "We are running out of time! Are we though?\n",
            "<class 'spacy.tokens.doc.Doc'>\n"
          ],
          "name": "stdout"
        }
      ]
    },
    {
      "cell_type": "markdown",
      "metadata": {
        "id": "EWyXczXkePiI"
      },
      "source": [
        "The doc object has a lot of nice properties. For instance you can get the text of each of the words and the length of each of the words."
      ]
    },
    {
      "cell_type": "code",
      "metadata": {
        "id": "uQifXTc_DYK7",
        "colab": {
          "base_uri": "https://localhost:8080/"
        },
        "outputId": "48d61dc7-718a-4b04-e122-6db4e1499332"
      },
      "source": [
        "token = doc[0] # Get the first word in the text.\n",
        "assert token.text == u\"We\" # Check that the token text is 'We'.\n",
        "assert len(token) == 2 # Check that the length of the token is 2.\n",
        "\n",
        "print(\"All tests passed :)\")"
      ],
      "execution_count": null,
      "outputs": [
        {
          "output_type": "stream",
          "text": [
            "All tests passed :)\n",
            "<class 'spacy.tokens.doc.Doc'>\n"
          ],
          "name": "stdout"
        }
      ]
    },
    {
      "cell_type": "markdown",
      "metadata": {
        "id": "vUI5yFeoekLQ"
      },
      "source": [
        "It has some word vectors that we can use. Though note that it doesn't have all the words. Let's import a new dataset of word (this may take a minute or so):"
      ]
    },
    {
      "cell_type": "markdown",
      "metadata": {
        "id": "m-yAoiZLLjbl"
      },
      "source": [
        "We can get the word embedding of a particular word in our document as follows:"
      ]
    },
    {
      "cell_type": "code",
      "metadata": {
        "id": "E0tBmojQeNhn",
        "colab": {
          "base_uri": "https://localhost:8080/"
        },
        "outputId": "ef1b81b8-3d86-472d-e0b3-726094e9b32e"
      },
      "source": [
        "doc = nlp(u\"I like oranges\")\n",
        "oranges = doc[2]\n",
        "i = doc[0]\n",
        "\n",
        "print(oranges.vector.shape) # Each word is being represented by 300 dimensional vector embedding\n",
        "print(i.vector.shape)\n",
        "print(i)"
      ],
      "execution_count": null,
      "outputs": [
        {
          "output_type": "stream",
          "text": [
            "(300,)\n",
            "(300,)\n",
            "I\n"
          ],
          "name": "stdout"
        }
      ]
    },
    {
      "cell_type": "markdown",
      "metadata": {
        "id": "NNPzJouoJj3f"
      },
      "source": [
        "The word 'Apple' is represented by a 300 dimensional vector embedding\n"
      ]
    },
    {
      "cell_type": "markdown",
      "metadata": {
        "id": "RKSPTB7Dc5JL"
      },
      "source": [
        "The 300 dimensional vector contains information about the word's meaning. For more information see https://medium.com/@jayeshbahire/introduction-to-word-vectors-ea1d4e4b84bf"
      ]
    },
    {
      "cell_type": "markdown",
      "metadata": {
        "id": "JiyLKLMOdQsQ"
      },
      "source": [
        "Also, as you can see the nlp method is special. If you ran it alone, it could just print out the words. However, it contains a lot of information."
      ]
    },
    {
      "cell_type": "markdown",
      "metadata": {
        "id": "lmX2ENExhwj2"
      },
      "source": [
        "### Fun things you can do with word vectors"
      ]
    },
    {
      "cell_type": "markdown",
      "metadata": {
        "id": "JBagECaVMQXZ"
      },
      "source": [
        "### Exercise 2\n",
        "\n",
        "You can get the similarity of two words via the following method:\n",
        "\n",
        "\n",
        "```\n",
        "doc = nlp(u\"keyboard and mouse\")\n",
        "word1 = doc[0]\n",
        "word2 = doc[2]\n",
        "word1.similarity(word2)\n",
        "```\n",
        "\n",
        "**Use the above methodology to find two words with a similarity greater than 0.77 and two words with similarity less than 0.15. Share both of your word pairings with the class.**\n"
      ]
    },
    {
      "cell_type": "code",
      "metadata": {
        "id": "ZD8fVPwlM4Bn",
        "colab": {
          "base_uri": "https://localhost:8080/"
        },
        "outputId": "a2f88376-0f0c-49c3-a187-71132d7c7337"
      },
      "source": [
        "### YOUR CODE HERE\n",
        "doc = nlp(u\"onion and spaceship\")\n",
        "word1 = doc[0] \n",
        "word2 = doc[2]\n",
        "word1.similarity(word2)\n",
        "### END CODE"
      ],
      "execution_count": null,
      "outputs": [
        {
          "output_type": "execute_result",
          "data": {
            "text/plain": [
              "0.04772787"
            ]
          },
          "metadata": {
            "tags": []
          },
          "execution_count": 41
        }
      ]
    },
    {
      "cell_type": "markdown",
      "metadata": {
        "id": "0bwasn11BfD4"
      },
      "source": [
        "As we saw before, the language in 4 star reviews is quite similar to the language in 5 star reviews. So the text in those reviews might not be very useful and we can drop those rows from our data.\n",
        "\n",
        "Although the text in the 3 star reviews is not very similar to the 1 or 2 star reviews, it is quite different from the language used in the 5 star reviews. So we could actually group those reviews together with the 1 and 2 star reviews.\n",
        "\n",
        "In order to reduce our problem to a **binary classification** problem, we will:\n",
        "\n",
        " - remove all 4 star reviews\n",
        " - label 5 star reviews as 'good'\n",
        " - label 1, 2, 3 star reviews as 'bad'"
      ]
    },
    {
      "cell_type": "markdown",
      "metadata": {
        "id": "xn__oGIOEvrA"
      },
      "source": [
        "Run the cell below to get rid of 4 star reviews."
      ]
    },
    {
      "cell_type": "code",
      "metadata": {
        "id": "TrgQp7gEEvrC"
      },
      "source": [
        "yelp = yelp[yelp.stars != 4]"
      ],
      "execution_count": null,
      "outputs": []
    },
    {
      "cell_type": "markdown",
      "metadata": {
        "id": "bNgLAFNpEvrG"
      },
      "source": [
        "### Exercise 3\n",
        "\n",
        "Complete the second line of code in the cell below, and run it to re-categorize our reviews. "
      ]
    },
    {
      "cell_type": "code",
      "metadata": {
        "id": "ck4iX6PITzHS",
        "colab": {
          "base_uri": "https://localhost:8080/",
          "height": 204
        },
        "outputId": "091950d3-7f83-415e-d548-de14e54846b8"
      },
      "source": [
        "def is_good_review(stars):\n",
        "    if stars == 5:  ### TODO: FILL IN THE IF STATEMENT HERE ###\n",
        "        return True\n",
        "    else:\n",
        "        return False\n",
        "\n",
        "# Change the stars field to either be 'good' or 'bad'.\n",
        "yelp['is_good_review'] = yelp['stars'].apply(is_good_review)\n",
        "\n",
        "yelp.head()"
      ],
      "execution_count": null,
      "outputs": [
        {
          "output_type": "execute_result",
          "data": {
            "text/html": [
              "<div>\n",
              "<style scoped>\n",
              "    .dataframe tbody tr th:only-of-type {\n",
              "        vertical-align: middle;\n",
              "    }\n",
              "\n",
              "    .dataframe tbody tr th {\n",
              "        vertical-align: top;\n",
              "    }\n",
              "\n",
              "    .dataframe thead th {\n",
              "        text-align: right;\n",
              "    }\n",
              "</style>\n",
              "<table border=\"1\" class=\"dataframe\">\n",
              "  <thead>\n",
              "    <tr style=\"text-align: right;\">\n",
              "      <th></th>\n",
              "      <th>stars</th>\n",
              "      <th>text</th>\n",
              "      <th>cool</th>\n",
              "      <th>useful</th>\n",
              "      <th>funny</th>\n",
              "      <th>is_good_review</th>\n",
              "    </tr>\n",
              "  </thead>\n",
              "  <tbody>\n",
              "    <tr>\n",
              "      <th>0</th>\n",
              "      <td>5</td>\n",
              "      <td>My wife took me here on my birthday for breakf...</td>\n",
              "      <td>2</td>\n",
              "      <td>5</td>\n",
              "      <td>0</td>\n",
              "      <td>True</td>\n",
              "    </tr>\n",
              "    <tr>\n",
              "      <th>1</th>\n",
              "      <td>5</td>\n",
              "      <td>I have no idea why some people give bad review...</td>\n",
              "      <td>0</td>\n",
              "      <td>0</td>\n",
              "      <td>0</td>\n",
              "      <td>True</td>\n",
              "    </tr>\n",
              "    <tr>\n",
              "      <th>2</th>\n",
              "      <td>5</td>\n",
              "      <td>Rosie, Dakota, and I LOVE Chaparral Dog Park!!...</td>\n",
              "      <td>1</td>\n",
              "      <td>2</td>\n",
              "      <td>0</td>\n",
              "      <td>True</td>\n",
              "    </tr>\n",
              "    <tr>\n",
              "      <th>3</th>\n",
              "      <td>5</td>\n",
              "      <td>General Manager Scott Petello is a good egg!!!...</td>\n",
              "      <td>0</td>\n",
              "      <td>0</td>\n",
              "      <td>0</td>\n",
              "      <td>True</td>\n",
              "    </tr>\n",
              "    <tr>\n",
              "      <th>4</th>\n",
              "      <td>5</td>\n",
              "      <td>Drop what you're doing and drive here. After I...</td>\n",
              "      <td>7</td>\n",
              "      <td>7</td>\n",
              "      <td>4</td>\n",
              "      <td>True</td>\n",
              "    </tr>\n",
              "  </tbody>\n",
              "</table>\n",
              "</div>"
            ],
            "text/plain": [
              "   stars  ... is_good_review\n",
              "0      5  ...           True\n",
              "1      5  ...           True\n",
              "2      5  ...           True\n",
              "3      5  ...           True\n",
              "4      5  ...           True\n",
              "\n",
              "[5 rows x 6 columns]"
            ]
          },
          "metadata": {
            "tags": []
          },
          "execution_count": 43
        }
      ]
    },
    {
      "cell_type": "markdown",
      "metadata": {
        "id": "XfIUrRtEWr3H"
      },
      "source": [
        "## One-Hot Vectors\n",
        "\n",
        "How do we convert our text to numbers in a structured way that we can feed into a machine learning algorithm? One way to do it is to use a concept called \"one-hot encoding\". We can see this concept with the following example. Suppose we have a sentence \"great tacos at this restaurant\". Its one-hot encoding would be."
      ]
    },
    {
      "cell_type": "code",
      "metadata": {
        "id": "ucOjGk7qXjbb",
        "colab": {
          "base_uri": "https://localhost:8080/"
        },
        "outputId": "385c431a-d8b3-4107-845f-b58acf35cf4e"
      },
      "source": [
        "# Run this to see the one-hot encoding of 'great tacos at this restaurant'\n",
        "print('{:^5}|{:^5}|{:^4}|{:^4}|{:^10}'.format('great', 'tacos', 'at','this','restaurant'))\n",
        "print('--------------------------------------------')\n",
        "print('{:^5}|{:^5}|{:^4}|{:^4}|{:^10}'.format('1', '0', '0','0','0'))\n",
        "print('{:^5}|{:^5}|{:^4}|{:^4}|{:^10}'.format('0', '1', '0','0','0'))\n",
        "print('{:^5}|{:^5}|{:^4}|{:^4}|{:^10}'.format('0', '0', '1','0','0'))\n",
        "print('{:^5}|{:^5}|{:^4}|{:^4}|{:^10}'.format('0', '0', '0','1','0'))\n",
        "print('{:^5}|{:^5}|{:^4}|{:^4}|{:^10}'.format('0', '0', '0','0','1'))\n",
        "\n",
        "# i believe that the :^'s are for formating this neatly"
      ],
      "execution_count": null,
      "outputs": [
        {
          "output_type": "stream",
          "text": [
            "great|tacos| at |this|restaurant\n",
            "--------------------------------------------\n",
            "  1  |  0  | 0  | 0  |    0     \n",
            "  0  |  1  | 0  | 0  |    0     \n",
            "  0  |  0  | 1  | 0  |    0     \n",
            "  0  |  0  | 0  | 1  |    0     \n",
            "  0  |  0  | 0  | 0  |    1     \n"
          ],
          "name": "stdout"
        }
      ]
    },
    {
      "cell_type": "markdown",
      "metadata": {
        "id": "EpZ11S8lEvrM"
      },
      "source": [
        "## Bag of Words"
      ]
    },
    {
      "cell_type": "markdown",
      "metadata": {
        "id": "43hbR0vha7E3"
      },
      "source": [
        "Building upon the concept of one-hot encoding is the **bag of words** model. If one-hot encoding is a way to represent individual words as vectors, then you can think of bag of words as a way to represent sentences (or larger pieces of text) as the **sum** of the one-hot encoding vectors of each of the words. Let's explain with an example. \n",
        "\n",
        "Suppose we want to represent the review: \n",
        "**\"The food was great. The ambience was also great.\"** as a bag of words.\n",
        "\n",
        "First we define our vocabulary. This is *each unique word* in the review. So our vocabulary is **[the, food, was, great, ambience, also]**.\n",
        "\n",
        "What are our one hot encodings? \n",
        "\n",
        "the = (1,0,0,0,0,0)\n",
        "\n",
        "food = (0,1,0,0,0,0)\n",
        "\n",
        "was = (0,0,1,0,0,0)\n",
        "\n",
        "great = (0,0,0,1,0,0)\n",
        "\n",
        "ambience = (0,0,0,0,1,0)\n",
        "\n",
        "also = (0,0,0,0,0,1).\n",
        "\n",
        "So far, so simple. Now how do we represent the review we mentioned above as a bag of words? We know we only have 6 words in our vocabulary, so our bag of words vector will also only be 6 elements long. To construct it, we can start off with a (0,0,0,0,0,0) vector, and then pass through each word in the review. For each word we encounter, we simply add its one hot encoding to our vector! So for our review, the bag of words representation will be\n",
        "\n",
        "**(2,1,2,2,1,1)**"
      ]
    },
    {
      "cell_type": "markdown",
      "metadata": {
        "id": "NbFU78B5bXka"
      },
      "source": [
        "## Creating our Bag of Words\n",
        "\n",
        "Back to our data. We want to select the features for our model and the output classes from our data. What are the features? We are only using the review text to make predictions for our model. And the output classes are the 'good' and 'bad' review classes we created just above. \n",
        "\n",
        "By convention, we represent our entire set of features as X, and our target output as y. Running the cell below will create the relevant X and y for our problem."
      ]
    },
    {
      "cell_type": "code",
      "metadata": {
        "id": "6t6HQm1vEvrQ"
      },
      "source": [
        "X = yelp['text']\n",
        "y = yelp['is_good_review']"
      ],
      "execution_count": null,
      "outputs": []
    },
    {
      "cell_type": "code",
      "metadata": {
        "id": "zeTOyA7huqn7",
        "colab": {
          "base_uri": "https://localhost:8080/"
        },
        "outputId": "11b5d382-33f6-4652-b4cf-b014048116cc"
      },
      "source": [
        "X.shape, y.shape  # there are 646 training examples now that we have removed the 4 star reviews (there were 1000 before)"
      ],
      "execution_count": null,
      "outputs": [
        {
          "output_type": "execute_result",
          "data": {
            "text/plain": [
              "((646,), (646,))"
            ]
          },
          "metadata": {
            "tags": []
          },
          "execution_count": 78
        }
      ]
    },
    {
      "cell_type": "markdown",
      "metadata": {
        "id": "xhRyg_YEeA5t"
      },
      "source": [
        "Running the cell below will create an object we can use to *transform* each piece of raw text into a bag of words vector.\n",
        "CountVectorizer is a useful class we can call from scikit-learn that will help us create this object. It even has a helpful parameter that we can set to our tokenize function to preprocess the raw text."
      ]
    },
    {
      "cell_type": "code",
      "metadata": {
        "id": "yrSQAeKjAiXJ"
      },
      "source": [
        "#Initialize the text cleaning function\n",
        "def tokenize(text):\n",
        "    clean_tokens = []\n",
        "    for token in nlp(text):\n",
        "        if (not token.is_stop) and (token.lemma_ != '-PRON-') and (not token.is_punct): # -PRON- is a special all inclusive \"lemma\" spaCy uses for any pronoun, we want to exclude these \n",
        "            clean_tokens.append(token.lemma_)  # lemma_ is simply the string representation of the word\n",
        "    return clean_tokens"
      ],
      "execution_count": null,
      "outputs": []
    },
    {
      "cell_type": "code",
      "metadata": {
        "colab": {
          "base_uri": "https://localhost:8080/"
        },
        "id": "KZoo7zLfeym-",
        "outputId": "9288642d-19a3-40ff-8077-1f8bc929bcfc"
      },
      "source": [
        "test_sent = tokenize(\"great amazing food is really awesome!!!!\")\n",
        "print(test_sent)\n",
        "print(type(test_sent[0]))"
      ],
      "execution_count": null,
      "outputs": [
        {
          "output_type": "stream",
          "text": [
            "['great', 'amazing', 'food', 'awesome']\n",
            "<class 'str'>\n"
          ],
          "name": "stdout"
        }
      ]
    },
    {
      "cell_type": "code",
      "metadata": {
        "id": "blZ7RJ2zEvrU"
      },
      "source": [
        "bow_transformer = CountVectorizer(analyzer=tokenize, max_features=1500)"
      ],
      "execution_count": null,
      "outputs": []
    },
    {
      "cell_type": "code",
      "metadata": {
        "colab": {
          "base_uri": "https://localhost:8080/"
        },
        "id": "OB9jhRFEfXSI",
        "outputId": "f3b9ede7-72e5-49a4-bdb2-56ddbe885814"
      },
      "source": [
        "bow_transformer.fit(X)"
      ],
      "execution_count": null,
      "outputs": [
        {
          "output_type": "execute_result",
          "data": {
            "text/plain": [
              "CountVectorizer(analyzer=<function tokenize at 0x7f4922e9fea0>, binary=False,\n",
              "                decode_error='strict', dtype=<class 'numpy.int64'>,\n",
              "                encoding='utf-8', input='content', lowercase=True, max_df=1.0,\n",
              "                max_features=1500, min_df=1, ngram_range=(1, 1),\n",
              "                preprocessor=None, stop_words=None, strip_accents=None,\n",
              "                token_pattern='(?u)\\\\b\\\\w\\\\w+\\\\b', tokenizer=None,\n",
              "                vocabulary=None)"
            ]
          },
          "metadata": {
            "tags": []
          },
          "execution_count": 174
        }
      ]
    },
    {
      "cell_type": "markdown",
      "metadata": {
        "id": "RaheGj_RmKW7"
      },
      "source": [
        "We can see our entire vocabulary by running the cell below! You will also notice an index associated with each word - this is the position of each word in the vocabulary. You also see the number of times that a word appears."
      ]
    },
    {
      "cell_type": "code",
      "metadata": {
        "id": "6TjdgYVxmKgd"
      },
      "source": [
        "bow_transformer.vocabulary_  # this is a dictionary"
      ],
      "execution_count": null,
      "outputs": []
    },
    {
      "cell_type": "markdown",
      "metadata": {
        "id": "nGEf8h1lEvrY"
      },
      "source": [
        "We can see the length of the vocabulary stored in the transformer object by running the cell below. "
      ]
    },
    {
      "cell_type": "code",
      "metadata": {
        "id": "upN1gxm5Evrb",
        "colab": {
          "base_uri": "https://localhost:8080/"
        },
        "outputId": "7bea49ca-0ae4-4428-e4e1-a7ed711e5a40"
      },
      "source": [
        "len(bow_transformer.vocabulary_)"
      ],
      "execution_count": null,
      "outputs": [
        {
          "output_type": "execute_result",
          "data": {
            "text/plain": [
              "1500"
            ]
          },
          "metadata": {
            "tags": []
          },
          "execution_count": 84
        }
      ]
    },
    {
      "cell_type": "markdown",
      "metadata": {
        "id": "YsFa7Nu5Evr4"
      },
      "source": [
        "Finally, to finish preparing our data, we can use the transformer to transform our entire training set (X) into a series of bag of words vectors:"
      ]
    },
    {
      "cell_type": "code",
      "metadata": {
        "id": "k5axWpLjgTY4"
      },
      "source": [
        "X = bow_transformer.transform(X)"
      ],
      "execution_count": null,
      "outputs": []
    },
    {
      "cell_type": "code",
      "metadata": {
        "id": "VRJJe2HGEvr6",
        "colab": {
          "base_uri": "https://localhost:8080/"
        },
        "outputId": "9efb234c-802c-47f7-b0bd-28308aabe672"
      },
      "source": [
        "X.shape  # 646 training examples and 1500 features per training example (This is just bag of words)"
      ],
      "execution_count": null,
      "outputs": [
        {
          "output_type": "execute_result",
          "data": {
            "text/plain": [
              "(646, 1500)"
            ]
          },
          "metadata": {
            "tags": []
          },
          "execution_count": 88
        }
      ]
    },
    {
      "cell_type": "markdown",
      "metadata": {
        "id": "Vy7OoREFiSrL"
      },
      "source": [
        "Transformers are the things that turn words into numbers in nlp. bow_transformer is a transformer that turns a string into a bag of words. The 1500 features in this case means that each bag of words has 1500 features (so a sentence may have a couple 1's and the rest are all 0's)."
      ]
    },
    {
      "cell_type": "markdown",
      "metadata": {
        "id": "P8AUxyLHEvr_"
      },
      "source": [
        "## Training a Baseline Classification Model (Logistic Regression)\n",
        "\n",
        "Our classification problem is a classic two-class classification problem, and so we will use the tried and tested **Logistic Regression** machine learning model from yesterday's class."
      ]
    },
    {
      "cell_type": "code",
      "metadata": {
        "id": "gIpbdNZwgRTn"
      },
      "source": [
        "# import the logistic regression model from scikit-learn\n",
        "logistic_model = LogisticRegression()"
      ],
      "execution_count": null,
      "outputs": []
    },
    {
      "cell_type": "markdown",
      "metadata": {
        "id": "Q459D2jwaUCI"
      },
      "source": [
        "We will use 20% of our data as test data. If you run the cell below, it will randomly split the data such that 80% of it is training data and 20% of it is data we can use to test the predictions from our trained model."
      ]
    },
    {
      "cell_type": "code",
      "metadata": {
        "id": "PThy6pNUEvsA"
      },
      "source": [
        "X_train, X_test, y_train, y_test = train_test_split(X, y, test_size=0.2, random_state=101)"
      ],
      "execution_count": null,
      "outputs": []
    },
    {
      "cell_type": "markdown",
      "metadata": {
        "id": "u8K4C0iQEvsE"
      },
      "source": [
        "### **Exercise 4**\n",
        "Now that we have our model selected and our data split, let's train our model. Refer to yesterday's logistic regression notebook for a remainder about how to train the model."
      ]
    },
    {
      "cell_type": "code",
      "metadata": {
        "id": "ip5a0e4sdB4Q",
        "colab": {
          "base_uri": "https://localhost:8080/"
        },
        "outputId": "38f805dc-6391-46b3-b7ef-d7864ec54a09"
      },
      "source": [
        "### YOUR CODE HERE\n",
        "\n",
        "logistic_model.fit(X_train, y_train)\n",
        "\n",
        "### END CODE"
      ],
      "execution_count": null,
      "outputs": [
        {
          "output_type": "execute_result",
          "data": {
            "text/plain": [
              "LogisticRegression(C=1.0, class_weight=None, dual=False, fit_intercept=True,\n",
              "                   intercept_scaling=1, l1_ratio=None, max_iter=100,\n",
              "                   multi_class='auto', n_jobs=None, penalty='l2',\n",
              "                   random_state=None, solver='lbfgs', tol=0.0001, verbose=0,\n",
              "                   warm_start=False)"
            ]
          },
          "metadata": {
            "tags": []
          },
          "execution_count": 91
        }
      ]
    },
    {
      "cell_type": "markdown",
      "metadata": {
        "id": "ApCzou0tEvsL"
      },
      "source": [
        "## Exercise 5\n",
        "\n",
        "Once the model is trained, we can generate predictions from our test data. Just like the fit() function above, there is a similar predict() function that we can use once our model is trained. Create your model's predictions on the text model. Next, use the true positive (TP), false positive (FP), true negative (TN), and false negative (FN) rates to evaluate the accuracy of the model."
      ]
    },
    {
      "cell_type": "code",
      "metadata": {
        "id": "omlRkPWNf95J",
        "colab": {
          "base_uri": "https://localhost:8080/",
          "height": 375
        },
        "outputId": "4537c764-3f12-4169-bdb8-2324b46a6cea"
      },
      "source": [
        "### YOUR CODE HERE\n",
        "\n",
        "preds = logistic_model.predict(X_test)\n",
        "\n",
        "### END CODE\n",
        "\n",
        "# Get the confusion matrix.\n",
        "cm = confusion_matrix(y_test, preds)\n",
        "\n",
        "# Get TP, FP, TN, and FN rates.\n",
        "TP = cm[0][0]\n",
        "TN = cm[1][1]\n",
        "FP = cm[0][1]\n",
        "FN = cm[1][0]\n",
        "\n",
        "### YOUR CODE HERE\n",
        "\n",
        "accuracy = (TP + TN) / (TP + TN + FP + FN)\n",
        "precision = (TP) / (TP + FP)\n",
        "recall = (TP) /(TP + FN)\n",
        "\n",
        "### END CODE\n",
        "\n",
        "print(f\"Accuracy {accuracy}, Precision : {precision}, Recall: {recall}\")"
      ],
      "execution_count": null,
      "outputs": [
        {
          "output_type": "error",
          "ename": "ValueError",
          "evalue": "ignored",
          "traceback": [
            "\u001b[0;31m---------------------------------------------------------------------------\u001b[0m",
            "\u001b[0;31mValueError\u001b[0m                                Traceback (most recent call last)",
            "\u001b[0;32m<ipython-input-116-274cf24af999>\u001b[0m in \u001b[0;36m<module>\u001b[0;34m()\u001b[0m\n\u001b[1;32m      1\u001b[0m \u001b[0;31m### YOUR CODE HERE\u001b[0m\u001b[0;34m\u001b[0m\u001b[0;34m\u001b[0m\u001b[0;34m\u001b[0m\u001b[0m\n\u001b[1;32m      2\u001b[0m \u001b[0;34m\u001b[0m\u001b[0m\n\u001b[0;32m----> 3\u001b[0;31m \u001b[0mpreds\u001b[0m \u001b[0;34m=\u001b[0m \u001b[0mlogistic_model\u001b[0m\u001b[0;34m.\u001b[0m\u001b[0mpredict\u001b[0m\u001b[0;34m(\u001b[0m\u001b[0mX_test\u001b[0m\u001b[0;34m)\u001b[0m\u001b[0;34m\u001b[0m\u001b[0;34m\u001b[0m\u001b[0m\n\u001b[0m\u001b[1;32m      4\u001b[0m \u001b[0;34m\u001b[0m\u001b[0m\n\u001b[1;32m      5\u001b[0m \u001b[0;31m### END CODE\u001b[0m\u001b[0;34m\u001b[0m\u001b[0;34m\u001b[0m\u001b[0;34m\u001b[0m\u001b[0m\n",
            "\u001b[0;32m/usr/local/lib/python3.6/dist-packages/sklearn/linear_model/_base.py\u001b[0m in \u001b[0;36mpredict\u001b[0;34m(self, X)\u001b[0m\n\u001b[1;32m    291\u001b[0m             \u001b[0mPredicted\u001b[0m \u001b[0;32mclass\u001b[0m \u001b[0mlabel\u001b[0m \u001b[0mper\u001b[0m \u001b[0msample\u001b[0m\u001b[0;34m.\u001b[0m\u001b[0;34m\u001b[0m\u001b[0;34m\u001b[0m\u001b[0m\n\u001b[1;32m    292\u001b[0m         \"\"\"\n\u001b[0;32m--> 293\u001b[0;31m         \u001b[0mscores\u001b[0m \u001b[0;34m=\u001b[0m \u001b[0mself\u001b[0m\u001b[0;34m.\u001b[0m\u001b[0mdecision_function\u001b[0m\u001b[0;34m(\u001b[0m\u001b[0mX\u001b[0m\u001b[0;34m)\u001b[0m\u001b[0;34m\u001b[0m\u001b[0;34m\u001b[0m\u001b[0m\n\u001b[0m\u001b[1;32m    294\u001b[0m         \u001b[0;32mif\u001b[0m \u001b[0mlen\u001b[0m\u001b[0;34m(\u001b[0m\u001b[0mscores\u001b[0m\u001b[0;34m.\u001b[0m\u001b[0mshape\u001b[0m\u001b[0;34m)\u001b[0m \u001b[0;34m==\u001b[0m \u001b[0;36m1\u001b[0m\u001b[0;34m:\u001b[0m\u001b[0;34m\u001b[0m\u001b[0;34m\u001b[0m\u001b[0m\n\u001b[1;32m    295\u001b[0m             \u001b[0mindices\u001b[0m \u001b[0;34m=\u001b[0m \u001b[0;34m(\u001b[0m\u001b[0mscores\u001b[0m \u001b[0;34m>\u001b[0m \u001b[0;36m0\u001b[0m\u001b[0;34m)\u001b[0m\u001b[0;34m.\u001b[0m\u001b[0mastype\u001b[0m\u001b[0;34m(\u001b[0m\u001b[0mnp\u001b[0m\u001b[0;34m.\u001b[0m\u001b[0mint\u001b[0m\u001b[0;34m)\u001b[0m\u001b[0;34m\u001b[0m\u001b[0;34m\u001b[0m\u001b[0m\n",
            "\u001b[0;32m/usr/local/lib/python3.6/dist-packages/sklearn/linear_model/_base.py\u001b[0m in \u001b[0;36mdecision_function\u001b[0;34m(self, X)\u001b[0m\n\u001b[1;32m    271\u001b[0m         \u001b[0;32mif\u001b[0m \u001b[0mX\u001b[0m\u001b[0;34m.\u001b[0m\u001b[0mshape\u001b[0m\u001b[0;34m[\u001b[0m\u001b[0;36m1\u001b[0m\u001b[0;34m]\u001b[0m \u001b[0;34m!=\u001b[0m \u001b[0mn_features\u001b[0m\u001b[0;34m:\u001b[0m\u001b[0;34m\u001b[0m\u001b[0;34m\u001b[0m\u001b[0m\n\u001b[1;32m    272\u001b[0m             raise ValueError(\"X has %d features per sample; expecting %d\"\n\u001b[0;32m--> 273\u001b[0;31m                              % (X.shape[1], n_features))\n\u001b[0m\u001b[1;32m    274\u001b[0m \u001b[0;34m\u001b[0m\u001b[0m\n\u001b[1;32m    275\u001b[0m         scores = safe_sparse_dot(X, self.coef_.T,\n",
            "\u001b[0;31mValueError\u001b[0m: X has 1500 features per sample; expecting 300"
          ]
        }
      ]
    },
    {
      "cell_type": "code",
      "metadata": {
        "id": "euuR1VWWEvsX",
        "colab": {
          "base_uri": "https://localhost:8080/"
        },
        "outputId": "1b48a7ab-1951-4138-ea94-05cfcf23de9b"
      },
      "source": [
        "# Enter an example review, and see if it is classified as good or bad\n",
        "example_review = \"\" #@param {type:'string'}\n",
        "prediction = logistic_model.predict(bow_transformer.transform([example_review]))\n",
        "\n",
        "if prediction:\n",
        "  print (\"This was a GOOD review!\")\n",
        "else:\n",
        "  print (\"This was a BAD review!\")\n",
        "\n"
      ],
      "execution_count": null,
      "outputs": [
        {
          "output_type": "stream",
          "text": [
            "This was a GOOD review!\n"
          ],
          "name": "stdout"
        }
      ]
    },
    {
      "cell_type": "markdown",
      "metadata": {
        "id": "AV0Fe3GpHd2_"
      },
      "source": [
        "###Exercise 6\n"
      ]
    },
    {
      "cell_type": "markdown",
      "metadata": {
        "id": "m1i_LdIeHqgo"
      },
      "source": [
        "Now change the max features attribute while creating your bag of words model. Discuss how the change affects the accuracy of the model"
      ]
    },
    {
      "cell_type": "markdown",
      "metadata": {
        "id": "4k-2NwiLHL4w"
      },
      "source": [
        "###Exercise 7 (Optional)\n",
        "We used Logistic regression for our baseline model. However we could also use a separate model called Multinomial Naive Bayes to perform our classification.\n",
        "Naive Bayes uses Bayes' Theorem of probability to predict class of new input data. The important assumption Naive Bayes makes is that the presence of one feature is independent of the presence of any other.\n",
        "\n",
        "Let's build a model using a Naive Bayes classifier!"
      ]
    },
    {
      "cell_type": "code",
      "metadata": {
        "id": "xPg0Y7cjHH2c"
      },
      "source": [
        "from sklearn.naive_bayes import MultinomialNB\n",
        "nb_model = MultinomialNB()"
      ],
      "execution_count": null,
      "outputs": []
    },
    {
      "cell_type": "markdown",
      "metadata": {
        "id": "5nqtNo_qIsbh"
      },
      "source": [
        "We can train and generate predictions from this model in the same way we did for our Logisitic Regression model. Try training this model on the same data and see if it performs better or worse than our logistic regression model. Then, evaluate the model accuracy as your did for the Logistic Regression classifier.\n",
        "\n"
      ]
    },
    {
      "cell_type": "code",
      "metadata": {
        "id": "5q-UOCh0I0BR",
        "colab": {
          "base_uri": "https://localhost:8080/"
        },
        "outputId": "ce9f3bac-177b-466d-d080-60937a8a8a73"
      },
      "source": [
        "###YOUR CODE HERE####\n",
        "\n",
        "nb_model.fit(X_train, y_train)"
      ],
      "execution_count": null,
      "outputs": [
        {
          "output_type": "execute_result",
          "data": {
            "text/plain": [
              "MultinomialNB(alpha=1.0, class_prior=None, fit_prior=True)"
            ]
          },
          "metadata": {
            "tags": []
          },
          "execution_count": 96
        }
      ]
    },
    {
      "cell_type": "markdown",
      "metadata": {
        "id": "GffvMZqx9tYu"
      },
      "source": [
        "Experiment with the models you've learned so far and try to get the highest accuracy!"
      ]
    },
    {
      "cell_type": "code",
      "metadata": {
        "id": "zXaXVHt0ebny"
      },
      "source": [
        "from sklearn import metrics"
      ],
      "execution_count": null,
      "outputs": []
    },
    {
      "cell_type": "code",
      "metadata": {
        "id": "vKKg72u69y_D",
        "colab": {
          "base_uri": "https://localhost:8080/"
        },
        "outputId": "5792dba8-f8ec-43ef-92cd-4cddb3846515"
      },
      "source": [
        "###YOUR CODE BELOW###\n",
        "\n",
        "pred = nb_model.predict(X_test)\n",
        "\n",
        "accuracy = metrics.accuracy_score(y_test, pred)\n",
        "\n",
        "print(accuracy)"
      ],
      "execution_count": null,
      "outputs": [
        {
          "output_type": "stream",
          "text": [
            "0.7615384615384615\n"
          ],
          "name": "stdout"
        }
      ]
    },
    {
      "cell_type": "code",
      "metadata": {
        "colab": {
          "base_uri": "https://localhost:8080/"
        },
        "id": "p68ltWiQeuSd",
        "outputId": "2db467c3-7c1e-4f43-a032-75e60f0c6606"
      },
      "source": [
        "# Enter an example review, and see if it is classified as good or bad\n",
        "example_review = \"hey how are you\" #@param {type:'string'}\n",
        "prediction = nb_model.predict(bow_transformer.transform([example_review]))\n",
        "\n",
        "if prediction:\n",
        "  print (\"This was a GOOD review!\")\n",
        "else:\n",
        "  print (\"This was a BAD review!\")"
      ],
      "execution_count": null,
      "outputs": [
        {
          "output_type": "stream",
          "text": [
            "This was a BAD review!\n"
          ],
          "name": "stdout"
        }
      ]
    },
    {
      "cell_type": "markdown",
      "metadata": {
        "id": "vge8vYO5Evq1"
      },
      "source": [
        "### Exercise 8\n",
        "\n",
        "We saw earlier that our WordClouds didn't give us too much useful information. What words were present across all kinds of reviews? If we take those words out of the reviews, we could possibly have more useful WordClouds.\n",
        "\n",
        "Identify some of these common words and add them to the list in the cell below. Then, run the word cloud to see the words that show up across review types.\n"
      ]
    },
    {
      "cell_type": "code",
      "metadata": {
        "id": "drOWMCAQFtG7"
      },
      "source": [
        "###Fill in the list with the words you think which should be removed. Ex: ['food','time','service']###\n",
        "common_words = ['food', 'place', 'good', 'resteraunt', 'friend']"
      ],
      "execution_count": null,
      "outputs": []
    },
    {
      "cell_type": "code",
      "metadata": {
        "id": "GR9E844brnHu",
        "colab": {
          "base_uri": "https://localhost:8080/",
          "height": 431
        },
        "outputId": "29499b82-e136-44f0-b414-bf4ef8340098"
      },
      "source": [
        "#@title Word cloud for differently rated reviews\n",
        "num_stars =  5#@param {type:\"integer\"}\n",
        "this_star_text = ''\n",
        "for t in yelp[yelp['stars'] == num_stars]['text'].values: # form field cell\n",
        "    this_star_text += t + ' '\n",
        "    for word in common_words:\n",
        "      this_star_text = this_star_text.replace(word,'')\n",
        "    \n",
        "wordcloud = WordCloud()    \n",
        "wordcloud.generate_from_text(this_star_text)\n",
        "plt.figure(figsize=(14,7))\n",
        "plt.imshow(wordcloud, interpolation='bilinear')\n",
        "plt.show()"
      ],
      "execution_count": null,
      "outputs": [
        {
          "output_type": "display_data",
          "data": {
            "image/png": "[encoded data removed]",
            "text/plain": [
              "<Figure size 1008x504 with 1 Axes>"
            ]
          },
          "metadata": {
            "tags": [],
            "needs_background": "light"
          }
        }
      ]
    },
    {
      "cell_type": "markdown",
      "metadata": {
        "id": "xFeI61HGY2Kt"
      },
      "source": [
        "### (Optional Advanced Exercise) Training Logistic Regression with Word Vectors from Spacy"
      ]
    },
    {
      "cell_type": "markdown",
      "metadata": {
        "id": "b9DUXQXSaMPU"
      },
      "source": [
        "We can use the word vectors we introduced earlier to get more sophisticated representations of our Yelp reviews. First, we get the text data from our dataframe:"
      ]
    },
    {
      "cell_type": "markdown",
      "metadata": {
        "id": "WQxaL_Qnjnwh"
      },
      "source": [
        "Cullen: To clarify, our original model simply used a bag of words transformer. This will use word vectors instead."
      ]
    },
    {
      "cell_type": "code",
      "metadata": {
        "id": "Vs6fasZuOlZc"
      },
      "source": [
        "X_data = yelp['text']\n",
        "y_data = yelp['is_good_review']"
      ],
      "execution_count": null,
      "outputs": []
    },
    {
      "cell_type": "markdown",
      "metadata": {
        "id": "9_n7uJ20a_yH"
      },
      "source": [
        "This helper function uses the Spacy `nlp` object to remove stop words, pronouns, and punctuation. It is identical to the `tokenize` function above, except it preserves the non-string attributes of the clean tokens (i.e. `token.vector`)"
      ]
    },
    {
      "cell_type": "code",
      "metadata": {
        "id": "QAOs86fEQ_2l"
      },
      "source": [
        "def tokenize_vecs(text):\n",
        "    clean_tokens = []\n",
        "    for token in nlp(text):\n",
        "        if (not token.is_stop) and (token.lemma_ != '-PRON-') and (not token.is_punct): \n",
        "          # -PRON- is a special all inclusive \"lemma\" spaCy uses for any pronoun, we want to exclude these \n",
        "            clean_tokens.append(token)\n",
        "    return clean_tokens"
      ],
      "execution_count": null,
      "outputs": []
    },
    {
      "cell_type": "code",
      "metadata": {
        "id": "ZyCJDXSrkBny"
      },
      "source": [
        "# original tokenize function for reference\n",
        "# def tokenize(text):\n",
        "#     clean_tokens = []\n",
        "#     for token in nlp(text):\n",
        "#         if (not token.is_stop) and (token.lemma_ != '-PRON-') and (not token.is_punct): # -PRON- is a special all inclusive \"lemma\" spaCy uses for any pronoun, we want to exclude these \n",
        "#             clean_tokens.append(token.lemma_)\n",
        "#     return clean_tokens"
      ],
      "execution_count": null,
      "outputs": []
    },
    {
      "cell_type": "markdown",
      "metadata": {
        "id": "Z0XqDYs_b4V8"
      },
      "source": [
        "We want to represent each Yelp review with a vector. Since each review consists of multiple words, we want to find a way to create one vector for each review. \n",
        "\n",
        "Would adding the word vectors work? What about averaging? Which would be preferrable?\n",
        "\n",
        "Implement your solution below: convert our array of reviews into an array of vector representations of those reviews."
      ]
    },
    {
      "cell_type": "markdown",
      "metadata": {
        "id": "FpitSSrIpYgb"
      },
      "source": [
        "Cullen: The below code is a transformer that takes in an array of strings and returns a 300 dimension vector for each string. So if you input an array of ten reviews (any length), you are given an array of 10 300 dimensional word vectors. "
      ]
    },
    {
      "cell_type": "code",
      "metadata": {
        "id": "4tKKKLymMNsd"
      },
      "source": [
        "def word2vec(x):\n",
        "  word2vec = []\n",
        "  for text in x:\n",
        "    review = tokenize_vecs(text)\n",
        "    review_average = 0\n",
        "    for word in review:\n",
        "      word = word.vector\n",
        "      review_average += word\n",
        "    review_average /= len(review)\n",
        "    word2vec.append(review_average)\n",
        "\n",
        "  return np.array(word2vec)\n",
        "\n",
        "# does representing each review as an average of one vector make this work not as well\n",
        "# I imagine that if we didn't do this it might be too large for logistic regression"
      ],
      "execution_count": null,
      "outputs": []
    },
    {
      "cell_type": "code",
      "metadata": {
        "id": "hJJiGw5ymkTX"
      },
      "source": [
        "X_word2vec = word2vec(X_data)"
      ],
      "execution_count": null,
      "outputs": []
    },
    {
      "cell_type": "code",
      "metadata": {
        "colab": {
          "base_uri": "https://localhost:8080/"
        },
        "id": "0o2cW883pyLJ",
        "outputId": "2f7eb415-f991-4aed-ca28-345470f4a667"
      },
      "source": [
        "print(X_word2vec.shape) # still 646 reviews by a 300 dimensional word vector for each review"
      ],
      "execution_count": null,
      "outputs": [
        {
          "output_type": "stream",
          "text": [
            "(646, 300)\n"
          ],
          "name": "stdout"
        }
      ]
    },
    {
      "cell_type": "markdown",
      "metadata": {
        "id": "frxz5RO5c0ft"
      },
      "source": [
        "Now we follow the same procedure for training and testing the logistic regression that we used for the Bag of Words data."
      ]
    },
    {
      "cell_type": "code",
      "metadata": {
        "id": "zNgGYuGdOt9u"
      },
      "source": [
        "# import a fresh logistic regression model from scikit-learn\n",
        "logistic_model = LogisticRegression()"
      ],
      "execution_count": null,
      "outputs": []
    },
    {
      "cell_type": "code",
      "metadata": {
        "id": "7lusHdcWSfEB"
      },
      "source": [
        "# train-test split\n",
        "X_train_word2vec, X_test_word2vec, y_train_word2vec, y_test_word2vec = train_test_split(X_word2vec, y, test_size=0.2, random_state=101)"
      ],
      "execution_count": null,
      "outputs": []
    },
    {
      "cell_type": "code",
      "metadata": {
        "id": "FTPDGo_FSJeV",
        "colab": {
          "base_uri": "https://localhost:8080/"
        },
        "outputId": "823db967-9c47-4d1e-ea95-5f67f4351de2"
      },
      "source": [
        "logistic_model.fit(X_train_word2vec, y_train_word2vec)"
      ],
      "execution_count": null,
      "outputs": [
        {
          "output_type": "execute_result",
          "data": {
            "text/plain": [
              "LogisticRegression(C=1.0, class_weight=None, dual=False, fit_intercept=True,\n",
              "                   intercept_scaling=1, l1_ratio=None, max_iter=100,\n",
              "                   multi_class='auto', n_jobs=None, penalty='l2',\n",
              "                   random_state=None, solver='lbfgs', tol=0.0001, verbose=0,\n",
              "                   warm_start=False)"
            ]
          },
          "metadata": {
            "tags": []
          },
          "execution_count": 160
        }
      ]
    },
    {
      "cell_type": "code",
      "metadata": {
        "id": "cmOilBMVStA5",
        "colab": {
          "base_uri": "https://localhost:8080/"
        },
        "outputId": "70b3d053-b711-4264-a3f6-ce82bd5679d6"
      },
      "source": [
        "# Run this to print the accuracy for our word2vec classifier\n",
        "\n",
        "# Get our predictions.\n",
        "preds = logistic_model.predict(X_test_word2vec)\n",
        "\n",
        "# Get the confusion matrix.\n",
        "cm = confusion_matrix(y_test_word2vec, preds)\n",
        "\n",
        "# Get TP, FP, TN, and FN rates.\n",
        "TP = cm[0][0]\n",
        "TN = cm[1][1]\n",
        "FP = cm[0][1]\n",
        "FN = cm[1][0]\n",
        "\n",
        "# Calculate and print accuracy.\n",
        "accuracy = (TP + TN)/(TP + TN + FP + FN)\n",
        "precision = (TP) / (TP + FP)\n",
        "recall = (TP) /(TP + FN)\n",
        "\n",
        "### END CODE\n",
        "\n",
        "print(f\"Accuracy {accuracy}, Precision : {precision}, Recall: {recall}\")"
      ],
      "execution_count": null,
      "outputs": [
        {
          "output_type": "stream",
          "text": [
            "Accuracy 0.7615384615384615, Precision : 0.8235294117647058, Recall: 0.65625\n"
          ],
          "name": "stdout"
        }
      ]
    },
    {
      "cell_type": "code",
      "metadata": {
        "colab": {
          "base_uri": "https://localhost:8080/"
        },
        "id": "pGZJFwnKjJeh",
        "outputId": "8ebcfb99-d55e-4e4c-a42d-36fcbbd394fa"
      },
      "source": [
        "# Enter an example review, and see if it is classified as good or bad\n",
        "example_review = \"it was okay\" #@param {type:'string'}\n",
        "prediction = logistic_model.predict(word2vec([example_review]))\n",
        "\n",
        "if prediction:\n",
        "  print (\"This was a GOOD review!\")\n",
        "else:\n",
        "  print (\"This was a BAD review!\")"
      ],
      "execution_count": null,
      "outputs": [
        {
          "output_type": "stream",
          "text": [
            "This was a BAD review!\n"
          ],
          "name": "stdout"
        }
      ]
    },
    {
      "cell_type": "markdown",
      "metadata": {
        "id": "zcqbg3NSNriB"
      },
      "source": [
        "### Challenge Exercise: Calculating Similarity and Analogies"
      ]
    },
    {
      "cell_type": "markdown",
      "metadata": {
        "id": "kTyeFBh0CbNO"
      },
      "source": [
        "Once we have text embeddings, we can use them to explore connections in meaning between different words, including calculating similarity between words and completing analogies.\n",
        "\n",
        "We'll start by creating a dictionary containing the vectors for all the words in our vocabulary. We'll stick to the vocabulary above of 800 words from the Yelp reviews - if you want to use more words, change that number! "
      ]
    },
    {
      "cell_type": "code",
      "metadata": {
        "id": "cHlGBkBKoUPI"
      },
      "source": [
        "vocab_dict = dict() #initialize dictionary\n",
        "\n",
        "for word in bow_transformer.vocabulary_:\n",
        "    vocab_dict[word] = nlp(word).vector #what is the key? what is the value?\n",
        "\n",
        "for word, vec in vocab_dict.items(): #iterating through the dictionary to print each key and value\n",
        "  print('Word: \"{}\", Vector length: {}'.format(word, len(vec)))\n",
        "\n",
        "print()\n",
        "print ('{} words in our dictionary'.format(len(vocab_dict)))"
      ],
      "execution_count": null,
      "outputs": []
    },
    {
      "cell_type": "markdown",
      "metadata": {
        "id": "WPCcIyTpDuab"
      },
      "source": [
        "Next, let's calculate the similarity between two words, using their Word2Vec representations.\n",
        "\n",
        "A common way to calculate the similarity between two vectors is called *cosine similarity*. It depends on the angle between those two vectors when plotted in space. As an example, imagine we had two three-dimensional vectors:"
      ]
    },
    {
      "cell_type": "code",
      "metadata": {
        "id": "omAmAv88GZUp"
      },
      "source": [
        "v0 = np.array([2,3,1])\n",
        "v1 = np.array([-2,-3,-1])"
      ],
      "execution_count": null,
      "outputs": []
    },
    {
      "cell_type": "markdown",
      "metadata": {
        "id": "owbBQZUgGgjs"
      },
      "source": [
        "Run the code below to plot those vectors, and try changing the numbers above.\n",
        "How can you make a very small angle between the vectors? How can you make a very large angle?"
      ]
    },
    {
      "cell_type": "code",
      "metadata": {
        "id": "QtbbBLgcFmE0"
      },
      "source": [
        "#@title Run this to create an interactive 3D plot\n",
        "#Code from https://stackoverflow.com/questions/47319238/python-plot-3d-vectors \n",
        "import numpy as np \n",
        "import plotly.graph_objs as go\n",
        "\n",
        "def vector_plot(tvects,is_vect=True,orig=[0,0,0]):\n",
        "    \"\"\"Plot vectors using plotly\"\"\"\n",
        "\n",
        "    if is_vect:\n",
        "        if not hasattr(orig[0],\"__iter__\"):\n",
        "            coords = [[orig,np.sum([orig,v],axis=0)] for v in tvects]\n",
        "        else:\n",
        "            coords = [[o,np.sum([o,v],axis=0)] for o,v in zip(orig,tvects)]\n",
        "    else:\n",
        "        coords = tvects\n",
        "\n",
        "    data = []\n",
        "    for i,c in enumerate(coords):\n",
        "        X1, Y1, Z1 = zip(c[0])\n",
        "        X2, Y2, Z2 = zip(c[1])\n",
        "        vector = go.Scatter3d(x = [X1[0],X2[0]],\n",
        "                              y = [Y1[0],Y2[0]],\n",
        "                              z = [Z1[0],Z2[0]],\n",
        "                              marker = dict(size = [0,5],\n",
        "                                            color = ['blue'],\n",
        "                                            line=dict(width=5,\n",
        "                                                      color='DarkSlateGrey')),\n",
        "                              name = 'Vector'+str(i+1))\n",
        "        data.append(vector)\n",
        "\n",
        "    layout = go.Layout(\n",
        "             margin = dict(l = 4,\n",
        "                           r = 4,\n",
        "                           b = 4,\n",
        "                           t = 4)\n",
        "                  )\n",
        "    fig = go.Figure(data=data,layout=layout)\n",
        "    fig.show()\n",
        "\n",
        "\n",
        "vector_plot([v0,v1])"
      ],
      "execution_count": null,
      "outputs": []
    },
    {
      "cell_type": "markdown",
      "metadata": {
        "id": "y7xDNfU3HUE3"
      },
      "source": [
        "For our Word2Vec vectors, we can imagine doing the same thing in 300-dimensional space. Of course, it's much harder to plot that! [Here](https://projector.tensorflow.org/) is one representation that you can play around with.\n",
        "\n",
        "Then we find the cosine of the angle between the two vectors to get the similarity. \n",
        "\n",
        "If the vectors are exactly the same, the angle will be 0, so we get a similarity of cos(0) = 1.\n",
        "\n",
        "If the vectors are exactly opposite, the angle will be 180 degrees, so we get a similarity of cos(180) = -1.\n",
        "\n",
        "There's a useful [mathematical trick](https://www.mathsisfun.com/algebra/vectors-dot-product.html) to find the cosine similarity:\n",
        "\n",
        "![](https://wikimedia.org/api/rest_v1/media/math/render/svg/1d94e5903f7936d3c131e040ef2c51b473dd071d)\n",
        "\n",
        "Where A_1, A_2, ..., A_300 are the elements of the first vector and B_1, B_2, ..., B_300 are the elements of the second vector.\n",
        "\n",
        "Please implement cosine similarity below, and test it out using our 3-dimensional vectors from above. Do the results make sense?\n"
      ]
    },
    {
      "cell_type": "code",
      "metadata": {
        "id": "fAnA_KdoNqr-",
        "colab": {
          "base_uri": "https://localhost:8080/"
        },
        "outputId": "d89147de-00d5-4b56-96c6-fc9c9120ee9f"
      },
      "source": [
        "v0 = np.array([2,3,1])\n",
        "v1 = np.array([-2,-3,-1])\n",
        "# similarity should be - 1\n",
        "\n",
        "def vector_cosine_similarity(vec1,vec2):\n",
        "  #Assume vec1 and vec2 have the same size \n",
        "  similarity = sum((vec1 * vec2) / (np.linalg.norm(vec1) * np.linalg.norm(vec2)))\n",
        "  #YOUR CODE HERE\n",
        "\n",
        "  return similarity #number between -1 and 1\n",
        "\n",
        "print(vector_cosine_similarity(v0,v1))"
      ],
      "execution_count": null,
      "outputs": [
        {
          "output_type": "stream",
          "text": [
            "-1.0\n"
          ],
          "name": "stdout"
        }
      ]
    },
    {
      "cell_type": "markdown",
      "metadata": {
        "id": "IJ2JQmZELItA"
      },
      "source": [
        "Now, use your cosine similarity function to calculate the similarity between two words. Try out a few words from the dataset - what pairs of words can you find that are particularly similar or particularly dissimilar?"
      ]
    },
    {
      "cell_type": "code",
      "metadata": {
        "id": "KwC6EioNJHKR",
        "colab": {
          "base_uri": "https://localhost:8080/"
        },
        "outputId": "4c276e2d-2a82-465e-e6c4-49537bd373af"
      },
      "source": [
        "def word_similarity(word1, word2):\n",
        "  #Should return a similarity between -1 and 1\n",
        "  \n",
        "  try:\n",
        "    vec1 = vocab_dict[word1]\n",
        "    vec2 = vocab_dict[word2]\n",
        "\n",
        "    return vector_cosine_similarity(vec1, vec2)\n",
        "    #TODO: Fill in the return statement here\n",
        "\n",
        "  except KeyError:\n",
        "    print ('Word not in dictionary')\n",
        "\n",
        "print(word_similarity('burger','steak'))"
      ],
      "execution_count": null,
      "outputs": [
        {
          "output_type": "stream",
          "text": [
            "0.7773125933712208\n"
          ],
          "name": "stdout"
        }
      ]
    },
    {
      "cell_type": "markdown",
      "metadata": {
        "id": "w8KKXG2BLz7K"
      },
      "source": [
        "Now, we can use our functions above to find the *most* similar words to any particular word. \n",
        "\n",
        "`find_most_similar(start_vec)` should output the top 5 words whose vectors are most similar to start_vec, with their similarities. Please fill it in.\n"
      ]
    },
    {
      "cell_type": "code",
      "metadata": {
        "id": "mgNpY_wZpG5A",
        "colab": {
          "base_uri": "https://localhost:8080/"
        },
        "outputId": "987197c7-b124-4ae1-ae13-93db125bbf34"
      },
      "source": [
        "def find_nearest_neighbor(word):\n",
        "  try:\n",
        "    vec = vocab_dict[word]\n",
        "    find_most_similar(vec)\n",
        "  except KeyError:\n",
        "    print ('Word not in dictionary')\n",
        "\n",
        "def find_most_similar(start_vec):\n",
        "  #Should print the top 5 most similar words to start_vec, and their similarities.,\n",
        "  #Hint: use a for loop to iterate through vocab_dict.\n",
        "  #Consider using a Pandas series.\n",
        "  # dic_similarities = dict()\n",
        "  # words = list()\n",
        "  # similarities = list()\n",
        "  # for word in vocab_dict:\n",
        "  #   similarity = word_similarity(start_vec, word)\n",
        "  #   words.append(word)\n",
        "  #   similarities.append(similarity)\n",
        "  # dic_similarities[\"Words\"] = words\n",
        "  # dic_similarities[\"Similarities\"] = similarity\n",
        "  # print(dic_similarities)\n",
        "\n",
        "    \n",
        "\n",
        "#   #YOUR CODE HERE\n",
        "#   print(five_most_similar) #words and similarities\n",
        "\n",
        "# find_nearest_neighbor('bagel')\n",
        "\n",
        "# pd.Series(vocab_dict)\n",
        "\n",
        "find_most_similar('cheese')"
      ],
      "execution_count": null,
      "outputs": [
        {
          "output_type": "stream",
          "text": [
            "{'Words': ['wife', 'take', 'birthday', 'breakfast', 'excellent', ' ', 'weather', 'perfect', 'sit', 'outside', 'ground', 'pleasure', 'waitress', 'food', 'arrive', 'quickly', 'busy', 'Saturday', 'morning', 'look', 'like', 'place', 'fill', 'pretty', 'well', '\\n\\n', 'favor', 'phenomenal', 'simply', 'good', 'sure', 'use', 'ingredient', 'garden', 'blend', 'fresh', 'order', 'amazing', 'menu', 'white', 'egg', 'vegetable', 'tasty', 'delicious', 'come', '2', 'piece', 'bread', 'absolutely', 'meal', 'toast', 'wait', 'idea', 'people', 'bad', 'review', 'go', 'probably', 'fault', 'case', 'friend', 'past', 'Sunday', 'crowded', 'think', 'evening', 'forever', 'seat', 'say', 'girl', 'seating', 'waiter', 'get', 'drink', 'pleasant', 'server', 'price', 'decide', 'want', 'share', 'bake', 'spaghetti', 'small', 'pizza', 'try', 'huge', 'personal', '11', 'awesome', 'better', 'sauce', 'box', 'home', 'door', 'great', 'reviewer', 'thing', 'issue', 'love', 'lot', 'desert', 'duck', 'Scottsdale', 'wonderful', 'job', 'keep', 'park', 'clean', 'find', 'trash', 'pick', 'locate', 'area', 'let', 'dog', 'run', 'play', 'Scott', 'detail', 'rare', 'speak', 'treat', 'guy', 'respect', 'state', 'surprised', 'walk', 'totally', 'satisfied', 'mistake', 'important', 'thank', 'staff', 'customer', 'life', 'drop', 'drive', 'eat', 'day', 'cute', 'little', 'green', 'building', 'avoid', 'turn', 'sign', 'catch', 'eye', 'soul', 'new', 'open', 'easy', 'decor', 'smell', 'inside', 'dinner', 'see', 'variety', 'pepper', 'mole', 'mushroom', 'wrap', 'banana', 'leave', 'difficult', 'choose', 'far', 'La', 'Taco', 'shrimp', 'flavor', 'bite', 'salsa', 'bar', 'stock', 'excited', 'hot', 'fact', 'big', 'throw', 'fruit', 'yummy', 'bonus', 'win', 'art', 'restaurant', 'mexican', 'folk', 'hang', 'artist', 'show', 'unique', 'feature', 'start', 'pork', 'belly', 'bun', 'longer', 'man', 'own', 'store', 'sweet', 'cookie', 'ice', 'cream', 'giant', 'sandwich', 'super', 'cheap', 'basically', 'snickerdoodle', 'vietnamese', 'oven', 'butter', 'choice', 'selection', 'roll', 'bring', 'cash', 'ATM', 'card', 'credit', 'accept', 'limited', 'time', 'right', 'BBQ', 'chicken', 'long', 'Chicken', 'tomato', 'basil', 'soup', ' \\n\\n', '5', 'star', 'rate', 'Jason', '4', 'okay', 'grow', 'shop', 'world', 'stuff', 'cheese', 'wine', 'tell', 'happy', 'Arizona', 'kind', 'garlic', 'favorite', 'course', 'alot', 'age', '\\n', 'burger', 'wing', 'atmosphere', 'fun', 'display', 'cool', 'boss', 'healthy', 'recommend', 'highly', 'tart', 'noodle', 'street', 'taco', 'entree', 'aid', 'dish', 'disappoint', 'yoga', 'salad', 'chop', 'table', 'plant', 'patio', 'date', 'live', 'charming', 'certain', 'color', 'opinion', 'have', 'lunch', 'minute', 'close', 'serve', 'perfectly', 'crisp', 'chewy', 'sausage', 'flavorful', 'roasted', 'red', 'onion', 'finish', 'quality', 'mozzarella', 'friendly', 'comfortable', 'bit', 'nearby', 'deal', 'Phoenix', 'Texas', 'service', 'know', 'expect', 'pleasantly', 'parking', 'adequate', '6', 'car', 'work', 'help', 'soon', 'tire', 'plan', 'give', 'option', 'head', 'decision', 'replace', 'check', 'unfortunately', 'call', 'boy', 'exactly', '45', 'min', 'apologize', 'need', 'sorry', 'forget', 'professional', 'future', 'definitely', 'tip', 'appointment', 'online', 'believe', 'manage', 'house', 'nearly', 'poor', 'coffee', 'pastry', 'music', 'will', 'beat', 'dead', 'add', 'offer', 'wide', 'deep', 'fry', 'quesadilla', 'alright', 'away', 'Yelp', 'feel', 'yes', 'waffle', 'tea', 'quick', 'ridiculously', 'year', 'best', 'damn', 'seasoning', 'soft', 'matter', 'deliver', 'quiet', 'goodness', 'real', 'early', 'Red', 'cake', 'fit', 'fancy', 'stop', 'talk', 'week', 'month', 'later', 'drool', 'incredible', 'pasta', 'taste', 'mom', 'attention', 'italian', 'town', 'owner', 'helpful', 'care', 'provide', 'positive', 'dining', 'experience', 'spot', 'recommendation', 'tasting', 'event', 'list', 'page', 'change', 'campus', 'allow', 'reach', 'location', 'Tempe', '  ', 'child', 'program', 'appeal', 'biscuit', 'gravy', 'complaint', 'pack', 'website', 'luck', 'wedding', 'design', 'step', 'way', 'style', 'nail', 'crew', 'incredibly', 'gift', 'item', 'clear', '8', 'range', 'hand', 'baby', 'heavenly', 'willing', 'base', 'occasion', 'make', 'final', 'annual', 'sale', 'blow', 'ask', 'ensure', 'miss', 'large', 'group', 'beer', 'hour', 'Happy', 'Hour', 'pricing', 'fair', 'tap', 'center', 'east', 'reasonable', 'light', 'classy', 'studio', 'body', 'couple', 'class', 'ASU', 'gym', 'semester', 'Spring', 'practice', 'fat', 'jean', 'nicely', 'rave', 'de', 'stress', 'luckily', 'recently', 'space', 'bathroom', 'dress', 'room', 'school', 'truly', 'floor', 'high', 'ceiling', 'beautiful', 'decoration', 'person', 'stare', 'focus', 'entire', 'outstanding', 'read', 'voice', 'ear', 'shoulder', 'hurt', '3', 'bike', 'everybody', 'low', 'kick', 'ass', 'ton', 'personable', 'summer', 'figure', 'write', 'special', 'seafood', 'understand', 'cut', 'steak', 'fantastic', 'point', '\\n ', 'mean', 'meat', 'perfection', 'plate', 'tower', 'different', 'match', 'present', 'guest', 'side', 'suggest', 'mash', 'potato', 'hungry', 'notch', 'top', 'describe', 'adult', 'literally', 'melt', 'roast', 'middle', 'warm', 'request', 'milk', 'note', 'hope', 'sub', 'chic', 'discover', 'manicure', 'pedicure', 'extremely', 'salon', 'Grill', 'game', 'reservation', 'dad', 'left', 'wall', 'cover', 'sport', 'assortment', 'especially', 'city', 'team', '=', 'Chicago', 'Old', 'San', 'etc', 'worth', 'mention', 'complimentary', 'bagel', 'chip', 'rib', 'combo', '$', 'bowl', 'cole', 'slaw', 'dessert', 'possible', 'book', 'impressive', 'create', 'family', 'impressed', 'Cake', 'spring', 'party', 'road', 'office', '60', 'husband', 'ambiance', 'highlight', 'trip', '10', 'die', '30', 'main', 'rice', 'double', 'buck', 'ginger', 'normally', 'fan', 'fish', 'grill', 'sushi', 'Great', 'night', 'w', 'bill', 'kid', 'pull', 'yellow', 'laugh', 'grab', 'repeat', 'pleased', 'wonder', 'guess', 'bright', 'fiance', 'Valley', 'immediately', 'notice', 'dark', 'tight', 'begin', 'appetizer', 'guacamole', 'build', 'tender', 'fall', 'tortilla', 'include', 'equally', 'water', 'level', 'glass', 'plenty', 'nice', 'Day', 'problem', 'visit', 'hard', 'portion', 'environment', 'spacious', 'knowledgeable', 'extra', 'crave', 'worthy', 'usual', 'pain', 'overall', 'welcome', 'neighborhood', 'smoke', 'corn', 'texture', 'near', 'lol', 'remember', 'picky', 'hole', 'regular', 'stick', 'pie', 'pepperoni', 'bell', 'cook', 'unbelievable', '20', 'advantage', 'glad', 'save', 'return', 'personally', 'hold', 'watch', 'happen', 'today', 'black', 'pickle', 'lovely', 'carne', 'asada', 'feeling', 'liquor', 'license', 'brunch', 'relax', 'chocolate', 'weekend', 'counter', 'enjoy', 'question', 'wander', 'bottle', 'girlfriend', 'test', 'set', '50', 'instead', 'spend', 'buy', 'par', 'pay', 'sell', 'afternoon', 'move', 'Mesa', 'seared', 'slice', 'boil', 'lettuce', 'destination', 'yelp', 'realize', 'mile', 'hotel', 'stay', 'hear', 'greet', 'Zach', 'explain', 'allergic', 'wheat', 'gluten', 'free', 'sized', 'oh', 'forward', 'admit', 'frequent', 'travel', 'downtown', 'pass', 'news', 'establishment', 'compare', 'wise', 'lack', 'secret', 'bean', 'seriously', 'money', 'training', 'vacation', 'Desert', 'skip', 'shot', 'disappointed', 'rating', 'site', 'indian', 'imagine', 'curry', 'introduce', 'ago', 'New', 'York', 'wrong', 'plus', 'God', '18', 'strong', 'moment', 'phone', 'flower', '+', 'product', 'cafe', 'iced', 'line', 'cup', 'ready', 'mix', 'rich', 'creamy', 'caramel', 'valley', 'pho', 'hippie', 'pour', 'oil', 'tiny', 'mouth', 'easily', 'anyways', 'flat', 'bag', 'half', 'season', 'skin', 'soda', 'true', 'organic', 'funny', 'originally', 'Joe', 'end', 'search', 'stand', 'number', 'dressing', 'size', 'homemade', 'load', 'cupcake', 'Food', 'maybe', 'wow', 'similar', 'NYC', 'individual', 'ok', 'view', 'olive', 'pesto', 'hit', 'touch', 'actually', 'enjoyable', 'earth', 'possibly', 'dream', 'brand', 'extensive', 'face', 'hate', 'strip', 'Vegas', 'late', 'heaven', 'stab', 'shirt', 'wear', 'reason', 'mind', 'trouble', 'Wednesday', 'conversation', 'completely', 'name', 'chair', 'cocktail', 'rock', 'delivery', 'aside', 'cheesecake', 'push', 'casual', 'round', 'chance', 'thick', 'hint', 'sour', 'tongue', 'demand', 'efficient', 'shit', 'sort', 'interesting', 'chain', 'wish', 'crab', 'brick', 'barely', 'manager', 'annoying', 'joint', '1/2', 'classic', 'topping', 'not', 'would', 'local', 'Pizza', 'be', 'word', 'freshly', 'loaf', 'dip', 'kitchen', 'PS', 'original', 'chef', 'lucky', 'vibe', 'attend', 'discount', 'grinder', 'everytime', 'department', 'boneless', 'butcher', 'section', 'AJ', 'holiday', 'simple', 'carry', 'practically', 'culinary', 'desire', 'recipe', 'appreciate', 'internet', 'company', 'employee', 'loud', 'weird', 'cuz', 'Town', 'serving', 'salmon', 'greasy', 'bacon', 'pot', 'authentic', 'remind', 'beverage', 'fabulous', 'boyfriend', 'enter', 'register', 'booth', 'sad', 'sick', 'bf', 'beef', 'veggie', 'warn', 'syrup', 'son', '9', 'complain', 'brown', 'lemonade', 'mint', 'ham', 'w/', 'french', 'consistently', 'juice', 'hell', 'overly', 'bitch', 'deli', 'one', 'break', 'n', 'vegetarian', 'vegan', 'spinach', 'artichoke', 'chile', 'fi', 'everyday', 'club', 'pool', 'member', 'rent', 'facility', 'Chandler', 'decorate', 'story', 'dancer', 'picture', 'bartender', 'daughter', 'Starbucks', 'finger', 'carrot', 'spicy', 'type', 'frozen', 'Burger', 'honestly', 'valet', 'panini', 'bruschetta', 'value', 'second', 'agree', '1', 'old', ' \\n', 'dance', 'hide', 'diner', 'fast', 'turkey', 'mall', 'woman', 'shade', 'spectacular', 'steakhouse', 'leg', 'short', 'proceed', 'bed', 'Paradise', 'situation', 'Friday', 'breast', 'provolone', 'press', 'fountain', 'refill', 'Ice', 'vanilla', 'cozy', 'consider', 'pretentious', 'intimate', 'business', 'cause', 'follow', 'crazy', 'bunch', 'foodie', 'eggplant', 'heart', 'particular', 'corner', 'standard', 'hostess', 'delish', 'mango', 'mood', 'Thai', 'sadly', 'spa', 'hopefully', 'Camelback', 'Inn', 'massage', 'shower', 'steam', 'lounge', 'usually', 'regardless', 'treatment', 'screen', 'negative', 'gyro', 'pita', 'greek', 'reasonably', 'buffet', 'omelet', 'holy', 'crowd', 'station', 'particularly', 'regret', 'meet', 'ahead', 'available', '15', 'surprisingly', 'receive', 'tuck', 'fix', 'normal', 'dirty', 'smile', 'cell', 'coupon', 'wild', 'expectation', 'therapist', 'rarely', 'young', 'college', 'student', 'attitude', 'AZ', 'straight', 'lighting', 'margarita', 'wary', 'martini', 'modern', 'mad', 'enchiladas', 'gas', 'snack', '25', '100', 'sample', 'resturant', 'pre', 'filet', 'tonight', 'sun', 'dry', 'risotto', 'combination', 'pudding', 'tomorrow', 'iPod', 'continue', 'latte', 'gel', 'crust', 'post', 'Coffee', 'severely', 'update', 'p.m.', 'hangout', 'patron', 'vow', 'um', 'degree', 'dollar', 'prompt', 'purchase', 'supply', 'fully', 'sister', 'pricey', 'cabbage', 'total', 'contact', 'answer', 'bother', 'process', 'ticket', 'depend', 'decent', 'alfredo', 'period', 'boba', 'avocado', 'snow', 'venue', 'prior', 'peanut', 'jelly', 'cry', 'sugar', 'fine', '40', 'directly', 'opt', 'filling', 'clothing', 'kinda', 'funky', 'shoe', 'accessory', 'generally', 'relaxing', 'pile', 'act', 'movie', 'theater', 'Bobby', 'Q', 'St.', 'bone', 'Cheese', 'freaking', 'mini', 'hubby', 'yeah', 'cinnamon', 'major', 'dude', 'twice', 'appear', 'interior', 'burrito', 'support', 'safe', 'certainly', 'non', 'alternative', 'thumb', 'air', 'charge', 'retail', 'information', 'finally', 'California', 'ring', 'anytime', 'previous', 'term', 'attentive', 'chat', 'temperature', 'god', 'eatery', 'salt', 'general', '24', 'asian', 'burn', 's', '12', 'odd', 'chill', 'cherry', 'refreshing', 'lime', 'mixed', 'calorie', 'freeze', 'yogurt', 'bear', 'brownie', 'rainbow', 'sprinkle', 'average', 'Mexican', 'somewhat', 'tv', 'Service', 'expensive', 'accommodate', 'consistent', 'donut', 'tasteless', 'to', 'guarantee', 'market', 'natural', 'suppose', 'Bianco', 'tend', 'Echo', 'couch', 'mug', 'paper', 'actual', 'Chipotle', 'yum', 'hummus', 'traditional', 'spice', 'cold', 'sound', 'rest', 'generous', 'polite', 'trendy', 'cent', 'window', 'unlike', 'Chick', 'Piestewa', 'foot', 'looking', 'trail', 'ridiculous', 'apparently', 'swear', 'Marquee', 'single', 'band', 'fail', 'listen', 'whore', 'nope', 'slow', 'scene', 'await', 'till', 'minor', 'fake', 'hey', 'upper', 'heck', 'fly', 'bored', 'difference', 'towel', 'terrible', 'cat', 'doctor', 'send', 'japanese', 'pop', 'hardly', 'crumb', 'strange', 'culture', 'heavy', 'learn', 'lead', 'switch', 'brisket', 'correct', 'thin', 'pet', 'result', 'put', 'monthly', 'maintain', 'gross', 'death', 'White', 'winter', 'respond', 'Dr.', 'delay', 'berry', 'Bakery', 'version', 'split', 'lemon', 'worker', 'repair', 'deserve', 'awful', 'Whitey', 'dump', '7', 'health', 'Randy', 'meatball', 'plain', 'chili', 'plastic', 'ball', 'menudo', 'phoenix', 'square', 'smoothie', 'involve', 'bloody', 'attach', 'cuisine', 'feed', 'Pork', 'ya', 'Turkey', 'advertise', 'able', 'likely', 'specifically', 'suit', 'lie', 'character', 'Hannah', 'ride', 'Caesar', 'beware', 'inform', 'Laser', 'hair', 'waste', 'laser', 'shave', 'drizzle', 'chinese', 'management', 'dislike', 'u', 'despite', 'personality', 'earn', 'raw', 'men', 'urinal', 'anymore', 'crap', 'insist', 'broth', 'moist', 'shame', 'soooo', 'machine', 'lady', 'train', 'pad', 'prepare', 'toss', 'Gyro', 'sake', 'sashimi', 'hike', 'lover', 'lose', 'proper', 'awhile', 'hub', 'Tom', 'theatre', 'app', 'song', 'truth', 'fuck', 'flee', 'tear', 'People', 'teach', 'drum', 'bird', 'attempt', 'prefer', 'wash', 'trust', 'Mrs.', 'recent', 'disappointment', 'breath', 'frosting', 'stew', 'tofu', 'pasty', 'alcohol', 'loose', 'salty', 'yesterday', 'decline', 'prime', 'hype', 'underwhelmed', 'Target', 'fare', 'asparagus', 'potential', 'mediocre', 'tuna', 'enchilada', 'basic', 'addition', 'bland', 'clearly', 'overpriced', 'overcook', 'Chili', 'Som', 'reply', 'shred', 'fishy', 'inconsistent', 'ruin', 'meh', 'edamame', 'suck', 'heat', 'nut', 'typical', 'sense', 'magazine', 'mess', 'promise', 'cost', 'Jersey', 'industry', 'disappointing', 'approach', 'squeeze', 'Mill', 'obviously', 'wasabi', 'grease', 'badly', 'Yelpers', 'improve', 'fairly', 'flavorless', 'message', 'horrible', 'flan', 'disgusting', 'desk', 'Good', 'weak', 'rude', 'acknowledge', '80', 'aunty', 'blah', 'refuse', 'slip', 'ignore', 'apology', 'quiche', 'quinoa', 'thrift', 'mgr', 'drag', 'hire'], 'Similarities': 0.07148343673583213}\n"
          ],
          "name": "stdout"
        },
        {
          "output_type": "stream",
          "text": [
            "/usr/local/lib/python3.6/dist-packages/ipykernel_launcher.py:7: RuntimeWarning:\n",
            "\n",
            "invalid value encountered in true_divide\n",
            "\n"
          ],
          "name": "stderr"
        }
      ]
    },
    {
      "cell_type": "markdown",
      "metadata": {
        "id": "rxcyY1YZO9u5"
      },
      "source": [
        "Finally, we can use the functions we've built to complete word analogies, like the ones you can try out [here](http://bionlp-www.utu.fi/wv_demo/). For example:\n",
        "\n",
        "*   Guacamole is to Mexican as pasta is to ________,\n",
        "\n",
        "This requires a bit of \"word arithmetic\":\n",
        "let's say A1, A2, and B1 are vectors for three words we know. We're trying to find B2 to complete \n",
        "\n",
        "*   A1 is to A2 as B1 is to B2.\n",
        "\n",
        "Intuitively, this means that the difference between A1 and A2 is the same as the difference between B1 and B2. So we write\n",
        "\n",
        "*   A1 - A2 = B1 - B2\n",
        "\n",
        "**Solve for B2:**\n",
        "\n",
        "*   B2 = ________________\n",
        "\n",
        "Once we know the vector that we \"expect\" for B2, we can use our previous functions to find the word whose representation is closest to that vector. Try it out!"
      ]
    },
    {
      "cell_type": "code",
      "metadata": {
        "id": "QfTeKGqYLw_1"
      },
      "source": [
        "def find_analogy(word_a1, word_a2, word_b1):\n",
        "  #Convert the words to vectors a1, a2, b1\n",
        "  #If word_a1:word_a2 as word_b1:word_b2, then \n",
        "  #a1 - a2 = b1 - b2\n",
        "  #So b2 = ...\n",
        "  #Calculate b2, and use your previous functions to find the best candidates for word_b2.\n",
        "\n",
        "  #YOUR CODE HERE\n",
        "\n",
        "find_analogy('guacamole','mexican','pasta')"
      ],
      "execution_count": null,
      "outputs": []
    },
    {
      "cell_type": "markdown",
      "metadata": {
        "id": "zlDcBn9kQxNR"
      },
      "source": [
        "Word arithmetic doesn't always work perfectly - it's pretty tricky to find good examples! Which can you discover?\n",
        "\n",
        "If you're looking for a way to expand further on this exercise, you can try seeing what happens when you use [Euclidean distance](https://en.wikipedia.org/wiki/Euclidean_distance), another common measurement, instead of cosine similarity."
      ]
    },
    {
      "cell_type": "markdown",
      "metadata": {
        "id": "vGCr4Otw1hYS"
      },
      "source": [
        "# Additional Notes\n"
      ]
    },
    {
      "cell_type": "markdown",
      "metadata": {
        "id": "_QJbnRdg1lSs"
      },
      "source": [
        "\n",
        "\n",
        "There is a lot to consider with natural language processing because language is so complex. We must consider the meanings of individual words, their meanings in context, how order may matter, and what words we can glance over. In this notebook, we first use a bag of words. We don't include certain words and set a max features. Each review is represented by an array with a number rempresenting how many times the word appears. Here order doesn't matter. The other method is to use word vectors. Word vectors are 300 dimensional vectors that contain some kind of meaning of words. However, we turn each review into one word vector. Consider these complexities and what we may do. In real life, nlp models are trainined on incredible amounts of data and use nueral networks.\n",
        "\n",
        "\n"
      ]
    },
    {
      "cell_type": "markdown",
      "metadata": {
        "id": "WcazkMNt2vm5"
      },
      "source": [
        "A word vector can literally be seen as a place in 300-dimensional space. Thus, we can view how closely related words are by their locations in this space and can calculate similarity using the vector product. Here is an interesting article about word vectors: https://medium.com/@jayeshbahire/introduction-to-word-vectors-ea1d4e4b84bf"
      ]
    },
    {
      "cell_type": "markdown",
      "metadata": {
        "id": "EtIc5HSC3L80"
      },
      "source": [
        "Note the nlp pipeline.\n",
        "\n",
        "*   Like always, analyze the data first.\n",
        "*   Create a transformer to convert words into vectors of numbers. In the first example, we train a bag of words transformer by writing a function and using sklearn. In the second example we create a word2vec transformer using spacy and writing two functions (the first one being almost the same as the bow function we wrote). Note that we don't train the transformer with the word2vec transformer.\n",
        "*    We then transform our data using the transformer.\n",
        "*    At this point, we can train a model like we would normally (for now that is with sklearn, but I imagine the first few steps would also apply to a nueral network).\n",
        "\n"
      ]
    },
    {
      "cell_type": "markdown",
      "metadata": {
        "id": "Y6tQ0FHM4D96"
      },
      "source": [
        "So yeah. There's a ton of stuff to look into with natural language processing. I particularly think the idea of word vectors is very interesting and how we calculate similarity. Like always, we must convert our data into something machine readable, numbers. Pretty interesting idea of converting every word into a 300 dimensional vector to capture meaning. I have a lot to learn about how this works. I will also finish working through this notebook with my own functions to find the most similar word but it's late now. Until tomorrow. Merry Christmas!\n"
      ]
    }
  ]
}