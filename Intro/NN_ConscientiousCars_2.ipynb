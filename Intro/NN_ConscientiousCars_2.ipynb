{
  "nbformat": 4,
  "nbformat_minor": 0,
  "metadata": {
    "colab": {
      "name": "NN_ConscientiousCars_2.ipynb",
      "provenance": [],
      "collapsed_sections": [],
      "include_colab_link": true
    },
    "kernelspec": {
      "name": "python3",
      "display_name": "Python 3"
    },
    "accelerator": "GPU"
  },
  "cells": [
    {
      "cell_type": "markdown",
      "metadata": {
        "id": "view-in-github",
        "colab_type": "text"
      },
      "source": [
        "<a href=\"https://colab.research.google.com/github/cullena20/inspiritai/blob/main/NN_ConscientiousCars_2.ipynb\" target=\"_parent\"><img src=\"https://colab.research.google.com/assets/colab-badge.svg\" alt=\"Open In Colab\"/></a>"
      ]
    },
    {
      "cell_type": "markdown",
      "metadata": {
        "id": "Sq-JhCcLpBwS"
      },
      "source": [
        "#Conscientious Cars\n",
        "Welcome back to CC: ConscientiousCars! Today, we'll be improving on our system for distinguishing dogs from roads, so we can keep these cute puppers safe."
      ]
    },
    {
      "cell_type": "code",
      "metadata": {
        "id": "uhNVum16scIW"
      },
      "source": [
        "# Run this to load some packages and data!\n",
        "from sklearn.neural_network import MLPClassifier\n",
        "from sklearn.neighbors import KNeighborsClassifier\n",
        "from sklearn import model_selection\n",
        "from sklearn.metrics import accuracy_score\n",
        "from collections import Counter\n",
        "import keras\n",
        "from keras.models import Sequential\n",
        "from keras.layers import Dense, Conv2D\n",
        "from keras.layers import Activation, MaxPooling2D, Dropout, Flatten, Reshape\n",
        "from keras.wrappers.scikit_learn import KerasClassifier\n",
        "from sklearn.model_selection import StratifiedKFold\n",
        "from sklearn.model_selection import cross_val_score\n",
        "import numpy as np\n",
        "import pandas as pd\n",
        "import seaborn as sns\n",
        "import matplotlib.pyplot as plt\n",
        "\n",
        "\n",
        "def categorical_to_numpy(labels_in):\n",
        "  labels = []\n",
        "  for label in labels_in:\n",
        "    if label == 'dog':\n",
        "      labels.append(np.array([1, 0]))\n",
        "    else:\n",
        "      labels.append(np.array([0, 1]))\n",
        "  return np.array(labels)\n",
        "\n",
        "\n",
        "def load_data():\n",
        "  # Run this cell to download our data into a file called 'cifar_data'\n",
        "  import gdown\n",
        "  gdown.download('https://drive.google.com/uc?id=1-BjeqccJdLiBA6PnNinmXSQ6w5BluLem','cifar_data','True'); # dogs v road;\n",
        "\n",
        "  # now load the data from our cloud computer\n",
        "  import pickle\n",
        "  data_dict = pickle.load(open( \"cifar_data\", \"rb\" ));\n",
        "  \n",
        "  data   = data_dict['data']\n",
        "  labels = data_dict['labels']\n",
        "  \n",
        "  return data, labels\n",
        "\n",
        "def plot_one_image(data, labels, img_idx):\n",
        "  from google.colab.patches import cv2_imshow\n",
        "  import cv2\n",
        "  import matplotlib.pyplot as plt\n",
        "  my_img   = data[img_idx, :].squeeze().reshape([32,32,3]).copy()\n",
        "  my_label = labels[img_idx]\n",
        "  print('label: %s'%my_label)\n",
        "  plt.imshow(my_img)\n",
        "  plt.show()\n",
        "  \n",
        "def CNNClassifier(num_epochs=2, layers=1, dropout=0.15):\n",
        "  def create_model():\n",
        "    model = Sequential()\n",
        "    model.add(Reshape((32, 32, 3)))\n",
        "    \n",
        "    for i in range(layers):\n",
        "      model.add(Conv2D(32, (3, 3), padding='same'))\n",
        "      model.add(Activation('relu'))\n",
        "    \n",
        "    model.add(Conv2D(32, (3, 3)))\n",
        "    model.add(Activation('relu'))\n",
        "    model.add(MaxPooling2D(pool_size=(2, 2)))\n",
        "    model.add(Dropout(dropout))\n",
        "\n",
        "    model.add(Conv2D(64, (3, 3), padding='same'))\n",
        "    model.add(Activation('relu'))\n",
        "    model.add(Conv2D(64, (3, 3)))\n",
        "    model.add(Activation('relu'))\n",
        "    model.add(MaxPooling2D(pool_size=(2, 2)))\n",
        "    model.add(Dropout(dropout))\n",
        "\n",
        "    model.add(Flatten())\n",
        "    model.add(Dense(512))\n",
        "    model.add(Activation('relu'))\n",
        "    model.add(Dropout(dropout))\n",
        "    model.add(Dense(2))\n",
        "    model.add(Activation('softmax'))\n",
        "\n",
        "    # initiate RMSprop optimizer\n",
        "    opt = keras.optimizers.RMSprop(lr=0.0001, decay=1e-6)\n",
        "\n",
        "    # Let's train the model using RMSprop\n",
        "    model.compile(loss='categorical_crossentropy',\n",
        "                  optimizer=opt,\n",
        "                  metrics=['accuracy'])\n",
        "    return model\n",
        "  return KerasClassifier(build_fn=create_model, epochs=num_epochs, batch_size=10, verbose=2)\n",
        "\n",
        "def plot_acc(history, ax = None, xlabel = 'Epoch #'):\n",
        "    history = history.history\n",
        "    history.update({'epoch':list(range(len(history['val_accuracy'])))})\n",
        "    history = pd.DataFrame.from_dict(history)\n",
        "\n",
        "    best_epoch = history.sort_values(by = 'val_accuracy', ascending = False).iloc[0]['epoch']\n",
        "\n",
        "    if not ax:\n",
        "      f, ax = plt.subplots(1,1)\n",
        "    sns.lineplot(x = 'epoch', y = 'val_accuracy', data = history, label = 'Validation', ax = ax)\n",
        "    sns.lineplot(x = 'epoch', y = 'accuracy', data = history, label = 'Training', ax = ax)\n",
        "    ax.axhline(0.5, linestyle = '--',color='red', label = 'Chance')\n",
        "    ax.axvline(x = best_epoch, linestyle = '--', color = 'green', label = 'Best Epoch')  \n",
        "    ax.legend(loc = 1)    \n",
        "    ax.set_ylim([0.4, 1])\n",
        "\n",
        "    ax.set_xlabel(xlabel)\n",
        "    ax.set_ylabel('Accuracy (Fraction)')\n",
        "    \n",
        "    plt.show()\n",
        "    \n",
        "def model_to_string(model):\n",
        "    import re\n",
        "    stringlist = []\n",
        "    model.summary(print_fn=lambda x: stringlist.append(x))\n",
        "    sms = \"\\n\".join(stringlist)\n",
        "    sms = re.sub('_\\d\\d\\d','', sms)\n",
        "    sms = re.sub('_\\d\\d','', sms)\n",
        "    sms = re.sub('_\\d','', sms)  \n",
        "    return sms"
      ],
      "execution_count": null,
      "outputs": []
    },
    {
      "cell_type": "markdown",
      "metadata": {
        "id": "1QxGsnvhnn8R"
      },
      "source": [
        "## Exploring CNN parameters."
      ]
    },
    {
      "cell_type": "markdown",
      "metadata": {
        "id": "btr24O6Hqgo6"
      },
      "source": [
        "Once again, let's load in our dog/road dataset and create our training and test set.\n"
      ]
    },
    {
      "cell_type": "code",
      "metadata": {
        "id": "MmZbrZoKnthN"
      },
      "source": [
        "# load our data\n",
        "data, labels = load_data()\n",
        "data = data.astype(float)\n",
        "labels = categorical_to_numpy(labels)\n",
        "inputs_train, inputs_test, labels_train, labels_test = model_selection.train_test_split(data, labels, test_size=0.2, random_state=1)"
      ],
      "execution_count": null,
      "outputs": []
    },
    {
      "cell_type": "markdown",
      "metadata": {
        "id": "37O_VE_D1Bdy"
      },
      "source": [
        "## Models for vision: Convolutional Neural Networks"
      ]
    },
    {
      "cell_type": "markdown",
      "metadata": {
        "id": "GqrfI4JiVeFr"
      },
      "source": [
        "###Exercise: Exploring Hyperparameters ✍️\n",
        "\n",
        "As you know, there is a famous type of neural network known as convolutional neural networks (CNNs). These types of neural networks work particularly well on problems to do with computer vision. Let's try one out!\n",
        "\n",
        "To load up a simple CNN on scikit-learn, just run:\n",
        "\n",
        "`cnn = CNNClassifier(num_epochs=E, layers=L, dropout=D)`\n",
        "\n",
        "Work with your instructors to review what each parameter means and how it affects the model! The dropout represents how many weights we set to 0 during training time, which can help prevent overfitting.\n",
        "\n",
        "**Try different values of num_epochs, layers, and dropout so that you get the best possible accuracy on the test set using `model.score()`**!"
      ]
    },
    {
      "cell_type": "code",
      "metadata": {
        "id": "bmC3-T4KRJgW",
        "colab": {
          "base_uri": "https://localhost:8080/"
        },
        "outputId": "2e503b77-66da-4b5e-9bb6-527572ab149c"
      },
      "source": [
        "cnn = CNNClassifier(5, 2, 0.4)\n",
        "cnn.fit(inputs_train, labels_train)\n",
        "preds = cnn.predict(inputs_test)\n",
        "print(cnn.score(inputs_test, labels_test))"
      ],
      "execution_count": null,
      "outputs": [
        {
          "output_type": "stream",
          "text": [
            "Epoch 1/5\n",
            "96/96 - 1s - loss: 3.7438 - accuracy: 0.6510\n",
            "Epoch 2/5\n",
            "96/96 - 0s - loss: 0.5485 - accuracy: 0.8469\n",
            "Epoch 3/5\n",
            "96/96 - 0s - loss: 0.3655 - accuracy: 0.8521\n",
            "Epoch 4/5\n",
            "96/96 - 0s - loss: 0.2521 - accuracy: 0.9000\n",
            "Epoch 5/5\n",
            "96/96 - 0s - loss: 0.2352 - accuracy: 0.9177\n",
            "24/24 - 0s\n"
          ],
          "name": "stdout"
        },
        {
          "output_type": "stream",
          "text": [
            "/usr/local/lib/python3.6/dist-packages/tensorflow/python/keras/engine/sequential.py:450: UserWarning: `model.predict_classes()` is deprecated and will be removed after 2021-01-01. Please use instead:* `np.argmax(model.predict(x), axis=-1)`,   if your model does multi-class classification   (e.g. if it uses a `softmax` last-layer activation).* `(model.predict(x) > 0.5).astype(\"int32\")`,   if your model does binary classification   (e.g. if it uses a `sigmoid` last-layer activation).\n",
            "  warnings.warn('`model.predict_classes()` is deprecated and '\n"
          ],
          "name": "stderr"
        },
        {
          "output_type": "stream",
          "text": [
            "24/24 - 0s - loss: 0.2088 - accuracy: 0.9292\n",
            "0.9291666746139526\n"
          ],
          "name": "stdout"
        }
      ]
    },
    {
      "cell_type": "markdown",
      "metadata": {
        "id": "KGWpgsVXP1ut"
      },
      "source": [
        "**How well did your neural network perform?** \n",
        "\n",
        "CNNs typically perform better than fully-connected neural networks on vision problems, but, as before, they aren't always consistent. They are also sensitive to a number of parameters. "
      ]
    },
    {
      "cell_type": "markdown",
      "metadata": {
        "id": "c-XRh5Y5P_CL"
      },
      "source": [
        "## Training and Validation Curves\n",
        "\n",
        "An important aspect of training neural networks is to prevent overfitting. **How would we recognize overfitting?**\n",
        "\n",
        "In the first line of code below, we first **fit** the model on the training data and pass in some validation (or test) data to evaluate it. We call it the **history** because we want to retain information about the accuracy at each epoch.\n",
        "\n",
        "In the second line we plot the history so that we can compare the training and validation accuracies.  \n",
        "\n",
        "```\n",
        "history = model.fit(inputs_train, labels_train, validation_data=(inputs_test, labels_test))\n",
        "plot_acc(history)\n",
        "```\n",
        "\n"
      ]
    },
    {
      "cell_type": "markdown",
      "metadata": {
        "id": "8eaFvE2PQEFe"
      },
      "source": [
        "###Exercise 3 ✍️\n",
        "\n",
        "Plot a train vs. validation curve for our CNN model. \n",
        "\n",
        "**After how many epochs does the model begin to overfit? How does this vary as you vary the number of hidden layers and dropout?** Overfitting occurs when the validation accuracy starts to drop below the training accuracy."
      ]
    },
    {
      "cell_type": "code",
      "metadata": {
        "id": "OsVAasDbjARJ",
        "colab": {
          "base_uri": "https://localhost:8080/",
          "height": 487
        },
        "outputId": "2e68fb1e-43bc-4667-c98f-01ff2a33b02a"
      },
      "source": [
        "### YOUR CODE HERE\n",
        "cnn = CNNClassifier(6, 3, 0.5)\n",
        "history = cnn.fit(inputs_train, labels_train, validation_data=(inputs_test, labels_test))\n",
        "plot_acc(history)\n",
        "### END CODE"
      ],
      "execution_count": null,
      "outputs": [
        {
          "output_type": "stream",
          "text": [
            "Epoch 1/6\n",
            "96/96 - 2s - loss: 4.2576 - accuracy: 0.6177 - val_loss: 0.2978 - val_accuracy: 0.8875\n",
            "Epoch 2/6\n",
            "96/96 - 0s - loss: 0.6985 - accuracy: 0.7802 - val_loss: 0.2309 - val_accuracy: 0.9167\n",
            "Epoch 3/6\n",
            "96/96 - 0s - loss: 0.3827 - accuracy: 0.8396 - val_loss: 0.2095 - val_accuracy: 0.9250\n",
            "Epoch 4/6\n",
            "96/96 - 0s - loss: 0.3300 - accuracy: 0.8792 - val_loss: 0.1898 - val_accuracy: 0.9500\n",
            "Epoch 5/6\n",
            "96/96 - 0s - loss: 0.2673 - accuracy: 0.9021 - val_loss: 0.1676 - val_accuracy: 0.9458\n",
            "Epoch 6/6\n",
            "96/96 - 0s - loss: 0.2327 - accuracy: 0.9156 - val_loss: 0.1598 - val_accuracy: 0.9542\n"
          ],
          "name": "stdout"
        },
        {
          "output_type": "display_data",
          "data": {
            "image/png": "[encoded data removed]",
            "text/plain": [
              "<Figure size 432x288 with 1 Axes>"
            ]
          },
          "metadata": {
            "tags": [],
            "needs_background": "light"
          }
        }
      ]
    },
    {
      "cell_type": "markdown",
      "metadata": {
        "id": "76z4NAY6afd7"
      },
      "source": [
        "## Building Neural Networks from Scratch in Keras (Advanced)\n",
        "\n",
        "So far, we've used helper functions which pre-build Keras neural network models. Now, we will build them on our own!\n",
        "\n"
      ]
    },
    {
      "cell_type": "markdown",
      "metadata": {
        "id": "781M4IyhssuA"
      },
      "source": [
        "Let's walk though how to do this:\n",
        "\n",
        "**1. Specify model**\n",
        "\n",
        "```\n",
        "model = Sequential()\n",
        "```\n",
        "In this line of code, we build our network where the information flows from LEFT to RIGHT through the network in ONE DIRECTION as opposed to multiple directions. Neurons on the right never pass informations to neurons on the left of it. \n",
        "\n",
        "\n",
        "**2. Add layers to the network**\n",
        "```\n",
        "model.add(Dense(4,input_shape = (3,), activation = 'sigmoid'))\n",
        "```\n",
        "In this code, we `add` a `layer` of neurons to our network. \n",
        "\n",
        "This layers consists of 4 neurons. Each neuron is DENSE and connects to all of the previous layer's inputs and all of the subsequent layers outputs. We specify that there are 3 inputs here.\n",
        "\n",
        "We also specify what kind of output the neuron will give. If you want the neuron to output a number between 0 and 1 (like a probability!) you would use 'softmax' or 'sigmoid'. If you want the neuron to output any number, you can use 'linear'! You'll also often see 'relu', which is when a neuron will only output positive numbers. \n",
        "\n",
        "```\n",
        "model.add(Dense(1, activation = 'linear'))\n",
        "```\n",
        "This code adds ANOTHER layer to the network that has 1 neuron. This one neuron is used to predict a continuous value!\n",
        "\n",
        "**3. Turn the model on by compiling it** \n",
        "\n",
        "After having built the network, we want to train and use it, so we have to 'compile' it to prepare. We have to specify at the very least: a loss (how the model measures the quality of its weights), an optimizer (which adjusts the weights), and a metric (how to evaluate our results). Here are some common choices:\n",
        "```\n",
        "model.compile(loss='mean_squared_error',\n",
        "optimizer = 'adam',\n",
        "metrics = ['mean_squared_error'])\n",
        "  ```"
      ]
    },
    {
      "cell_type": "markdown",
      "metadata": {
        "id": "toYjQUOVtKDT"
      },
      "source": [
        "Once we've created our network, we can use it very simply! Just like we did with sklearn, we define our input data (x), the true predictions from that data (y), and then train our model with `fit`. \n",
        "\n",
        "```\n",
        "model.fit(x, y)\n",
        "```\n"
      ]
    },
    {
      "cell_type": "markdown",
      "metadata": {
        "id": "-aozkfBxtWa7"
      },
      "source": [
        "To use the model, you can use it to predict something with:\n",
        "```\n",
        "y = model.predict_classes(x)\n",
        "```\n",
        "\n",
        "You can actually use the model before you even train it! It just won't perform very well. "
      ]
    },
    {
      "cell_type": "markdown",
      "metadata": {
        "id": "jdngkAX_aCVu"
      },
      "source": [
        "###Exercise 4 ✍️\n",
        "\n"
      ]
    },
    {
      "cell_type": "markdown",
      "metadata": {
        "id": "Bj-Pt3wGCXRu"
      },
      "source": [
        "\n",
        "We're going to build this model: \n",
        "\n",
        "![](http://cs231n.github.io/assets/nn1/neural_net.jpeg)"
      ]
    },
    {
      "cell_type": "markdown",
      "metadata": {
        "id": "H-6WGeedvTCS"
      },
      "source": [
        "This network can be described as: \n",
        "* Input Layer: 3\n",
        "* Layer 1 (Hidden): 4 neurons that are activated by `'relu'`\n",
        "* Layer 2 (Output): 2 neurons that are activated by `'softmax'`\n",
        "\n",
        "\n",
        "We also want to compile the model with\n",
        "`loss = 'categorical_crossentropy'`"
      ]
    },
    {
      "cell_type": "code",
      "metadata": {
        "id": "dp-g9qotbRPU"
      },
      "source": [
        "# Fill in the blanks with your group!\n",
        "### YOUR CODE HERE:\n",
        "model = Sequential()\n",
        "model.add(Dense(4, input_shape=(32*32*3,), activation='relu' ))\n",
        "model.add(Dense(2, activation='softmax'))\n",
        "model.compile(loss=\"categorical_crossentropy\",\n",
        "              optimizer=\"adam\",\n",
        "              metrics=[\"mean_squared_error\"])\n",
        "### END CODE"
      ],
      "execution_count": null,
      "outputs": []
    },
    {
      "cell_type": "code",
      "metadata": {
        "colab": {
          "base_uri": "https://localhost:8080/"
        },
        "id": "43Ku4C6CAMhH",
        "outputId": "c68d1d11-b867-433d-f85c-c31a14d8a06a"
      },
      "source": [
        "model.fit(inputs_train, labels_train)\n",
        "pred = model.predict(inputs_test[[0]])"
      ],
      "execution_count": null,
      "outputs": [
        {
          "output_type": "stream",
          "text": [
            "30/30 [==============================] - 0s 2ms/step - loss: 6.2165 - mean_squared_error: 0.3127\n"
          ],
          "name": "stdout"
        }
      ]
    },
    {
      "cell_type": "markdown",
      "metadata": {
        "id": "YovNRgfuy0Oq"
      },
      "source": [
        "###Exercise 5 ✍️\n",
        "\n",
        "![](http://cs231n.github.io/assets/nn1/neural_net2.jpeg)\n",
        "\n",
        "* Input Layer: 3 Neurons\n",
        "\n",
        "* Layer 1: 4 neurons that are activated by '`relu' `and take in 3 inputs.\n",
        "\n",
        "* Layer 2: 4 neurons that are activated by `'relu'`\n",
        "\n",
        "* Layer 3 (out): 1 neurons that is activated by `'sigmoid'`\n",
        "\n",
        "Compile the model with\n",
        "`loss = 'binary_crossentropy'`"
      ]
    },
    {
      "cell_type": "code",
      "metadata": {
        "id": "pm-ylEWqbXrQ"
      },
      "source": [
        "### YOUR CODE HERE\n",
        "model = Sequential()\n",
        "model.add(Dense(4, input_shape=(3,), activation='relu' ))\n",
        "model.add(Dense(4, activation='relu' ))\n",
        "model.add(Dense(2, activation='sigmoid'))\n",
        "model.compile(loss=\"binary_crossentropy\",\n",
        "              optimizer=\"adam\",\n",
        "              metrics=[\"mean_squared_error\"])\n",
        "### END CODE"
      ],
      "execution_count": null,
      "outputs": []
    },
    {
      "cell_type": "markdown",
      "metadata": {
        "id": "QCbD6siv-Ip-"
      },
      "source": [
        "###Exercise 6 ✍️\n",
        "\n",
        "Now that we know how to build simple neural networks in Keras, let's build a CNN that will perform well on our data set of car and road images. \n",
        "\n",
        "Below is Keras code for a CNN. It will run as-is on the conscientious cars dataset. However, the performance is suboptimal. Add more layers and change the neural network hyperparameters so that the performance will be better. **Can you get the train and validation accuracy to both be higher than 90%?**\n",
        "\n",
        "The Keras core layer API may be a useful reference: https://keras.io/layers/core/ \n",
        "\n",
        "In particular and in addition to adding more of the existing convolutional layers and activations, consider using the following layers after a convolution + activation:\n",
        "\n",
        "`Dropout(N)`\n",
        "\n",
        "`MaxPooling2D(pool_size=(N, N))`\n"
      ]
    },
    {
      "cell_type": "code",
      "metadata": {
        "id": "LFVHyPKn-V4N",
        "colab": {
          "base_uri": "https://localhost:8080/",
          "height": 1000
        },
        "outputId": "ddc26238-6d82-4b5d-9d2a-d0a632f8bdf6"
      },
      "source": [
        "##### YOUR CODE HERE\n",
        "\n",
        "model = Sequential()\n",
        "model.add(Reshape((32, 32, 3)))  # it was a flattened vector. this brings it back to 32 * 32 * 3\n",
        "\n",
        "model.add(Conv2D(32, (3, 3), padding='same'))  # 32 3*3 kernels\n",
        "model.add(Activation('relu'))\n",
        "model.add(MaxPooling2D(pool_size=(2, 2)))\n",
        "model.add(Dropout(0.5))\n",
        "\n",
        "model.add(Conv2D(32, (3, 3), padding='same'))\n",
        "model.add(Activation('relu'))\n",
        "model.add(Conv2D(32, (3, 3), padding='same'))\n",
        "model.add(Activation('relu'))\n",
        "model.add(Conv2D(32, (3, 3), padding='same'))\n",
        "model.add(Activation('relu'))\n",
        "model.add(Conv2D(32, (3, 3), padding='same'))\n",
        "model.add(Activation('relu'))\n",
        "model.add(MaxPooling2D(pool_size=(2, 2)))\n",
        "\n",
        "model.add(Flatten())\n",
        "model.add(Dense(512))\n",
        "model.add(Activation('relu'))\n",
        "model.add(Dense(2))\n",
        "model.add(Activation('softmax'))\n",
        "\n",
        "# initiate RMSprop optimizer\n",
        "opt = keras.optimizers.RMSprop(lr=0.0001, decay=1e-6)\n",
        "\n",
        "# Let's train the model using RMSprop\n",
        "model.compile(loss='categorical_crossentropy',\n",
        "              optimizer=opt,\n",
        "              metrics=['accuracy'])\n",
        "\n",
        "# Train the CNN and plot accuracy.\n",
        "history = model.fit(inputs_train, labels_train,\n",
        "                    validation_data=(inputs_test, labels_test),\n",
        "                    epochs=30)\n",
        "plot_acc(history)"
      ],
      "execution_count": null,
      "outputs": [
        {
          "output_type": "stream",
          "text": [
            "Epoch 1/30\n",
            "30/30 [==============================] - 1s 20ms/step - loss: 9.8758 - accuracy: 0.5502 - val_loss: 1.3583 - val_accuracy: 0.5958\n",
            "Epoch 2/30\n",
            "30/30 [==============================] - 0s 7ms/step - loss: 2.4548 - accuracy: 0.6457 - val_loss: 1.8675 - val_accuracy: 0.5167\n",
            "Epoch 3/30\n",
            "30/30 [==============================] - 0s 7ms/step - loss: 1.6138 - accuracy: 0.7003 - val_loss: 1.6986 - val_accuracy: 0.5250\n",
            "Epoch 4/30\n",
            "30/30 [==============================] - 0s 6ms/step - loss: 1.0090 - accuracy: 0.7608 - val_loss: 1.2479 - val_accuracy: 0.5750\n",
            "Epoch 5/30\n",
            "30/30 [==============================] - 0s 6ms/step - loss: 0.8700 - accuracy: 0.7676 - val_loss: 1.4404 - val_accuracy: 0.5417\n",
            "Epoch 6/30\n",
            "30/30 [==============================] - 0s 6ms/step - loss: 0.6895 - accuracy: 0.8013 - val_loss: 2.1393 - val_accuracy: 0.4833\n",
            "Epoch 7/30\n",
            "30/30 [==============================] - 0s 6ms/step - loss: 0.8728 - accuracy: 0.7480 - val_loss: 0.4170 - val_accuracy: 0.7875\n",
            "Epoch 8/30\n",
            "30/30 [==============================] - 0s 6ms/step - loss: 0.5923 - accuracy: 0.7996 - val_loss: 0.8090 - val_accuracy: 0.6375\n",
            "Epoch 9/30\n",
            "30/30 [==============================] - 0s 6ms/step - loss: 0.4649 - accuracy: 0.8340 - val_loss: 1.0041 - val_accuracy: 0.5708\n",
            "Epoch 10/30\n",
            "30/30 [==============================] - 0s 6ms/step - loss: 0.4231 - accuracy: 0.8273 - val_loss: 0.4291 - val_accuracy: 0.7792\n",
            "Epoch 11/30\n",
            "30/30 [==============================] - 0s 6ms/step - loss: 0.3215 - accuracy: 0.8750 - val_loss: 0.7819 - val_accuracy: 0.6250\n",
            "Epoch 12/30\n",
            "30/30 [==============================] - 0s 6ms/step - loss: 0.3191 - accuracy: 0.8834 - val_loss: 0.5472 - val_accuracy: 0.7250\n",
            "Epoch 13/30\n",
            "30/30 [==============================] - 0s 6ms/step - loss: 0.3231 - accuracy: 0.8839 - val_loss: 0.3575 - val_accuracy: 0.8292\n",
            "Epoch 14/30\n",
            "30/30 [==============================] - 0s 6ms/step - loss: 0.3087 - accuracy: 0.8673 - val_loss: 0.3353 - val_accuracy: 0.8583\n",
            "Epoch 15/30\n",
            "30/30 [==============================] - 0s 6ms/step - loss: 0.3495 - accuracy: 0.8778 - val_loss: 0.2079 - val_accuracy: 0.9292\n",
            "Epoch 16/30\n",
            "30/30 [==============================] - 0s 6ms/step - loss: 0.2183 - accuracy: 0.9243 - val_loss: 0.1988 - val_accuracy: 0.9250\n",
            "Epoch 17/30\n",
            "30/30 [==============================] - 0s 6ms/step - loss: 0.1923 - accuracy: 0.9130 - val_loss: 0.2424 - val_accuracy: 0.8958\n",
            "Epoch 18/30\n",
            "30/30 [==============================] - 0s 6ms/step - loss: 0.1986 - accuracy: 0.9260 - val_loss: 0.2072 - val_accuracy: 0.9042\n",
            "Epoch 19/30\n",
            "30/30 [==============================] - 0s 6ms/step - loss: 0.2151 - accuracy: 0.9146 - val_loss: 0.1584 - val_accuracy: 0.9542\n",
            "Epoch 20/30\n",
            "30/30 [==============================] - 0s 6ms/step - loss: 0.1882 - accuracy: 0.9321 - val_loss: 0.2725 - val_accuracy: 0.8667\n",
            "Epoch 21/30\n",
            "30/30 [==============================] - 0s 6ms/step - loss: 0.1421 - accuracy: 0.9522 - val_loss: 0.2113 - val_accuracy: 0.8958\n",
            "Epoch 22/30\n",
            "30/30 [==============================] - 0s 6ms/step - loss: 0.1703 - accuracy: 0.9405 - val_loss: 0.1629 - val_accuracy: 0.9542\n",
            "Epoch 23/30\n",
            "30/30 [==============================] - 0s 6ms/step - loss: 0.1795 - accuracy: 0.9405 - val_loss: 0.1182 - val_accuracy: 0.9542\n",
            "Epoch 24/30\n",
            "30/30 [==============================] - 0s 6ms/step - loss: 0.1584 - accuracy: 0.9444 - val_loss: 0.1597 - val_accuracy: 0.9417\n",
            "Epoch 25/30\n",
            "30/30 [==============================] - 0s 6ms/step - loss: 0.1578 - accuracy: 0.9444 - val_loss: 0.1874 - val_accuracy: 0.9375\n",
            "Epoch 26/30\n",
            "30/30 [==============================] - 0s 6ms/step - loss: 0.1118 - accuracy: 0.9608 - val_loss: 0.1378 - val_accuracy: 0.9542\n",
            "Epoch 27/30\n",
            "30/30 [==============================] - 0s 6ms/step - loss: 0.1530 - accuracy: 0.9456 - val_loss: 0.1131 - val_accuracy: 0.9708\n",
            "Epoch 28/30\n",
            "30/30 [==============================] - 0s 6ms/step - loss: 0.1417 - accuracy: 0.9447 - val_loss: 0.1369 - val_accuracy: 0.9583\n",
            "Epoch 29/30\n",
            "30/30 [==============================] - 0s 6ms/step - loss: 0.1351 - accuracy: 0.9447 - val_loss: 0.1002 - val_accuracy: 0.9750\n",
            "Epoch 30/30\n",
            "30/30 [==============================] - 0s 6ms/step - loss: 0.1296 - accuracy: 0.9599 - val_loss: 0.1231 - val_accuracy: 0.9625\n"
          ],
          "name": "stdout"
        },
        {
          "output_type": "display_data",
          "data": {
            "image/png": "[encoded data removed]",
            "text/plain": [
              "<Figure size 432x288 with 1 Axes>"
            ]
          },
          "metadata": {
            "tags": [],
            "needs_background": "light"
          }
        }
      ]
    },
    {
      "cell_type": "markdown",
      "metadata": {
        "id": "dElLMRF2jxnV"
      },
      "source": [
        "Instructor Notes:\n",
        "\n",
        "Depending on how the students define their model, the validation accuracy may be significantly higher than the training accuracy at some epochs. This can be attributed to (1) the fact that Keras turns off regularization (like dropout) during test time and (2) that Keras reports the validation accuracy at the end of each epoch, but reports the average training accuracy over all the batches in each epoch -- this may be especially significant in the first epoch.\n",
        "\n",
        "See [Keras FAQ](https://keras.io/getting_started/faq/#why-is-my-training-loss-much-higher-than-my-testing-loss) for more\n"
      ]
    },
    {
      "cell_type": "markdown",
      "metadata": {
        "id": "9JFLu0CdXM6K"
      },
      "source": [
        "**What interesting observations** do you make from the graph? How many epochs should you train for?\n",
        "\n",
        "We can also print out the structure of our model. What do the parts of the summary mean?"
      ]
    },
    {
      "cell_type": "code",
      "metadata": {
        "id": "RGwXs3C8YZl-",
        "colab": {
          "base_uri": "https://localhost:8080/"
        },
        "outputId": "a485f435-ea20-424f-83aa-969cd9f4a44f"
      },
      "source": [
        "model.summary()"
      ],
      "execution_count": null,
      "outputs": [
        {
          "output_type": "stream",
          "text": [
            "Model: \"sequential_29\"\n",
            "_________________________________________________________________\n",
            "Layer (type)                 Output Shape              Param #   \n",
            "=================================================================\n",
            "reshape_19 (Reshape)         (None, 32, 32, 3)         0         \n",
            "_________________________________________________________________\n",
            "conv2d_111 (Conv2D)          (None, 32, 32, 32)        896       \n",
            "_________________________________________________________________\n",
            "activation_147 (Activation)  (None, 32, 32, 32)        0         \n",
            "_________________________________________________________________\n",
            "max_pooling2d_36 (MaxPooling (None, 16, 16, 32)        0         \n",
            "_________________________________________________________________\n",
            "dropout_46 (Dropout)         (None, 16, 16, 32)        0         \n",
            "_________________________________________________________________\n",
            "conv2d_112 (Conv2D)          (None, 16, 16, 32)        9248      \n",
            "_________________________________________________________________\n",
            "activation_148 (Activation)  (None, 16, 16, 32)        0         \n",
            "_________________________________________________________________\n",
            "conv2d_113 (Conv2D)          (None, 16, 16, 32)        9248      \n",
            "_________________________________________________________________\n",
            "activation_149 (Activation)  (None, 16, 16, 32)        0         \n",
            "_________________________________________________________________\n",
            "conv2d_114 (Conv2D)          (None, 16, 16, 32)        9248      \n",
            "_________________________________________________________________\n",
            "activation_150 (Activation)  (None, 16, 16, 32)        0         \n",
            "_________________________________________________________________\n",
            "conv2d_115 (Conv2D)          (None, 16, 16, 32)        9248      \n",
            "_________________________________________________________________\n",
            "activation_151 (Activation)  (None, 16, 16, 32)        0         \n",
            "_________________________________________________________________\n",
            "max_pooling2d_37 (MaxPooling (None, 8, 8, 32)          0         \n",
            "_________________________________________________________________\n",
            "dropout_47 (Dropout)         (None, 8, 8, 32)          0         \n",
            "_________________________________________________________________\n",
            "flatten_18 (Flatten)         (None, 2048)              0         \n",
            "_________________________________________________________________\n",
            "dense_59 (Dense)             (None, 512)               1049088   \n",
            "_________________________________________________________________\n",
            "activation_152 (Activation)  (None, 512)               0         \n",
            "_________________________________________________________________\n",
            "dense_60 (Dense)             (None, 2)                 1026      \n",
            "_________________________________________________________________\n",
            "activation_153 (Activation)  (None, 2)                 0         \n",
            "=================================================================\n",
            "Total params: 1,088,002\n",
            "Trainable params: 1,088,002\n",
            "Non-trainable params: 0\n",
            "_________________________________________________________________\n"
          ],
          "name": "stdout"
        }
      ]
    },
    {
      "cell_type": "markdown",
      "metadata": {
        "id": "YXINPAJvRr9W"
      },
      "source": [
        "#Advanced: Cats vs. Dogs \n",
        "So far, we've trained a CNN to distinguish between small images of cats and small images of dogs. It's more challenging and time-consuming to train CNNs for bigger images or harder tasks, like distinguishing dogs from cats (which look a lot more like dogs than roads do!)\n",
        "\n",
        "In this exercise, you'll adapt your previous model to classify large images of dogs vs. cats, and then try implementing a famous CNN architecture. Along the way, you'll deal with some of the debugging that machine learning engineers often have to handle."
      ]
    },
    {
      "cell_type": "code",
      "metadata": {
        "id": "6gU39z3jNMAt",
        "colab": {
          "base_uri": "https://localhost:8080/"
        },
        "outputId": "0b4ff3d4-5946-499a-c67d-a537fe7144a1"
      },
      "source": [
        "# Run this to load cat and dog data.\n",
        "\n",
        "#Code here from https://colab.research.google.com/github/google/eng-edu/blob/master/ml/pc/exercises/image_classification_part1.ipynb#scrollTo=4PIP1rkmeAYS\n",
        "\n",
        "import tensorflow as tf\n",
        "import os \n",
        "from tensorflow.keras.preprocessing.image import ImageDataGenerator\n",
        "from google.colab.patches import cv2_imshow\n",
        "import cv2\n",
        "import matplotlib.pyplot as plt\n",
        "\n",
        "try:\n",
        "  road_model = model\n",
        "  road_saved = True\n",
        "except NameError:\n",
        "  road_saved = False\n",
        "\n",
        "IMG_SHAPE  = 150  # Our training data consists of images with width of 150 pixels and height of 150 pixels\n",
        "_URL = 'https://storage.googleapis.com/mledu-datasets/cats_and_dogs_filtered.zip'\n",
        "zip_dir = tf.keras.utils.get_file('cats_and_dogs_filterted.zip', origin=_URL, extract=True)\n",
        "base_dir = os.path.join(os.path.dirname(zip_dir), 'cats_and_dogs_filtered')\n",
        "train_dir = os.path.join(base_dir, 'train')\n",
        "validation_dir = os.path.join(base_dir, 'validation')\n",
        "\n",
        "train_cats_dir = os.path.join(train_dir, 'cats')  # directory with our training cat pictures\n",
        "train_dogs_dir = os.path.join(train_dir, 'dogs')  # directory with our training dog pictures\n",
        "validation_cats_dir = os.path.join(validation_dir, 'cats')  # directory with our validation cat pictures\n",
        "validation_dogs_dir = os.path.join(validation_dir, 'dogs')  # directory with our validation dog pictures\n",
        "train_image_generator      = ImageDataGenerator()  # Generator for our training data\n",
        "validation_image_generator = ImageDataGenerator()  # Generator for our validation data\n",
        "train_data = train_image_generator.flow_from_directory(batch_size=2000,\n",
        "                                                           directory=train_dir,\n",
        "                                                           shuffle=True,\n",
        "                                                           target_size=(IMG_SHAPE,IMG_SHAPE), #(150,150)\n",
        "                                                           class_mode='binary').next()\n",
        "val_data = validation_image_generator.flow_from_directory(batch_size=1000,\n",
        "                                                              directory=validation_dir,\n",
        "                                                              shuffle=False,\n",
        "                                                              target_size=(IMG_SHAPE,IMG_SHAPE), #(150,150)\n",
        "\n",
        "                                                              class_mode='binary').next()\n",
        "cd_train_inputs, cd_train_labels = train_data\n",
        "cd_test_inputs, cd_test_labels = val_data"
      ],
      "execution_count": null,
      "outputs": [
        {
          "output_type": "stream",
          "text": [
            "Found 2000 images belonging to 2 classes.\n",
            "Found 1000 images belonging to 2 classes.\n"
          ],
          "name": "stdout"
        }
      ]
    },
    {
      "cell_type": "markdown",
      "metadata": {
        "id": "1y5etOJwScaG"
      },
      "source": [
        "**Run the code below to see the dimensions of our training and validation data. What does each number mean? What is different than our previous dataset?** "
      ]
    },
    {
      "cell_type": "code",
      "metadata": {
        "id": "kjdedJ0VNvWg",
        "colab": {
          "base_uri": "https://localhost:8080/"
        },
        "outputId": "4951b6a7-71a9-4d92-8b14-dda90b4de37e"
      },
      "source": [
        "print (cd_train_inputs.shape) \n",
        "print (cd_train_labels.shape) \n",
        "print (cd_test_inputs.shape) \n",
        "print (cd_test_labels.shape) "
      ],
      "execution_count": null,
      "outputs": [
        {
          "output_type": "stream",
          "text": [
            "(2000, 150, 150, 3)\n",
            "(2000,)\n",
            "(1000, 150, 150, 3)\n",
            "(1000,)\n"
          ],
          "name": "stdout"
        }
      ]
    },
    {
      "cell_type": "markdown",
      "metadata": {
        "id": "qIAkgOqWTAL7"
      },
      "source": [
        "**Run this code to see a random image from our training data (different each time).**"
      ]
    },
    {
      "cell_type": "code",
      "metadata": {
        "id": "HooiJ-RrQPcA",
        "colab": {
          "base_uri": "https://localhost:8080/",
          "height": 215
        },
        "outputId": "173694e3-2642-4644-c0a3-a3eafea7416d"
      },
      "source": [
        "index = np.random.randint(len(cd_train_inputs))\n",
        "plt.imshow(cd_train_inputs[index]/255)\n",
        "plt.show()\n",
        "print(\"Label:\",cd_train_labels[index])"
      ],
      "execution_count": null,
      "outputs": [
        {
          "output_type": "error",
          "ename": "NameError",
          "evalue": "ignored",
          "traceback": [
            "\u001b[0;31m---------------------------------------------------------------------------\u001b[0m",
            "\u001b[0;31mNameError\u001b[0m                                 Traceback (most recent call last)",
            "\u001b[0;32m<ipython-input-1-4344b225c57d>\u001b[0m in \u001b[0;36m<module>\u001b[0;34m()\u001b[0m\n\u001b[0;32m----> 1\u001b[0;31m \u001b[0mindex\u001b[0m \u001b[0;34m=\u001b[0m \u001b[0mnp\u001b[0m\u001b[0;34m.\u001b[0m\u001b[0mrandom\u001b[0m\u001b[0;34m.\u001b[0m\u001b[0mrandint\u001b[0m\u001b[0;34m(\u001b[0m\u001b[0mlen\u001b[0m\u001b[0;34m(\u001b[0m\u001b[0mcd_train_inputs\u001b[0m\u001b[0;34m)\u001b[0m\u001b[0;34m)\u001b[0m\u001b[0;34m\u001b[0m\u001b[0;34m\u001b[0m\u001b[0m\n\u001b[0m\u001b[1;32m      2\u001b[0m \u001b[0mplt\u001b[0m\u001b[0;34m.\u001b[0m\u001b[0mimshow\u001b[0m\u001b[0;34m(\u001b[0m\u001b[0mcd_train_inputs\u001b[0m\u001b[0;34m[\u001b[0m\u001b[0mindex\u001b[0m\u001b[0;34m]\u001b[0m\u001b[0;34m/\u001b[0m\u001b[0;36m255\u001b[0m\u001b[0;34m)\u001b[0m\u001b[0;34m\u001b[0m\u001b[0;34m\u001b[0m\u001b[0m\n\u001b[1;32m      3\u001b[0m \u001b[0mplt\u001b[0m\u001b[0;34m.\u001b[0m\u001b[0mshow\u001b[0m\u001b[0;34m(\u001b[0m\u001b[0;34m)\u001b[0m\u001b[0;34m\u001b[0m\u001b[0;34m\u001b[0m\u001b[0m\n\u001b[1;32m      4\u001b[0m \u001b[0mprint\u001b[0m\u001b[0;34m(\u001b[0m\u001b[0;34m\"Label:\"\u001b[0m\u001b[0;34m,\u001b[0m\u001b[0mcd_train_labels\u001b[0m\u001b[0;34m[\u001b[0m\u001b[0mindex\u001b[0m\u001b[0;34m]\u001b[0m\u001b[0;34m)\u001b[0m\u001b[0;34m\u001b[0m\u001b[0;34m\u001b[0m\u001b[0m\n",
            "\u001b[0;31mNameError\u001b[0m: name 'np' is not defined"
          ]
        }
      ]
    },
    {
      "cell_type": "markdown",
      "metadata": {
        "id": "HOwP9kX9UshH"
      },
      "source": [
        "**By adapting code from the previous exercise, build, train, and test a CNN to classify cats vs. dogs.**\n",
        "**Hints:**\n",
        "*   Use print(model.summary()) for a useful visualization of your model's architecture. Compare the summary of your cat/road and cat/dog classifiers.\n",
        "*  Substitute the names of the new datasets.\n",
        "*  Get a \"first try\" working by making small adjustments to a previous model before trying to optimize the accuracy. You can temporarily comment out layers as you figure things out.\n",
        "*  The outputs have different shapes betweeen the two datasets. What do you need to change? (You will get an ValueError that suggests how to transform the output to a one-hot encoding.) \n",
        "*  If you run out of memory, restart the notebook and/or use your knowledge of convolution arithmetic to reduce the size of an intermediate output (see [Keras documentation](https://www.tensorflow.org/api_docs/python/tf/keras/layers/Conv2D)).\n",
        "* Dropout layers help reduce overfitting.\n"
      ]
    },
    {
      "cell_type": "code",
      "metadata": {
        "id": "PiFqQ1AgE8xJ"
      },
      "source": [
        "\n",
        "model = Sequential()\n",
        "model.add(Reshape((32, 32, 3)))  # it was a flattened vector. this brings it back to 32 * 32 * 3\n",
        "\n",
        "model.add(Conv2D(32, (3, 3), padding='same'))  # 32 3*3 kernels\n",
        "model.add(Activation('relu'))\n",
        "model.add(MaxPooling2D(pool_size=(2, 2)))\n",
        "model.add(Dropout(0.5))\n",
        "\n",
        "model.add(Conv2D(32, (3, 3), padding='same'))\n",
        "model.add(Activation('relu'))\n",
        "model.add(Conv2D(32, (3, 3), padding='same'))\n",
        "model.add(Activation('relu'))\n",
        "model.add(Conv2D(32, (3, 3), padding='same'))\n",
        "model.add(Activation('relu'))\n",
        "model.add(Conv2D(32, (3, 3), padding='same'))\n",
        "model.add(Activation('relu'))\n",
        "model.add(MaxPooling2D(pool_size=(2, 2)))\n",
        "\n",
        "model.add(Flatten())\n",
        "model.add(Dense(512))\n",
        "model.add(Activation('relu'))\n",
        "model.add(Dense(2))\n",
        "model.add(Activation('softmax'))\n",
        "\n",
        "# initiate RMSprop optimizer\n",
        "opt = keras.optimizers.RMSprop(lr=0.0001, decay=1e-6)\n",
        "\n",
        "# Let's train the model using RMSprop\n",
        "model.compile(loss='categorical_crossentropy',\n",
        "              optimizer=opt,\n",
        "              metrics=['accuracy'])\n",
        "\n",
        "# Train the CNN and plot accuracy.\n",
        "history = model.fit(inputs_train, labels_train,\n",
        "                    validation_data=(inputs_test, labels_test),\n",
        "                    epochs=30)\n",
        "plot_acc(history)"
      ],
      "execution_count": null,
      "outputs": []
    },
    {
      "cell_type": "code",
      "metadata": {
        "id": "JQokdZYuFX6k"
      },
      "source": [
        "from keras.utils import to_categorical\n",
        "\n",
        "cd_train_labels = keras.utils.to_categorical(cd_train_labels)\n",
        "cd_test_labels = keras.utils.to_categorical(cd_test_labels)"
      ],
      "execution_count": null,
      "outputs": []
    },
    {
      "cell_type": "code",
      "metadata": {
        "id": "AeuqlzigZZ8I",
        "colab": {
          "base_uri": "https://localhost:8080/",
          "height": 1000
        },
        "outputId": "48a5ee04-9db8-443c-b2b7-72b76e8df020"
      },
      "source": [
        "model = Sequential()\n",
        "\n",
        "model.add(Conv2D(100, (5, 5), padding='same'))\n",
        "model.add(Activation('relu'))\n",
        "model.add(MaxPooling2D(pool_size=(4, 4)))\n",
        "model.add(Dropout(0.5))\n",
        "\n",
        "model.add(Conv2D(60, (3, 3), padding='same'))\n",
        "model.add(Activation('relu'))\n",
        "model.add(Conv2D(30, (3, 3), padding='same'))\n",
        "model.add(Activation('relu'))\n",
        "model.add(Conv2D(20, (3, 3), padding='same'))\n",
        "model.add(Activation('relu'))\n",
        "model.add(MaxPooling2D(pool_size=(2, 2)))\n",
        "model.add(Dropout(0.5))\n",
        "\n",
        "model.add(Flatten())\n",
        "model.add(Dense(1024))\n",
        "model.add(Activation('relu'))\n",
        "model.add(Dense(2))\n",
        "model.add(Activation('softmax'))\n",
        "\n",
        "opt = keras.optimizers.RMSprop(lr=0.0001, decay=1e-6)\n",
        "\n",
        "model.compile(loss='categorical_crossentropy',\n",
        "              optimizer=opt,\n",
        "              metrics=['accuracy'])\n",
        "\n",
        "history = model.fit(cd_train_inputs, cd_train_labels,\n",
        "                    validation_data=(cd_test_inputs, cd_test_labels),\n",
        "                    epochs=50)\n",
        "plot_acc(history)"
      ],
      "execution_count": null,
      "outputs": [
        {
          "output_type": "stream",
          "text": [
            "Epoch 1/50\n",
            "63/63 [==============================] - 4s 46ms/step - loss: 36.3880 - accuracy: 0.5255 - val_loss: 0.9015 - val_accuracy: 0.5320\n",
            "Epoch 2/50\n",
            "63/63 [==============================] - 3s 40ms/step - loss: 1.9782 - accuracy: 0.4923 - val_loss: 0.6998 - val_accuracy: 0.5180\n",
            "Epoch 3/50\n",
            "63/63 [==============================] - 3s 40ms/step - loss: 0.8521 - accuracy: 0.5311 - val_loss: 0.6874 - val_accuracy: 0.5360\n",
            "Epoch 4/50\n",
            "63/63 [==============================] - 3s 40ms/step - loss: 0.7447 - accuracy: 0.5297 - val_loss: 0.6847 - val_accuracy: 0.5200\n",
            "Epoch 5/50\n",
            "63/63 [==============================] - 3s 40ms/step - loss: 0.6998 - accuracy: 0.5575 - val_loss: 0.6808 - val_accuracy: 0.5410\n",
            "Epoch 6/50\n",
            "63/63 [==============================] - 3s 40ms/step - loss: 0.6884 - accuracy: 0.5366 - val_loss: 0.6824 - val_accuracy: 0.5920\n",
            "Epoch 7/50\n",
            "63/63 [==============================] - 3s 40ms/step - loss: 0.6758 - accuracy: 0.5497 - val_loss: 0.6715 - val_accuracy: 0.5210\n",
            "Epoch 8/50\n",
            "63/63 [==============================] - 3s 41ms/step - loss: 0.6462 - accuracy: 0.5904 - val_loss: 0.6910 - val_accuracy: 0.5390\n",
            "Epoch 9/50\n",
            "63/63 [==============================] - 3s 41ms/step - loss: 0.6614 - accuracy: 0.5658 - val_loss: 0.6789 - val_accuracy: 0.5680\n",
            "Epoch 10/50\n",
            "63/63 [==============================] - 3s 41ms/step - loss: 0.6524 - accuracy: 0.5837 - val_loss: 0.6671 - val_accuracy: 0.5770\n",
            "Epoch 11/50\n",
            "63/63 [==============================] - 3s 41ms/step - loss: 0.6499 - accuracy: 0.5770 - val_loss: 0.6824 - val_accuracy: 0.5700\n",
            "Epoch 12/50\n",
            "63/63 [==============================] - 3s 41ms/step - loss: 0.6414 - accuracy: 0.6262 - val_loss: 0.6588 - val_accuracy: 0.5960\n",
            "Epoch 13/50\n",
            "63/63 [==============================] - 3s 40ms/step - loss: 0.6348 - accuracy: 0.6029 - val_loss: 0.6542 - val_accuracy: 0.5900\n",
            "Epoch 14/50\n",
            "63/63 [==============================] - 3s 41ms/step - loss: 0.6267 - accuracy: 0.6364 - val_loss: 0.6539 - val_accuracy: 0.6000\n",
            "Epoch 15/50\n",
            "63/63 [==============================] - 3s 41ms/step - loss: 0.6355 - accuracy: 0.6208 - val_loss: 0.6598 - val_accuracy: 0.6040\n",
            "Epoch 16/50\n",
            "63/63 [==============================] - 3s 41ms/step - loss: 0.6112 - accuracy: 0.6408 - val_loss: 0.6601 - val_accuracy: 0.5940\n",
            "Epoch 17/50\n",
            "63/63 [==============================] - 3s 41ms/step - loss: 0.6259 - accuracy: 0.6417 - val_loss: 0.6624 - val_accuracy: 0.6190\n",
            "Epoch 18/50\n",
            "63/63 [==============================] - 3s 41ms/step - loss: 0.5939 - accuracy: 0.6652 - val_loss: 0.6596 - val_accuracy: 0.6020\n",
            "Epoch 19/50\n",
            "63/63 [==============================] - 3s 41ms/step - loss: 0.6078 - accuracy: 0.6500 - val_loss: 0.6532 - val_accuracy: 0.6040\n",
            "Epoch 20/50\n",
            "63/63 [==============================] - 3s 41ms/step - loss: 0.6090 - accuracy: 0.6473 - val_loss: 0.6551 - val_accuracy: 0.6160\n",
            "Epoch 21/50\n",
            "63/63 [==============================] - 3s 43ms/step - loss: 0.5928 - accuracy: 0.6769 - val_loss: 0.6751 - val_accuracy: 0.5820\n",
            "Epoch 22/50\n",
            "63/63 [==============================] - 3s 40ms/step - loss: 0.5768 - accuracy: 0.6796 - val_loss: 0.6535 - val_accuracy: 0.6290\n",
            "Epoch 23/50\n",
            "63/63 [==============================] - 3s 41ms/step - loss: 0.5710 - accuracy: 0.6829 - val_loss: 0.7214 - val_accuracy: 0.5840\n",
            "Epoch 24/50\n",
            "63/63 [==============================] - 3s 41ms/step - loss: 0.5980 - accuracy: 0.6645 - val_loss: 0.6605 - val_accuracy: 0.6240\n",
            "Epoch 25/50\n",
            "63/63 [==============================] - 3s 41ms/step - loss: 0.5682 - accuracy: 0.6917 - val_loss: 0.6969 - val_accuracy: 0.6110\n",
            "Epoch 26/50\n",
            "63/63 [==============================] - 3s 41ms/step - loss: 0.5553 - accuracy: 0.6753 - val_loss: 0.7087 - val_accuracy: 0.6110\n",
            "Epoch 27/50\n",
            "63/63 [==============================] - 3s 41ms/step - loss: 0.5594 - accuracy: 0.6817 - val_loss: 0.6919 - val_accuracy: 0.6190\n",
            "Epoch 28/50\n",
            "63/63 [==============================] - 3s 41ms/step - loss: 0.5524 - accuracy: 0.7090 - val_loss: 0.6884 - val_accuracy: 0.5890\n",
            "Epoch 29/50\n",
            "63/63 [==============================] - 3s 40ms/step - loss: 0.5275 - accuracy: 0.7264 - val_loss: 0.6826 - val_accuracy: 0.6210\n",
            "Epoch 30/50\n",
            "63/63 [==============================] - 3s 41ms/step - loss: 0.5484 - accuracy: 0.6984 - val_loss: 0.7036 - val_accuracy: 0.6370\n",
            "Epoch 31/50\n",
            "63/63 [==============================] - 3s 41ms/step - loss: 0.5517 - accuracy: 0.6719 - val_loss: 0.7031 - val_accuracy: 0.6240\n",
            "Epoch 32/50\n",
            "63/63 [==============================] - 3s 41ms/step - loss: 0.5171 - accuracy: 0.7293 - val_loss: 0.7314 - val_accuracy: 0.6300\n",
            "Epoch 33/50\n",
            "63/63 [==============================] - 3s 40ms/step - loss: 0.5498 - accuracy: 0.7129 - val_loss: 0.7920 - val_accuracy: 0.6230\n",
            "Epoch 34/50\n",
            "63/63 [==============================] - 3s 41ms/step - loss: 0.5109 - accuracy: 0.7347 - val_loss: 0.7725 - val_accuracy: 0.6320\n",
            "Epoch 35/50\n",
            "63/63 [==============================] - 3s 41ms/step - loss: 0.4959 - accuracy: 0.7414 - val_loss: 0.7080 - val_accuracy: 0.6330\n",
            "Epoch 36/50\n",
            "63/63 [==============================] - 3s 40ms/step - loss: 0.5300 - accuracy: 0.7140 - val_loss: 0.7147 - val_accuracy: 0.6380\n",
            "Epoch 37/50\n",
            "63/63 [==============================] - 3s 40ms/step - loss: 0.5081 - accuracy: 0.7169 - val_loss: 0.7837 - val_accuracy: 0.6050\n",
            "Epoch 38/50\n",
            "63/63 [==============================] - 3s 41ms/step - loss: 0.5211 - accuracy: 0.7417 - val_loss: 0.8141 - val_accuracy: 0.6400\n",
            "Epoch 39/50\n",
            "63/63 [==============================] - 3s 40ms/step - loss: 0.5332 - accuracy: 0.7061 - val_loss: 0.7788 - val_accuracy: 0.6370\n",
            "Epoch 40/50\n",
            "63/63 [==============================] - 3s 40ms/step - loss: 0.4990 - accuracy: 0.7319 - val_loss: 0.8250 - val_accuracy: 0.6460\n",
            "Epoch 41/50\n",
            "63/63 [==============================] - 3s 41ms/step - loss: 0.4761 - accuracy: 0.7453 - val_loss: 0.8145 - val_accuracy: 0.6520\n",
            "Epoch 42/50\n",
            "63/63 [==============================] - 3s 41ms/step - loss: 0.5118 - accuracy: 0.7382 - val_loss: 0.7677 - val_accuracy: 0.6520\n",
            "Epoch 43/50\n",
            "63/63 [==============================] - 3s 40ms/step - loss: 0.4856 - accuracy: 0.7228 - val_loss: 0.8143 - val_accuracy: 0.6380\n",
            "Epoch 44/50\n",
            "63/63 [==============================] - 3s 40ms/step - loss: 0.4551 - accuracy: 0.7673 - val_loss: 0.8572 - val_accuracy: 0.6180\n",
            "Epoch 45/50\n",
            "63/63 [==============================] - 3s 41ms/step - loss: 0.4705 - accuracy: 0.7605 - val_loss: 0.8150 - val_accuracy: 0.6300\n",
            "Epoch 46/50\n",
            "63/63 [==============================] - 3s 40ms/step - loss: 0.4607 - accuracy: 0.7602 - val_loss: 0.8917 - val_accuracy: 0.6430\n",
            "Epoch 47/50\n",
            "63/63 [==============================] - 3s 41ms/step - loss: 0.4918 - accuracy: 0.7485 - val_loss: 0.8489 - val_accuracy: 0.6300\n",
            "Epoch 48/50\n",
            "63/63 [==============================] - 3s 41ms/step - loss: 0.4483 - accuracy: 0.7652 - val_loss: 0.9439 - val_accuracy: 0.6370\n",
            "Epoch 49/50\n",
            "63/63 [==============================] - 3s 40ms/step - loss: 0.4578 - accuracy: 0.7665 - val_loss: 0.8810 - val_accuracy: 0.6480\n",
            "Epoch 50/50\n",
            "63/63 [==============================] - 3s 41ms/step - loss: 0.4470 - accuracy: 0.7732 - val_loss: 1.0114 - val_accuracy: 0.6510\n"
          ],
          "name": "stdout"
        },
        {
          "output_type": "display_data",
          "data": {
            "image/png": "[encoded data removed]",
            "text/plain": [
              "<Figure size 432x288 with 1 Axes>"
            ]
          },
          "metadata": {
            "tags": [],
            "needs_background": "light"
          }
        }
      ]
    },
    {
      "cell_type": "markdown",
      "metadata": {
        "id": "m6sFSGEqjPwe"
      },
      "source": [
        "##Advanced Challenge: Implementing a Famous Architecture for Cats vs. Dogs\n",
        "\n",
        "Having trouble designing an effective architecture? Try implementing a version of AlexNet, one of the most famous CNNs for image convolution ever. You can find this image and other useful information on this network [here](https://towardsdatascience.com/the-w3h-of-alexnet-vggnet-resnet-and-inception-7baaaecccc96).\n",
        "\n",
        "![](https://miro.medium.com/max/1400/1*bD_DMBtKwveuzIkQTwjKQQ.png)\n",
        "How do we read this diagram?\n",
        "\n",
        "On the left side, we start with images of dimension 224x224x3 (RGB). We apply a filter composed of 96 kernels of size 11x11, with stride size 4. We end up with data of dimension 55x55x96. We pass through multiple layers of convolution and max pooling as shown, before ending with three dense (fully connected) layers.\n",
        "\n",
        "Not shown: each layer uses ReLU activation, and we include dropout before the first two dense layers. Make sure to include those!\n",
        "\n",
        "You'll want to adjust some of these dimensions, for a few reasons: we're starting with 150x150 rather than 224x224 images, ending with 2 labels rather than 1000, and have limited data and memory. Use your knowledge of convolution arithmetic (see CNN slides) and the [Keras documentation](https://www.tensorflow.org/api_docs/python/tf/keras/layers/Conv2D) to change the stride, kernel, and/or padding.\n",
        "\n",
        "Use model.summary() to understand the dimensions of your data at each step. To speed things up as you're building, you can set the number of epochs to 1."
      ]
    },
    {
      "cell_type": "code",
      "metadata": {
        "id": "8FHg8YTGtQ2t"
      },
      "source": [
        "model = Sequential()\n",
        "#TODO: Your code to run, train, and test AlexNet here:"
      ],
      "execution_count": null,
      "outputs": []
    },
    {
      "cell_type": "markdown",
      "metadata": {
        "id": "PlF308hDjwyC"
      },
      "source": [
        "You might find that even AlexNet isn't working that well for you!\n",
        "\n",
        "This is because having a good architecture is only half the battle: AlexNet is a complex model designed to learn from millions of images. We're using a small dataset of only 2000 training images, so it's not surprising that our results aren't great. Our model is overfitting: essentially memorizing the few training images, rather than really learning the difference between a cat and a dog. (The advantage is that our model trains quickly.)\n",
        "\n",
        "To get really good performance, we need more data. If we can't find more, we could use *data augmentation*: inventing new training data by transforming our existing images. You can read more about it at https://blog.keras.io/building-powerful-image-classification-models-using-very-little-data.html."
      ]
    },
    {
      "cell_type": "markdown",
      "metadata": {
        "id": "RVzEpI_xWpE5"
      },
      "source": [
        "![](https://images.pexels.com/photos/316/black-and-white-animal-dog-pet.jpg?auto=compress&cs=tinysrgb&dpr=2&h=650&w=940)"
      ]
    },
    {
      "cell_type": "markdown",
      "metadata": {
        "id": "MB4BrdyfXv1S"
      },
      "source": [
        "# Additional Notes"
      ]
    },
    {
      "cell_type": "markdown",
      "metadata": {
        "id": "9XLBYKXWXzUq"
      },
      "source": [
        "Some links:\n",
        "*   https://poloclub.github.io/cnn-explainer/\n",
        "*   https://www.cs.ryerson.ca/~aharley/vis/conv/flat.html\n",
        "*   https://setosa.io/ev/image-kernels/"
      ]
    }
  ]
}
