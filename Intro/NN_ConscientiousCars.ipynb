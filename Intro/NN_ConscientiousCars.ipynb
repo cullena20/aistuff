{
  "nbformat": 4,
  "nbformat_minor": 0,
  "metadata": {
    "colab": {
      "name": "NN_ConscientiousCars.ipynb",
      "provenance": [],
      "collapsed_sections": [],
      "include_colab_link": true
    },
    "kernelspec": {
      "name": "python3",
      "display_name": "Python 3"
    },
    "accelerator": "GPU"
  },
  "cells": [
    {
      "cell_type": "markdown",
      "metadata": {
        "id": "view-in-github",
        "colab_type": "text"
      },
      "source": [
        "<a href=\"https://colab.research.google.com/github/cullena20/inspiritai/blob/main/NN_ConscientiousCars.ipynb\" target=\"_parent\"><img src=\"https://colab.research.google.com/assets/colab-badge.svg\" alt=\"Open In Colab\"/></a>"
      ]
    },
    {
      "cell_type": "markdown",
      "metadata": {
        "id": "Sq-JhCcLpBwS"
      },
      "source": [
        "We work for CC: ConscientiousCars where we help self-driving vehicles be more conscientious of their surroundings. Our cars have been very good at recognizing and avoiding humans. They haven't, however, been capable of recognizing dogs. Since dogs are man's best friend and will always be where we humans are, we want our cars to know if a dog is on the road in front of them and avoid the dog. \n",
        "\n",
        "\\\\\n",
        "\n",
        "The first step to avoiding these cute puppers is **knowing if a pupper is in front of the car**\n",
        "\n",
        "\\\\\n",
        "\n",
        "So, today, we will **build a detector that can tell when our car sees a dog or not**!\n"
      ]
    },
    {
      "cell_type": "code",
      "metadata": {
        "id": "uhNVum16scIW"
      },
      "source": [
        "# Run this to load some packages and data!\n",
        "from sklearn.neural_network import MLPClassifier\n",
        "from sklearn.neighbors import KNeighborsClassifier\n",
        "from sklearn import model_selection\n",
        "from sklearn.metrics import accuracy_score\n",
        "from collections import Counter\n",
        "import keras\n",
        "from keras.models import Sequential\n",
        "from keras.layers import Dense, Conv2D\n",
        "from keras.layers import Activation, MaxPooling2D, Dropout, Flatten, Reshape\n",
        "from keras.wrappers.scikit_learn import KerasClassifier\n",
        "from sklearn.model_selection import StratifiedKFold\n",
        "from sklearn.model_selection import cross_val_score\n",
        "import numpy as np\n",
        "import pandas as pd\n",
        "import seaborn as sns\n",
        "import matplotlib.pyplot as plt\n",
        "\n",
        "\n",
        "def categorical_to_numpy(labels_in):\n",
        "  labels = []\n",
        "  for label in labels_in:\n",
        "    if label == 'dog':\n",
        "      labels.append(np.array([1, 0]))\n",
        "    else:\n",
        "      labels.append(np.array([0, 1]))\n",
        "  return np.array(labels)\n",
        "\n",
        "def one_hot_encoding(input):\n",
        "  output = np.array(input)\n",
        "  output = np.zeros((input.size, input.max()+1))\n",
        "  output[np.arange(input.size),input] = 1\n",
        "  \n",
        "  return output\n",
        "\n",
        "\n",
        "def load_data():\n",
        "  # Run this cell to download our data into a file called 'cifar_data'\n",
        "  import gdown\n",
        "  gdown.download('https://drive.google.com/uc?id=1-BjeqccJdLiBA6PnNinmXSQ6w5BluLem','cifar_data','True'); # dogs v road;\n",
        "\n",
        "  # now load the data from our cloud computer\n",
        "  import pickle\n",
        "  data_dict = pickle.load(open( \"cifar_data\", \"rb\" ));\n",
        "  \n",
        "  data   = data_dict['data']\n",
        "  labels = data_dict['labels']\n",
        "  \n",
        "  return data, labels\n",
        "\n",
        "def plot_one_image(data, labels, img_idx):\n",
        "  from google.colab.patches import cv2_imshow\n",
        "  import cv2\n",
        "  import matplotlib.pyplot as plt\n",
        "  my_img   = data[img_idx, :].squeeze().reshape([32,32,3]).copy()\n",
        "  my_label = labels[img_idx]\n",
        "  print('label: %s'%my_label)\n",
        "  plt.imshow(my_img)\n",
        "  plt.show()\n",
        "  \n",
        "def CNNClassifier(num_epochs=30, layers=5, dropout=0.5):\n",
        "  def create_model():\n",
        "    model = Sequential()\n",
        "    model.add(Reshape((32, 32, 3)))\n",
        "    \n",
        "    for i in range(layers):\n",
        "      model.add(Conv2D(32, (3, 3), padding='same'))\n",
        "      model.add(Activation('relu'))\n",
        "    \n",
        "    model.add(Conv2D(32, (3, 3)))\n",
        "    model.add(Activation('relu'))\n",
        "    model.add(MaxPooling2D(pool_size=(2, 2)))\n",
        "    model.add(Dropout(dropout / 2.0))\n",
        "\n",
        "    model.add(Conv2D(64, (3, 3), padding='same'))\n",
        "    model.add(Activation('relu'))\n",
        "    model.add(Conv2D(64, (3, 3)))\n",
        "    model.add(Activation('relu'))\n",
        "    model.add(MaxPooling2D(pool_size=(2, 2)))\n",
        "    model.add(Dropout(dropout / 2.0))\n",
        "\n",
        "    model.add(Flatten())\n",
        "    model.add(Dense(512))\n",
        "    model.add(Activation('relu'))\n",
        "    model.add(Dropout(dropout))\n",
        "    model.add(Dense(2))\n",
        "    model.add(Activation('softmax'))\n",
        "\n",
        "    # initiate RMSprop optimizer\n",
        "    opt = keras.optimizers.RMSprop(lr=0.0001, decay=1e-6)\n",
        "\n",
        "    # Let's train the model using RMSprop\n",
        "    model.compile(loss='categorical_crossentropy',\n",
        "                  optimizer=opt,\n",
        "                  metrics=['accuracy'])\n",
        "    return model\n",
        "  return KerasClassifier(build_fn=create_model, epochs=num_epochs, batch_size=10, verbose=2)\n",
        "\n",
        "def plot_acc(history, ax = None, xlabel = 'Epoch #'):\n",
        "    history = history.history\n",
        "    history.update({'epoch':list(range(len(history['val_accuracy'])))})\n",
        "    history = pd.DataFrame.from_dict(history)\n",
        "\n",
        "    best_epoch = history.sort_values(by = 'val_accuracy', ascending = False).iloc[0]['epoch']\n",
        "\n",
        "    if not ax:\n",
        "      f, ax = plt.subplots(1,1)\n",
        "    sns.lineplot(x = 'epoch', y = 'val_accuracy', data = history, label = 'Validation', ax = ax)\n",
        "    sns.lineplot(x = 'epoch', y = 'accuracy', data = history, label = 'Training', ax = ax)\n",
        "    ax.axhline(0.5, linestyle = '--',color='red', label = 'Chance')\n",
        "    ax.axvline(x = best_epoch, linestyle = '--', color = 'green', label = 'Best Epoch')  \n",
        "    ax.legend(loc = 1)    \n",
        "    ax.set_ylim([0.4, 1])\n",
        "\n",
        "    ax.set_xlabel(xlabel)\n",
        "    ax.set_ylabel('Accuracy (Fraction)')\n",
        "    \n",
        "    plt.show()"
      ],
      "execution_count": null,
      "outputs": []
    },
    {
      "cell_type": "markdown",
      "metadata": {
        "id": "1QxGsnvhnn8R"
      },
      "source": [
        "## Understanding our data"
      ]
    },
    {
      "cell_type": "markdown",
      "metadata": {
        "id": "btr24O6Hqgo6"
      },
      "source": [
        "Our cars are very attentive and always have their eyes on the road.\n",
        "\n",
        "Every second, they're streaming in data about the street, including video.\n",
        "\n",
        "From this video data, we want our car to tell: is there 'road' or 'dog' in front of it?\n",
        "\n",
        "Lucky for us, we have a dataset of dog and road images already prepared! Let's start by reading that *labeled* data in. \n"
      ]
    },
    {
      "cell_type": "code",
      "metadata": {
        "id": "MmZbrZoKnthN"
      },
      "source": [
        "# load our data\n",
        "data, labels = load_data()  # 1200 images"
      ],
      "execution_count": null,
      "outputs": []
    },
    {
      "cell_type": "code",
      "metadata": {
        "id": "csXB_FPMrx1D",
        "colab": {
          "base_uri": "https://localhost:8080/",
          "height": 283
        },
        "outputId": "47962ff7-502c-45d0-8975-1aef9aa88151"
      },
      "source": [
        "# let's look at our first image\n",
        "plot_one_image(data, labels, 0)"
      ],
      "execution_count": null,
      "outputs": [
        {
          "output_type": "stream",
          "text": [
            "label: dog\n"
          ],
          "name": "stdout"
        },
        {
          "output_type": "display_data",
          "data": {
            "image/png": "[encoded data removed]",
            "text/plain": [
              "<Figure size 432x288 with 1 Axes>"
            ]
          },
          "metadata": {
            "tags": [],
            "needs_background": "light"
          }
        }
      ]
    },
    {
      "cell_type": "code",
      "metadata": {
        "id": "CsRj6BAqs25Y",
        "colab": {
          "base_uri": "https://localhost:8080/",
          "height": 283
        },
        "outputId": "70292cbd-f2a9-4fbf-f7f4-f77c82c8a8b7"
      },
      "source": [
        "# let's look at an image of a road\n",
        "plot_one_image(data, labels, 700)"
      ],
      "execution_count": null,
      "outputs": [
        {
          "output_type": "stream",
          "text": [
            "label: road\n"
          ],
          "name": "stdout"
        },
        {
          "output_type": "display_data",
          "data": {
            "image/png": "[encoded data removed]",
            "text/plain": [
              "<Figure size 432x288 with 1 Axes>"
            ]
          },
          "metadata": {
            "tags": [],
            "needs_background": "light"
          }
        }
      ]
    },
    {
      "cell_type": "code",
      "metadata": {
        "colab": {
          "base_uri": "https://localhost:8080/"
        },
        "id": "mG_gBIkuyDmL",
        "outputId": "5875a522-3b3f-49f2-80e0-8a46bfd8066d"
      },
      "source": [
        "print(len(data))"
      ],
      "execution_count": null,
      "outputs": [
        {
          "output_type": "stream",
          "text": [
            "1200\n"
          ],
          "name": "stdout"
        }
      ]
    },
    {
      "cell_type": "markdown",
      "metadata": {
        "id": "65xbVSbAtBAi"
      },
      "source": [
        "How many dogs and roads do we have? "
      ]
    },
    {
      "cell_type": "code",
      "metadata": {
        "id": "oiSTCdO8tP1o",
        "colab": {
          "base_uri": "https://localhost:8080/"
        },
        "outputId": "e3afdaad-9e7a-4575-e08e-5bed57461862"
      },
      "source": [
        "label_counter = Counter(labels)\n",
        "print(label_counter)\n",
        "NUM_DOGS = label_counter['dog']\n",
        "NUM_ROADS = label_counter['road']\n",
        "print('Number of dogs: ', NUM_DOGS)\n",
        "print('Number of roads: ', NUM_ROADS)"
      ],
      "execution_count": null,
      "outputs": [
        {
          "output_type": "stream",
          "text": [
            "Counter({'dog': 600, 'road': 600})\n",
            "Number of dogs:  600\n",
            "Number of roads:  600\n"
          ],
          "name": "stdout"
        }
      ]
    },
    {
      "cell_type": "markdown",
      "metadata": {
        "id": "dTVV3WWdDfNd"
      },
      "source": [
        "The dataset is organized such that the first 600 images are pictures of dogs and the last 600 images are pictures of roads."
      ]
    },
    {
      "cell_type": "markdown",
      "metadata": {
        "id": "9Sz2c5LlU7Sj"
      },
      "source": [
        "###Exercise 1 ✍️"
      ]
    },
    {
      "cell_type": "markdown",
      "metadata": {
        "id": "gZ65jpsLVlOO"
      },
      "source": [
        "**Look at a few more images of both classes.**\n",
        "\n",
        "As a challenge, try to code a for loop to look at 5 images!"
      ]
    },
    {
      "cell_type": "code",
      "metadata": {
        "id": "Va_bpJYJyYhC"
      },
      "source": [
        "import random"
      ],
      "execution_count": null,
      "outputs": []
    },
    {
      "cell_type": "code",
      "metadata": {
        "id": "DkcqdB2ZVoNc",
        "colab": {
          "base_uri": "https://localhost:8080/",
          "height": 1000
        },
        "outputId": "e67c08ff-4715-46a2-a860-f0dfa5609cdd"
      },
      "source": [
        "### YOUR CODE HERE\n",
        "\n",
        "for _ in range(5):\n",
        "  plot_one_image(data, labels, random.randint(0,1199))\n",
        "\n",
        "### END CODE"
      ],
      "execution_count": null,
      "outputs": [
        {
          "output_type": "stream",
          "text": [
            "label: road\n"
          ],
          "name": "stdout"
        },
        {
          "output_type": "display_data",
          "data": {
            "image/png": "[encoded data removed]",
            "text/plain": [
              "<Figure size 432x288 with 1 Axes>"
            ]
          },
          "metadata": {
            "tags": [],
            "needs_background": "light"
          }
        },
        {
          "output_type": "stream",
          "text": [
            "label: dog\n"
          ],
          "name": "stdout"
        },
        {
          "output_type": "display_data",
          "data": {
            "image/png": "[encoded data removed]",
            "text/plain": [
              "<Figure size 432x288 with 1 Axes>"
            ]
          },
          "metadata": {
            "tags": [],
            "needs_background": "light"
          }
        },
        {
          "output_type": "stream",
          "text": [
            "label: road\n"
          ],
          "name": "stdout"
        },
        {
          "output_type": "display_data",
          "data": {
            "image/png": "[encoded data removed]",
            "text/plain": [
              "<Figure size 432x288 with 1 Axes>"
            ]
          },
          "metadata": {
            "tags": [],
            "needs_background": "light"
          }
        },
        {
          "output_type": "stream",
          "text": [
            "label: dog\n"
          ],
          "name": "stdout"
        },
        {
          "output_type": "display_data",
          "data": {
            "image/png": "[encoded data removed]",
            "text/plain": [
              "<Figure size 432x288 with 1 Axes>"
            ]
          },
          "metadata": {
            "tags": [],
            "needs_background": "light"
          }
        },
        {
          "output_type": "stream",
          "text": [
            "label: dog\n"
          ],
          "name": "stdout"
        },
        {
          "output_type": "display_data",
          "data": {
            "image/png": "[encoded data removed]",
            "text/plain": [
              "<Figure size 432x288 with 1 Axes>"
            ]
          },
          "metadata": {
            "tags": [],
            "needs_background": "light"
          }
        }
      ]
    },
    {
      "cell_type": "markdown",
      "metadata": {
        "id": "PHS0E_3wt0RS"
      },
      "source": [
        "Here, our images are stored as the color of each pixel in the image. \n"
      ]
    },
    {
      "cell_type": "code",
      "metadata": {
        "id": "DlgF6jWit9jz",
        "colab": {
          "base_uri": "https://localhost:8080/"
        },
        "outputId": "2656a325-5ea2-4044-a496-79e99ed44855"
      },
      "source": [
        "print('One image looks like: ')\n",
        "print(data[0])\n",
        "print(len(data[0]))"
      ],
      "execution_count": null,
      "outputs": [
        {
          "output_type": "stream",
          "text": [
            "One image looks like: \n",
            "[45 20 19 ... 83 99 31]\n",
            "3072\n"
          ],
          "name": "stdout"
        }
      ]
    },
    {
      "cell_type": "markdown",
      "metadata": {
        "id": "gPu7IDsZU_On"
      },
      "source": [
        "### Question 💡"
      ]
    },
    {
      "cell_type": "markdown",
      "metadata": {
        "id": "0zTjtIBAB2kL"
      },
      "source": [
        "**What do you think these numbers mean?**"
      ]
    },
    {
      "cell_type": "markdown",
      "metadata": {
        "id": "5YNvO6-FukNe"
      },
      "source": [
        "Each of these numbers is a single **input**. "
      ]
    },
    {
      "cell_type": "code",
      "metadata": {
        "id": "YWBX6fWUui4R",
        "colab": {
          "base_uri": "https://localhost:8080/"
        },
        "outputId": "27fbb347-15cd-4965-aef7-b1bf3ab366f2"
      },
      "source": [
        "print('Each image is 32 x 32 pixels where each pixel has 3 values for \\nred green and blue')\n",
        "print('Each image has 32 x 32 x 3 = %d inputs'%data[0].shape)"
      ],
      "execution_count": null,
      "outputs": [
        {
          "output_type": "stream",
          "text": [
            "Each image is 32 x 32 pixels where each pixel has 3 values for \n",
            "red green and blue\n",
            "Each image has 32 x 32 x 3 = 3072 inputs\n"
          ],
          "name": "stdout"
        }
      ]
    },
    {
      "cell_type": "markdown",
      "metadata": {
        "id": "-haNvnOwt-YE"
      },
      "source": [
        "We use these **inputs** to classify, or predict, what our image is. \n",
        "\n",
        "Our image's category is contained in `labels`. Labels is a list of all of our images' categories. Each label is either `dog` or `road`. "
      ]
    },
    {
      "cell_type": "code",
      "metadata": {
        "id": "JZIiCuBrvS6z",
        "colab": {
          "base_uri": "https://localhost:8080/"
        },
        "outputId": "9dc7d703-4f92-4cc1-ec55-bacb7e738bb6"
      },
      "source": [
        "print('Our labels list looks like:')\n",
        "print(set(labels))"
      ],
      "execution_count": null,
      "outputs": [
        {
          "output_type": "stream",
          "text": [
            "Our labels list looks like:\n",
            "{'road', 'dog'}\n"
          ],
          "name": "stdout"
        }
      ]
    },
    {
      "cell_type": "markdown",
      "metadata": {
        "id": "fmG7DtC9vkPV"
      },
      "source": [
        "## A simple machine learner\n"
      ]
    },
    {
      "cell_type": "markdown",
      "metadata": {
        "id": "hPskDCqlzOEE"
      },
      "source": [
        "\n",
        "\n",
        "We want to create a machine learning *model* that can tell us whether a new image is either a `dog` or a `road`. \n",
        "\n",
        "We will give our *model* a *training manual* of data and labels that it will study or train on. \n",
        "\n",
        "We then check how well our model is doing on a *test*, where it is given data and told to predict their labels. \n",
        "\n",
        "Finally, we check  how our model did by giving it a *test*. The accuracy score tells us what percentage of test data it classified correctly. 100% means that all the images were classifered correctly.\n",
        "\n"
      ]
    },
    {
      "cell_type": "markdown",
      "metadata": {
        "id": "S0tDoNWFVVYB"
      },
      "source": [
        "###Exercise 2 ✍️"
      ]
    },
    {
      "cell_type": "markdown",
      "metadata": {
        "id": "Q8_JZ9PVzKzr"
      },
      "source": [
        "\n",
        "Build your own KNN model where you change the number of neighbors. Try to see how high you can make the accuracy go!! We want our pets to be safe after all. "
      ]
    },
    {
      "cell_type": "code",
      "metadata": {
        "id": "ZFOgS2VEyTkH",
        "colab": {
          "base_uri": "https://localhost:8080/"
        },
        "outputId": "bde8454d-8316-46c5-b95d-37a52eacf357"
      },
      "source": [
        "### YOUR CODE HERE\n",
        "inputs_train, inputs_test, labels_train, labels_test = model_selection.train_test_split(data, labels, test_size=0.2)\n",
        "\n",
        "knn = KNeighborsClassifier(n_neighbors=2)\n",
        "knn.fit(inputs_train, labels_train)\n",
        "### END CODE"
      ],
      "execution_count": null,
      "outputs": [
        {
          "output_type": "execute_result",
          "data": {
            "text/plain": [
              "KNeighborsClassifier(algorithm='auto', leaf_size=30, metric='minkowski',\n",
              "                     metric_params=None, n_jobs=None, n_neighbors=2, p=2,\n",
              "                     weights='uniform')"
            ]
          },
          "metadata": {
            "tags": []
          },
          "execution_count": 123
        }
      ]
    },
    {
      "cell_type": "markdown",
      "metadata": {
        "id": "uU48O9l18_-C"
      },
      "source": [
        "We can use our trained model to predict whether our car is seeing a `dog` or `road`. Let's try this out!"
      ]
    },
    {
      "cell_type": "code",
      "metadata": {
        "id": "Az1_moLl9E0B",
        "colab": {
          "base_uri": "https://localhost:8080/",
          "height": 300
        },
        "outputId": "d6a0ee26-aec3-48ab-d407-eb1fd2bf1888"
      },
      "source": [
        "# Specify which image you want to show\n",
        "image_id = 2\n",
        "\n",
        "# Visualize the image\n",
        "plot_one_image(inputs_test, labels_test, image_id)\n",
        "\n",
        "# Use the model to predict what this might be and print it\n",
        "print('prediction:', knn.predict([inputs_test[image_id]])[0])"
      ],
      "execution_count": null,
      "outputs": [
        {
          "output_type": "stream",
          "text": [
            "label: road\n"
          ],
          "name": "stdout"
        },
        {
          "output_type": "display_data",
          "data": {
            "image/png": "[encoded data removed]",
            "text/plain": [
              "<Figure size 432x288 with 1 Axes>"
            ]
          },
          "metadata": {
            "tags": [],
            "needs_background": "light"
          }
        },
        {
          "output_type": "stream",
          "text": [
            "prediction: road\n"
          ],
          "name": "stdout"
        }
      ]
    },
    {
      "cell_type": "code",
      "metadata": {
        "colab": {
          "base_uri": "https://localhost:8080/"
        },
        "id": "CMxfjw2f0Xwx",
        "outputId": "7b8c2979-53a5-42f1-881e-721c8a33da0d"
      },
      "source": [
        "pred = knn.predict(inputs_test)\n",
        "accuracy = accuracy_score(pred, labels_test)\n",
        "print(accuracy)"
      ],
      "execution_count": null,
      "outputs": [
        {
          "output_type": "stream",
          "text": [
            "0.8541666666666666\n"
          ],
          "name": "stdout"
        }
      ]
    },
    {
      "cell_type": "markdown",
      "metadata": {
        "id": "j09evSD_YfJ4"
      },
      "source": [
        "### Exercise 3 ✍️\n",
        "\n",
        "We do alright on the classification, but our classifier could do much better. Let's put on our detective hats to determine what the root cause of the incorrect classifications are.\n",
        "\n",
        "**Print out 4 images of true positives, 4 images of true negatives, 4 images of false positives, and 4 images of false negatives. What are the reasons for failure (both for false positives and false negatives)? **"
      ]
    },
    {
      "cell_type": "markdown",
      "metadata": {
        "id": "m6S76bsr31EA"
      },
      "source": [
        "Cullen: We are representing dog as postive and road as negative here (it's a binary classification problem). This also makes sense because we may want to decide which one we care about more."
      ]
    },
    {
      "cell_type": "markdown",
      "metadata": {
        "id": "pMhpcxHT4znM"
      },
      "source": [
        "Cullen: So this helps us figure out what our model is doing and allow us to finetune it"
      ]
    },
    {
      "cell_type": "code",
      "metadata": {
        "id": "xWy1S_gyGoJT"
      },
      "source": [
        "true_positives = 0\n",
        "false_positives = 0\n",
        "true_negatives = 0\n",
        "false_negatives = 0\n",
        "\n",
        "for i in range(len(labels_test)):\n",
        "  prediction = knn.predict(inputs_test[i].reshape(1,-1))\n",
        "  # True positive.\n",
        "  if prediction == labels_test[i] and prediction == 'dog':\n",
        "    print('True positive:')\n",
        "    plot_one_image(inputs_test, labels_test, i)\n",
        "    true_positives += 1\n",
        "    \n",
        "  # (Is this TN, FP, or FN?) TN\n",
        "  elif prediction == labels_test[i] and prediction == 'road':\n",
        "    print('True negative:')\n",
        "    plot_one_image(inputs_test, labels_test, i)\n",
        "    true_negatives += 1\n",
        "  \n",
        "  # (Is this TN, FP, or FN?) FP\n",
        "  elif prediction != labels_test[i] and prediction == 'dog':\n",
        "    print('False positive:')\n",
        "    plot_one_image(inputs_test, labels_test, i)\n",
        "    false_positives += 1\n",
        "  \n",
        "  # (Is this TN, FP, or FN?) FN\n",
        "  elif prediction != labels_test[i] and prediction == 'road':\n",
        "    print('False negative:')\n",
        "    plot_one_image(inputs_test, labels_test, i)\n",
        "    false_negatives += 1\n",
        "  \n",
        "  # Stop when we have at least 4 TP, TN, FP, and FN.\n",
        "  if true_positives >= 1 and false_positives >= 1 and \\\n",
        "    true_negatives >= 1 and false_negatives >= 1:\n",
        "    break"
      ],
      "execution_count": null,
      "outputs": []
    },
    {
      "cell_type": "markdown",
      "metadata": {
        "id": "nSx8HEhHKxFd"
      },
      "source": [
        "**What are the causes of false positives and false negatives?**"
      ]
    },
    {
      "cell_type": "markdown",
      "metadata": {
        "id": "4oW_Wb-1CTfB"
      },
      "source": [
        "### Exercise 4 ✍️\n",
        "\n",
        "Determine the optimal value of \"K\" for our data. Use a for-loop to loop through different values of \"K\". In particular, *at the very least* try K = 1, 3, 5, 10, 20, and 30. For each of these values of \"K\", define a new KNN model, train it, and evaluate the accuracy."
      ]
    },
    {
      "cell_type": "code",
      "metadata": {
        "id": "OrZK_qoAZOAd",
        "colab": {
          "base_uri": "https://localhost:8080/"
        },
        "outputId": "ede0fee8-ca09-4ec2-9aa1-ce674a053281"
      },
      "source": [
        "### YOUR CODE HERE\n",
        "for i in [1, 2, 3, 5, 10, 20, 30]:\n",
        "  knn = KNeighborsClassifier(n_neighbors=i)\n",
        "  knn.fit(inputs_train, labels_train)\n",
        "  pred = knn.predict(inputs_test)\n",
        "  print(i, accuracy_score(pred, labels_test)) \n",
        "### END CODE"
      ],
      "execution_count": null,
      "outputs": [
        {
          "output_type": "stream",
          "text": [
            "1 0.8125\n",
            "2 0.8541666666666666\n",
            "3 0.7916666666666666\n",
            "5 0.7875\n",
            "10 0.8208333333333333\n",
            "20 0.775\n",
            "30 0.7958333333333333\n"
          ],
          "name": "stdout"
        }
      ]
    },
    {
      "cell_type": "markdown",
      "metadata": {
        "id": "Xt_hwybdKldM"
      },
      "source": [
        "**What is the optimal value of \"K\"?**"
      ]
    },
    {
      "cell_type": "markdown",
      "metadata": {
        "id": "doLXp1Ot8D2C"
      },
      "source": [
        "## TENSORFLOW PLAYGROUND ACTIVITY (20 MINS) \n",
        "\n",
        "Open [this](https://playground.tensorflow.org/#activation=tanh&batchSize=10&dataset=circle&regDataset=reg-plane&learningRate=0.03&regularizationRate=0&noise=0&networkShape=4,2&seed=0.62283&showTestData=false&discretize=false&percTrainData=50&x=true&y=true&xTimesY=false&xSquared=false&ySquared=false&cosX=false&sinX=false&cosY=false&sinY=false&collectStats=false&problem=classification&initZero=false&hideText=false&regularization_hide=true&regularizationRate_hide=true&learningRate_hide=true&batchSize_hide=true&stepButton_hide=true&activation_hide=true) to understand Neural Networks!"
      ]
    },
    {
      "cell_type": "markdown",
      "metadata": {
        "id": "EIA6RFtZzdXZ"
      },
      "source": [
        "## Using a simple neural network"
      ]
    },
    {
      "cell_type": "markdown",
      "metadata": {
        "id": "Ao613m2lzg5X"
      },
      "source": [
        "Let's now try a neural network for this and see how well it does. "
      ]
    },
    {
      "cell_type": "markdown",
      "metadata": {
        "id": "u9iFe-B4zqQA"
      },
      "source": [
        "To build a simple neural network, we use `MLPClassifier` from scikit-learn. We will play with the **number of neurons** and the **number of hidden layers** to adjust the complexity of our model! Just like we did in Playground. \n",
        "\n",
        "Let's see how well we can do. :) \n",
        "\n",
        "**Example 1:**\n",
        "\n",
        "If we want to create a neural network with 1 hidden layer and 3 neurons, we would say:\n",
        "\n",
        "`nnet = MLPClassifier(hidden_layer_sizes=(3)) `\n",
        "\n",
        "**Example 2:**\n",
        "\n",
        "If we want to create a neural network with 2 hidden layers and 3 neurons in each layer:\n",
        "\n",
        "`nnet = MLPClassifier(hidden_layer_sizes=(3, 3)) `"
      ]
    },
    {
      "cell_type": "code",
      "metadata": {
        "id": "x4XblMWBzm96"
      },
      "source": [
        "# Create and train our multi layer perceptron model\n",
        "nnet = MLPClassifier(hidden_layer_sizes=(5, 5), max_iter= 10000000, verbose=True)  ## How many hidden layers? How many neurons does this have?\n",
        "nnet.fit(inputs_train, labels_train)\n",
        "\n",
        "# Predict what the classes are based on the testing data\n",
        "predictions = nnet.predict(inputs_test)\n",
        "\n",
        "# Print the score on the testing data\n",
        "print(\"MLP Testing Set Score:\")\n",
        "print(accuracy_score(labels_test, pred))"
      ],
      "execution_count": null,
      "outputs": []
    },
    {
      "cell_type": "markdown",
      "metadata": {
        "id": "J1QYZTxq0RCV"
      },
      "source": [
        "**How well did your neural network perform?** \n",
        "\n",
        "Multilayer perceptrons are more complex models and it can be difficult to find the right \"settings\" for them. It takes some trial and error!"
      ]
    },
    {
      "cell_type": "markdown",
      "metadata": {
        "id": "nX27P2eY0yqQ"
      },
      "source": [
        "**Try the following out and see how well you can get your network to do:**\n",
        "* Change the number of hidden neurons and hidden layers to see how well you can do.\n",
        "* Increase or decrease the number of iterations"
      ]
    },
    {
      "cell_type": "markdown",
      "metadata": {
        "id": "hXud5MuBXqzo"
      },
      "source": [
        "### Exercise 5 ✍️\n",
        "\n",
        "Similar to what you did for KNNs, use a for loop to automate your investigation. This time, however, you will explore different numbers of hidden layers, the size of the hidden layers, and the number of iterations."
      ]
    },
    {
      "cell_type": "code",
      "metadata": {
        "id": "owrF6cDvX0HX"
      },
      "source": [
        "### YOUR CODE HERE\n",
        "layers = [(1), (3), (5), (10), (5, 10), (10, 10), (8, 6), (3, 5, 10), (5, 10, 5), (10, 10, 10, 10)]\n",
        "for i in layers:\n",
        "  nnet = MLPClassifier(hidden_layer_sizes=i, max_iter= 10000000)\n",
        "  nnet.fit(inputs_train, labels_train)\n",
        "  pred = nnet.predict(inputs_test)\n",
        "  print(i, accuracy_score(labels_test, pred))\n"
      ],
      "execution_count": null,
      "outputs": []
    },
    {
      "cell_type": "markdown",
      "metadata": {
        "id": "37O_VE_D1Bdy"
      },
      "source": [
        "## Models for vision: Convolutional Neural Networks"
      ]
    },
    {
      "cell_type": "markdown",
      "metadata": {
        "id": "QskPD4RT1GlK"
      },
      "source": [
        "There is a famous type of neural network known as convolutional neural networks (CNNs). These types of neural networks work particularly well on problems to do with computer vision. Let's try one out!\n",
        "\n",
        "To load up a simple CNN on scikit-learn, just run:\n",
        "\n",
        "`cnn = CNNClassifier(num_epochs=N)`\n",
        "\n",
        "The num_epochs represents how many times the neural network passes through the training dataset. "
      ]
    },
    {
      "cell_type": "markdown",
      "metadata": {
        "id": "cfmWetoDFQgY"
      },
      "source": [
        "Cullen: Note that this classifier was defined by the writers of this notebook and uses Keras.\n"
      ]
    },
    {
      "cell_type": "code",
      "metadata": {
        "id": "KL8iUzPLFajf"
      },
      "source": [
        "def CNNClassifier(num_epochs=30, layers=5, dropout=0.5):\n",
        "  def create_model():\n",
        "    model = Sequential()\n",
        "    model.add(Reshape((32, 32, 3)))\n",
        "    \n",
        "    for i in range(layers):\n",
        "      model.add(Conv2D(32, (3, 3), padding='same'))\n",
        "      model.add(Activation('relu'))\n",
        "    \n",
        "    model.add(Conv2D(32, (3, 3)))\n",
        "    model.add(Activation('relu'))\n",
        "    model.add(MaxPooling2D(pool_size=(2, 2)))\n",
        "    model.add(Dropout(dropout / 2.0))\n",
        "\n",
        "    model.add(Conv2D(64, (3, 3), padding='same'))\n",
        "    model.add(Activation('relu'))\n",
        "    model.add(Conv2D(64, (3, 3)))\n",
        "    model.add(Activation('relu'))\n",
        "    model.add(MaxPooling2D(pool_size=(2, 2)))\n",
        "    model.add(Dropout(dropout / 2.0))\n",
        "\n",
        "    model.add(Flatten())\n",
        "    model.add(Dense(512))\n",
        "    model.add(Activation('relu'))\n",
        "    model.add(Dropout(dropout))\n",
        "    model.add(Dense(2))\n",
        "    model.add(Activation('softmax'))\n",
        "\n",
        "    # initiate RMSprop optimizer\n",
        "    opt = keras.optimizers.RMSprop(lr=0.0001, decay=1e-6)\n",
        "\n",
        "    # Let's train the model using RMSprop\n",
        "    model.compile(loss='categorical_crossentropy',\n",
        "                  optimizer=opt,\n",
        "                  metrics=['accuracy'])\n",
        "    return model\n",
        "  return KerasClassifier(build_fn=create_model, epochs=num_epochs, batch_size=10, verbose=2)"
      ],
      "execution_count": null,
      "outputs": []
    },
    {
      "cell_type": "code",
      "metadata": {
        "id": "VMVzPMQOF1Gn"
      },
      "source": [
        "# Sometimes the data seems to get messed up for the model so here's the original data split in one cell\n",
        "data, labels = load_data()  # 1200 images\n",
        "inputs_train, inputs_test, labels_train, labels_test = model_selection.train_test_split(data, labels, test_size=0.2)"
      ],
      "execution_count": null,
      "outputs": []
    },
    {
      "cell_type": "code",
      "metadata": {
        "id": "kpf8uxMsT7N1"
      },
      "source": [
        "# convert our data to floats for our CNN\n",
        "inputs_train = inputs_train.astype(float)\n",
        "inputs_test = inputs_test.astype(float)\n",
        "\n",
        "labels_train = categorical_to_numpy(labels_train)\n",
        "labels_test = categorical_to_numpy(labels_test)\n",
        "\n"
      ],
      "execution_count": null,
      "outputs": []
    },
    {
      "cell_type": "markdown",
      "metadata": {
        "id": "GqrfI4JiVeFr"
      },
      "source": [
        "###Exercise 6 ✍️"
      ]
    },
    {
      "cell_type": "code",
      "metadata": {
        "id": "dSwghlVU4WTy"
      },
      "source": [
        "### YOUR CODE HERE\n",
        "\n",
        "# Create and train our cnn\n",
        "cnn = CNNClassifier()\n",
        "cnn.fit(inputs_train, labels_train)\n",
        "\n",
        "### END CODE"
      ],
      "execution_count": null,
      "outputs": []
    },
    {
      "cell_type": "code",
      "metadata": {
        "id": "DmQDkPzOFetV"
      },
      "source": [
        "# Predict what the classes are based on the testing data\n",
        "pred = cnn.predict(inputs_test)\n",
        "pred = one_hot_encoding(pred)\n",
        "\n",
        "# Print the score on the testing data\n",
        "print(accuracy_score(labels_test, pred))\n"
      ],
      "execution_count": null,
      "outputs": []
    },
    {
      "cell_type": "markdown",
      "metadata": {
        "id": "KGWpgsVXP1ut"
      },
      "source": [
        "**How well did your neural network perform?** \n",
        "\n",
        "CNNs typically perform significantly better than MLPs on vision problems but, like MLPs, aren't always consistent when they are applied. They are also sensitive to a number of parameters. "
      ]
    },
    {
      "cell_type": "markdown",
      "metadata": {
        "id": "c-XRh5Y5P_CL"
      },
      "source": [
        "## Training and Validation Curves\n",
        "\n",
        "An important aspect of training neural networks is to prevent overfitting. In brief, we know that our model is overfitting when our test set accuracy is lower than our training (or validation) set accuracy.\n",
        "\n",
        "```\n",
        "history = model.fit(inputs_train, labels_train, validation_data=(inputs_test, labels_test))\n",
        "plot_acc(history)\n",
        "```\n",
        "\n"
      ]
    },
    {
      "cell_type": "markdown",
      "metadata": {
        "id": "8eaFvE2PQEFe"
      },
      "source": [
        "###Exercise 7 ✍️\n",
        "\n",
        "Plot a train vs. validation curve for our CNN model. \n",
        "\n",
        "**After how many epochs does the model begin to overfit?** Overfitting occurs when the validation accuracy starts to drop below the training accuracy."
      ]
    },
    {
      "cell_type": "code",
      "metadata": {
        "id": "202n42SAGVpG"
      },
      "source": [
        "# code reference (alread defined on top)\n",
        "\n",
        "def plot_acc(history, ax = None, xlabel = 'Epoch #'):\n",
        "    history = history.history\n",
        "    history.update({'epoch':list(range(len(history['val_accuracy'])))})\n",
        "    history = pd.DataFrame.from_dict(history)\n",
        "\n",
        "    best_epoch = history.sort_values(by = 'val_accuracy', ascending = False).iloc[0]['epoch']\n",
        "\n",
        "    if not ax:\n",
        "      f, ax = plt.subplots(1,1)\n",
        "    sns.lineplot(x = 'epoch', y = 'val_accuracy', data = history, label = 'Validation', ax = ax)\n",
        "    sns.lineplot(x = 'epoch', y = 'accuracy', data = history, label = 'Training', ax = ax)\n",
        "    ax.axhline(0.5, linestyle = '--',color='red', label = 'Chance')\n",
        "    ax.axvline(x = best_epoch, linestyle = '--', color = 'green', label = 'Best Epoch')  \n",
        "    ax.legend(loc = 1)    \n",
        "    ax.set_ylim([0.4, 1])\n",
        "\n",
        "    ax.set_xlabel(xlabel)\n",
        "    ax.set_ylabel('Accuracy (Fraction)')\n",
        "    \n",
        "    plt.show()"
      ],
      "execution_count": null,
      "outputs": []
    },
    {
      "cell_type": "code",
      "metadata": {
        "id": "iScXQpyFGbIo"
      },
      "source": [
        "history = cnn.fit(inputs_train, labels_train, validation_data=(inputs_test, labels_test))"
      ],
      "execution_count": null,
      "outputs": []
    },
    {
      "cell_type": "code",
      "metadata": {
        "id": "OsVAasDbjARJ",
        "colab": {
          "base_uri": "https://localhost:8080/",
          "height": 283
        },
        "outputId": "af8fd717-b989-44ec-a1fb-6991c68b77a5"
      },
      "source": [
        "### YOUR CODE HERE\n",
        "plot_acc(history)\n",
        "### END CODE"
      ],
      "execution_count": null,
      "outputs": [
        {
          "output_type": "display_data",
          "data": {
            "image/png": "[encoded data removed]",
            "text/plain": [
              "<Figure size 432x288 with 1 Axes>"
            ]
          },
          "metadata": {
            "tags": [],
            "needs_background": "light"
          }
        }
      ]
    },
    {
      "cell_type": "markdown",
      "metadata": {
        "id": "RVzEpI_xWpE5"
      },
      "source": [
        "### Hopefully your CNN worked *very* well! We want to keep the dog-os as safe as they can be.\n",
        "\n",
        "![](https://images.pexels.com/photos/316/black-and-white-animal-dog-pet.jpg?auto=compress&cs=tinysrgb&dpr=2&h=650&w=940)"
      ]
    },
    {
      "cell_type": "markdown",
      "metadata": {
        "id": "7Y1wGoQPm2Ko"
      },
      "source": [
        "# Challenge Exercise: Explainability through Saliency Maps"
      ]
    },
    {
      "cell_type": "markdown",
      "metadata": {
        "id": "UnGTR2Vdb08i"
      },
      "source": [
        "Neural networks have achieved incredible results in many fields. But they have a big problem: it’s very difficult to explain exactly why a neural network makes the decisions it does. This makes it difficult to trust them in high-stakes applications like medicine, self-driving cars, and criminal justice - would you trust an AI that diagnosed you with a disease, but couldn’t explain why?\n",
        "\n",
        "Other classifiers are much more explainable:\n",
        "\n",
        "*   With logistic regression, we can see the coefficient (importance) attached to each input feature.\n",
        "*   With a decision tree, we can trace a particular decision down the tree.\n",
        "*   With KNN, we can examine the nearby neighbors.\n",
        "\n",
        "Our CNN, above, works well. For example, let's try choosing an image from our dataset and classifying it."
      ]
    },
    {
      "cell_type": "code",
      "metadata": {
        "id": "HmU6Peb7m67F",
        "colab": {
          "base_uri": "https://localhost:8080/",
          "height": 405
        },
        "outputId": "4ef99e14-7120-41d0-9314-e0337d0e538a"
      },
      "source": [
        "image_index = 70 #pick any image you'd like\n",
        "input_image = inputs_test[image_index] \n",
        "print (input_image.shape) \n",
        "print (input_image) #How many numbers are there? What does each represent?\n",
        "\n",
        "plt.imshow(input_image.reshape(32,32,3).astype(int))\n",
        "plt.show()\n",
        "\n",
        "print ('Classification:')\n",
        "print(cnn.predict(np.array([input_image]))) #Our predict function expects a 2D array.\n",
        "#0 means dog, 1 means road"
      ],
      "execution_count": null,
      "outputs": [
        {
          "output_type": "stream",
          "text": [
            "(3072,)\n",
            "[193. 212. 218. ... 103. 106.  90.]\n"
          ],
          "name": "stdout"
        },
        {
          "output_type": "display_data",
          "data": {
            "image/png": "[encoded data removed]",
            "text/plain": [
              "<Figure size 432x288 with 1 Axes>"
            ]
          },
          "metadata": {
            "tags": [],
            "needs_background": "light"
          }
        },
        {
          "output_type": "stream",
          "text": [
            "Classification:\n"
          ],
          "name": "stdout"
        },
        {
          "output_type": "stream",
          "text": [
            "/usr/local/lib/python3.6/dist-packages/tensorflow/python/keras/engine/sequential.py:450: UserWarning: `model.predict_classes()` is deprecated and will be removed after 2021-01-01. Please use instead:* `np.argmax(model.predict(x), axis=-1)`,   if your model does multi-class classification   (e.g. if it uses a `softmax` last-layer activation).* `(model.predict(x) > 0.5).astype(\"int32\")`,   if your model does binary classification   (e.g. if it uses a `sigmoid` last-layer activation).\n",
            "  warnings.warn('`model.predict_classes()` is deprecated and '\n"
          ],
          "name": "stderr"
        },
        {
          "output_type": "stream",
          "text": [
            "1/1 - 0s\n",
            "[1]\n"
          ],
          "name": "stdout"
        }
      ]
    },
    {
      "cell_type": "markdown",
      "metadata": {
        "id": "c6P7DX_WcfOU"
      },
      "source": [
        "But why did the CNN reach that decision? It’s really hard to give a clear answer! The CNN relies on multiplying input features by the weights it has set. You can print out and look at the hundreds of weights:\n"
      ]
    },
    {
      "cell_type": "code",
      "metadata": {
        "id": "w8M8UZCgcpqO",
        "colab": {
          "base_uri": "https://localhost:8080/"
        },
        "outputId": "d0653146-6a4c-4481-9d62-89e4f77b6f26"
      },
      "source": [
        "#Warning: expect a large output!\n",
        "for layer_weights in history.model.weights:\n",
        "  print (layer_weights)"
      ],
      "execution_count": null,
      "outputs": [
        {
          "output_type": "stream",
          "text": [
            "<tf.Variable 'conv2d_40/kernel:0' shape=(3, 3, 3, 32) dtype=float32, numpy=\n",
            "array([[[[-0.06417362, -0.13687995,  0.1248968 , -0.01898942,\n",
            "          -0.04924843, -0.09466773,  0.08275083,  0.10087052,\n",
            "           0.02225139, -0.12957978,  0.08345703,  0.01477854,\n",
            "           0.05275253, -0.04135422,  0.09572094, -0.1368225 ,\n",
            "          -0.07674298, -0.12266897,  0.08296117,  0.08160777,\n",
            "           0.09504936,  0.06420456,  0.04368746,  0.07531445,\n",
            "           0.07155011, -0.08555235,  0.05941406,  0.10897878,\n",
            "          -0.04964972,  0.0206081 ,  0.11742578, -0.07695614],\n",
            "         [ 0.05484944, -0.07162901,  0.08247761, -0.11224785,\n",
            "          -0.04478329,  0.13821091, -0.00334004, -0.08998229,\n",
            "          -0.0088207 , -0.01007205,  0.01672836, -0.02887936,\n",
            "           0.0921778 ,  0.04649991,  0.10457706, -0.10249697,\n",
            "          -0.08026633,  0.06050625, -0.11130614,  0.02943493,\n",
            "           0.02243118,  0.0464627 , -0.12726337,  0.00364024,\n",
            "           0.02881029, -0.02524471,  0.07561751,  0.10958432,\n",
            "          -0.07329793, -0.01695016,  0.08402967, -0.11621761],\n",
            "         [ 0.0851583 ,  0.03283397,  0.01961634, -0.09516296,\n",
            "           0.10472413, -0.01495362, -0.00062977,  0.12331171,\n",
            "           0.02321397,  0.0070016 ,  0.11876388, -0.08265019,\n",
            "           0.06691763, -0.13119686, -0.10908785,  0.02889827,\n",
            "          -0.01593845, -0.09582201, -0.0891029 , -0.05646681,\n",
            "          -0.13134356,  0.04394915, -0.05811686,  0.12968463,\n",
            "          -0.12836649,  0.03389699, -0.05640283,  0.06786227,\n",
            "           0.03567218,  0.0296801 ,  0.02213715,  0.01407118]],\n",
            "\n",
            "        [[-0.12960264, -0.08448147,  0.07976076, -0.07249098,\n",
            "           0.11913931,  0.00877055,  0.0872914 ,  0.11366687,\n",
            "          -0.0185331 ,  0.01884279, -0.1352357 ,  0.05633854,\n",
            "          -0.13539888, -0.12484763,  0.04208509,  0.01657335,\n",
            "          -0.0928711 , -0.08926792, -0.12911159, -0.0811991 ,\n",
            "           0.09153596,  0.07256157,  0.08513921, -0.05263358,\n",
            "          -0.07201969, -0.01191245, -0.09880548,  0.04806994,\n",
            "          -0.05089077, -0.08757213,  0.1077394 , -0.07447319],\n",
            "         [ 0.07112363,  0.11334236, -0.11683142,  0.01422125,\n",
            "          -0.10593642,  0.00732765, -0.0145712 ,  0.00891532,\n",
            "           0.10998932,  0.01267816, -0.1059377 , -0.09361851,\n",
            "          -0.06056985,  0.11598552, -0.04924282,  0.00261131,\n",
            "          -0.13211983,  0.07845337, -0.04853087, -0.03290789,\n",
            "          -0.1304196 ,  0.1282654 ,  0.07945043, -0.1213522 ,\n",
            "          -0.05935805, -0.12274409,  0.11350784,  0.10537649,\n",
            "          -0.00494645,  0.07555109,  0.09118157,  0.0466043 ],\n",
            "         [ 0.04306456,  0.06453333,  0.06136457, -0.03546134,\n",
            "           0.06479508,  0.01224159,  0.12783207,  0.09092091,\n",
            "          -0.12731865, -0.07793599,  0.09652057,  0.01128234,\n",
            "          -0.0581942 , -0.12235322,  0.08828152,  0.02212791,\n",
            "           0.04693074,  0.10952713,  0.08726718, -0.12455421,\n",
            "           0.00931381, -0.02428873, -0.11075439,  0.11217556,\n",
            "           0.10386751,  0.10018495,  0.02644121,  0.09027012,\n",
            "           0.05468561, -0.08881143, -0.09692658,  0.07898528]],\n",
            "\n",
            "        [[-0.13852994,  0.07247829,  0.08573912,  0.05858723,\n",
            "           0.07232867,  0.0304608 ,  0.06685586,  0.0913863 ,\n",
            "           0.03423041, -0.11612058, -0.10286842, -0.07102743,\n",
            "           0.12588708, -0.06126405,  0.10893896, -0.05940676,\n",
            "           0.10122623,  0.02826785,  0.07039539, -0.02815006,\n",
            "          -0.00101108, -0.12176734,  0.01397353, -0.04757772,\n",
            "          -0.14318287,  0.03027617, -0.06627476,  0.09685834,\n",
            "          -0.03436882,  0.00401957, -0.01029603, -0.06138229],\n",
            "         [ 0.07497296, -0.07978152, -0.00760093,  0.1080883 ,\n",
            "          -0.04466594,  0.11212125, -0.06963503, -0.07748608,\n",
            "           0.09849958, -0.12384938, -0.13277222,  0.05038544,\n",
            "          -0.06527115,  0.04415623,  0.02184414, -0.11201879,\n",
            "           0.01128586, -0.01038582, -0.08024307, -0.01134474,\n",
            "          -0.0729904 , -0.10053232,  0.0458489 ,  0.05490624,\n",
            "           0.09862948, -0.10322975,  0.11548521,  0.13260487,\n",
            "          -0.1168249 , -0.03302344, -0.08947349,  0.0408666 ],\n",
            "         [ 0.03787059, -0.06633612,  0.04701967,  0.01776508,\n",
            "           0.09604876, -0.07397535,  0.04649232, -0.08184222,\n",
            "          -0.07367974,  0.08765484,  0.1184328 ,  0.021583  ,\n",
            "           0.12898935, -0.08348882,  0.00078257, -0.12571855,\n",
            "           0.03643453, -0.06403044, -0.00507135, -0.04641831,\n",
            "           0.04814665, -0.06667078, -0.1245422 ,  0.11289161,\n",
            "          -0.05015545,  0.10191141,  0.08372284, -0.03348479,\n",
            "           0.03020036, -0.03102538, -0.06991061,  0.02004634]]],\n",
            "\n",
            "\n",
            "       [[[-0.02726121,  0.03697927,  0.02390679, -0.0877072 ,\n",
            "          -0.00065266, -0.0784015 ,  0.01225806, -0.00919924,\n",
            "          -0.1289331 ,  0.12566267, -0.10546896, -0.04301661,\n",
            "          -0.0338815 ,  0.09598778,  0.00487241,  0.11754343,\n",
            "          -0.06949611, -0.05271516,  0.07618191,  0.00161193,\n",
            "           0.05745797, -0.04381309,  0.04443895, -0.08352368,\n",
            "           0.02635647,  0.02160384,  0.05829796,  0.12928303,\n",
            "          -0.03772147,  0.05594996, -0.123063  , -0.10185183],\n",
            "         [ 0.01896469,  0.05536361, -0.01352939,  0.1198306 ,\n",
            "           0.00740777,  0.06605443, -0.00543232, -0.13611677,\n",
            "           0.02244344,  0.04777038, -0.0087393 , -0.09095015,\n",
            "           0.01800569,  0.05317351, -0.11773089,  0.0644035 ,\n",
            "          -0.06092242, -0.06166643,  0.02875552, -0.11087908,\n",
            "          -0.03014096,  0.08284818, -0.04445108,  0.1138503 ,\n",
            "           0.03632961, -0.07436377,  0.12588304,  0.05291694,\n",
            "           0.0002074 ,  0.13500768, -0.10471319, -0.10991223],\n",
            "         [-0.02290544,  0.13461551, -0.00612421,  0.1062332 ,\n",
            "          -0.03267878,  0.09629435,  0.01539157, -0.07834132,\n",
            "           0.05546205,  0.04307639, -0.08950467, -0.11252112,\n",
            "           0.11205207,  0.11131926, -0.07307474, -0.00803387,\n",
            "           0.03712994,  0.05317603, -0.01806797, -0.10951802,\n",
            "           0.11768702,  0.10728481, -0.06901833,  0.01208635,\n",
            "          -0.13007484,  0.12343928, -0.10440921,  0.01951817,\n",
            "          -0.00634567, -0.05037232, -0.0163478 , -0.11333038]],\n",
            "\n",
            "        [[ 0.09689374,  0.11768946,  0.01484313, -0.08622645,\n",
            "          -0.09391584,  0.07459468,  0.08651751,  0.04786862,\n",
            "           0.09535652,  0.10382522, -0.12557074,  0.02363268,\n",
            "           0.12814254, -0.02074217, -0.05527791,  0.04003117,\n",
            "           0.10188182,  0.12488019, -0.08121089,  0.01052662,\n",
            "           0.07774382, -0.06226515,  0.12496644, -0.11794894,\n",
            "          -0.13491039, -0.13020056, -0.00164308, -0.05487791,\n",
            "          -0.07219863,  0.13021797,  0.12445086,  0.14255528],\n",
            "         [ 0.13367018,  0.04448169, -0.05499018, -0.0032965 ,\n",
            "          -0.00225486,  0.00292269, -0.13867073,  0.04278821,\n",
            "          -0.08696902,  0.04844994,  0.03092881,  0.124454  ,\n",
            "          -0.01885166,  0.0264914 , -0.11803661,  0.08471323,\n",
            "          -0.00426898,  0.02218999, -0.06541833, -0.12137947,\n",
            "          -0.01864271,  0.13387847, -0.10681342,  0.05792116,\n",
            "          -0.11254244,  0.09806748,  0.11970342, -0.11650492,\n",
            "           0.00439578, -0.09594794,  0.07345887,  0.00811076],\n",
            "         [-0.09643334,  0.10814618,  0.03577119,  0.048058  ,\n",
            "           0.03962036,  0.00063404,  0.07779058, -0.09735123,\n",
            "           0.11401094, -0.02971512, -0.02752189, -0.02045546,\n",
            "           0.06848605, -0.12457709,  0.11517108, -0.09621705,\n",
            "          -0.09775303, -0.05993815,  0.01305918, -0.00380957,\n",
            "           0.12198821,  0.02618976, -0.09779076,  0.07869807,\n",
            "           0.1126873 , -0.05116359,  0.10775015, -0.11030947,\n",
            "           0.04679974, -0.02329776,  0.1059392 ,  0.13343556]],\n",
            "\n",
            "        [[ 0.12738664, -0.08302467,  0.12748829,  0.0808942 ,\n",
            "           0.05400728, -0.09459104, -0.07724009,  0.0446898 ,\n",
            "           0.03642651,  0.08261264, -0.03984864,  0.05822866,\n",
            "           0.03496088, -0.10554776,  0.13409123,  0.01987508,\n",
            "           0.12375178, -0.09665862, -0.04052047,  0.02606471,\n",
            "          -0.08786561, -0.09682009,  0.12173521,  0.06859612,\n",
            "          -0.01201658,  0.0684441 , -0.0432935 ,  0.09077687,\n",
            "          -0.11481592, -0.01460829,  0.03415106,  0.0803042 ],\n",
            "         [ 0.11517595,  0.0867103 , -0.00508564, -0.09291378,\n",
            "          -0.07996363,  0.13678904, -0.01489389,  0.05138588,\n",
            "          -0.09650707, -0.0929883 , -0.03702139,  0.03935241,\n",
            "           0.08069008,  0.03107105,  0.01380217, -0.06251756,\n",
            "          -0.00068235,  0.03365923, -0.08907218,  0.05751398,\n",
            "          -0.06275494,  0.08897293,  0.06749341, -0.08392315,\n",
            "          -0.11220194, -0.06877214, -0.13076398,  0.13130225,\n",
            "          -0.12248775, -0.03160174, -0.04740249, -0.00312723],\n",
            "         [ 0.03692804, -0.14049684, -0.07131439,  0.04328797,\n",
            "           0.04405601,  0.07732413, -0.00955701,  0.07520467,\n",
            "          -0.11610764,  0.03999404, -0.02080663, -0.07492752,\n",
            "           0.1316236 , -0.13152303, -0.08111736, -0.05214937,\n",
            "          -0.11734916, -0.05231715,  0.03245449,  0.04400425,\n",
            "           0.05080171,  0.0018548 ,  0.08560449, -0.09430622,\n",
            "           0.09704266, -0.01787485, -0.01674941, -0.06681231,\n",
            "           0.04011976, -0.11186036, -0.07482184, -0.07309707]]],\n",
            "\n",
            "\n",
            "       [[[ 0.0293318 ,  0.02669032, -0.05981753,  0.1339139 ,\n",
            "          -0.05640784, -0.03770529, -0.07569728,  0.03999469,\n",
            "          -0.1180237 , -0.01236436, -0.07713573,  0.02491132,\n",
            "           0.10419025, -0.03018571, -0.12267181,  0.05814706,\n",
            "           0.04742476,  0.07508284,  0.06014508, -0.05228716,\n",
            "          -0.07896072,  0.00432129,  0.1252941 ,  0.12928735,\n",
            "           0.02947653,  0.01266789, -0.11331879,  0.01079305,\n",
            "          -0.0834898 ,  0.08777588, -0.01537482,  0.08918772],\n",
            "         [-0.09669316,  0.08380719, -0.03806561, -0.02955554,\n",
            "          -0.09811775, -0.07722031,  0.08601998, -0.00758276,\n",
            "          -0.13333476, -0.00569773, -0.07556286, -0.00167729,\n",
            "           0.01625461,  0.04670918,  0.05562936,  0.12338084,\n",
            "           0.02244668, -0.12483355, -0.02493238,  0.11904228,\n",
            "          -0.04245315,  0.021335  ,  0.03442624, -0.09604271,\n",
            "           0.06054665, -0.10074949, -0.06750198,  0.06336522,\n",
            "          -0.05764353,  0.02364124,  0.09226487,  0.1373182 ],\n",
            "         [-0.1293039 , -0.08079713,  0.00743597, -0.03021241,\n",
            "          -0.04777554,  0.13449553, -0.00356012,  0.04545505,\n",
            "          -0.08585867, -0.06840748, -0.06229448,  0.06811572,\n",
            "          -0.06593275, -0.00779731, -0.02120618, -0.01524344,\n",
            "          -0.08887327, -0.02298656,  0.08051869, -0.06317243,\n",
            "           0.03906235, -0.0576604 , -0.07435085,  0.08410081,\n",
            "          -0.10773179, -0.07182052, -0.0395248 ,  0.10425614,\n",
            "          -0.00384483, -0.0074968 , -0.0954274 , -0.07708465]],\n",
            "\n",
            "        [[ 0.06362502,  0.08612582,  0.00070916,  0.00175398,\n",
            "           0.04819115, -0.07180791,  0.12342187, -0.05817571,\n",
            "          -0.13249035,  0.06101812, -0.01433772,  0.0871264 ,\n",
            "          -0.10311303,  0.0948934 , -0.06001416,  0.10187764,\n",
            "           0.06358314, -0.01933814, -0.02648197, -0.1234942 ,\n",
            "           0.09206594,  0.04788548,  0.10609818,  0.12948914,\n",
            "          -0.11225557, -0.11699015, -0.09262869, -0.12620068,\n",
            "           0.03094261,  0.03492892,  0.04787848,  0.0012698 ],\n",
            "         [ 0.01775935, -0.06120315, -0.06861777, -0.04846269,\n",
            "           0.08037151,  0.03764004,  0.04416395,  0.12462875,\n",
            "          -0.13275522,  0.09864467,  0.05994442,  0.0307768 ,\n",
            "          -0.1044105 , -0.12325651, -0.0561713 , -0.14105853,\n",
            "           0.1263019 , -0.00782407, -0.07003005, -0.05088357,\n",
            "           0.00797084,  0.10831129,  0.06967919, -0.01765579,\n",
            "          -0.13966468,  0.09628   , -0.01969936, -0.12107004,\n",
            "           0.07864926, -0.1232219 ,  0.02331601, -0.02862361],\n",
            "         [ 0.0475031 , -0.06723372,  0.0636665 , -0.13965   ,\n",
            "           0.06234652,  0.09921372,  0.05821528, -0.10679182,\n",
            "           0.07311172,  0.02139707, -0.08259907,  0.08839062,\n",
            "           0.01198522,  0.05444016,  0.12896974, -0.07692445,\n",
            "           0.03863037,  0.08515568,  0.00845467, -0.06554831,\n",
            "           0.08631808,  0.06321901,  0.03919128,  0.10431819,\n",
            "          -0.11298142, -0.0686369 ,  0.11621787, -0.01524086,\n",
            "           0.09931701,  0.14773859,  0.10004248,  0.08885631]],\n",
            "\n",
            "        [[-0.12327155,  0.03306473, -0.10428534,  0.09988596,\n",
            "          -0.04566395, -0.0918477 ,  0.00263411, -0.07231229,\n",
            "           0.13265425,  0.01015125, -0.12431217, -0.11494416,\n",
            "           0.12717457,  0.02910903, -0.10176851,  0.08650786,\n",
            "           0.08277842, -0.03239491, -0.01690041,  0.07723407,\n",
            "          -0.00737427, -0.07623696, -0.01864472, -0.0102261 ,\n",
            "           0.08880425, -0.10576092, -0.09717739,  0.05733697,\n",
            "          -0.03041397, -0.12086911,  0.06619838,  0.04334175],\n",
            "         [ 0.04984004, -0.12217041, -0.07530551,  0.00018167,\n",
            "           0.09647666, -0.05962132,  0.03916528,  0.08712214,\n",
            "          -0.11451261, -0.00529747, -0.11219694,  0.03205948,\n",
            "           0.01853683, -0.07341221,  0.08699152, -0.10243002,\n",
            "           0.0046778 ,  0.08342092,  0.1020818 , -0.13773727,\n",
            "           0.07798429,  0.07808562, -0.05546769, -0.08573931,\n",
            "          -0.09641607,  0.11853345, -0.05141925,  0.02926828,\n",
            "           0.12665194,  0.1340943 ,  0.0798199 , -0.08544925],\n",
            "         [ 0.05827865,  0.05013494, -0.0996097 ,  0.05695439,\n",
            "          -0.04269331,  0.02552817, -0.09071305, -0.08608714,\n",
            "          -0.11285004,  0.11062959, -0.14032173,  0.12915021,\n",
            "           0.06704073,  0.10347119, -0.03960995,  0.0095558 ,\n",
            "          -0.02854363, -0.06875002,  0.11022288, -0.0507542 ,\n",
            "          -0.09191224,  0.10317106,  0.02527809, -0.07495516,\n",
            "           0.0749077 ,  0.02979608,  0.08447158,  0.02885911,\n",
            "          -0.00877648, -0.07421432, -0.08590518, -0.00719885]]]],\n",
            "      dtype=float32)>\n",
            "<tf.Variable 'conv2d_40/bias:0' shape=(32,) dtype=float32, numpy=\n",
            "array([ 6.05928479e-03, -4.33391193e-03, -7.09724519e-03, -1.38848396e-02,\n",
            "       -5.43984701e-04,  8.55789799e-03, -8.37469939e-03, -9.38649755e-03,\n",
            "        5.13356179e-04,  2.46575597e-04, -8.14741943e-03, -6.24813620e-05,\n",
            "       -1.35343093e-02, -1.51043888e-02,  3.69145419e-03, -7.16761919e-03,\n",
            "       -1.66030906e-04,  6.34030730e-04,  1.58434478e-03, -4.41198703e-03,\n",
            "       -9.82977543e-03,  7.93883204e-03, -8.51530768e-03, -1.06908791e-02,\n",
            "       -1.12696914e-02, -1.98690384e-03,  3.91611969e-03, -9.76004265e-03,\n",
            "       -1.29042380e-03,  1.34078525e-02,  3.09002469e-03, -3.49454721e-03],\n",
            "      dtype=float32)>\n",
            "<tf.Variable 'conv2d_41/kernel:0' shape=(3, 3, 32, 32) dtype=float32, numpy=\n",
            "array([[[[-0.06495287,  0.03372209, -0.0615332 , ..., -0.06884395,\n",
            "          -0.0127216 , -0.04949609],\n",
            "         [ 0.01737813, -0.07525907,  0.09277217, ...,  0.01057041,\n",
            "          -0.0718758 , -0.01110403],\n",
            "         [-0.11316654, -0.04532174,  0.04381194, ..., -0.06679973,\n",
            "           0.04748478,  0.09250512],\n",
            "         ...,\n",
            "         [-0.03690273, -0.07416162, -0.07155916, ..., -0.0522067 ,\n",
            "           0.00973872, -0.07312962],\n",
            "         [ 0.05670822, -0.08400051, -0.06041599, ...,  0.00307683,\n",
            "          -0.05982297, -0.08049608],\n",
            "         [-0.03707175, -0.08999006,  0.01417731, ..., -0.10003612,\n",
            "          -0.07843891, -0.06379322]],\n",
            "\n",
            "        [[-0.0802044 ,  0.03532555, -0.00829017, ...,  0.0405611 ,\n",
            "          -0.01365329, -0.09341613],\n",
            "         [-0.00630481, -0.03900669,  0.06618022, ..., -0.10608118,\n",
            "          -0.08391858,  0.09605064],\n",
            "         [-0.00205583, -0.03301866,  0.0615138 , ..., -0.10608415,\n",
            "          -0.02259985,  0.05176119],\n",
            "         ...,\n",
            "         [-0.06337462,  0.08661868,  0.0793198 , ..., -0.00174139,\n",
            "           0.05307637, -0.02498393],\n",
            "         [ 0.05263028, -0.04900473, -0.003224  , ...,  0.0407134 ,\n",
            "           0.01953911, -0.06754132],\n",
            "         [ 0.0676417 , -0.09121677,  0.08280735, ..., -0.08533518,\n",
            "          -0.00904792,  0.06226183]],\n",
            "\n",
            "        [[-0.09714434, -0.0357945 ,  0.08518691, ...,  0.06146422,\n",
            "          -0.05145106,  0.06896215],\n",
            "         [ 0.075174  ,  0.070728  ,  0.05834647, ...,  0.0222796 ,\n",
            "           0.08422618, -0.03107704],\n",
            "         [ 0.02568559, -0.0118885 ,  0.00680955, ..., -0.05542409,\n",
            "          -0.05227831, -0.03950183],\n",
            "         ...,\n",
            "         [ 0.00063807,  0.06294278, -0.04142067, ...,  0.00616772,\n",
            "           0.03944439, -0.07472266],\n",
            "         [ 0.09968931, -0.03521578,  0.06250605, ...,  0.01313383,\n",
            "          -0.03430039,  0.00915498],\n",
            "         [ 0.0952364 , -0.02822606,  0.02414185, ..., -0.00825763,\n",
            "          -0.04277251,  0.02238606]]],\n",
            "\n",
            "\n",
            "       [[[ 0.08475143,  0.02176472,  0.05289426, ...,  0.00182886,\n",
            "           0.05900196, -0.08115082],\n",
            "         [ 0.02793003,  0.09004161, -0.07817822, ..., -0.05319642,\n",
            "           0.00450145,  0.05675755],\n",
            "         [ 0.04887082,  0.0898464 ,  0.0262275 , ..., -0.0339629 ,\n",
            "          -0.08325542,  0.06423851],\n",
            "         ...,\n",
            "         [ 0.00568784,  0.07762437,  0.00964882, ...,  0.08603284,\n",
            "           0.04720398, -0.10106023],\n",
            "         [-0.09562   ,  0.01914014, -0.10287727, ...,  0.07025075,\n",
            "           0.07945601,  0.0044155 ],\n",
            "         [ 0.04790204, -0.08466036, -0.08280082, ...,  0.04351836,\n",
            "           0.04279395, -0.0944184 ]],\n",
            "\n",
            "        [[-0.05193003,  0.05416206,  0.04264765, ..., -0.07774446,\n",
            "           0.095433  , -0.09003147],\n",
            "         [ 0.03067778, -0.01713536, -0.02046045, ..., -0.03119559,\n",
            "          -0.0848533 , -0.07579859],\n",
            "         [ 0.1016041 ,  0.07920966,  0.06441735, ..., -0.02090007,\n",
            "          -0.07817292,  0.03618636],\n",
            "         ...,\n",
            "         [-0.06442689,  0.0228721 , -0.08061101, ..., -0.03038993,\n",
            "           0.02575889, -0.09960663],\n",
            "         [-0.07919263,  0.08887152,  0.02387571, ..., -0.01221342,\n",
            "          -0.02215762, -0.04874241],\n",
            "         [-0.09055144,  0.08730862,  0.07901612, ...,  0.07446401,\n",
            "          -0.06754961,  0.03208849]],\n",
            "\n",
            "        [[ 0.02996245, -0.00622402, -0.05381473, ..., -0.10356081,\n",
            "           0.04050587, -0.08621181],\n",
            "         [ 0.0717981 ,  0.08535361, -0.03919203, ...,  0.02430037,\n",
            "           0.07977437, -0.09647536],\n",
            "         [ 0.00082265,  0.073622  ,  0.06692789, ..., -0.09352071,\n",
            "           0.08156565,  0.03601917],\n",
            "         ...,\n",
            "         [-0.02344556, -0.05393894,  0.02462542, ..., -0.06559666,\n",
            "          -0.10135041, -0.03607055],\n",
            "         [ 0.05497766,  0.08340863,  0.05082446, ...,  0.00967404,\n",
            "           0.07603564, -0.02582616],\n",
            "         [ 0.09816703,  0.07852361,  0.03764804, ...,  0.06012096,\n",
            "           0.09661124,  0.08389803]]],\n",
            "\n",
            "\n",
            "       [[[ 0.01439247, -0.07923938,  0.02242915, ...,  0.06369145,\n",
            "          -0.04949095, -0.08869939],\n",
            "         [-0.08319985,  0.04331223, -0.02115824, ...,  0.07664537,\n",
            "           0.01351877,  0.07674113],\n",
            "         [-0.01976127,  0.0578978 , -0.07389141, ..., -0.01957146,\n",
            "           0.07710009,  0.06554519],\n",
            "         ...,\n",
            "         [-0.06459787, -0.0432648 , -0.07123326, ...,  0.03370028,\n",
            "          -0.01569119, -0.06947425],\n",
            "         [-0.05705456, -0.079998  , -0.02770078, ..., -0.08165497,\n",
            "          -0.06826973,  0.08507392],\n",
            "         [-0.07404861,  0.02844859, -0.08685298, ..., -0.06717074,\n",
            "           0.06321365,  0.02713728]],\n",
            "\n",
            "        [[-0.08753629,  0.02856001, -0.06183635, ..., -0.03831838,\n",
            "          -0.03846107,  0.04587974],\n",
            "         [-0.02625511,  0.00704281,  0.05330903, ...,  0.03636145,\n",
            "          -0.02683851, -0.01842381],\n",
            "         [-0.04487868, -0.11566483, -0.07532799, ..., -0.01616101,\n",
            "          -0.03240479, -0.0525639 ],\n",
            "         ...,\n",
            "         [-0.00588969,  0.03460369, -0.0862466 , ..., -0.0802172 ,\n",
            "          -0.08488297, -0.04439036],\n",
            "         [-0.0027196 ,  0.09384207,  0.03281811, ...,  0.04116254,\n",
            "           0.01518655, -0.04485789],\n",
            "         [ 0.0393792 , -0.06719904, -0.09014212, ...,  0.07986202,\n",
            "           0.09087826, -0.08514751]],\n",
            "\n",
            "        [[ 0.01992176, -0.02181819,  0.06097486, ...,  0.05970903,\n",
            "           0.07888222, -0.0552328 ],\n",
            "         [ 0.07085119,  0.03697769, -0.06221974, ..., -0.0733907 ,\n",
            "           0.0867743 , -0.01625714],\n",
            "         [ 0.07912654, -0.01002941,  0.00907901, ..., -0.01131085,\n",
            "           0.08565017, -0.07252227],\n",
            "         ...,\n",
            "         [-0.01060971, -0.05692213,  0.04949535, ..., -0.06611919,\n",
            "           0.10481992,  0.05666324],\n",
            "         [ 0.06650949,  0.00874727,  0.09412533, ..., -0.04098569,\n",
            "          -0.02087707, -0.08395838],\n",
            "         [-0.01165811,  0.08850668,  0.08327948, ..., -0.00672846,\n",
            "           0.09407959, -0.0705631 ]]]], dtype=float32)>\n",
            "<tf.Variable 'conv2d_41/bias:0' shape=(32,) dtype=float32, numpy=\n",
            "array([ 0.00251507, -0.01213074, -0.00726734, -0.0042391 ,  0.00116901,\n",
            "        0.00024815,  0.0101443 , -0.00354542,  0.00336909,  0.01445582,\n",
            "        0.00729935,  0.00270421,  0.00857828, -0.00132868, -0.00264112,\n",
            "       -0.0058736 ,  0.00196114,  0.00795014, -0.00062145, -0.00873856,\n",
            "       -0.00572131, -0.00565659, -0.00054458,  0.0052429 , -0.00099212,\n",
            "       -0.00513092,  0.0065195 , -0.00676718,  0.00416936, -0.00691869,\n",
            "        0.00572433, -0.00347406], dtype=float32)>\n",
            "<tf.Variable 'conv2d_42/kernel:0' shape=(3, 3, 32, 32) dtype=float32, numpy=\n",
            "array([[[[-0.04065876, -0.00265492, -0.0567616 , ...,  0.0475977 ,\n",
            "           0.02777559, -0.06102442],\n",
            "         [ 0.00447934, -0.0947613 ,  0.00272384, ..., -0.07185264,\n",
            "           0.03517227, -0.00136831],\n",
            "         [ 0.00602817,  0.08385724,  0.08843713, ...,  0.05963733,\n",
            "           0.07777192, -0.10198156],\n",
            "         ...,\n",
            "         [-0.08547716,  0.06009686, -0.01214909, ..., -0.02089915,\n",
            "          -0.0712181 ,  0.0137226 ],\n",
            "         [ 0.04279394, -0.08223747,  0.09512797, ..., -0.05662896,\n",
            "           0.03209079, -0.00171712],\n",
            "         [-0.03304663,  0.07833773,  0.04697597, ..., -0.05977889,\n",
            "           0.04541241, -0.09224683]],\n",
            "\n",
            "        [[-0.03704124, -0.02135581,  0.00556344, ...,  0.05769503,\n",
            "           0.0628525 , -0.07864793],\n",
            "         [ 0.00333567,  0.09753251,  0.02770646, ...,  0.05755356,\n",
            "          -0.00840985,  0.02873734],\n",
            "         [ 0.09879921, -0.03377686,  0.09341034, ...,  0.01368469,\n",
            "          -0.06772233, -0.09530599],\n",
            "         ...,\n",
            "         [-0.0240633 , -0.03129917, -0.04285518, ..., -0.04612814,\n",
            "           0.0926865 ,  0.0302226 ],\n",
            "         [-0.10245696,  0.05243124, -0.0235156 , ..., -0.02561824,\n",
            "           0.05564373, -0.08558367],\n",
            "         [-0.05957337,  0.01628322, -0.04771444, ...,  0.03519111,\n",
            "           0.03551902, -0.09841003]],\n",
            "\n",
            "        [[ 0.01725981, -0.0213721 ,  0.02591926, ..., -0.01350327,\n",
            "           0.04269043,  0.03970316],\n",
            "         [ 0.00404112,  0.01643199, -0.03424613, ..., -0.03375728,\n",
            "          -0.03964943, -0.09910576],\n",
            "         [ 0.01049156,  0.00357396, -0.02662912, ..., -0.01387136,\n",
            "           0.0598969 , -0.0619354 ],\n",
            "         ...,\n",
            "         [ 0.04663729, -0.08458921,  0.00951288, ...,  0.01909859,\n",
            "          -0.06537527, -0.01375427],\n",
            "         [ 0.077383  ,  0.00311651,  0.01057277, ...,  0.05865845,\n",
            "           0.07044856, -0.02559386],\n",
            "         [ 0.02339718,  0.01263236, -0.0635617 , ...,  0.02454095,\n",
            "          -0.08442111,  0.02954593]]],\n",
            "\n",
            "\n",
            "       [[[-0.01423605,  0.10035754, -0.00798204, ..., -0.06182952,\n",
            "           0.09778117,  0.03440434],\n",
            "         [-0.09547728,  0.08660064,  0.05548692, ...,  0.04834874,\n",
            "          -0.05753605,  0.0591628 ],\n",
            "         [ 0.02900796,  0.05642788,  0.01706731, ..., -0.00606906,\n",
            "           0.09407225, -0.05344796],\n",
            "         ...,\n",
            "         [-0.03896235, -0.04196737, -0.06329608, ..., -0.0750709 ,\n",
            "           0.01088858,  0.02395104],\n",
            "         [ 0.07293288,  0.03067303,  0.01921012, ...,  0.04425586,\n",
            "           0.01600205,  0.11439316],\n",
            "         [ 0.01270282,  0.08062627, -0.06370189, ...,  0.04718143,\n",
            "           0.03330308,  0.00320486]],\n",
            "\n",
            "        [[-0.00809266, -0.02824158, -0.04711319, ...,  0.07295603,\n",
            "           0.03481602,  0.06889257],\n",
            "         [-0.02735441, -0.00058763,  0.0406632 , ..., -0.01044431,\n",
            "           0.04755896,  0.02934139],\n",
            "         [-0.08397365, -0.03526282,  0.01445468, ..., -0.09205084,\n",
            "          -0.06572529,  0.05323512],\n",
            "         ...,\n",
            "         [ 0.01795559,  0.03175887,  0.0668226 , ...,  0.0162412 ,\n",
            "          -0.00158768,  0.06720617],\n",
            "         [ 0.08912072, -0.00952975, -0.01227029, ...,  0.07205627,\n",
            "           0.03883989,  0.09594885],\n",
            "         [ 0.07834671,  0.02430179,  0.02969405, ...,  0.00860967,\n",
            "          -0.0719787 , -0.05397635]],\n",
            "\n",
            "        [[-0.04208855, -0.08191157, -0.02825869, ...,  0.1083056 ,\n",
            "           0.07022462,  0.02257922],\n",
            "         [-0.07394468,  0.09782075, -0.07638718, ..., -0.03058304,\n",
            "          -0.00194641,  0.00625631],\n",
            "         [ 0.06109611, -0.10243451,  0.07995353, ..., -0.02664321,\n",
            "          -0.05625268,  0.01158914],\n",
            "         ...,\n",
            "         [ 0.00915706,  0.04908241,  0.01060459, ..., -0.06895826,\n",
            "           0.07086638, -0.02984031],\n",
            "         [-0.06839393,  0.04285534,  0.04527447, ...,  0.02338267,\n",
            "          -0.01246744,  0.06751193],\n",
            "         [ 0.05045076,  0.00219153,  0.03629716, ..., -0.0556912 ,\n",
            "          -0.04176114,  0.0735095 ]]],\n",
            "\n",
            "\n",
            "       [[[-0.00344494, -0.04923385,  0.06781041, ..., -0.06598205,\n",
            "          -0.04266119, -0.10289187],\n",
            "         [-0.02215478,  0.09766047, -0.0104226 , ...,  0.04303996,\n",
            "           0.0491906 ,  0.0899486 ],\n",
            "         [ 0.01044475,  0.07452525, -0.02711874, ...,  0.02915596,\n",
            "           0.04234155, -0.04144244],\n",
            "         ...,\n",
            "         [-0.03557251, -0.05530436, -0.06876874, ..., -0.10060167,\n",
            "          -0.0420298 , -0.02414843],\n",
            "         [-0.03372879, -0.00314664, -0.02312735, ...,  0.08003371,\n",
            "          -0.0048079 , -0.05163574],\n",
            "         [ 0.08147657,  0.0579275 , -0.0233226 , ..., -0.09735381,\n",
            "          -0.05137083,  0.04124365]],\n",
            "\n",
            "        [[-0.0065552 ,  0.02562445,  0.02605342, ..., -0.09899452,\n",
            "          -0.02729431, -0.08654292],\n",
            "         [-0.05707746,  0.06273989,  0.0605556 , ..., -0.07519443,\n",
            "           0.02875097,  0.00453372],\n",
            "         [ 0.03423617, -0.06145776, -0.10563148, ..., -0.07758059,\n",
            "          -0.04805999,  0.06463704],\n",
            "         ...,\n",
            "         [-0.01217861, -0.04698952, -0.00495785, ...,  0.0957097 ,\n",
            "           0.09740877,  0.05892946],\n",
            "         [ 0.04125976,  0.07030272, -0.03071345, ..., -0.0929511 ,\n",
            "           0.0088963 , -0.02875413],\n",
            "         [-0.04871029,  0.0398967 ,  0.08638048, ...,  0.07492683,\n",
            "          -0.06846809, -0.03739201]],\n",
            "\n",
            "        [[ 0.03835701,  0.08236714, -0.06288005, ..., -0.06749766,\n",
            "          -0.08014785,  0.03411257],\n",
            "         [-0.08127776,  0.08776931,  0.05979971, ...,  0.00474013,\n",
            "          -0.05068565, -0.0479422 ],\n",
            "         [ 0.00100734,  0.05426037, -0.07987387, ..., -0.01028172,\n",
            "           0.03257458,  0.07657778],\n",
            "         ...,\n",
            "         [ 0.05485409,  0.06048864,  0.07170546, ..., -0.00410076,\n",
            "          -0.08303233, -0.00271415],\n",
            "         [-0.00997431,  0.02597966,  0.01130552, ..., -0.01870859,\n",
            "          -0.10636945, -0.07497113],\n",
            "         [-0.03251833,  0.04388409, -0.0581754 , ..., -0.022517  ,\n",
            "           0.07328465,  0.07314924]]]], dtype=float32)>\n",
            "<tf.Variable 'conv2d_42/bias:0' shape=(32,) dtype=float32, numpy=\n",
            "array([ 4.33488237e-03, -1.07762041e-02, -1.04683805e-02,  1.01400716e-02,\n",
            "        3.57216364e-03, -1.13154798e-04, -1.17600977e-03, -5.21897782e-05,\n",
            "        1.07086822e-02,  5.84239233e-03,  1.86641060e-03, -2.39413421e-04,\n",
            "        2.22991011e-03,  3.82559723e-03,  4.44570929e-03,  7.76001194e-04,\n",
            "        1.50027184e-03, -1.40010007e-03, -4.26650047e-03, -5.61470119e-03,\n",
            "       -7.35901936e-04, -3.42904893e-03, -3.78522091e-03,  3.39980191e-03,\n",
            "       -5.66905318e-03,  1.40176725e-03, -4.20697453e-03, -1.01343961e-02,\n",
            "       -1.05004124e-02,  7.71979801e-03, -4.35994379e-03, -6.68083085e-03],\n",
            "      dtype=float32)>\n",
            "<tf.Variable 'conv2d_43/kernel:0' shape=(3, 3, 32, 32) dtype=float32, numpy=\n",
            "array([[[[-0.0404323 , -0.03754001, -0.04803324, ..., -0.06221615,\n",
            "           0.02562258, -0.01734024],\n",
            "         [ 0.03013496,  0.07572439, -0.05523463, ...,  0.01855218,\n",
            "           0.03130839, -0.01320721],\n",
            "         [ 0.07264569,  0.01221485, -0.08529928, ..., -0.00837492,\n",
            "          -0.05572366,  0.00797864],\n",
            "         ...,\n",
            "         [-0.00659512, -0.03540299, -0.02273502, ..., -0.09190828,\n",
            "          -0.01718058, -0.06412008],\n",
            "         [ 0.08676075, -0.01095753, -0.09139758, ...,  0.07978817,\n",
            "          -0.03788047, -0.09085159],\n",
            "         [-0.01934546,  0.00119057,  0.0877568 , ...,  0.04582348,\n",
            "           0.07949286,  0.07332379]],\n",
            "\n",
            "        [[-0.01035869, -0.07077915,  0.04810483, ...,  0.08190621,\n",
            "           0.09734199,  0.05152617],\n",
            "         [-0.05153002,  0.00070014,  0.0504266 , ...,  0.02384447,\n",
            "           0.04538608, -0.08962247],\n",
            "         [-0.02270835, -0.07211255, -0.03059625, ..., -0.07288013,\n",
            "           0.00597621, -0.07990542],\n",
            "         ...,\n",
            "         [ 0.09400994,  0.02336622,  0.03633759, ..., -0.05664714,\n",
            "           0.05709594,  0.0353055 ],\n",
            "         [ 0.09868051,  0.06028923, -0.02904026, ...,  0.04443766,\n",
            "          -0.04423781,  0.08952478],\n",
            "         [ 0.0954893 , -0.02363595, -0.08583808, ...,  0.03189299,\n",
            "           0.02273479,  0.07544278]],\n",
            "\n",
            "        [[-0.00091523,  0.05961725,  0.0817581 , ..., -0.00855671,\n",
            "           0.00377609, -0.07168394],\n",
            "         [ 0.06560923,  0.07654986,  0.08203291, ..., -0.07660043,\n",
            "           0.0295627 ,  0.02883497],\n",
            "         [ 0.01924353, -0.01866422, -0.07239175, ..., -0.02632323,\n",
            "           0.09105127, -0.09019834],\n",
            "         ...,\n",
            "         [ 0.08412226, -0.02751403,  0.01577454, ..., -0.06709372,\n",
            "          -0.05117892,  0.08895147],\n",
            "         [-0.04262181,  0.07985401, -0.08199552, ...,  0.09136594,\n",
            "          -0.06848851, -0.00168964],\n",
            "         [-0.05245121,  0.08664817, -0.00927791, ..., -0.0897784 ,\n",
            "           0.03662476, -0.02404983]]],\n",
            "\n",
            "\n",
            "       [[[-0.07050886, -0.01535506,  0.09235946, ...,  0.10308599,\n",
            "          -0.02508932, -0.06669088],\n",
            "         [-0.02824862,  0.04383531, -0.0691753 , ..., -0.08697179,\n",
            "           0.00680663,  0.06144344],\n",
            "         [-0.01879329,  0.07464196, -0.08970694, ...,  0.06681722,\n",
            "           0.00442017, -0.08117378],\n",
            "         ...,\n",
            "         [ 0.03553815, -0.08702338,  0.07748524, ...,  0.02533554,\n",
            "           0.03524622,  0.08742077],\n",
            "         [-0.09279663, -0.10517074, -0.04854686, ...,  0.09412541,\n",
            "          -0.03197367, -0.04684301],\n",
            "         [-0.10120907,  0.0416318 ,  0.05977952, ..., -0.06436806,\n",
            "           0.04935447,  0.04963188]],\n",
            "\n",
            "        [[ 0.01090017,  0.01383929, -0.06020694, ...,  0.07071385,\n",
            "          -0.02871813, -0.07690055],\n",
            "         [-0.03804261, -0.02748506, -0.09209607, ..., -0.00451162,\n",
            "          -0.10322624,  0.00552917],\n",
            "         [-0.02226602, -0.06284377, -0.05018717, ...,  0.06321744,\n",
            "           0.02356811, -0.09036676],\n",
            "         ...,\n",
            "         [ 0.04633585, -0.00912196,  0.08716986, ...,  0.01359352,\n",
            "          -0.0613345 ,  0.04111707],\n",
            "         [ 0.05471883, -0.09979698,  0.0391906 , ..., -0.08926081,\n",
            "           0.04329932, -0.03658928],\n",
            "         [-0.07076875, -0.06221149, -0.022709  , ..., -0.05201822,\n",
            "           0.05506885, -0.00802465]],\n",
            "\n",
            "        [[-0.02194347,  0.03060429,  0.00296025, ...,  0.0227743 ,\n",
            "          -0.01714649, -0.0381221 ],\n",
            "         [ 0.09692845,  0.01099459, -0.04310548, ..., -0.09860136,\n",
            "          -0.10449904,  0.02219053],\n",
            "         [-0.00363587, -0.00078444, -0.08985461, ...,  0.05487016,\n",
            "           0.09511659, -0.01683662],\n",
            "         ...,\n",
            "         [ 0.05515255, -0.06338998, -0.06126896, ..., -0.02527156,\n",
            "           0.06963793,  0.0892771 ],\n",
            "         [ 0.09024993,  0.06596677,  0.06576271, ..., -0.06681186,\n",
            "          -0.07986668,  0.07435695],\n",
            "         [ 0.02241216,  0.08924689,  0.09512182, ...,  0.06017608,\n",
            "          -0.08334768, -0.05384832]]],\n",
            "\n",
            "\n",
            "       [[[-0.09648013, -0.09074848,  0.02065549, ...,  0.01075202,\n",
            "           0.04151159, -0.00028944],\n",
            "         [ 0.02769129,  0.07197388,  0.1068337 , ..., -0.05168165,\n",
            "          -0.05167887,  0.08217219],\n",
            "         [-0.04280958,  0.02349005, -0.08936817, ..., -0.02589973,\n",
            "          -0.11000701,  0.04117407],\n",
            "         ...,\n",
            "         [ 0.09741843, -0.07281268,  0.03267905, ..., -0.07683869,\n",
            "           0.07611939, -0.04387606],\n",
            "         [ 0.03699119, -0.04564533,  0.02532878, ..., -0.0238573 ,\n",
            "          -0.04690436, -0.00892082],\n",
            "         [ 0.02537197, -0.02492592, -0.02057718, ...,  0.0662633 ,\n",
            "          -0.03995469, -0.02650989]],\n",
            "\n",
            "        [[-0.03859582, -0.09944827, -0.05216159, ..., -0.05843136,\n",
            "           0.07256608,  0.07525178],\n",
            "         [ 0.05403245,  0.08692888, -0.08580277, ...,  0.00223018,\n",
            "          -0.10565598,  0.0924435 ],\n",
            "         [-0.02393568,  0.02277377,  0.06808721, ...,  0.09142382,\n",
            "           0.02771715,  0.02378801],\n",
            "         ...,\n",
            "         [-0.08327834,  0.06439061,  0.07911518, ...,  0.08966505,\n",
            "           0.06892071,  0.01329359],\n",
            "         [ 0.05153172, -0.07161467, -0.04202015, ...,  0.00866866,\n",
            "          -0.03727738, -0.03335859],\n",
            "         [-0.08569061, -0.04066253, -0.0640148 , ...,  0.05078164,\n",
            "           0.03159406, -0.08416763]],\n",
            "\n",
            "        [[ 0.09426858,  0.0174149 , -0.02829701, ..., -0.02418265,\n",
            "           0.01012373, -0.06707891],\n",
            "         [-0.0471227 ,  0.00628517,  0.08002289, ...,  0.10737733,\n",
            "          -0.04124426,  0.00178261],\n",
            "         [ 0.0507665 ,  0.04616567,  0.08013187, ...,  0.09593569,\n",
            "           0.07600338, -0.01493624],\n",
            "         ...,\n",
            "         [-0.02161977,  0.0345542 ,  0.00902414, ...,  0.02961158,\n",
            "          -0.0837051 ,  0.00944481],\n",
            "         [-0.00019376,  0.04856337,  0.02181532, ...,  0.00985078,\n",
            "           0.10807028, -0.09323119],\n",
            "         [-0.05299456,  0.07478961,  0.11412437, ...,  0.08201522,\n",
            "           0.08450537, -0.04237432]]]], dtype=float32)>\n",
            "<tf.Variable 'conv2d_43/bias:0' shape=(32,) dtype=float32, numpy=\n",
            "array([-0.00794552, -0.00709027,  0.01212576,  0.00399574, -0.00622893,\n",
            "        0.0080236 , -0.00243614, -0.00013552, -0.00167982, -0.00938696,\n",
            "       -0.00458563,  0.01244606, -0.00230909,  0.00218212,  0.00966227,\n",
            "        0.00190982,  0.01427889,  0.00311941,  0.00494546, -0.00132757,\n",
            "        0.00112375, -0.00300956,  0.00532684,  0.00188731, -0.0132787 ,\n",
            "        0.00157749, -0.00385186, -0.00491113,  0.00243369,  0.005353  ,\n",
            "       -0.0004906 ,  0.01313856], dtype=float32)>\n",
            "<tf.Variable 'conv2d_44/kernel:0' shape=(3, 3, 32, 32) dtype=float32, numpy=\n",
            "array([[[[ 0.00548943,  0.07726025, -0.02992756, ..., -0.07262352,\n",
            "          -0.01767033,  0.00902987],\n",
            "         [ 0.08478156, -0.04785202,  0.08376491, ..., -0.09668674,\n",
            "           0.03994809,  0.07036376],\n",
            "         [-0.01333857, -0.05366941,  0.05022532, ..., -0.01481604,\n",
            "          -0.05295745,  0.09049021],\n",
            "         ...,\n",
            "         [ 0.00202781, -0.09982546,  0.04674522, ..., -0.05917658,\n",
            "          -0.06311075,  0.05549701],\n",
            "         [ 0.07883155, -0.05664335, -0.05423516, ...,  0.01361103,\n",
            "           0.07046578, -0.10281071],\n",
            "         [-0.09000155,  0.07595942,  0.0480482 , ...,  0.02677293,\n",
            "          -0.0601209 ,  0.06908   ]],\n",
            "\n",
            "        [[ 0.08207656,  0.02774242,  0.08553964, ...,  0.03099646,\n",
            "           0.07992373,  0.00949454],\n",
            "         [ 0.05339325, -0.04472404, -0.05179448, ..., -0.01822657,\n",
            "           0.0418263 ,  0.06967442],\n",
            "         [ 0.05433894, -0.04171901, -0.07521316, ..., -0.0903834 ,\n",
            "          -0.04346017,  0.00796761],\n",
            "         ...,\n",
            "         [ 0.03019716, -0.06456002,  0.09711265, ..., -0.08911601,\n",
            "           0.04449907, -0.00946789],\n",
            "         [-0.07532631,  0.02265661, -0.05095494, ..., -0.03139165,\n",
            "           0.0944277 ,  0.01071052],\n",
            "         [ 0.03340131,  0.09442212,  0.06264625, ..., -0.06655581,\n",
            "           0.04674293, -0.08055913]],\n",
            "\n",
            "        [[-0.06893519,  0.04243164,  0.06927118, ...,  0.06985245,\n",
            "          -0.05548627,  0.0154825 ],\n",
            "         [-0.04073531,  0.0970614 , -0.00856033, ...,  0.00236103,\n",
            "           0.00560334, -0.05765293],\n",
            "         [-0.09203266, -0.10208365, -0.02328116, ...,  0.08937922,\n",
            "           0.09587802,  0.05550105],\n",
            "         ...,\n",
            "         [ 0.04214586, -0.07791838, -0.06443934, ..., -0.06147403,\n",
            "          -0.05008361, -0.06552269],\n",
            "         [ 0.09769962,  0.00156502,  0.069721  , ...,  0.01541645,\n",
            "          -0.07709112, -0.04240703],\n",
            "         [-0.0948645 ,  0.03711531, -0.00779609, ..., -0.0059173 ,\n",
            "           0.03672376, -0.02698137]]],\n",
            "\n",
            "\n",
            "       [[[ 0.01549721,  0.06492358, -0.02968309, ...,  0.00449905,\n",
            "           0.02743155,  0.09436075],\n",
            "         [ 0.07816019, -0.10576788, -0.00335203, ..., -0.09932614,\n",
            "          -0.04238555, -0.02594517],\n",
            "         [ 0.0513567 , -0.05981864,  0.09328158, ...,  0.08927748,\n",
            "          -0.02401177,  0.09290437],\n",
            "         ...,\n",
            "         [-0.01567029, -0.08259714,  0.00111189, ..., -0.00276619,\n",
            "           0.01596245,  0.04954078],\n",
            "         [ 0.0874812 ,  0.09083842,  0.04508318, ...,  0.02245451,\n",
            "          -0.09284774,  0.01010565],\n",
            "         [-0.06543161, -0.03949706, -0.04837649, ...,  0.0658922 ,\n",
            "          -0.00809549,  0.10572371]],\n",
            "\n",
            "        [[-0.0336095 , -0.07297795, -0.00226628, ..., -0.08654054,\n",
            "           0.01644738, -0.06545945],\n",
            "         [-0.02276142, -0.09996692, -0.02782762, ...,  0.00138046,\n",
            "           0.06020807, -0.04556375],\n",
            "         [ 0.04272734,  0.06594504, -0.05830998, ..., -0.01765437,\n",
            "          -0.01609835, -0.05118896],\n",
            "         ...,\n",
            "         [-0.00441512, -0.0392164 , -0.03377008, ..., -0.09863844,\n",
            "           0.0183491 , -0.04987071],\n",
            "         [ 0.02975021, -0.0113395 , -0.07415786, ..., -0.0406687 ,\n",
            "          -0.03662871,  0.04886135],\n",
            "         [ 0.0397814 ,  0.0709796 ,  0.03102247, ...,  0.07243753,\n",
            "          -0.072905  , -0.08766646]],\n",
            "\n",
            "        [[-0.0700418 ,  0.1049819 , -0.06115123, ...,  0.05276705,\n",
            "           0.02120158, -0.05228476],\n",
            "         [ 0.07247145, -0.04597926, -0.09611972, ..., -0.07806716,\n",
            "           0.03834579, -0.07122933],\n",
            "         [ 0.06641732,  0.08027083,  0.08150692, ...,  0.06516898,\n",
            "           0.03524401, -0.02941496],\n",
            "         ...,\n",
            "         [ 0.01154167, -0.03252895, -0.04776053, ..., -0.00653713,\n",
            "          -0.04537066,  0.01910193],\n",
            "         [-0.00510527,  0.09213024, -0.00460906, ..., -0.07815017,\n",
            "          -0.0282291 ,  0.06659099],\n",
            "         [ 0.07438923,  0.03056354,  0.04448645, ...,  0.07332537,\n",
            "          -0.0509949 , -0.01216965]]],\n",
            "\n",
            "\n",
            "       [[[ 0.07424301, -0.0980376 ,  0.05229135, ...,  0.07205717,\n",
            "          -0.08822079, -0.09073041],\n",
            "         [-0.07185224, -0.08646728, -0.07496278, ..., -0.07998109,\n",
            "           0.04638313, -0.02914923],\n",
            "         [ 0.02002232,  0.09275505, -0.0586607 , ..., -0.03568802,\n",
            "           0.03399278, -0.0497638 ],\n",
            "         ...,\n",
            "         [-0.01599962, -0.01435829, -0.07354974, ..., -0.03792157,\n",
            "           0.0295682 ,  0.0164817 ],\n",
            "         [ 0.04986909, -0.02741758,  0.08063331, ..., -0.05070427,\n",
            "           0.04679433,  0.01865537],\n",
            "         [-0.0195388 ,  0.07992593,  0.01959939, ...,  0.01695207,\n",
            "          -0.03951728,  0.05085125]],\n",
            "\n",
            "        [[ 0.04951572, -0.06960468, -0.0186548 , ...,  0.00295252,\n",
            "          -0.04410025, -0.02189426],\n",
            "         [-0.02396917,  0.00335993, -0.09831102, ..., -0.04141065,\n",
            "           0.03492253, -0.02874992],\n",
            "         [-0.04265648, -0.02197392, -0.05190652, ..., -0.02404318,\n",
            "           0.04214192, -0.01866872],\n",
            "         ...,\n",
            "         [-0.00791224,  0.08099712, -0.05020891, ..., -0.04804403,\n",
            "           0.03947163,  0.02003908],\n",
            "         [-0.0830528 , -0.0327736 , -0.02546983, ..., -0.08906826,\n",
            "          -0.00583303, -0.07110664],\n",
            "         [ 0.08205853,  0.03464752, -0.06101441, ..., -0.05157589,\n",
            "           0.07057271, -0.09407836]],\n",
            "\n",
            "        [[-0.02992654,  0.04393925, -0.07541677, ...,  0.05182531,\n",
            "           0.0479585 , -0.03293056],\n",
            "         [ 0.05637326,  0.04648097, -0.03028361, ...,  0.09897784,\n",
            "           0.03459768,  0.03770137],\n",
            "         [ 0.0327618 , -0.10176431, -0.0656038 , ...,  0.05376579,\n",
            "          -0.02822329, -0.08001073],\n",
            "         ...,\n",
            "         [-0.02415763, -0.04935916,  0.05672624, ...,  0.06477921,\n",
            "           0.01481216,  0.08601859],\n",
            "         [-0.08497582, -0.04337288,  0.04550805, ..., -0.08914377,\n",
            "          -0.09201808, -0.04773164],\n",
            "         [-0.05172551,  0.07047188, -0.01921288, ..., -0.03891257,\n",
            "           0.05364314,  0.01590963]]]], dtype=float32)>\n",
            "<tf.Variable 'conv2d_44/bias:0' shape=(32,) dtype=float32, numpy=\n",
            "array([ 9.12068039e-03, -1.40515659e-02, -4.16319678e-03, -7.57203158e-03,\n",
            "       -4.33170795e-03,  2.60925689e-03, -1.08716171e-02, -5.54476958e-03,\n",
            "       -1.55476003e-03,  4.71895747e-03,  3.00253113e-03,  5.12712169e-03,\n",
            "        9.24307667e-03, -1.08964909e-02,  1.50395073e-02,  6.44245418e-03,\n",
            "        8.91011514e-05, -1.21058118e-04, -6.53074123e-03, -6.58742152e-03,\n",
            "       -1.15099009e-02, -8.52564815e-03, -6.52520219e-04, -2.83466605e-03,\n",
            "        4.78261616e-03, -1.17986435e-02,  1.89211720e-03,  4.02421411e-03,\n",
            "        7.25443102e-03,  3.33748176e-03, -3.16957454e-03, -5.07555716e-03],\n",
            "      dtype=float32)>\n",
            "<tf.Variable 'conv2d_45/kernel:0' shape=(3, 3, 32, 32) dtype=float32, numpy=\n",
            "array([[[[-3.58535108e-05,  9.12107900e-02, -7.50554204e-02, ...,\n",
            "           5.65063432e-02, -2.42310800e-02,  5.99859171e-02],\n",
            "         [-1.00964502e-01, -1.57065038e-02, -3.68849635e-02, ...,\n",
            "           1.90787762e-02,  4.80184034e-02,  7.53268600e-02],\n",
            "         [ 6.56596273e-02, -9.22012553e-02, -4.95742708e-02, ...,\n",
            "           4.07323949e-02,  8.38121176e-02,  6.91394061e-02],\n",
            "         ...,\n",
            "         [ 9.04063601e-03, -3.30128446e-02,  6.72386587e-02, ...,\n",
            "          -1.00677118e-01,  9.59007442e-02, -9.09442753e-02],\n",
            "         [ 4.85578999e-02,  4.13495861e-02, -2.72658765e-02, ...,\n",
            "           3.24389189e-02, -6.20672926e-02, -1.67458095e-02],\n",
            "         [ 6.62187189e-02,  4.09034342e-02,  7.09225684e-02, ...,\n",
            "           9.82895643e-02, -6.57980964e-02, -7.69802704e-02]],\n",
            "\n",
            "        [[-1.95309091e-02, -9.75940228e-02, -3.35023589e-02, ...,\n",
            "           3.98086607e-02, -2.90431697e-02, -4.98114787e-02],\n",
            "         [-7.43737370e-02, -7.66695589e-02, -4.90826704e-02, ...,\n",
            "           6.74275383e-02,  9.23559144e-02, -4.59384657e-02],\n",
            "         [ 2.25871149e-02,  7.42904171e-02,  6.88234717e-02, ...,\n",
            "           7.87021145e-02, -5.82297593e-02, -9.72316787e-02],\n",
            "         ...,\n",
            "         [-2.34019943e-02, -5.45778871e-02,  8.35047364e-02, ...,\n",
            "          -2.95351930e-02,  5.70724607e-02,  3.32449898e-02],\n",
            "         [-1.63924918e-02,  2.02992540e-02,  7.96895996e-02, ...,\n",
            "           7.65417293e-02, -1.03815971e-02,  5.43905087e-02],\n",
            "         [ 2.29189955e-02,  6.33128360e-02,  4.67097536e-02, ...,\n",
            "          -4.61926833e-02,  6.40707836e-02,  8.75765011e-02]],\n",
            "\n",
            "        [[-1.11494370e-01,  1.86956897e-02, -8.10743868e-02, ...,\n",
            "          -4.53066975e-02,  5.16107194e-02, -8.20764899e-02],\n",
            "         [ 6.25409409e-02,  1.95152573e-02,  8.85731801e-02, ...,\n",
            "           8.19383711e-02,  1.59719959e-02, -2.30375826e-02],\n",
            "         [ 2.71089319e-02, -6.25327155e-02,  5.93850128e-02, ...,\n",
            "           2.84027793e-02, -6.19756803e-02, -3.92921828e-03],\n",
            "         ...,\n",
            "         [ 4.61618081e-02,  5.67495450e-02, -1.04568146e-01, ...,\n",
            "           1.91947669e-02, -2.54270583e-02,  5.23146801e-02],\n",
            "         [ 6.24763370e-02, -1.32280635e-02,  4.86525334e-02, ...,\n",
            "          -6.10833708e-03, -9.74674523e-03, -1.43992400e-03],\n",
            "         [ 1.15112644e-02,  6.78707063e-02,  8.16207454e-02, ...,\n",
            "          -2.33421586e-02, -5.57807498e-02, -6.63356856e-02]]],\n",
            "\n",
            "\n",
            "       [[[ 6.54452741e-02, -2.25318763e-02, -6.75373524e-02, ...,\n",
            "          -4.75311801e-02, -7.60211125e-02, -7.12791458e-02],\n",
            "         [-6.02669418e-02,  9.18943584e-02, -9.77496877e-02, ...,\n",
            "           5.18106818e-02,  3.40560451e-02,  4.07502986e-02],\n",
            "         [-4.90484275e-02,  9.18952301e-02, -8.65664706e-02, ...,\n",
            "           4.07420583e-02,  7.03356937e-02, -9.75313559e-02],\n",
            "         ...,\n",
            "         [-9.24269557e-02, -5.77883609e-02,  6.35659248e-02, ...,\n",
            "          -7.65173808e-02,  3.03831995e-02,  1.89391393e-02],\n",
            "         [-1.84295345e-02, -8.92964602e-02,  5.40963151e-02, ...,\n",
            "           1.13597503e-02,  3.57176624e-02,  2.55340766e-02],\n",
            "         [-8.69042426e-02, -8.34610462e-02, -6.00858126e-03, ...,\n",
            "           2.34994087e-02,  9.40014645e-02, -3.71839181e-02]],\n",
            "\n",
            "        [[ 3.46735828e-02,  8.78628865e-02, -5.48676550e-02, ...,\n",
            "          -9.33166593e-02, -3.43626328e-02, -1.95393227e-02],\n",
            "         [-5.38366958e-02,  8.57110023e-02,  1.99301429e-02, ...,\n",
            "          -3.78282331e-02, -1.08652068e-02, -8.39668214e-02],\n",
            "         [-1.01882443e-01,  8.34328756e-02, -2.82766577e-02, ...,\n",
            "           2.57026125e-02, -8.64960346e-03, -5.74628599e-02],\n",
            "         ...,\n",
            "         [ 8.13916028e-02, -1.10704988e-01,  5.62747121e-02, ...,\n",
            "           6.16040528e-02, -7.08737671e-02,  4.05643471e-02],\n",
            "         [-4.64679748e-02,  4.70761433e-02, -1.04169317e-01, ...,\n",
            "           5.56025580e-02,  3.35635319e-02,  3.86165939e-02],\n",
            "         [-5.06987970e-04,  5.59739023e-02,  4.62625585e-02, ...,\n",
            "           8.26254301e-03, -8.35064426e-02,  7.72906095e-02]],\n",
            "\n",
            "        [[ 9.50931534e-02, -3.74363251e-02, -6.30342513e-02, ...,\n",
            "           1.83240790e-02, -1.78169031e-02, -8.16975832e-02],\n",
            "         [ 6.67564943e-03,  9.00708362e-02,  9.81578827e-02, ...,\n",
            "           8.46640468e-02,  2.72836741e-02, -2.27548797e-02],\n",
            "         [ 1.46816939e-03, -2.72994954e-03,  2.94383671e-02, ...,\n",
            "          -6.19552433e-02,  8.89117494e-02,  3.93758416e-02],\n",
            "         ...,\n",
            "         [-1.57952290e-02,  8.22894648e-02, -5.52158691e-02, ...,\n",
            "          -8.58203769e-02, -3.50903496e-02, -1.71556231e-02],\n",
            "         [ 8.17308500e-02, -6.14122637e-02, -2.04783455e-02, ...,\n",
            "          -1.16069373e-02, -9.83428955e-02,  4.48256312e-03],\n",
            "         [-3.48715484e-02, -6.54352158e-02,  6.23961538e-02, ...,\n",
            "           1.58585620e-03, -1.84670091e-02,  9.43251699e-02]]],\n",
            "\n",
            "\n",
            "       [[[ 8.50837454e-02, -8.28657448e-02,  9.57492664e-02, ...,\n",
            "           1.06094889e-02, -2.86059789e-02,  7.96973053e-03],\n",
            "         [ 5.97503260e-02, -7.15752691e-02,  5.35705239e-02, ...,\n",
            "           1.31198512e-02,  8.23772624e-02, -6.46009147e-02],\n",
            "         [ 2.84087136e-02,  7.36458376e-02, -7.01837763e-02, ...,\n",
            "          -5.98257594e-03,  8.69059786e-02,  8.41442868e-03],\n",
            "         ...,\n",
            "         [ 2.42473837e-02,  6.36655418e-03,  3.44195515e-02, ...,\n",
            "           8.28516437e-04, -1.71875264e-02,  9.45782885e-02],\n",
            "         [-1.73136443e-02,  8.64157155e-02, -8.69905874e-02, ...,\n",
            "          -7.69992471e-02, -3.55169773e-02,  6.28449991e-02],\n",
            "         [-1.28463991e-02, -5.08171134e-03,  9.72039774e-02, ...,\n",
            "           2.50363462e-02,  5.83754927e-02,  2.67840065e-02]],\n",
            "\n",
            "        [[ 8.73644724e-02,  1.04173742e-01, -4.20992821e-02, ...,\n",
            "          -9.59120616e-02,  6.36762157e-02, -4.08131443e-02],\n",
            "         [ 1.74393319e-02,  8.66159350e-02,  2.81340592e-02, ...,\n",
            "          -3.36468307e-04, -8.36361870e-02,  6.67607486e-02],\n",
            "         [-7.49345869e-02, -8.66011456e-02,  6.97035342e-02, ...,\n",
            "          -3.01628169e-02,  9.68513563e-02,  2.80802697e-02],\n",
            "         ...,\n",
            "         [ 4.76570847e-03,  8.74218717e-02,  8.25898051e-02, ...,\n",
            "          -5.04538752e-02, -1.50442868e-02,  5.87806897e-03],\n",
            "         [ 9.10676420e-02, -1.80634670e-02, -1.10263370e-01, ...,\n",
            "          -5.64522259e-02,  8.83650258e-02, -9.42185074e-02],\n",
            "         [-9.25352275e-02,  2.44215187e-02,  2.71954257e-02, ...,\n",
            "           1.11861601e-02, -5.41952848e-02, -5.75355180e-02]],\n",
            "\n",
            "        [[ 1.72410044e-03,  7.97668025e-02, -6.73535839e-02, ...,\n",
            "           1.28545752e-02, -6.19331188e-03,  2.63301581e-02],\n",
            "         [-8.32820591e-03, -2.22523883e-02,  4.32484560e-02, ...,\n",
            "           9.99907404e-02,  1.00947104e-01,  5.86060695e-02],\n",
            "         [-3.61510590e-02, -9.22257304e-02,  9.36162472e-02, ...,\n",
            "           2.24352200e-02,  7.59389549e-02, -8.53023678e-02],\n",
            "         ...,\n",
            "         [-7.31304511e-02, -4.58528139e-02, -5.23657352e-02, ...,\n",
            "           3.93510871e-02,  9.58940163e-02, -7.27603957e-02],\n",
            "         [ 7.13383034e-02, -2.81110257e-02, -9.08023790e-02, ...,\n",
            "           3.93663719e-02,  9.09881443e-02, -3.96935642e-02],\n",
            "         [-3.79261076e-02, -2.33867690e-02, -6.67112991e-02, ...,\n",
            "           5.77184260e-02,  1.39646390e-02,  6.41793683e-02]]]],\n",
            "      dtype=float32)>\n",
            "<tf.Variable 'conv2d_45/bias:0' shape=(32,) dtype=float32, numpy=\n",
            "array([-0.01438984,  0.00049234, -0.01632125, -0.00595894, -0.0053957 ,\n",
            "        0.00367809,  0.00844247, -0.01184846, -0.0079041 ,  0.00938523,\n",
            "       -0.01188328,  0.00753302, -0.0047097 , -0.00408491,  0.00513545,\n",
            "       -0.01529381, -0.01062792, -0.00175752, -0.00405772, -0.01030833,\n",
            "       -0.00241351, -0.00319827,  0.00411162,  0.00114418, -0.01690022,\n",
            "        0.00161318, -0.00210097, -0.00900206,  0.00840703, -0.00738657,\n",
            "       -0.0045634 ,  0.00454694], dtype=float32)>\n",
            "<tf.Variable 'conv2d_46/kernel:0' shape=(3, 3, 32, 64) dtype=float32, numpy=\n",
            "array([[[[-0.05021581, -0.0772137 , -0.07556301, ...,  0.01799164,\n",
            "          -0.05152067, -0.00252716],\n",
            "         [-0.06164306,  0.07020317, -0.03273068, ..., -0.06680807,\n",
            "           0.01680508, -0.06807441],\n",
            "         [ 0.00977285, -0.01456084, -0.01760693, ...,  0.05559463,\n",
            "          -0.03692231,  0.04523186],\n",
            "         ...,\n",
            "         [ 0.02314197,  0.03928579,  0.07321416, ..., -0.04144168,\n",
            "           0.03780306,  0.01713777],\n",
            "         [-0.05726086, -0.05640106, -0.04876589, ...,  0.04862857,\n",
            "           0.02247846,  0.03881262],\n",
            "         [ 0.0294643 , -0.06813368, -0.03187157, ...,  0.0076603 ,\n",
            "           0.07975212,  0.0509944 ]],\n",
            "\n",
            "        [[-0.05862655, -0.07355107,  0.01254612, ...,  0.0570578 ,\n",
            "          -0.01829278,  0.00506247],\n",
            "         [ 0.02030242, -0.0843294 ,  0.05693306, ...,  0.05001657,\n",
            "           0.07349525, -0.05990349],\n",
            "         [ 0.01125418,  0.02472389,  0.0207177 , ..., -0.04608313,\n",
            "          -0.01848529, -0.05054611],\n",
            "         ...,\n",
            "         [ 0.01166613,  0.04072952,  0.06377605, ...,  0.07584853,\n",
            "           0.03492682,  0.04089079],\n",
            "         [-0.07162022, -0.06218909, -0.03208275, ..., -0.01202643,\n",
            "          -0.03191331,  0.08158812],\n",
            "         [ 0.06675299, -0.01759255, -0.03232301, ..., -0.06480134,\n",
            "           0.0606651 ,  0.03581982]],\n",
            "\n",
            "        [[ 0.07192717, -0.0004859 ,  0.02430831, ...,  0.04969347,\n",
            "           0.00215578,  0.03728419],\n",
            "         [-0.06356573,  0.07774493,  0.02117268, ..., -0.06074249,\n",
            "          -0.06262766, -0.03092971],\n",
            "         [-0.05204927, -0.06614194, -0.02887563, ..., -0.03305664,\n",
            "           0.07462088,  0.01817262],\n",
            "         ...,\n",
            "         [ 0.00266317,  0.03831421, -0.06205787, ...,  0.07939861,\n",
            "          -0.01396875,  0.03964294],\n",
            "         [-0.01026649,  0.06170985, -0.0749694 , ...,  0.05031106,\n",
            "          -0.0603921 ,  0.00281992],\n",
            "         [ 0.02743295,  0.01462616,  0.05987581, ...,  0.03961176,\n",
            "          -0.00750806, -0.05590294]]],\n",
            "\n",
            "\n",
            "       [[[-0.01804921, -0.05688162, -0.06797718, ...,  0.01249258,\n",
            "           0.0376916 , -0.04090274],\n",
            "         [-0.06906052, -0.08063006, -0.05933039, ...,  0.02210679,\n",
            "           0.07580269,  0.07312458],\n",
            "         [-0.05118629, -0.06171514, -0.02172893, ...,  0.05351352,\n",
            "          -0.04193478, -0.06210294],\n",
            "         ...,\n",
            "         [-0.04201327, -0.0410528 , -0.04819022, ..., -0.07434641,\n",
            "          -0.06408758, -0.01236786],\n",
            "         [-0.07308635,  0.03512812, -0.00431414, ..., -0.07974373,\n",
            "          -0.05343233,  0.06976509],\n",
            "         [ 0.06985207, -0.02229086, -0.01802779, ..., -0.01694316,\n",
            "          -0.02053242, -0.00869591]],\n",
            "\n",
            "        [[ 0.03253201, -0.02613505, -0.02558208, ..., -0.02745834,\n",
            "           0.02423606, -0.06087317],\n",
            "         [-0.02054689,  0.07450572, -0.07354099, ...,  0.04094442,\n",
            "          -0.06501057,  0.05120542],\n",
            "         [ 0.02769007, -0.04106786,  0.05480785, ...,  0.021515  ,\n",
            "          -0.07724024, -0.007708  ],\n",
            "         ...,\n",
            "         [ 0.07212414,  0.04245155, -0.07328809, ...,  0.01112942,\n",
            "           0.02670284, -0.00511565],\n",
            "         [-0.00305896, -0.04389646, -0.05284715, ...,  0.01031801,\n",
            "           0.07245783, -0.06335522],\n",
            "         [ 0.03449162,  0.02056127,  0.03782552, ...,  0.00856902,\n",
            "           0.04768941, -0.02864585]],\n",
            "\n",
            "        [[ 0.0096758 ,  0.03569016, -0.03245436, ..., -0.05088804,\n",
            "           0.03592857, -0.00644931],\n",
            "         [ 0.03931083,  0.08513159,  0.08731831, ...,  0.04071172,\n",
            "          -0.07155916, -0.08844727],\n",
            "         [-0.00896106, -0.06957597, -0.02324047, ...,  0.0401078 ,\n",
            "           0.02455641,  0.0034361 ],\n",
            "         ...,\n",
            "         [ 0.0696466 , -0.05519721,  0.07055272, ..., -0.00272803,\n",
            "           0.05255656, -0.07880976],\n",
            "         [-0.05667765, -0.01709182,  0.04825211, ...,  0.08382188,\n",
            "          -0.03617041, -0.0248153 ],\n",
            "         [ 0.03658257,  0.01670831,  0.02863742, ...,  0.06085456,\n",
            "          -0.03406427, -0.08123516]]],\n",
            "\n",
            "\n",
            "       [[[ 0.07100412,  0.04087492, -0.08580817, ..., -0.0063783 ,\n",
            "          -0.04981797, -0.00423195],\n",
            "         [ 0.0819092 , -0.03091794,  0.00269423, ..., -0.04320236,\n",
            "          -0.00732109, -0.01948949],\n",
            "         [-0.05413988, -0.05248957, -0.03414105, ...,  0.01901778,\n",
            "           0.06118089, -0.02390014],\n",
            "         ...,\n",
            "         [ 0.02147238, -0.07211409, -0.0449383 , ...,  0.06564198,\n",
            "           0.02242842,  0.08693975],\n",
            "         [-0.07431848, -0.04656917,  0.03958466, ..., -0.01379839,\n",
            "          -0.08557087,  0.058937  ],\n",
            "         [ 0.00946592,  0.04487781, -0.01894219, ...,  0.0649777 ,\n",
            "           0.02987146, -0.0774903 ]],\n",
            "\n",
            "        [[ 0.07794405, -0.0433922 , -0.00076452, ..., -0.04569206,\n",
            "           0.04940271, -0.05254457],\n",
            "         [ 0.07880689, -0.02889582, -0.07267582, ..., -0.06252484,\n",
            "          -0.08177591,  0.03649029],\n",
            "         [ 0.03255859, -0.06351339,  0.02156318, ...,  0.0297838 ,\n",
            "           0.05601528, -0.03296738],\n",
            "         ...,\n",
            "         [ 0.0701054 ,  0.00677802, -0.06279629, ..., -0.0669954 ,\n",
            "           0.00589626, -0.05518654],\n",
            "         [-0.03199662,  0.0123656 ,  0.00067659, ..., -0.08408014,\n",
            "          -0.0306819 ,  0.06548152],\n",
            "         [-0.04771946,  0.0193007 , -0.00901404, ..., -0.00431652,\n",
            "          -0.06905536, -0.07385697]],\n",
            "\n",
            "        [[-0.04604692,  0.06849443, -0.07396854, ..., -0.02324034,\n",
            "           0.03490935,  0.06101722],\n",
            "         [-0.04863864, -0.01990339,  0.00807979, ...,  0.0381223 ,\n",
            "           0.02576055, -0.08136312],\n",
            "         [-0.01599303,  0.0773253 , -0.00737588, ...,  0.04947615,\n",
            "           0.06250872, -0.05305523],\n",
            "         ...,\n",
            "         [ 0.03119089,  0.03010936,  0.04559022, ..., -0.04739575,\n",
            "          -0.02917332, -0.00139446],\n",
            "         [ 0.02383685,  0.02594775, -0.028881  , ..., -0.08634561,\n",
            "          -0.06063636,  0.01014287],\n",
            "         [-0.02002904,  0.08474357, -0.00218453, ..., -0.07009345,\n",
            "          -0.03951168,  0.01172075]]]], dtype=float32)>\n",
            "<tf.Variable 'conv2d_46/bias:0' shape=(64,) dtype=float32, numpy=\n",
            "array([ 0.00034834, -0.00372936,  0.00750317,  0.00167578,  0.00313437,\n",
            "       -0.00260307, -0.00684468,  0.00682778,  0.00585904,  0.00481622,\n",
            "       -0.0048026 , -0.01037374,  0.00133951, -0.0025329 , -0.00739078,\n",
            "        0.00057167, -0.00963949,  0.00266156,  0.01078689, -0.00292589,\n",
            "        0.01478448,  0.00075968,  0.01375919, -0.00673359,  0.009367  ,\n",
            "        0.00104014, -0.00900722, -0.00985236,  0.00095835,  0.0001796 ,\n",
            "       -0.00769616, -0.01329772,  0.00901193,  0.00660324, -0.00777415,\n",
            "        0.01258704,  0.01223769, -0.0048453 , -0.01612395, -0.00583572,\n",
            "        0.00890213,  0.0024207 , -0.00597016,  0.00602302, -0.00154641,\n",
            "        0.00432172, -0.01236463, -0.00031894,  0.00775671,  0.0018709 ,\n",
            "        0.0017295 ,  0.00153709, -0.0123269 ,  0.00207262,  0.00363582,\n",
            "       -0.00361686, -0.00699146,  0.01599266,  0.00108465,  0.01544672,\n",
            "        0.0048776 ,  0.00509323, -0.008856  ,  0.0085258 ], dtype=float32)>\n",
            "<tf.Variable 'conv2d_47/kernel:0' shape=(3, 3, 64, 64) dtype=float32, numpy=\n",
            "array([[[[ 5.96528612e-02, -6.17911443e-02, -8.06628317e-02, ...,\n",
            "          -6.64740242e-03,  5.63607663e-02,  2.26302464e-02],\n",
            "         [ 2.79700793e-02, -9.08504520e-03,  3.13083343e-02, ...,\n",
            "          -1.98617149e-02, -2.21529063e-02, -2.07852963e-02],\n",
            "         [-8.42740946e-03, -5.39023764e-02, -3.69493924e-02, ...,\n",
            "          -4.70460812e-03,  6.37824833e-02, -4.11946960e-02],\n",
            "         ...,\n",
            "         [ 2.01381352e-02,  9.56711452e-03, -3.71589884e-02, ...,\n",
            "           1.54062361e-02,  3.64722125e-02,  3.75528298e-02],\n",
            "         [-5.44855744e-02,  5.40436469e-02,  1.78908743e-02, ...,\n",
            "           6.79463968e-02, -6.80868551e-02,  1.31759150e-02],\n",
            "         [-1.74643844e-02, -5.12267873e-02,  3.71940918e-02, ...,\n",
            "          -4.56012338e-02,  1.28195714e-02, -2.59860680e-02]],\n",
            "\n",
            "        [[ 5.10586873e-02,  6.85042068e-02,  2.98217987e-03, ...,\n",
            "          -6.95006326e-02,  2.32083648e-02, -5.70956171e-02],\n",
            "         [ 1.28703322e-02, -1.77919120e-02, -5.15872203e-02, ...,\n",
            "          -8.03586245e-02,  1.97135154e-02, -2.62163579e-02],\n",
            "         [-8.42646477e-05,  2.34774034e-02, -4.48079109e-02, ...,\n",
            "           4.40756651e-03, -4.68240939e-02,  3.90244983e-02],\n",
            "         ...,\n",
            "         [ 1.15536693e-02,  2.72622202e-02,  3.90632786e-02, ...,\n",
            "           5.20254411e-02, -1.77955534e-02, -4.73317727e-02],\n",
            "         [ 4.14616913e-02,  6.74571916e-02,  5.93579784e-02, ...,\n",
            "           6.01539202e-02,  4.68939878e-02,  6.28510416e-02],\n",
            "         [ 3.89912054e-02,  5.50483987e-02,  1.16562080e-02, ...,\n",
            "           1.98622402e-02, -5.40236849e-03,  4.27550338e-02]],\n",
            "\n",
            "        [[ 6.37435317e-02,  3.17513533e-02,  1.53976120e-02, ...,\n",
            "           1.33013288e-02, -1.24671385e-02,  6.60174415e-02],\n",
            "         [ 3.99839785e-03,  5.72107770e-02, -2.05636006e-02, ...,\n",
            "           6.44435212e-02,  3.72833782e-03, -1.88692939e-02],\n",
            "         [-7.27609470e-02, -3.64799798e-02,  4.87704575e-02, ...,\n",
            "           3.04101277e-02, -3.63287772e-03, -6.10634591e-03],\n",
            "         ...,\n",
            "         [ 2.41392814e-02, -5.94897103e-03, -4.70551439e-02, ...,\n",
            "          -6.60416633e-02,  6.53885230e-02, -2.35849712e-02],\n",
            "         [-4.51668352e-03,  4.92447093e-02,  2.90567265e-03, ...,\n",
            "           3.76225151e-02,  4.88890149e-02,  2.00722404e-02],\n",
            "         [ 3.22892889e-02, -5.72772995e-02,  5.70575781e-02, ...,\n",
            "           5.47198299e-03, -9.51264892e-03,  3.56720686e-02]]],\n",
            "\n",
            "\n",
            "       [[[ 2.67306692e-03, -7.52497232e-03,  5.23871975e-03, ...,\n",
            "           1.28163984e-02,  4.06059287e-02,  2.81902049e-02],\n",
            "         [-6.56204373e-02,  5.68979383e-02,  1.56387920e-03, ...,\n",
            "           4.62088123e-04, -5.18789366e-02,  4.03082334e-02],\n",
            "         [ 5.84842823e-02, -6.87677339e-02, -2.18533464e-02, ...,\n",
            "          -6.25656918e-04, -1.93692781e-02, -5.89190125e-02],\n",
            "         ...,\n",
            "         [ 7.36636445e-02,  1.73959360e-02, -1.45343365e-02, ...,\n",
            "          -3.38654481e-02,  7.26061314e-02,  6.65456727e-02],\n",
            "         [-3.32715623e-02,  3.18396650e-02, -5.53478748e-02, ...,\n",
            "          -6.61201403e-02, -1.78000759e-02, -2.60467846e-02],\n",
            "         [-1.33297136e-02, -5.53304963e-02, -4.94810045e-02, ...,\n",
            "          -5.95435686e-02,  3.24912071e-02,  1.38671594e-02]],\n",
            "\n",
            "        [[-4.34762165e-02,  7.01442435e-02, -2.74142716e-02, ...,\n",
            "           2.32708454e-02,  6.11650795e-02,  2.51996592e-02],\n",
            "         [-1.55010503e-02,  2.41818763e-02,  3.42146941e-02, ...,\n",
            "           4.74107675e-02, -5.85501678e-02,  3.56093198e-02],\n",
            "         [-5.61799742e-02,  1.97862126e-02,  1.21788261e-02, ...,\n",
            "          -4.28965278e-02, -2.66078785e-02, -4.21892703e-02],\n",
            "         ...,\n",
            "         [-5.73940724e-02, -6.49705902e-02, -7.66800195e-02, ...,\n",
            "           3.04083824e-02,  7.33118579e-02, -1.85463689e-02],\n",
            "         [-1.70702431e-02,  2.43647918e-02, -2.89184693e-02, ...,\n",
            "          -5.30349389e-02, -1.86400637e-02,  5.44589683e-02],\n",
            "         [ 4.82828058e-02, -4.47177477e-02,  4.52465331e-03, ...,\n",
            "           3.45014669e-02,  6.03603609e-02, -1.78913977e-02]],\n",
            "\n",
            "        [[-8.14237428e-05,  6.57111928e-02,  3.47710475e-02, ...,\n",
            "          -4.94060991e-03,  4.45197895e-02, -4.41024173e-03],\n",
            "         [-2.61853216e-03, -1.23156998e-02, -1.98510173e-03, ...,\n",
            "          -5.09798825e-02,  1.96798872e-02,  9.39492974e-03],\n",
            "         [ 2.44220905e-02, -6.38734326e-02,  8.59018695e-03, ...,\n",
            "          -1.22996466e-02, -3.71836834e-02,  5.91894835e-02],\n",
            "         ...,\n",
            "         [-6.64141849e-02,  3.21431048e-02, -6.26580417e-02, ...,\n",
            "           2.36492474e-02, -5.06087169e-02, -4.82637901e-03],\n",
            "         [ 5.96128404e-02, -2.19397750e-02,  3.96492667e-02, ...,\n",
            "          -2.19438598e-02,  1.58050433e-02, -3.55374925e-02],\n",
            "         [ 1.17300143e-02, -6.18885122e-02, -5.58680482e-02, ...,\n",
            "           3.21371704e-02,  8.04271374e-04, -1.28784264e-02]]],\n",
            "\n",
            "\n",
            "       [[[-4.74062711e-02, -4.88413237e-02,  6.23439290e-02, ...,\n",
            "          -2.71049365e-02, -4.55526672e-02, -9.55954194e-04],\n",
            "         [ 6.66263103e-02,  1.85635611e-02,  1.60870422e-02, ...,\n",
            "           1.26249045e-02,  1.01613048e-02, -4.37810235e-02],\n",
            "         [-1.46456910e-02, -2.14178525e-02, -2.87348628e-02, ...,\n",
            "          -5.39652479e-04,  1.97766386e-02,  4.10375185e-03],\n",
            "         ...,\n",
            "         [ 3.18277534e-03,  3.75867076e-02,  1.64311118e-02, ...,\n",
            "           6.58886731e-02, -5.25857732e-02,  7.14811683e-02],\n",
            "         [-8.25613737e-03,  6.79504797e-02,  5.97323477e-02, ...,\n",
            "          -2.15692110e-02, -5.38179837e-02, -5.88293485e-02],\n",
            "         [-6.75013289e-02,  8.70792754e-03, -3.17125134e-02, ...,\n",
            "           4.97390591e-02,  6.56453967e-02,  2.17894241e-02]],\n",
            "\n",
            "        [[-6.11375831e-02, -1.66827422e-02,  6.59891078e-03, ...,\n",
            "          -3.89310233e-02,  3.80449407e-02,  3.40603255e-02],\n",
            "         [-6.62945434e-02,  3.17106172e-02, -7.78400898e-03, ...,\n",
            "           3.64096127e-02,  4.75495532e-02,  1.32371327e-02],\n",
            "         [-6.37290906e-03,  1.00424443e-03, -6.46242276e-02, ...,\n",
            "           7.56965280e-02, -1.30776772e-02, -3.19776051e-02],\n",
            "         ...,\n",
            "         [ 4.76264879e-02,  4.99995574e-02,  1.75926164e-02, ...,\n",
            "           3.13717648e-02, -5.92673011e-02,  6.32059872e-02],\n",
            "         [-3.78316343e-02,  6.54561296e-02,  3.24766636e-02, ...,\n",
            "          -4.95785102e-02, -4.49879915e-02, -3.14997844e-02],\n",
            "         [ 4.90271673e-02,  4.40446585e-02,  5.59792370e-02, ...,\n",
            "           1.28798857e-02,  2.99761686e-02, -2.91550495e-02]],\n",
            "\n",
            "        [[-9.90479719e-03, -7.69999623e-03, -4.35102843e-02, ...,\n",
            "          -5.07786684e-03, -2.20843684e-02, -1.67250242e-02],\n",
            "         [ 6.78566843e-02, -4.37422208e-02,  5.81738120e-03, ...,\n",
            "          -2.18197126e-02, -6.97936118e-02, -5.17354682e-02],\n",
            "         [-3.66766453e-02, -5.85413091e-02,  5.43310568e-02, ...,\n",
            "          -5.47471456e-03,  4.13522050e-02, -4.05087136e-02],\n",
            "         ...,\n",
            "         [-6.17534593e-02,  4.59645279e-02,  3.53173800e-02, ...,\n",
            "           3.19596343e-02, -5.36327297e-03,  9.10989288e-03],\n",
            "         [-2.99041662e-02, -5.46619743e-02,  3.18366326e-02, ...,\n",
            "          -2.00244766e-02, -5.50741926e-02, -3.11776046e-02],\n",
            "         [ 6.49414882e-02,  2.38137469e-02, -5.80855533e-02, ...,\n",
            "          -1.81380287e-02,  4.04282194e-03, -6.63458630e-02]]]],\n",
            "      dtype=float32)>\n",
            "<tf.Variable 'conv2d_47/bias:0' shape=(64,) dtype=float32, numpy=\n",
            "array([-0.01238126, -0.00960427, -0.01251483, -0.00828115, -0.01393152,\n",
            "       -0.01288327, -0.00865458, -0.00085095, -0.00510788,  0.00063827,\n",
            "        0.00466413, -0.01434254, -0.01242808,  0.0070031 ,  0.00088149,\n",
            "        0.0073142 ,  0.00079499, -0.0004061 ,  0.00692608, -0.00553569,\n",
            "       -0.01106545,  0.00315944, -0.00426973, -0.0119154 , -0.00076968,\n",
            "       -0.00757741, -0.01101757, -0.00228122, -0.00786509, -0.01627138,\n",
            "       -0.00285061, -0.00504142, -0.00567203, -0.00663848,  0.00061237,\n",
            "        0.00583997, -0.00397431,  0.00155626, -0.00435679,  0.00447207,\n",
            "       -0.00924672, -0.00767757,  0.00428563, -0.00883543,  0.01107993,\n",
            "        0.0011399 ,  0.00770971, -0.01508299, -0.00553643, -0.01013472,\n",
            "        0.00664715, -0.00534214,  0.00071234, -0.01123182,  0.00869576,\n",
            "        0.00541384, -0.01461199, -0.00896593, -0.00675642, -0.02041654,\n",
            "        0.00285703, -0.00156275, -0.0107913 ,  0.00802168], dtype=float32)>\n",
            "<tf.Variable 'dense_10/kernel:0' shape=(2304, 512) dtype=float32, numpy=\n",
            "array([[ 0.02574573,  0.02236911, -0.02380612, ...,  0.03455141,\n",
            "        -0.01408623,  0.04799162],\n",
            "       [ 0.0269618 , -0.01284935,  0.01228639, ..., -0.01434999,\n",
            "        -0.04584746,  0.02290637],\n",
            "       [-0.02963904,  0.04161394, -0.03974755, ..., -0.01762572,\n",
            "         0.03474851, -0.00573189],\n",
            "       ...,\n",
            "       [-0.01381233,  0.04549864, -0.02556289, ..., -0.0010219 ,\n",
            "        -0.00090216,  0.01706479],\n",
            "       [ 0.01731772,  0.01741842,  0.04127569, ..., -0.01031068,\n",
            "         0.00873993, -0.01917961],\n",
            "       [-0.04414868,  0.05063627, -0.01727159, ...,  0.02049677,\n",
            "        -0.00955907,  0.04482476]], dtype=float32)>\n",
            "<tf.Variable 'dense_10/bias:0' shape=(512,) dtype=float32, numpy=\n",
            "array([ 7.22019281e-03, -3.52486991e-03, -8.40783771e-03, -7.54657807e-03,\n",
            "       -7.40257837e-03, -9.63829458e-03, -9.87968966e-03,  6.98037969e-04,\n",
            "        5.16091241e-03,  9.03783366e-03, -5.55153051e-03,  7.72014400e-03,\n",
            "        6.76023588e-03, -6.75416319e-03,  6.56224368e-03, -7.87288509e-03,\n",
            "       -1.29732341e-02, -8.32599774e-03, -1.01299519e-02,  5.21303294e-03,\n",
            "       -7.55389594e-03, -4.60735289e-03, -7.04686204e-03,  1.23718353e-02,\n",
            "       -1.09836534e-02,  1.44628827e-02, -8.66235886e-03,  7.13242311e-03,\n",
            "       -1.09170694e-02, -7.78955407e-03,  6.74816966e-03,  5.82710886e-03,\n",
            "       -5.84626291e-03, -5.14054578e-03, -4.54767793e-03, -8.22775532e-03,\n",
            "        5.87312318e-03, -7.18229357e-03, -4.82956739e-03, -6.55107619e-03,\n",
            "        6.27654418e-03, -5.17786341e-03, -1.03829317e-02, -8.13067798e-03,\n",
            "        9.90129076e-04,  4.60896734e-03,  5.27535705e-03,  7.02210749e-03,\n",
            "       -4.43750899e-03, -3.01860902e-03,  3.74818424e-04,  3.38928564e-03,\n",
            "       -8.97047482e-03,  5.23365382e-03, -5.69780124e-03, -7.14859087e-03,\n",
            "       -8.49987753e-03,  2.84802006e-03, -9.80635174e-03, -8.42018146e-03,\n",
            "        9.15752072e-03,  1.42635172e-03, -1.13883521e-02,  5.58249513e-03,\n",
            "        1.31474817e-02, -9.16125346e-03, -1.70610263e-03, -3.59248393e-03,\n",
            "       -7.77080609e-03, -7.45932711e-03,  2.21053348e-03, -5.82248904e-04,\n",
            "       -7.54972314e-03,  1.00499559e-02, -5.05507085e-03,  2.95702950e-03,\n",
            "        5.10095386e-04, -7.62436818e-03, -6.69852365e-03, -1.19507359e-02,\n",
            "       -9.99758020e-03, -8.14841886e-04, -5.16164443e-03,  3.05491686e-03,\n",
            "        4.15616715e-03,  6.28931681e-03,  2.41948827e-03,  2.00886559e-03,\n",
            "       -5.15169045e-03, -6.80628326e-03, -9.45680309e-03,  1.38646290e-02,\n",
            "       -6.66012662e-03, -1.08587630e-02, -9.24999267e-03,  6.07064692e-04,\n",
            "        4.53682337e-03,  1.32909557e-02, -4.24228283e-03,  3.41760879e-03,\n",
            "        7.35766627e-03, -3.78956879e-03,  3.93182272e-03,  9.38173570e-03,\n",
            "       -1.18343420e-02,  5.25013916e-03, -8.92424863e-03,  6.69069495e-03,\n",
            "       -1.05626304e-02, -8.99845827e-03, -8.15643184e-03,  6.89838547e-03,\n",
            "       -9.98096447e-03, -1.02360109e-02,  1.19589474e-02,  8.95938836e-04,\n",
            "       -9.40011162e-03, -1.23150498e-02, -1.12044672e-02,  2.42987159e-03,\n",
            "        8.98732152e-03,  5.77407749e-03, -1.01092253e-02, -1.13589559e-02,\n",
            "       -7.58927967e-03, -8.01642612e-03, -4.15354781e-03, -5.66663839e-05,\n",
            "       -6.29178341e-03, -5.33967465e-03, -6.69903541e-03, -5.91502665e-03,\n",
            "       -7.19568739e-03, -1.20199583e-02, -8.82013980e-03, -9.54431109e-03,\n",
            "       -7.94792455e-03, -5.42164221e-03,  8.92664678e-03, -4.73660883e-03,\n",
            "        8.98553152e-03, -3.99037171e-03,  2.07034056e-03,  3.89857101e-03,\n",
            "        1.19686243e-03, -9.53672919e-03,  1.10142305e-02, -1.97267422e-04,\n",
            "        9.03764181e-03,  7.76657881e-03,  1.13290707e-02,  7.57416803e-03,\n",
            "       -8.05783551e-03,  9.40580387e-03,  6.44949870e-03,  3.20390495e-03,\n",
            "       -1.06773898e-02,  7.32589560e-03,  1.15054287e-02,  9.55586031e-04,\n",
            "        1.02270618e-02, -1.23950606e-03, -4.57565673e-03, -7.67005328e-03,\n",
            "        1.03933429e-02, -8.30816198e-03, -1.25287455e-02,  2.80563557e-03,\n",
            "       -5.88763179e-03, -7.51994923e-03, -9.48486198e-03, -2.01747450e-03,\n",
            "        5.73617686e-03,  3.26232141e-04,  7.36740232e-03,  8.48000869e-03,\n",
            "        8.53324600e-04, -5.46376314e-03, -8.17622151e-03, -5.57744876e-03,\n",
            "       -1.19075822e-02,  7.42114242e-03, -3.71550303e-03, -1.02727786e-02,\n",
            "        8.15314613e-03, -1.94166577e-03, -3.87920323e-03, -1.43979918e-02,\n",
            "       -6.71001524e-03,  8.47702939e-03, -4.73200902e-03, -7.58145237e-03,\n",
            "       -6.98404945e-03,  1.00836521e-02, -8.77466612e-03,  2.50434387e-03,\n",
            "       -6.46301545e-03,  5.56030124e-03,  8.52316339e-03,  3.49502102e-03,\n",
            "        4.82622441e-03,  8.98864772e-03, -4.54390980e-03, -1.09077906e-02,\n",
            "        4.70316457e-03,  5.39121777e-03,  7.12036155e-03, -2.52035854e-04,\n",
            "       -1.18285241e-02, -6.83508581e-03,  7.51437480e-03,  3.03392252e-03,\n",
            "        8.19797162e-03,  8.86506867e-03,  7.85002019e-03,  8.92377365e-03,\n",
            "       -5.83111215e-03, -8.85105319e-03, -6.96488842e-03, -9.54868272e-03,\n",
            "        1.03394706e-02, -5.52621670e-03,  1.05803618e-02, -1.08461380e-02,\n",
            "        1.11285346e-02, -9.69886407e-03,  5.91216842e-03,  5.21222549e-03,\n",
            "       -1.06699253e-02,  5.65950293e-03, -8.24704673e-03, -4.89692995e-03,\n",
            "       -8.75225104e-03,  8.71300325e-03, -4.86443518e-03,  5.92847215e-03,\n",
            "        1.26854908e-02, -9.34589282e-03,  1.46763027e-03, -3.58859845e-03,\n",
            "        7.25851301e-03,  9.34857596e-03,  4.60184971e-03, -4.03731083e-03,\n",
            "        1.25724263e-02,  4.02464578e-03,  8.71742493e-04, -3.90548841e-03,\n",
            "        4.97471029e-03, -1.24339899e-02,  3.87766748e-03,  5.49342996e-03,\n",
            "       -7.79264001e-03, -6.25414494e-03, -6.01506559e-03, -1.01834349e-02,\n",
            "        1.58792920e-03,  7.98977073e-03, -6.23763539e-03,  5.56452014e-03,\n",
            "       -9.32412874e-03, -1.03209680e-02,  8.28774821e-04, -9.68588330e-03,\n",
            "       -7.28701241e-03,  3.10833426e-03,  9.56350099e-03,  8.96235835e-03,\n",
            "        9.07653105e-03,  1.20652746e-02, -1.00483056e-02, -6.64039887e-03,\n",
            "       -5.21039404e-03, -5.90756675e-03, -2.58636056e-03, -1.08858082e-03,\n",
            "        3.12061165e-03, -6.10362133e-03,  6.55506365e-03, -7.26798689e-03,\n",
            "       -1.55963877e-03,  2.29054340e-03, -8.32127035e-03, -9.23544727e-03,\n",
            "       -1.39286099e-02,  1.59477245e-03, -6.43608812e-03,  1.88250397e-03,\n",
            "        3.97434598e-03, -1.10171568e-02, -1.82512682e-02,  4.91873594e-03,\n",
            "        5.12497209e-04,  1.30277779e-02, -7.92689808e-03,  7.83995260e-03,\n",
            "        1.31633785e-03, -1.41789727e-02,  3.44167440e-03, -8.50327127e-03,\n",
            "        1.94830133e-03, -1.08601637e-02,  1.14859166e-02, -4.21197154e-03,\n",
            "       -8.21101014e-03, -8.69187992e-03, -4.33506677e-03, -2.27027433e-03,\n",
            "        3.93209653e-03,  7.26068579e-03, -1.13347601e-02,  7.57553708e-03,\n",
            "        5.09499991e-03, -8.23316723e-03, -9.56570078e-03,  8.54406878e-03,\n",
            "        2.90204049e-03, -1.10025443e-02,  6.83887210e-03, -1.12849595e-02,\n",
            "       -1.39032602e-02, -4.08893870e-03,  9.85544361e-03, -8.48619174e-03,\n",
            "       -8.16122070e-03,  1.02451136e-02,  1.03854695e-02, -5.16629638e-03,\n",
            "       -9.38207656e-03,  2.22909055e-03,  5.67677291e-03,  1.91954838e-03,\n",
            "        1.37604056e-02,  9.02336277e-03, -1.31476261e-02,  9.85304080e-03,\n",
            "       -1.25452727e-02, -1.18271727e-02,  1.20243197e-02,  1.70881907e-03,\n",
            "       -1.07897557e-02, -5.09599084e-03, -5.54714212e-03,  9.46316775e-03,\n",
            "       -7.33602932e-03,  1.45983498e-03,  9.29531269e-03,  7.10190274e-03,\n",
            "       -8.16591736e-03, -1.01851104e-02,  1.83972612e-03,  1.48222633e-02,\n",
            "       -6.39001932e-03, -9.75511968e-03,  5.21528628e-03,  4.52817464e-03,\n",
            "        6.65308442e-03, -1.16012339e-02,  4.86948201e-03, -6.54419651e-04,\n",
            "        5.34472987e-04,  1.11455470e-02, -8.22501443e-03,  4.50669602e-03,\n",
            "       -9.87970270e-03, -9.71434638e-03, -8.07776954e-03, -8.85806419e-03,\n",
            "       -1.25849824e-02,  2.95056798e-03, -9.20020230e-03, -8.68148264e-03,\n",
            "       -1.41441058e-02,  9.88770742e-04,  1.19789513e-02,  4.43474483e-03,\n",
            "       -1.29695414e-02, -2.00726511e-03,  9.98282805e-03, -8.51762667e-03,\n",
            "       -7.38524925e-03, -5.83298795e-04, -8.03621020e-03, -9.56062414e-03,\n",
            "       -8.72935075e-03,  4.61544655e-03,  1.11136744e-02,  2.18595075e-03,\n",
            "        1.09694563e-02,  7.65967695e-03,  9.68586188e-03,  6.49712281e-03,\n",
            "       -6.28540060e-03,  1.48687058e-03,  4.18800907e-03, -1.03660394e-02,\n",
            "       -9.91768949e-03, -4.33524465e-03,  8.87946133e-03,  8.99292901e-03,\n",
            "        4.21241857e-03, -7.57803256e-03, -4.30512289e-03, -9.55804903e-03,\n",
            "       -3.11345910e-03,  7.28981243e-03, -8.93656723e-03, -5.59400115e-03,\n",
            "       -4.94233891e-03,  1.22734206e-02,  3.23016639e-03,  7.35058542e-03,\n",
            "       -1.04753654e-02,  7.83722196e-03,  9.65157803e-03,  2.23488291e-03,\n",
            "        1.33882910e-02,  5.03465417e-04, -7.19188852e-03, -6.48760097e-03,\n",
            "       -9.60002304e-04,  4.90146643e-03,  9.77742951e-03,  2.33334373e-03,\n",
            "        2.25712848e-03, -7.31098372e-03, -1.30379675e-02,  5.96512668e-03,\n",
            "       -5.95156476e-03,  1.71351639e-04, -8.31010100e-03,  2.27621500e-03,\n",
            "       -6.95116026e-03, -1.09056830e-02, -9.31007974e-03,  2.99992110e-03,\n",
            "        1.12859504e-02,  4.91534919e-03, -5.42303873e-03,  2.22048326e-03,\n",
            "       -9.24703665e-03,  8.60777451e-04, -1.09793572e-02, -5.63355396e-03,\n",
            "        2.34826119e-03, -7.60834804e-03,  7.09990854e-05, -1.05661424e-02,\n",
            "       -1.27714342e-02, -1.05452249e-02, -4.15150449e-03, -9.46237985e-03,\n",
            "       -1.15018170e-02, -1.39155695e-02, -5.74448798e-03, -1.33199161e-02,\n",
            "       -5.90980379e-03,  7.89506920e-03,  2.84964219e-03, -7.45810056e-03,\n",
            "       -8.44583753e-03, -7.39902537e-03, -1.15756020e-02, -9.69472434e-03,\n",
            "        1.98129704e-03,  7.16600753e-03,  1.69862658e-02, -1.01065170e-02,\n",
            "       -7.34618446e-03,  1.13444710e-02, -4.07415582e-03, -1.31829968e-02,\n",
            "       -1.01042902e-02,  1.56004506e-04,  6.44673221e-03, -1.60323316e-03,\n",
            "        6.25823531e-03,  1.00945365e-02, -1.31198186e-02, -9.16652102e-03,\n",
            "       -8.15203879e-03, -1.23406025e-02, -3.09424242e-03,  4.51465556e-03,\n",
            "       -1.17756790e-02, -7.97888730e-04, -4.63716825e-03, -1.21398820e-02,\n",
            "       -9.17281397e-03,  6.19334751e-04, -7.78013561e-03, -7.67503586e-03,\n",
            "       -1.02354735e-02,  3.64211784e-03, -5.10362303e-03, -4.56813164e-03,\n",
            "        4.65920847e-03, -6.71008183e-03, -7.44772190e-03,  8.88635591e-03,\n",
            "        8.11877719e-04,  1.07803512e-02,  2.13257829e-03, -1.11724632e-02,\n",
            "        7.50141870e-03, -9.18829639e-04, -5.50906546e-03, -9.07731056e-03,\n",
            "        6.20056503e-03,  1.84773398e-03,  4.87234117e-03, -7.45765027e-03],\n",
            "      dtype=float32)>\n",
            "<tf.Variable 'dense_11/kernel:0' shape=(512, 2) dtype=float32, numpy=\n",
            "array([[-0.01774434,  0.02854323],\n",
            "       [ 0.08624967,  0.07266787],\n",
            "       [ 0.08631966,  0.04378667],\n",
            "       ...,\n",
            "       [ 0.03555423,  0.08803837],\n",
            "       [-0.08886624,  0.01210493],\n",
            "       [ 0.10902663,  0.03339164]], dtype=float32)>\n",
            "<tf.Variable 'dense_11/bias:0' shape=(2,) dtype=float32, numpy=array([-0.0153339 ,  0.01533391], dtype=float32)>\n"
          ],
          "name": "stdout"
        }
      ]
    },
    {
      "cell_type": "markdown",
      "metadata": {
        "id": "SR42boMgczoF"
      },
      "source": [
        "Unfortunately, that probably didn’t help you make a useful explanation.\n",
        "\n",
        "Researchers are currently studying ways to make neural networks more explainable. One approach is using **saliency maps** to figure out the saliency (importance) of each individual pixel. Check out a demo [here](https://lrpserver.hhi.fraunhofer.de/image-classification). Intuitively, we're trying to understand the neural network by tracking what it \"pays attention\" to, in the same way that psychologists study babies' cognition by [tracking what babies look at](https://www.ncbi.nlm.nih.gov/pmc/articles/PMC3259733/).\n",
        "\n",
        "In this exercise, we're going to build a simple version of a saliency map for the image you chose above. We'll see what pixels were most important in helping the network make its classification.\n",
        "\n",
        "To do this, we'll investigate the effects of changing each pixel a little bit. If changing a particular pixel changes the result a lot, we conclude that pixel must be important for classifying. If changing that pixel doesn't change the result, we conclude that pixel is unimportant.\n"
      ]
    },
    {
      "cell_type": "markdown",
      "metadata": {
        "id": "0RpZL6ChfLZ6"
      },
      "source": [
        "We're going to use the raw predicted probabilities, rather than the final classification."
      ]
    },
    {
      "cell_type": "code",
      "metadata": {
        "id": "gkdMS7sJfR6j",
        "colab": {
          "base_uri": "https://localhost:8080/"
        },
        "outputId": "ec08d50f-3907-4cd3-b942-b13c23840c8b"
      },
      "source": [
        "pred = cnn.predict_proba(np.array([input_image])) #What does each number mean?\n",
        "print (pred)\n",
        "dog_prob = pred[0][0] #This is the probability we'll use (if we know dog prob, we know the classification)\n",
        "\n",
        "print ('Probability of dog:')\n",
        "print (dog_prob)"
      ],
      "execution_count": null,
      "outputs": [
        {
          "output_type": "stream",
          "text": [
            "1/1 - 0s\n",
            "[[5.742995e-06 9.999943e-01]]\n",
            "Probability of dog:\n",
            "5.742995e-06\n"
          ],
          "name": "stdout"
        },
        {
          "output_type": "stream",
          "text": [
            "/usr/local/lib/python3.6/dist-packages/tensorflow/python/keras/engine/sequential.py:425: UserWarning: `model.predict_proba()` is deprecated and will be removed after 2021-01-01. Please use `model.predict()` instead.\n",
            "  warnings.warn('`model.predict_proba()` is deprecated and '\n"
          ],
          "name": "stderr"
        }
      ]
    },
    {
      "cell_type": "markdown",
      "metadata": {
        "id": "Xla3j0R1geJY"
      },
      "source": [
        "Now, we need to calculate the saliency for each pixel (really, each R/G/B value). The core idea is that a pixel's saliency is the average value of \n",
        "\n",
        " $D = |\\frac{\\Delta probability}{\\Delta pixel}|$\n",
        " \n",
        " where $\\Delta$ is the amount of change. If a small change in the pixel value results in a large change in the probability (either up or down), we know this pixel is important. If you've seen derivatives in calculus, this idea should feel familiar.\n",
        "\n",
        "Here's the game plan:\n",
        "\n",
        "*   Consider each pixel value in turn: R, G, B, then the next pixel.\n",
        "*   Make a copy of the image array before you change anything!\n",
        "*   Make the pixel value larger or smaller by various amounts. Each time, find the CNN's prediction with the changed value, and calculate the value of D.\n",
        "*   Repeat the previous step a few times, and calculate the pixel's saliency: the average value of D.\n",
        "*   Store the saliency of each pixel in a list, so that we can visualize it later.\n"
      ]
    },
    {
      "cell_type": "code",
      "metadata": {
        "id": "RnABhKUJmNCF",
        "colab": {
          "base_uri": "https://localhost:8080/",
          "height": 249
        },
        "outputId": "a05306b6-8ffb-401e-b633-023198b73bd9"
      },
      "source": [
        "saliencies = [] #eventually, will be the same size as input_image\n",
        "\n",
        "for index, pixel in enumerate(input_image):\n",
        "  #index counts up from 0, pixel is between 0 and 255\n",
        "  \n",
        "  if index%100 == 0: #will track progress - this might take a while\n",
        "    print (index)\n",
        "  \n",
        "  changed_input = input_image.copy() #make sure not to change the original input_image!\n",
        "  \n",
        "  #YOUR CODE HERE:\n",
        "  #In changed_input, change the value of this pixel by some amount.\n",
        "  #Use the CNN to classify changed_input.\n",
        "  #Calculate the value of D.\n",
        "  #Repeat with various-size changes, and calculate saliency as the average D.\n",
        "  \n",
        "  saliencies.append(saliency)\n",
        "\n",
        "print (saliencies)"
      ],
      "execution_count": null,
      "outputs": [
        {
          "output_type": "stream",
          "text": [
            "0\n"
          ],
          "name": "stdout"
        },
        {
          "output_type": "error",
          "ename": "NameError",
          "evalue": "ignored",
          "traceback": [
            "\u001b[0;31m---------------------------------------------------------------------------\u001b[0m",
            "\u001b[0;31mNameError\u001b[0m                                 Traceback (most recent call last)",
            "\u001b[0;32m<ipython-input-137-9f6d9148de9a>\u001b[0m in \u001b[0;36m<module>\u001b[0;34m()\u001b[0m\n\u001b[1;32m     15\u001b[0m   \u001b[0;31m#Repeat with various-size changes, and calculate saliency as the average D.\u001b[0m\u001b[0;34m\u001b[0m\u001b[0;34m\u001b[0m\u001b[0;34m\u001b[0m\u001b[0m\n\u001b[1;32m     16\u001b[0m \u001b[0;34m\u001b[0m\u001b[0m\n\u001b[0;32m---> 17\u001b[0;31m   \u001b[0msaliencies\u001b[0m\u001b[0;34m.\u001b[0m\u001b[0mappend\u001b[0m\u001b[0;34m(\u001b[0m\u001b[0msaliency\u001b[0m\u001b[0;34m)\u001b[0m\u001b[0;34m\u001b[0m\u001b[0;34m\u001b[0m\u001b[0m\n\u001b[0m\u001b[1;32m     18\u001b[0m \u001b[0;34m\u001b[0m\u001b[0m\n\u001b[1;32m     19\u001b[0m \u001b[0mprint\u001b[0m \u001b[0;34m(\u001b[0m\u001b[0msaliencies\u001b[0m\u001b[0;34m)\u001b[0m\u001b[0;34m\u001b[0m\u001b[0;34m\u001b[0m\u001b[0m\n",
            "\u001b[0;31mNameError\u001b[0m: name 'saliency' is not defined"
          ]
        }
      ]
    },
    {
      "cell_type": "markdown",
      "metadata": {
        "id": "SJEAJ5VinTIZ"
      },
      "source": [
        "You'll notice that your saliencies are probably very small values, since each individual pixel has a small effect on the output. \n",
        "Here are the current min and max:"
      ]
    },
    {
      "cell_type": "code",
      "metadata": {
        "id": "S5vRrciYnZgk"
      },
      "source": [
        "sal_array = np.array(saliencies)\n",
        "print (sal_array.min(), sal_array.max())\n",
        "print (sal_array.shape)"
      ],
      "execution_count": null,
      "outputs": []
    },
    {
      "cell_type": "markdown",
      "metadata": {
        "id": "UwQfwv6rnl--"
      },
      "source": [
        "To plot the saliencies, we need to do some arithmetic to transform them to a range of 0 to 1. Can you explain the function of each line?"
      ]
    },
    {
      "cell_type": "code",
      "metadata": {
        "id": "XL_W9k0W0Sai"
      },
      "source": [
        "sal_array = np.array(saliencies)\n",
        "sal_array = sal_array - sal_array.min()\n",
        "#TODO print min and max\n",
        "\n",
        "sal_array = sal_array/sal_array.max()\n",
        "#TODO print min and max\n",
        "\n",
        "#Can you perform this transformation in a single line of code?\n",
        "\n",
        "print (sal_array.shape)"
      ],
      "execution_count": null,
      "outputs": []
    },
    {
      "cell_type": "markdown",
      "metadata": {
        "id": "OvFKoff4n_gf"
      },
      "source": [
        "Finally, we can plot our saliency map!\n",
        "\n",
        "If you're not getting great results, try experimenting with how much you're changing the pixel values."
      ]
    },
    {
      "cell_type": "code",
      "metadata": {
        "id": "2vANcgvj1Pvc"
      },
      "source": [
        "#Plot our original image\n",
        "plt.imshow(input_image.reshape(32,32,3).astype(int))\n",
        "plt.show()\n",
        "\n",
        "#Plot our saliency map: the brighter, the higher the saliency\n",
        "plt.imshow(sal_array.reshape(32,32,3))\n",
        "plt.show()\n",
        "\n",
        "#Plot our saliency map superimposed on the image\n",
        "plt.imshow(input_image.reshape(32,32,3).astype(int))\n",
        "plt.imshow(sal_array.reshape(32,32,3),alpha=0.6)\n",
        "plt.show()"
      ],
      "execution_count": null,
      "outputs": []
    },
    {
      "cell_type": "markdown",
      "metadata": {
        "id": "fistwbaDp56y"
      },
      "source": [
        "We now have some insight into our neural network! We know which pixels matter in its decisions. \n",
        "\n",
        "You can experiment with the definition of saliency we used above; you might come up with a better way to measure it!"
      ]
    },
    {
      "cell_type": "markdown",
      "metadata": {
        "id": "TKrluDRmYEj7"
      },
      "source": [
        "# Additional Notes"
      ]
    },
    {
      "cell_type": "markdown",
      "metadata": {
        "id": "X9OOHWI5YGuz"
      },
      "source": [
        "Some links:\n",
        "*   https://github.com/MLRG-CEFET-RJ/stconvs2s"
      ]
    }
  ]
}
