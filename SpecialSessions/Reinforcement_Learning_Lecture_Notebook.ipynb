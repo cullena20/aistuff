{
  "nbformat": 4,
  "nbformat_minor": 0,
  "metadata": {
    "colab": {
      "name": "Reinforcement Learning Lecture/Notebook.ipynb",
      "provenance": [],
      "collapsed_sections": [],
      "include_colab_link": true
    },
    "kernelspec": {
      "name": "python3",
      "display_name": "Python 3"
    }
  },
  "cells": [
    {
      "cell_type": "markdown",
      "metadata": {
        "id": "view-in-github",
        "colab_type": "text"
      },
      "source": [
        "<a href=\"https://colab.research.google.com/github/cullena20/inspiritai/blob/main/SpecialSessions/Reinforcement_Learning_Lecture_Notebook.ipynb\" target=\"_parent\"><img src=\"https://colab.research.google.com/assets/colab-badge.svg\" alt=\"Open In Colab\"/></a>"
      ]
    },
    {
      "cell_type": "code",
      "metadata": {
        "id": "tkSmiO9Nh0ac"
      },
      "source": [
        "#Run this to load some packages!\n",
        "import random\n",
        "from collections import Counter\n",
        "import numpy as np\n",
        "import matplotlib.pyplot as plt\n",
        "import matplotlib.patches as mpatches\n",
        "from matplotlib import cm\n",
        "import gym\n",
        "from IPython.display import HTML\n",
        "\n",
        "import tqdm\n",
        "\n",
        "ats = {1: \"hit\", 0:\"stay\"}\n",
        "\n",
        "def play_blackjack(epsilon, print_steps=False):\n",
        "  ### YOUR CODE HERE ###\n",
        "  game = []\n",
        "  state = blackjack.reset()\n",
        "  game_over = False\n",
        "  while game_over == False:\n",
        "      if print_steps: \n",
        "        print(\"Your cards: \", blackjack.player)\n",
        "        print_state(state)\n",
        "      action = epsilon_greedy(state, epsilon)\n",
        "      if print_steps: print(f\"Agents chooses to {ats[action]}\")\n",
        "      next_state, reward, game_over, _ = blackjack.step(action)\n",
        "      game.append((state, action))\n",
        "      state = next_state\n",
        "      if game_over:\n",
        "        if print_steps:\n",
        "          print(\"Your cards: \", blackjack.player)\n",
        "          print_state(state)\n",
        "          print(\"Game over!\")\n",
        "          print(f\"Dealer has {blackjack.dealer}\")\n",
        "          print(rtm[reward])\n",
        "        game.append(reward)    \n",
        "  return game\n",
        "  ### END CODE ###\n",
        "\n",
        "def get_best_action(hand_val, dealer_card, usable_ace):\n",
        "    state = (hand_val, dealer_card, usable_ace)\n",
        "\n",
        "    # Compute Q(state, True)\n",
        "    if num_games[(state,True)] == 0:\n",
        "      Q_state_true = 0\n",
        "    else:\n",
        "      Q_state_true = sum_rewards[(state,True)] / num_games[(state,True)]\n",
        "    \n",
        "    # Compute Q(state, False)\n",
        "    if num_games[(state,False)] == 0:\n",
        "      Q_state_false = 0\n",
        "    else:\n",
        "      Q_state_false = sum_rewards[(state,False)] / num_games[(state,False)]\n",
        "\n",
        "    return Q_state_true >= Q_state_false\n",
        "\n",
        "def make_subplot(ax, usable_ace):\n",
        "    x_coords = np.arange(1, 11) # dealer's cards\n",
        "    y_coords = np.arange(11, 22) # gambler's hand values\n",
        "    Z = np.array([[get_best_action(y, x, usable_ace) for x in x_coords] for y in y_coords])\n",
        "    surf = ax.imshow(Z, cmap=plt.get_cmap('Set1', 2), extent=[0.5, 10.5, 21.5, 10.5])\n",
        "    plt.xticks(x_coords)\n",
        "    plt.yticks(y_coords)\n",
        "    plt.gca().invert_yaxis()\n",
        "    ax.set_xlabel('Dealer Showing')\n",
        "    ax.set_ylabel('Player Sum')\n",
        "    col1_patch = mpatches.Patch(color='darkgray', label='Hit')\n",
        "    col2_patch = mpatches.Patch(color='red', label='Stick')\n",
        "    plt.legend(handles=[col1_patch, col2_patch])\n",
        "\n",
        "def plot_strategy():\n",
        "  fig = plt.figure(figsize=(13, 13))\n",
        "  ax = fig.add_subplot(121)\n",
        "  ax.set_title('Usable Ace')\n",
        "  make_subplot(ax, True)\n",
        "  ax = fig.add_subplot(122)\n",
        "  ax.set_title('No Usable Ace')\n",
        "  make_subplot(ax, False)\n",
        "  plt.show()\n",
        "\n",
        "def best_action(state):\n",
        "  ### YOUR CODE HERE ###\n",
        "  # Compute Q(state, True)\n",
        "  if num_games[(state,True)] == 0:\n",
        "    Q_state_true = 0\n",
        "  else:\n",
        "    Q_state_true = sum_rewards[(state,True)] / num_games[(state,True)]\n",
        "  \n",
        "  # Compute Q(state, False)\n",
        "  if num_games[(state,False)] == 0:\n",
        "    Q_state_false = 0\n",
        "  else:\n",
        "    Q_state_false = sum_rewards[(state,False)] / num_games[(state,False)]\n",
        "\n",
        "  return Q_state_true >= Q_state_false\n",
        "  ### END CODE ###\n",
        "\n",
        "def print_state(state):\n",
        "  print()\n",
        "  print(\"Hand value:\", state[0])\n",
        "  print(\"Dealer's card:\", state[1])\n",
        "  print(\"Useable ace?:\", state[2])\n",
        "  print(\"-----\")\n",
        "\n",
        "rtm = {0:\"It's a tie!\", -1: \"You lose!\", 1:\"You win!\"}\n",
        "def play_human(blackjack):\n",
        "  print()\n",
        "  state = blackjack.reset()\n",
        "  print(\"Your cards: \", blackjack.player)\n",
        "  print(\"Hand value:\", state[0])\n",
        "  print(\"Dealer's card:\", state[1])\n",
        "  print(\"Useable ace?:\", state[2])\n",
        "  print(\"-----\")\n",
        "\n",
        "  while True:\n",
        "    move = input('1 for hit 0 for stay: ') == '1'\n",
        "    state, reward, game_over, _ = blackjack.step(move)\n",
        "    print(\"Your cards: \", blackjack.player)\n",
        "    print(\"Hand value:\", state[0])\n",
        "    print(\"Dealer's card:\", state[1])\n",
        "    print(\"Useable ace?:\", state[2])\n",
        "    print(\"-----\")\n",
        "    if game_over:\n",
        "      print(\"Game over!\")\n",
        "      print(f\"Dealer has {blackjack.dealer}\")\n",
        "      print(rtm[reward])\n",
        "      break\n",
        "  return reward\n",
        "\n",
        "def play_n_times(blackjack, n):\n",
        "  return np.mean([play_human(blackjack) for _ in range(n)])\n",
        "\n",
        "sum_rewards = Counter()\n",
        "num_games = Counter()"
      ],
      "execution_count": null,
      "outputs": []
    },
    {
      "cell_type": "markdown",
      "metadata": {
        "id": "SmeIK9de2ko_"
      },
      "source": [
        "\n",
        "\n",
        "# Reinforcement Learning\n",
        "By now, you've probably heard of the term 'reinforcement learning'. Today, we'll see exactly what that means and apply it to the widely played game of blackjack! Reinforcement learning is all about training agents to make optimal decisions in certain states.\n",
        "\n",
        "\n",
        "**Here are some examples of what RL can do**. \n",
        "\n",
        "\n",
        "![](https://lh3.googleusercontent.com/cTaZiZNod4_aZxSYzV-MuAzavS87y838E9Zp8BHrz65_DLi3cJCESl0sDO2ucRxLByeiJ9fQFx4kC8c-6wKivikliGgNFd7c7WIfKfQ=w1440)\n",
        "\n",
        "\n",
        "\n"
      ]
    },
    {
      "cell_type": "code",
      "metadata": {
        "id": "s166mMlISqmI",
        "colab": {
          "base_uri": "https://localhost:8080/",
          "height": 336
        },
        "outputId": "e5878c47-6290-41c2-aa33-909f19e61254"
      },
      "source": [
        "#@title Run to see an example of a RL agent learning to play breakout!\n",
        "\n",
        "HTML('<iframe width=\"560\" height=\"315\" src=\"https://www.youtube.com/embed/V1eYniJ0Rnk\" frameborder=\"0\" allow=\"accelerometer; autoplay; clipboard-write; encrypted-media; gyroscope; picture-in-picture\" allowfullscreen></iframe>')"
      ],
      "execution_count": null,
      "outputs": [
        {
          "output_type": "execute_result",
          "data": {
            "text/html": [
              "<iframe width=\"560\" height=\"315\" src=\"https://www.youtube.com/embed/V1eYniJ0Rnk\" frameborder=\"0\" allow=\"accelerometer; autoplay; clipboard-write; encrypted-media; gyroscope; picture-in-picture\" allowfullscreen></iframe>"
            ],
            "text/plain": [
              "<IPython.core.display.HTML object>"
            ]
          },
          "metadata": {
            "tags": []
          },
          "execution_count": 3
        }
      ]
    },
    {
      "cell_type": "markdown",
      "metadata": {
        "id": "WfMVSEPiSrAK"
      },
      "source": [
        "\n",
        "![](https://www.thesprucepets.com/thmb/64ApN7vccbRhZ5mnwXLyYUjt5ig=/450x0/filters:no_upscale():max_bytes(150000):strip_icc()/GettyImages-992416282-5c296bcdc9e77c00012eb55d.jpg)\n",
        "\n",
        "**Discuss:** How do you train a pet?\n",
        "\n",
        "![](https://hips.hearstapps.com/hmg-prod.s3.amazonaws.com/images/beagle-with-treat-royalty-free-image-172977570-1559147501.jpg?crop=0.665xw:1.00xh;0.119xw,0&resize=640:*)\n",
        "\n",
        "We'll see how we can apply similar concepts to 'train' RL agents. **The techniques we'll talk about today drive technologies that allow computers to beat humans in chess, go, and videogames; autonomous driving; and robotic controls!**"
      ]
    },
    {
      "cell_type": "markdown",
      "metadata": {
        "id": "el79IfPCPqri"
      },
      "source": [
        "# Blackjack\n",
        "\n",
        "![](https://upload.wikimedia.org/wikipedia/commons/3/33/Blackjack21.jpg)\n",
        "\n",
        "To motivate our discussion, we'll use the game of blackjack. Though you can be sure that the odds are *always* against the gambler, certain play strategies are better than others. Despite Blackjack having been played since the 17th century, it was not until 1956 that a team of statisticians managed to find the provably optimal play strategy through a lengthy series of probability calculations!\n",
        "\n",
        "Just to make sure everyone knows how to play, here are the rules:\n",
        "\n",
        "\n",
        "* You and the dealer each start with two cards. You can see both of your cards and one of the dealer's cards\n",
        "* You decide to either \"hit\" or \"stay\"\n",
        "* \"hit\" means you draw another card\n",
        "* \"stay\" means you're done!\n",
        "* The goal is to make the sum of your cards higher than the dealers, but not higher than 21.\n",
        "* J, Q, K are each worth 10\n",
        "* A is worth either 1 or 11 (whichever gives you the highest sum without going over 21)\n",
        "* Dealer gets to pick cards after you're done\n",
        "\n",
        "\n",
        "Don't worry, we can play a couple of times to get the hang of it!"
      ]
    },
    {
      "cell_type": "code",
      "metadata": {
        "id": "G2mMK6VM8T4-"
      },
      "source": [
        "blackjack = gym.make('Blackjack-v0')"
      ],
      "execution_count": null,
      "outputs": []
    },
    {
      "cell_type": "code",
      "metadata": {
        "id": "OLJMfaFk8Pl5",
        "colab": {
          "base_uri": "https://localhost:8080/"
        },
        "outputId": "45721d57-889a-4c3f-f693-a078d93f055f"
      },
      "source": [
        "play_human(blackjack)"
      ],
      "execution_count": null,
      "outputs": [
        {
          "output_type": "stream",
          "text": [
            "\n",
            "Your cards:  [2, 9]\n",
            "Hand value: 11\n",
            "Dealer's card: 1\n",
            "Useable ace?: False\n",
            "-----\n",
            "1 for hit 0 for stay: 1\n",
            "Your cards:  [2, 9, 10]\n",
            "Hand value: 21\n",
            "Dealer's card: 1\n",
            "Useable ace?: False\n",
            "-----\n",
            "1 for hit 0 for stay: 0\n",
            "Your cards:  [2, 9, 10]\n",
            "Hand value: 21\n",
            "Dealer's card: 1\n",
            "Useable ace?: False\n",
            "-----\n",
            "Game over!\n",
            "Dealer has [1, 1, 1, 9, 8]\n",
            "You win!\n"
          ],
          "name": "stdout"
        },
        {
          "output_type": "execute_result",
          "data": {
            "text/plain": [
              "1.0"
            ]
          },
          "metadata": {
            "tags": []
          },
          "execution_count": 5
        }
      ]
    },
    {
      "cell_type": "markdown",
      "metadata": {
        "id": "XvrCQDm8POja"
      },
      "source": [
        "# Defining the world\n",
        "\n",
        "In any reinforcement learning task we need to define the world in which the agent exists. There are 3 things we need to define: \n",
        "\n",
        "1. **states**: Where am I?\n",
        "2. **actions**: What can I do?\n",
        "4. **rewards**: How good were my decisions?\n",
        "\n",
        "These interact together to define our world as follows!\n",
        "\n",
        "![](https://dzone.com/storage/temp/6976061-screen-shot-2017-10-20-at-22200-pm.png)\n",
        "\n",
        "**Discuss**: What are the states, actions and rewards in the following?\n",
        "\n",
        "![](https://encrypted-tbn0.gstatic.com/images?q=tbn%3AANd9GcQcCByH1UFKkeo8d0ZkKilw9LiuaG5sPFzIYQ&usqp=CAU)\n",
        "\n",
        "![](https://i1.wp.com/metro.co.uk/wp-content/uploads/2019/09/Mobile_MarioKartTour_01-3eb4.jpg?quality=90&strip=all&zoom=1&resize=644%2C664&ssl=1)\n",
        "\n",
        "![](data:image/jpeg;base64,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)\n",
        "\n",
        "![](data:image/jpeg;base64,/9j/4AAQSkZJRgABAQAAAQABAAD/2wCEAAkGBxAQDw8QDw8PDxUQEBARDw8QEBUQEBYVGBUWFxUXFhcYHTQhGBsmHRUVITEiJikrLi4uFx8zODMsNygtLisBCgoKDg0OGxAQGy0lICYwLS0tLTAtLS0tLSstLS0tLS0rLS0tLS0tLS0tLS0tLS0tLS0tLS0tLS0tLS0tLS0tLf/AABEIAMIBAwMBEQACEQEDEQH/xAAcAAEAAQUBAQAAAAAAAAAAAAAAAgEDBAUGBwj/xABCEAACAQMCAwQHBgQFAgcBAAABAgMABBESIQUGEyIxQVEHFFJhcaHRFSMygZGiQoKSsTNTYnLBJHNjk7LCw9LhFv/EABsBAQEAAwEBAQAAAAAAAAAAAAABAgMEBQYH/8QANBEAAgIBAwMCBAQGAgMBAAAAAAECAxEEEiETMUEFUSJhcYGRobHwFCMywdHhQvEVM2IG/9oADAMBAAIRAxEAPwDw2gFAKAUAoBQCgFAKAUAoBQCgFAKAUAoBQCgFAKAUAoBQCgFAKAUAoBQCgFAKAUAoBQCgFAKAUAoBQCgFAKAUAoBQCgFAKAUAoBQCgFAKAUAoBQCgFAKAUAoBQCgFAKAUAoBQCgFAKAUAoBQCgFAKAUAoBQCgFAKAUAoBQCgFAKAUAoBQCgFAKAUAoCtAUoBQCgFAVoBQCgFAKAUAoBigFAKAUAoBQDFAMUAoBQCgFAKAYoBigFAKAUAoDYerJ5fM1jk072V9WT2fmaZG9lfVU9n5mmSb2V9UT2fmfrUyOoyvqaez8z9abh1GVFmns/M/Wm5k6jK+pR+z8z9am5jqMkLGP2fmfrV3MnUkVFjH7PzP1puHVkSHD4/Z+bfWpuZOrImOHRex+5vrU3MnVkSHDYvY/c31qb2OrIqOGRex+5vrTezHrSJfZcPsfub603svWkSHCofY/c31qdRk68yv2VD7H7m+tN7J15j7Jh9j9zfWnUY68yv2TD7H7m+tN7HXmU+yYf8AL/c31pvY68x9lQ+x+5vrTex15lPsqH2P3N9au9l68yn2XD7H7m+tN7HXmU+zIfY/c31pvY60yh4ZD7H7m+tXcx1plPs2L2P3N9abmXqyKfZ0Psfub603MdWQ+zovY/c31puY6sh9nRex+5vrTcx1ZFPs+L2P3N9abmXqyH2fF7H7m+tNzHVkU+z4vY/c31q7mOrIp9nxex+5vrTcx1ZFPUIvY/c31puZerItAVSlQKEJAVASAoCQFQhUChCQFCEgtCEwtQhMLUITC1CEwtQmSQWhMkwtQmSQWpkhXTTIK6agyNNUZGmmRkiVoUoVqgiRVKRIoikSKpTM4Rwa5vH0WsEk5BwSg7K/7mPZX8zVSbMoxb7Gx5o5MvOGxwy3Qi0zNoBjcvpfBIRsgbkA92e41k00ZSrce5g2HLl9Pjo2V1ID3MIWVf6mAHzqYZFCT8HQ2Pos4rLjVFDAD/nTDP6JmrtZmqZHQWvoWkIPVv41ONhHAWAPvJYZH5Csthn0fmeZcTsnt55oJMaoZXjYjuJViMj3HGawfBpaw8GLQhE0BShTCArM2EgKgJAUITAqEKgUBIChCQFQhMChCarUIXFWoTJMLUMWyYWpkhMLUJkmFqEyVC1CZJaaDJXTTIyU00BTTQFCtUuSJFUqN7Y8kcTnAKWUoB8ZdMPykIPyrNQZtVU34N9Z+iO+f/FmtofgXlb9AAPnWSrZsWnl5Z1vAvRRZQkNcs94w/hb7uEfyA9r+Yke6s1BG6NKXc7q2tkiQJGixqowqIoRAPIAbCszasIuaR5Coy9yM9wkY1SOqDxZ2Cj9TVBh/bUB/AzTA+MEbzr+bRqQP1oDLtbhZUDocg57wVIIOCCDupBBBB3BBFAfPfpZs+lxi58BMsUw/mQKf3I1apdzktWJHH1DWUNARoUxAKyNhIUJkmBUJkkBQEgKEJAVCEwKEJgVCE1FQxLgFYkLgWoRkwKhMkwtQxJhagJBamSFdNCZK6aApppkFNNUpK2tnlcRxRvK57kjUu59+B4e+qk2VJvhHccuejm8EkNzclLdYpY5ekcSytpYNggHSoOPMn3VujW+7OqrTyzlnovM0wWSwmV/8DiEUUoVhsJ42hCsPDeaI/DFbztNnJxMZZY4ppyhKt00wuR3gSSEISDscNsQR3igMePiM8yF7eKBhl1BkuR+NSVKnpKw2YEHfbBoDyfjfpS4pHJJC0EFo8baWTptLICO8Ak4JxuDjBBBrROyUZYwetptDRbXv3vxhfqn8zn5uaeL3nYW4vZDvqW2BXwI2EAzjOO+tcZWTlwzqlVoaoqMsJ+W38n4+puOQeVLi44nFNewyKsH3rNMGLMyEaVy++dTKSPDT76211Si8yZy67W0WV7KYpeHj2/2ewcxzzRxK0RKgN94wALAY22PhnFc3qFt1dW6rv8A2PLjhvknwJ2xKGwDrV8Du+8jR2/eZK66m3BOXfBizyz082eLiynA/HFJEx96MGX/ANbfpSZzX90zyysTSUoClCmIKyMyYFQhIChCYoCQqEJAUITAqELiioQuKKhiXFFRkJgViY5LgFRkJgVjkhMLQmSYWoTJXTQhXTQFCtC5IkVQeo8qXMf2GDAGikS4giuGh7MxY3EYJDeJKOMZ23xXQn8HB7fp21tdvPf6HZcLup3jeK5heORVyHIBR1JODlSVV9u0uTjwyDWyL8M3XQgnmDyv0/17HEekHm2w4Xd2Mklr6xNLpln0uQVRAUSTRq0tJnIUsO5CMjaszQZfNHPEVpwa4urWQOZ5WWycbZacCbVg9xTqPsfFMGgPEvR/z9c8JnyC00EjZuLdm2Pm6Z/C/v8AHx9wHsvNB4ffvaXcaJJ1bdWWQjtMpOVVl8SuG7+7Jrx/U9TOOIQfJsrbWcN4+pteUoo3FxGrrGzRhYwF8O9jjbP8O361h6Q/ik5PkxsSxwbbhSrbyRwiYzszMyYVQBE4Hs7DBiJ9+T3mvek3Lk544i8Gw5kiV7ScOWA0EnT3nHcPeM4rk1STqlk3I1vK0qghBkYgEZydQJic5IbxyJ1rR6bcrNOmvBlJYZz3pys9fDopf8i5jJP+l1ZMf1Mn6V2yXBz3LMTwutZzFDQFKFMYVTMkKEJgUISAqAO6r+IgfE4qpBRb7Eo3VvwkH4UaaJKLXcvAVgYFwChGXFFYsxLiisSFtr2JThpEBHeM71lskZdKT8GXGQQCCCD3EVraxwzW013JPIq41HvOAO8k+QA7zRRb7CMHLhEoJVbOk7jZgQQw+INJRce5J1yh3L4FYGsrigK4qApiqDDmv4VJVpUBHeCazVcms4NsapvlI6v0f8VZJZoIunJ65Eegsm8frMWXgJ8BuCPjprOLcco7dBPZco2ZS8+/7wX7C54nc8WsoruSdJY5FyGHTGhWLudK4U5GRnxGBWiLtlYlI/QLa9DTobJ04aa+rz2R6DxjkWyvpOvKmJk0xCXAcaFk6mnQ+V3yVJxnDEV6R8SaLn70crfJDaWbxWa26rJDGVPSO7LJ3bg7xnO/j55oDkrf0WxeuPZT29wLeO3iJ4smmMCdVLyE69jG2rTgZwUX3mgZtJZra29Xtoi6xhWjtwFZy4iyWd2A3OWU7YHaAxjNeFrarZ2Sk44xxyZKUcZM/g/McVqzP0ZJG7WNbIqBduoV7RYHtLnsnwG2a26Hp0pysfxP25Nc7G+yMp+cYxdQrbWEYZVlllkZ9LBQDEqjsd7u4UHOML4gV2T16UM4fdY/fyEYecG04V6R+HXx6CzrA5ZldJwFBAyOwx7JDbYzvjOwrpUlJcm6VM8ZSMnl12VolK6OnM8brksFLrJkBjuwJSLBPnWxwjFYj2OeDk85Mv0j2fW4RfrjOmBpgPHMREox+aVi+xZrMT5qrUcZSgKUKYwFUyMmxg6ksMW/3s0UQx39t1X/AJp2yzOtZlg9jfkDhY77cgZ7zcTD/wB9eT/G3Pt+h6PRgYt96ObCRD0BJA2Oy6ytIufeHJyPhiso6+1P4uUR0QaNN6LeGsl5xASqNVuqQE42yzsTj/yh+oro1ln8uO3ya6a1GTRrPSZMG4loAH3UEa7DxOWP9xWWkz0sv3NWra7HNLXQcDRcWoTBcArFmJInAJ8hUS5CXJ6tyjCtvwi2YgbWxuGJAzmTVMc/1/KuC+ble0j3a1iCPKuGEmME97EsfzJNd9nfg8TUczZveUuKQWvEBJc4VTA0cUpGRG5YEn3ZUEZ9/vNa7YTnViHc69C4pck+cOJW9zfxvalX0xMs8qjsucjSM+OPOsaYTjU1P7GevlFxMIVMM8fDJ4oQYqAg7AAnyG9ZJPODJReVweg8kQLFwq2dgO1FJcMSBnts0mf0I/SubUzl1sL6H0dUcQPMOGTuAJkOlhKZkPk2vUPmK755UuDxtRJ9VtH0dwS8ivbe2uwqklNSkjLIxBV1B+OoflXSsPk9CuxuPHkzYNpJB56WH9j/AGrIpy/pJ4pcWUMF1bFAyytC+tda6HXV3eeqNP1Nb9NXGye2Ro1E5Qhuief8d5kvb27tY2kRYrccPupI4tUayhzCzhhk6v8AFIAO23nXLqbFRYs9v+zrrcHpctZk3+H2MHna7Rba2l6gDLdD/ExkpNDLHJlXHh0otQxjLg+IrLUONleYYZh6dCt3KF39OefoaR+O2r26j1mU3BlbViTREVOO8DY93uOW8QK8x0yUO3J9bR/AR1OI7NmPPLz9zfckWwWF7lsEynrEtkjpoWjgDe4t1XPkNJ8KxhU7tTGvxHv/AH/sj5z1LUxnbKcVheMfl/kxr7gNrcEs2FYsC/SAyFbBi05IJZ0BbCqSWPcBXdKbnZNJcY+H5tf1fmclWssjFbnu+vj257lvl9+IWEsAS6d7ZLuH1mFjqRVSVC2ksMDs6SCO8MN6wrvTkkdLuhZF+H8/8rH5p/U+hLiEOjo3c6sp+BGD/eus5T5NmgMbvG3fGzRt8VJU/MVpOFrBboClCmOKpkb/AJFg18UslIyFlaQ+7pxvID+qCtV8ttUmb9PHMj1LnTgUl/AkMcyQ6ZRIzMpbOFIAAHvPyrydNqIVS3NZPRnBtYRDh6Q8H4eBLK0ojLMz6SNTMchVXJ0juHf5nxrKc/4m34Vgii4R5ML0aTNLDe3TjBur6Rh/tVEx+hZh+Vbde1Bxh7Ixq5yzUW3LI4lxC+up2dYEuGiQIdLytHhSA38KDG5G5OQMYJrbLUqimMV37mDq6kss3l9yXwt0MKRJBJpOh45X6oONidTHX+ea51rLv6n2NnRg+MGu5j5N4fb2U0kdu7SrGFjbrzktKSFUhOppJLHuxjettOtnZalngxlTBR7E+BcgQJGH4iTM+AWiEjRwR+4lSC58yTj3HvK7XfFiowr00VyzG5z4HwmK1aSNBC7ZSD1aQnW/lpJKkee1ZafUXynh8/UznXBLsdPzLG0XDZYIUZmEC20MaDLE4WJQB+lctUlK/Lfkzw1E53hnI9lb2vU4meq6rqciaSOKIAfgXpsNR8yc5Pd7+mzWynZtpRqhp4xWZGLyjwDht/63L6mViSVIoF9ZuNWy6nZj1M5OpNu4Y+NZ6m+2lRWeX3LXXGXKRb4fybFNfXax67e0gkSPSjsZJHCqzIruSVG+SfeAPMJ6zbUnLmTMHp4zn27HR3XJnCivSWFYXx2HSZ+uD55ZiW/PNc0dZdnc+xtdEO2DXcX5N4db2MshheSSK3J6vXuAXkC41aBJjdt8Yx4VnXrZzsS8Mjogl2I8v8ip0kfibPI2kf8ATCRo4oxjukZCGd/PfA7t++srtYlJqtfc116SC5aIc3cF4PBaSThBCQpERtpTqZ8bLgsVb35FKL75WJP8zZOqtLJ0fGIzb8MeGJSzR2qW8SKMsW0LEqgeJyRXPGSnfl+5ntxHg5zg/ItrBbGTiZ6jBQzATSRRQqB+EGNhqbzJyM7DzPTbrZSntq/7NUNPFLdIu+iea3fjExtA9tCttII4DLLJ1u0uXbqMcY2wB7Xxz6NW5LE3lmiU47tsT2NtpVPtKR/z/wAVtKaD0mWnV4Td/wDhqk3wEbq7ftVq3aeW2yLNV0d1bR456wENnd/wNEbG5IzhWQfds2PDR029/SYVq9X0zllr6o2+n2dWh1cZXP8An/JseLcGivE0OqCWMaY2IGTtkDO+oFfDJOMMPEN81XdKmWV/Szfp7IwmnJZXlHCXNpGpKyaV3IdW0qdicA7Z2OBXqRsk+Yo+lem0zgpSksPnx2/0bDli8uLaWe3hiEiTRrKUd5LddSgqTGda7kN5nOB5bdMNQoRcn9D57V6eh3bVL4fddjorW/jW5PVE1lJL/iRzvm3cE7aZQqmPu2yCvgSATWzqV20qFfDjyn8/K+efJxT0Mo5si8p9/wDrwbO84eSHQ6UOhkYkBVKhGJBC4wFXW4046a6RlxgVxutWPNa+LOXHzn3X1/BmnLhjP4+D2Pgt317W3m/zYYpD4bsoJ/vXedB85+kKy6HFb5MYBmMi/CQCT+7H9K1PucdixJnOmoYFKFMcVTI7D0Xx5vZZPCO2ffyLOij5a64PU7NlGPdnfoY5kb3nrjt9FNEll1cdMtJoh6gJLdnfScbA/rXL6fVVZBysx93g675Si1tRv+AzTy2cfryduRX6iMuk6SxCh18CVwce+uPUzhXc1S+DbVFyh8SLXKSLb2Mag7BriQb57BmkKHP+zRWWruc7vwX5CqvES5y5dZ4fA0eMvE0g/wC45Z2z/OxrHVWYvcZeML7FqjmGUeY8A4Zdz38LlZtaXCSXErKw0BWBcsx7iQCAPHIFe7ddTCl8rGOEefCNjsPV+I3iiS1VsfeXGwPmkcki/oyKa+epk2pNeEelOGMHL+k+SZoYFTX0y7dbSCRnA0aseHfXd6VOG6Tb58HPq4yUfhOL4Jw4+u2cTrImqeFtMiMmU1aiwBHcQh391exbdiqUk08I8+qNjklI9kuuJJHpMjhNbBFJOMsxwAP1r5WDlPO09lxUe5ynpMheS2jcM2iOQdWMHYg7Bj8D/evQ9Luj1HF92uDn1dctjwZfo7UJw9D3dWWeT8tegfKMVj6nb/P2+yRNJX/KyzZcvXge1V0/je4f+YzSd/yH5Vo1M2rFF/I3VxTWTzGy4bc3F4pKzdf1gNLIyMBGA2Sxc7AAd2++wFe9K6uFWcrbjsebi53fI9W4neKDCG7nuYgAfEhta/NRXz1Em3Jrwj05w4SZzvpJlla2jVNehpfv9AJOnG2rG+M11+mTg7HnGceTTqlKMPhOCsuHD1m0i0Sr1biDAkjZAyNIoZgG7xjO/ur2pWtQlLK4R5lUbdyUj2W74mkYDyOEDMFBJxlmOAPzJr5aG+b+E9txS7nL+kmJ5LRXVm0xSBpox3Mp2yfgcfrXf6ZdFW7X3fY59VW+m2jm+X+IepXFvcx90ThmA/iQjDj81J+VetGTUss+cjNxnln0RJKrrFKhDKSrKw7irDY/oa7T1E8lziNsJYZYj3SxvGf5lI/5oDxO1RJI/vI1cTRotwPwliEViWAGzqepJqKgoq5y4JVtMZvlVN8f8Hzx/wDJzf0Sy/x/yYENtcQnp2+OIRLjEQIF3GpwcaRksuN8qHQg7YzWqeijfHqV8Z/X/R3Svqsb6nE/yNLPxyW0v+vHbdFp07Zu4C0gaNXzobYgEMucY/CtaLdDv0+yxvHyeDfp6o9dQ3L69yt9x+eeaOaaYsYSrLGuI49yR4b7jY7+XkK56tPCqOyuPD+7Pcl6XpZQk3N5X08nUSwRTwA41xOCdOrBU79pT/C2ScnGc7HUK5YylXPHn9T5+UbNNZ7NGqt5JUjntmbU9ogeIsAyy2pIyjowwwTWrqDkqC6+Ar6PRqrVpKxfRrhr6M5tfHEOtX57+2T1/wBGvEWuOGxM5yyyTo/edxIxHf8A6WWtt1XSm4Lwa6Z74JnmXpwstHEo5fCe2T+pGZT8in6VzyNVy5yed1DUUqFMcVTI6Xkzj8Fl6wZhJmXpBdAB2XXnOT5sP0rg9Q0lmojFQa4PS0V0K8uR0w9INn5T/wBK/wD2ry//AA1/uju/jajTce586iNHbIyagQZWxqwe/SB3fGu3S+kqElK19vBou1yaxAyf/wCytVshbxiUOtqsKkqunUIwmc6vMVrfpl0tQ7HjGcmS1dar2+TB5Q5tW2j9XnDaASY3XcqCckEeIySdvOt/qHpzvn1K3z5Rr0usjFbZG6n9INv1EVRKydrW5ABHZOAqk+eN/LNcUfRrdr3NZ8I6Hra84RpOauaUufVjbdRTDIZMsAMNjskYPxrt0OglSpdXysHNqdXFpbfDN3w7n+AqOuskTj8Whdak+YxuPzrit9HtT/ltNHRDXVyXxGDd83Wkl5bTmKX7jq/e4Go6kZQNOe7LZzmuiv06+FE4bl8Xg1z1VUpp+xgc3cejvuisAkAjLsSwC7kADGD8a3+n6OWm3OzzwadZq4SS2m1XnS2ktuldJKWaLRNpQFScYJGT+dcr9Kujd1KmsZyjpjrK5V4Zv7P/AKfhse5+6swx2wdRj1Hbw3Jrz7m7dY/qdEEoVHHcp8z+qJ0p1cxsS6OoyVJ3Ix4jxr2NfoP4h7q3z2PP02tjHMZG8n5+g1oqLMyZzI5XGBg/hUnc5x+Wa4YejWuL3tZ8HTLXVp8Go5o5lS7WFLYSq0cvVLMoXBA7JGD35rs0OgdDlK3GGsHPqtZBxW02nDufItIFyskbgdpkXUhPmMbiuS70mzdmppo31a+uS5MW+5utZbm1lMUxEDu3VwNW6MoAXO/aKnc+Fb6fTroVTjuXxLsYWaulyXyMDm3j0d8sMcIkARmdi6hf4cDGD8a3en6OWmcpWeTTrNXBxW02dtznbtbCG6SYsYzHLhAVbbBO58e+uafpdqu6lTWM5RvhranXiRzdicoRuQGYISMEr4EivVmueT5/UKPUe09n9F/F/WOHPbscvZnQN9zGctEfgO0v8ldFcso6dPPMcex3yNlQfMA1sOg8D5i4vBbcQu7eYaGiuG09gESRlhIi92CyqUKkg4K+RNcEqJKzMX/p/vuZSpco5XPy/fcvSQJM6ShlmMLfwsJy5JOjYOzMBJhu0QSHY4AFdTtnjZBYVv5Nd/yOKVW1/H3j+0R5zt42sVWbLNEqtCynQ3Vk7EOPcQHkI/048q06rUNahVw7Lv8Abv8A2X3OvRUym0l3bOPi5XmNs9ws6iNHVSH0aznUc9r8QyG27/HGxIw62Vv2n1T9O2XLTq15az2z+LN9yFZMEu8TSSMkiJ0mYaD1I+wx2yCSHUnOwUHfTW1aaGqhnsz571SFmmvdbecefzMlyp4lHCNRaOO8trohTggxTHIJ71IkBB8iM4O1NBXKi3a/fJi4t6ObfbK/E7j0J3mYryAndJY5ceI1rpIx4bxfOvX18f5mfdHmaJ5rx7GL6fLPMFjPjdJpIc+6RNf/AMNedNG25cZPGTWJzlKhSwKpkCgNBkqIh5UyNzJqgHhTJMlREPKhMkzGD3ioMsksK+VTJNzLscYHcKmTFtkjAp7xUyTcy4sC+VTLJuZdjjVe4Vjkxy2dDyknDjAxuDbPK7lpEnVcIFJCKocYO25I8T7q871GWqU0qs7fdeT6DRV1dPkv84cyxSRNbW7iVpcCR13VVzvv4k921afT9DOM+rasJfmbdZqoRg4pmgSBSoBHcMV6jfOT5eU3uySW1TyFNzJvZcjgVe4Vi2RybIy26HcgVU2IyZctuGGQIUjGl5lgEjELGJG3CljsNt/yrvr0NkuZcefmVSkzbDlC4WxF+Fi6RBZh1AHVQxXVg7EHG2CSc91ardLOMtq5ZsdcnDe+xoGgQ74Fc+WuDBTZUKAMCoQ6HkDjHqnEIixxHcf9PNk7dojQ35Nj8ia21vEjoontke8WZ7A92V/QkV1HonBc88v2k80vWt1cs0MryKMTdMhYioI7/wADHcHH61YwjLuZLVWVLEe3s+V+ByN76KryFupwu5LBdJ6Up0OpI3UA9kkA+a9/dWrbKLyuTq69Nkfijj81/lfZl/iPAbq7nEZtp2W3HVkzG0avM+FUagMZSFTsNtUv515saLnuk1y3j7d/zf6GirUyokpV90WTy9LEDmyKDUoIl6WGIZiDhnZsaeznT5kHfaX0yphuslj6f6M5+pau6XMn+hc4Xw+VJ5inSIlhiRAMyHqIZu0wwBsJe7xFZaXX7MRSb5OaytzXxPk3kfGLewv4PVY7KeO8JW74sLjqBPV4syIwXIjxHED+LfcnOK9ZtN5Km1Hbk6LlvnCw4jch7KXWVWSKVTG0b74eNsMNxiKT/wDKgMT0qGK64ReGGRJTbSozaGDaWjkUSqcdzBWbI99Yy7GuxZifP5rWchGhTHFUzJChCYqEKigJZoQkDQhMGoQuA1CE1NQxLimoQuA1iQsSWSsc1kptGataL9vbKndWMpNmE5uRlg1ga8FyFGfIRHfAyQilyB5nA2FMPuibfkR1/l8axQXPCOr9HXL0d/NM06M8MSaSFbTmRthuDkYGT8cVv0/Et3sd0NDOOHZFpNcZ8mkvuMfeTKqISHMayzJHJL00GiMFQNCtp72A1b94r6TTyrsWVL7L95NGqou07xOLXs2vH6FLHjRit2gk1NGrCaMFmkTWhDKkkbNhoyRuNiM533B2WUrdvNMLW1tZi8SQLJldZEgEgLQ9AHUMnQufwA5APjivE9QpUZKS8/cfIxGNecUtSbgiskVcM9/9HfGvXLGORjl1Oib/ALigBj/NjV/MK6ovKPTrluiS5vgLFcDIaNtZH4x02VgVPgQGkPwzXPrJ2wpcqu6NqSfDNtwNybaEtjJXJ048z5ePn781np5ynVGUu7RMJdjXXQcXEjvcGCLKqF1qMuVAU7jODue/+Hww2epYxjBqec5zwavnKMP0JVlWRGXSgByMg5LKV2IPZB+FeJ6smkpZ+39zfXyanhXB/WuvAG6QktriMug7SiRDHkf1Zrl9MUpXZXZGU8Lg8A5h4Jd8NnltLlWiYH+EnpSLuFdT3MpDH4ZIODkV9Eaz1b0RcpyLwu4u2eSB72SOG3kTaRIyWgMqnwOZnI/2A+NAOWPR7xP1++HEZZJEhs7iOGYuzJM08bRqwz+Lsrls7gqmfA0ZH2PNhnAzsfEVpOIpQGOKyMyQqEJChCWaAqDQhIGoCYNCEwaxMSamgwXFNQxZcVqxwQmrVCFwNUMcF/h8HWlWPWkYJ3d20oPifCtc5bUYTltX1O74BzKlnbTRRAaZDjpaTLhggWRi+VGljjGNRGDWuN+xNPySvVKuLXucu84dNc6xMkCRp0w/QkZRqA6RxhmydTbE9kedYxXl/wCD6f8A/N+nwnH+Il37R4ylju39eyMi15qmtUxaTSK7R26yTFIlTEa4CiIqe4HGotk4zgVkrtnET7GXpSv5tWFl4Xnn5/28GO3SnhiTqJqwIk9YkWHotkySMSq/eo/aAJwVJA32NbKbpQalB8/v8TVqtIp7q7o/C+eFnPhYz2a+Xcx+ArpuYDJHLgFpUAiZ9WgFgdOMlNS74B2DV9VDU9Wjcu7R+barSfw2plXLsn+P78m45/jsEezFhIZQYCZG6zSqFyBGAGJ0d0h07Y8q8XWWTbUJCyMONpypauM0kCapkj0P0I8QK3d1bE9mWETKv+pGCsfzDj+kVvrZ16Z+D0zmmJTCrPq0q/a0nDEOrRYB+Min8qtqTg0zqMTkeRBbGJQQY2Go51A6hkHbu22x4Yrj9NtU6vmmWSwcr6T+boredbT1c3BMaSSYfTpILFBjQwJxk793Z869Hqqvlm2nQ2an+nx9/wB4OH4t6Qp5kQRQRwJEhA1MZjuAxOTpAOMbacDYADurztXCF8luPRp9KaTe7KS5xx+pPk3j3E4rtLiOG6vEYlJokicqUz/CQNIbbIO3ke/I26etVvao4RhqdPp1VmElnnzzx7/X8j1Xm7gkHFrYwTWVw22Ypz04nibzGptQ940kGus8s2cPDpuglssdvbQoqRqsbvMwjXAAXKqEOBsd8d+9Aa+wsBLxG9eWSXqW9xBJAVlYAQPboOmV/CULibIxud+8DAHgHNFl0L68h7unczBR/pLEr+0itTOOS5Zq6hiYorIzJA1ASBoQkDQFQaEJA0BIGoTBIGhCYaoQuK1QhMNUMcFwNWJCYahMHZejTh8M68QMk7QNHFGAQ0aqyuJAytrU7ZC92DvWLhGSbbM1VGSy3gwuISo0szR40mRyukaQBk4GPCvNs/qeDybP/Y2b+y5nhThS2zJpMRfVIWXUS8jn7tO9iNak91d9dsVXtPuPQtFKdULIP34+nv7HnwriaP0eMk1lG/5OKJcJMwV3jki6ERlWMs2rUxyxxjQjjJ2yw8a30NJ5Z5Hq2Zw6afHOXjOPb8yvNfN4urp5YIni3RlJ0rIrCPpt207RUj+HIHur2adaoV8Lln5z6jp3Te62849jnE8Sdye+uOc3OTcu5wfIqTWASIk1QdF6N73pcXsjnAkZ4T/OjAD+rTWyHDN9DxI+gb626sbJnSTgq2M6WUhlbHjhgDj3VvO4woLCdQQslvCpOSILbS2fE5ZyP1U1jGEY9kDTSejrh8k73Fwk1zLIxZ3lmYZOw/DHpXGFUYx4UlBS7m+vU21LEJY79vn3/Q3PD+W7G3/wLO2iPtJCgb+rGauEjU5yl3ZsndVGWIUDxJwBVMTR3/OnDIMiW/tgR/Csgkf+lMmplGLkkc3femDhqZ6Qubgj2ItA/WQj+1TcjF2pHKXfpdImlnteHIkksccTyzXDPlIy5jzGoA2Mj9xzv391RyMHd8jzril/Jczy3ExDSTOXcgYGT4AeAAAA+FYmlvLyYlQhiA1kbCQNAVBoCoNQhLNCFc0BUGgJg0McEgahCYaoQmGqELgaoTBINUwQyOGX7W8yyqM4/EO4kZB2PgQQCD5gVjKOUSUco7OxvbadcKYpNRjykx+9aRn++kZiysh06dlJU6a5XBrhnN02uGv35MjnGyt+FzI9vcKdevMassjxsF0ho0bOMgtnVnv7+7G6VW1/CfQ+n6v+Cex8wfde3Yvco/ZtyJfWbuCJI1hS3jnaFpAAnb3nQtpLb6QSozgVnXBP+o9jU+qKO10S5ec4ePpxk47iPEkUSRw6CZAq3BQKY3ZHJVx2QE8Oym23fjatarb/ALnRqPWaaYZre6X/AB+WV59/uamMYrdg+KsslZJzk+WTLUMCJNUESaoLlldGGaGZRkwzRSgA4J0OGx8qqM4vDPd5vShwlUV/WWYsMhEhkLj3EacA/E1u3I7erE0d/wCme2XIgs7iXyaRkiX5En5VN6MHejnL70xX7/4MFrB/u1zN+uQPlU3mLvfg52/584tNkPfzKD4QhIMfAxqG+dTczB2yOfu55JjmeSWc9+ZpGlOfi5NTJi5P3LQFCA0BSgImhSNAYgrM2laArmhMFamBgrmmCYK5pgYKg0wMEgaYJgkDUwTBMGmCYZIGpgmGTDVMEwyYNQbWS1UwTayhQHvFTHyLgqiAdwA+AxTBOSukUHJIAVCYZXVVGGU1UwMMpmmBhkSapcMoTRIYImrguGUpgYZSqMMpQuBigwKYYwUNUYI0wXDKGmC4ZGmBhnOVtO0UAoBQCgFAUoBQCgFAVoBmgKUAoCtAKAZoBmgFAKAZoBQCgGaAZoBmgGaAZoBQDNAUoBQCgFAKAUAoBQCgFAKAUAoBQCgFAKAUAoBQCgFAKAUAoBQCgFAKAUAoBQCgFAKAUAoBQCgFAKAUAoBQCgFAKAUAoBQCgFAKAUAoBQCgFAKAUAoBQCgFAKAUAoBQCgFAKAUAoBQCgFAKAUAoBQCgFAKAUAoBQCgFAKAUAoBQCgFAKAUAoBQCgFAKAUAoBQCgFAKAUAoBQCgFAKAUAoBQCgFAKAUAoBQCgFAKAUAoBQCgFAKAUAoBQCgP/9k=)\n"
      ]
    },
    {
      "cell_type": "markdown",
      "metadata": {
        "id": "5lu3XkyERndf"
      },
      "source": [
        "In blackjack, we'll define a **state** using the following format:\n",
        "\n",
        "$s = $`(sum_of_cards_in_hand, dealers_card, useable_ace)`\n",
        "\n",
        "where:\n",
        "\n",
        "*   `sum_of_cards_in_hand` is sum of cards in hand (integer)\n",
        "*   `dealers_card` is the dealer's visible card (integer) \n",
        "*   `useable_ace` is whether or not we have a useable ace (boolean)\n",
        "\n",
        "The **actions** are to hit or to stay.\n",
        "\n",
        "Because we are interested in training our agent to win as much as possible, we'll define a simple **reward** function which is $+1$ upon winning, $-1$ upon losing, and $0$ at all intermediate (i.e. non-game-ending) states, as well as upon tieing. We might make several moves before we get get a non-zero reward!"
      ]
    },
    {
      "cell_type": "markdown",
      "metadata": {
        "id": "OKAFnqBkArcS"
      },
      "source": [
        "# What are we trying to learn again?\n",
        "\n",
        "**Discuss**: Given this a world described by **states, actions**, and **rewards**. What are we trying to have our agent learn? \n",
        "\n",
        "Hint: Think of the agent as a hedonist. They are trying to rack up as much reward as possible!\n",
        "\n",
        "\n",
        "![](https://dzone.com/storage/temp/6976061-screen-shot-2017-10-20-at-22200-pm.png)"
      ]
    },
    {
      "cell_type": "markdown",
      "metadata": {
        "id": "aH0avSFZBB4_"
      },
      "source": [
        "# Policy\n",
        "\n",
        "We're trying to learn a **policy**: rules for how we'll select **actions** based on the **state** of the world. The objective is to learn a policy that gets us the largest **reward** possible!"
      ]
    },
    {
      "cell_type": "markdown",
      "metadata": {
        "id": "tSk5nmDDufk5"
      },
      "source": [
        "# Value\n",
        "\n",
        "Let's define the **value** $Q(s, a)$ of an action $a$, at state $s$ as the expected future reward of taking an action at a certain state. Think $Q$ for quality: what payoff should we expect with this move?\n",
        "\n",
        "**Discuss:** if we have access to $Q$, what would be a good policy for the agent?? \n",
        "\n",
        "We'll define a couple of simple worlds to test our function. Here are two examples:\n",
        "\n"
      ]
    },
    {
      "cell_type": "code",
      "metadata": {
        "id": "p-eFI5HfM-1-"
      },
      "source": [
        "q_traffic = {('red', 'go'):-1, ('green', 'go'):1, (\"red\", 'stop'):1, ('green', 'stop'):-0.5}\n",
        "traffic_state = 'red'\n",
        "actions_traffic = ['go', 'stop']\n",
        "\n",
        "black_jack_state = 21\n",
        "q_black_jack = {(21, 'hit'): -1, (21, 'stay'): 1} # this would have more... \n",
        "actions_black_jack = ['hit', 'stay']"
      ],
      "execution_count": null,
      "outputs": []
    },
    {
      "cell_type": "markdown",
      "metadata": {
        "id": "OG0bD0JVNMp_"
      },
      "source": [
        "**Question:** Explain what q_traffic is. Do the values make sense? How about q_black_jack?\n",
        "\n",
        "**Exercise:** Implement your policy! Your policy should return the best action given a state, the value function, and a list of possible actions!\n"
      ]
    },
    {
      "cell_type": "code",
      "metadata": {
        "id": "jVzlt3vaCb85",
        "colab": {
          "base_uri": "https://localhost:8080/"
        },
        "outputId": "ce892379-67b2-4010-f73d-d4812c26d108"
      },
      "source": [
        "def q_policy_implementation(s, q, actions):\n",
        "  \"\"\"\n",
        "  s:       is the state\n",
        "  q:       is a dictionary mapping tuples (s, a) to their value Q(s, a)\n",
        "           i.e q[(s, a)] gets the value of (s, a).\n",
        "  actions: is a list of possible action\n",
        "  \"\"\"\n",
        "  # best_action, best_value = None, -1000\n",
        "  # for (state, action), val in q.items():\n",
        "  #   ### BEGIN CODE #####\n",
        "  #   print(state, action, val)\n",
        "  #   if state == s and val >= 1:\n",
        "  #     best_value = val\n",
        "  #     best_action = action\n",
        "  #   ### END CODE ########\n",
        "  # print (\"State:\",s,\"Action:\",action)\n",
        "  # return (best_action)\n",
        "  return max(actions, key=lambda a:q[(s, a)])\n",
        "  \n",
        "# ===== Read this to see what the test is doing! =======\n",
        "assert(q_policy_implementation(traffic_state, q_traffic, actions_traffic) == 'stop' )\n",
        "assert(q_policy_implementation(black_jack_state, q_black_jack, actions_black_jack) == 'stay')\n",
        "\n",
        "print(\"All tests passed :)\")"
      ],
      "execution_count": null,
      "outputs": [
        {
          "output_type": "stream",
          "text": [
            "All tests passed :)\n"
          ],
          "name": "stdout"
        }
      ]
    },
    {
      "cell_type": "markdown",
      "metadata": {
        "id": "3nfAu65lN8jz"
      },
      "source": [
        "**Optional Exercise:** Make your own world by defining the value function, current state and possible actions to test if your function works!\n"
      ]
    },
    {
      "cell_type": "code",
      "metadata": {
        "id": "JU38v9ZzOfKg",
        "colab": {
          "base_uri": "https://localhost:8080/"
        },
        "outputId": "8e6e2931-a164-45cc-a552-bfc53aa75c39"
      },
      "source": [
        "## BEGIN CODE\n",
        "\n",
        "mario = {('goomba', 'jump'):1, ('safe', 'walk'):1, (\"goomba\", 'walk'):-1, ('safe', 'jump'):-0.5}\n",
        "mario_state = 'goomba'\n",
        "mario_actions = ['jump', 'walk']\n",
        "\n",
        "evil_traffic = {('red', 'go'):1, ('green', 'go'):-1, (\"red\", 'stop'):-1, ('green', 'stop'):0.5}\n",
        "evil_traffic_state = 'red'\n",
        "evil_traffic_actions = ['go', 'stop']\n",
        "\n",
        "assert(q_policy_implementation(mario_state, mario, mario_actions) == 'jump' )\n",
        "assert(q_policy_implementation(evil_traffic_state, evil_traffic, evil_traffic_actions) == 'go' )\n",
        "\n",
        "print(\"All tests passed :)\")\n",
        "## END CODE"
      ],
      "execution_count": null,
      "outputs": [
        {
          "output_type": "stream",
          "text": [
            "All tests passed :)\n"
          ],
          "name": "stdout"
        }
      ]
    },
    {
      "cell_type": "markdown",
      "metadata": {
        "id": "Fhm_SMJBhDn-"
      },
      "source": [
        "Note that in real life we don't get a nice dictionary with our value function, so we'll have to learn it! This is the core idea behind our algorithm for today, which is called **Q-learning**. By experimenting with different actions, we'll learn what tends to happen when we make an action from a particular state.\n",
        "\n",
        "\n",
        "# Q-Learning - Estimating Value\n",
        "\n",
        "In order to learn $Q$, we'll repeat the following two steps:\n",
        "1. Run an episode: have the agent interact with the world in some way (more on how later!)\n",
        "2. Update the value, $Q(s, a)$, for each $(s, a)$ pair that occurred in the episode based on the rewards that we got!\n",
        "\n",
        "For blackjack this is: \n",
        "1.   Play a game of Blackjack.\n",
        "2.   Update the $Q(s,a)$ value, for each $(s,a)$ pair that occurred in the game, based on whether we won or lost at the end.\n",
        "\n"
      ]
    },
    {
      "cell_type": "markdown",
      "metadata": {
        "id": "ovvW4r8xzg-J"
      },
      "source": [
        "## Updating the Value Estimates\n",
        "\n",
        "We can represent our game of blackjack like this:\n",
        "\n",
        "$s_1, a_1, s_2, a_2, \\ldots, s_n, a_n, r$\n",
        "\n",
        "Where $r$ is the reward received at the end of the game: we're in a state, we take an action, repeat. Eventually, the game ends and we get a reward.\n",
        "\n",
        "One complication here is that Blackjack games last for a variable number of moves, so we don't know what $n$ is upfront!\n",
        "\n",
        "Suppose that, in code, this gameplay data is given you in the following form:\n",
        "\n",
        "`game = [(s_1,a_1), (s_2,a_2), ... , (s_n,a_n), r]`\n",
        "\n",
        "That is, `game` is a `List` of $n$ `Tuples` (each of which contains a state and an action) followed by a single reward at the end."
      ]
    },
    {
      "cell_type": "markdown",
      "metadata": {
        "id": "iMd4vJ9ynoXt"
      },
      "source": [
        "We'll keep a tally of the rewards we get for each action in each state, so that we can find the average value.\n",
        "\n",
        "**Exercise:** Write a function that takes a `game` as argument and updates `sum_rewards` and `num_games` appropriately.\n",
        "* `sum_rewards[(s, a)]` is the total reward at the state `(s, a)`.\n",
        "* `num_games[(s, a)]` is the number of times we've seen the state `(s, a)`.\n",
        "\n",
        "At the start, the two dictionaries are both initialized so that the value for each `(s, a)` pair is 0."
      ]
    },
    {
      "cell_type": "code",
      "metadata": {
        "id": "1JfBDdE8n2EY"
      },
      "source": [
        "def update_counters(game):\n",
        "  reward = game[-1]\n",
        "  sum = list()\n",
        "  for state_action_tuple in game[:-1]: #tuple is (s,a)\n",
        "    sum_rewards[state_action_tuple] += reward\n",
        "    num_games[state_action_tuple] += 1\n",
        "    ### END CODE ###"
      ],
      "execution_count": null,
      "outputs": []
    },
    {
      "cell_type": "markdown",
      "metadata": {
        "id": "khzLKitdlkuW"
      },
      "source": [
        "# Choosing Actions\n",
        "\n",
        "Now we've got a way to learn the value of each action from each state!\n",
        "\n",
        "But how do we use that to actually play the game while we're still learning? (What policy does the agent use while it is training?)\n",
        "\n",
        "**Discuss:** Evaluate the following strategies:\n",
        "* **Explore:** At any state, just randomly select an action!\n",
        "* **Exploit:** At any state, pick the action we currently think is the best based on our value estimate! (this is the q_policy_implementation that we wrote!)\n",
        "\n",
        "![](https://asopa.typepad.com/.a/6a00d83454f2ec69e2022ad3b982a8200b-800wi)\n"
      ]
    },
    {
      "cell_type": "markdown",
      "metadata": {
        "id": "YKGXAvTazfnR"
      },
      "source": [
        "### Epsilon Greedy ($\\varepsilon$-greedy) approach!\n",
        "\n",
        "There is a trade-off between the two strategies above, so we compromise and mix the two strategies together! We'll use something called the $\\varepsilon$-greedy algorithm! This algorithm explores (selects a random action) with probability $\\varepsilon$, and exploits (selects the best action) with probability $(1-\\varepsilon)$. \n",
        "\n",
        "**Exercise:** Read the code below to see how this policy is implemented!"
      ]
    },
    {
      "cell_type": "code",
      "metadata": {
        "id": "OcIimTixzyGK"
      },
      "source": [
        "def epsilon_greedy(state, epsilon):\n",
        "  action = best_action(state)\n",
        "  # Return best_action with probability 1-epsilon\n",
        "  if np.random.binomial(n=1,p=1-epsilon):\n",
        "    return action\n",
        "  \n",
        "  # Otherwise, return random action\n",
        "  else:\n",
        "    return np.random.binomial(n=1,p=0.5)"
      ],
      "execution_count": null,
      "outputs": []
    },
    {
      "cell_type": "markdown",
      "metadata": {
        "id": "LioUt8hnlfy3"
      },
      "source": [
        "# Training our Agent\n",
        "\n",
        "Time to put it all together and actually train our agent to learn a good blackjack strategy!\n",
        "\n",
        "We'll use the `play_blackjack(epsilon)` function which plays the game of blackjack using the epsilon_greedy policy, and then update our counters!"
      ]
    },
    {
      "cell_type": "code",
      "metadata": {
        "id": "oNB8AOHY7TtT",
        "colab": {
          "base_uri": "https://localhost:8080/"
        },
        "outputId": "2b747e78-6ab8-413e-d860-385980584b71"
      },
      "source": [
        "epsilon = 0.15\n",
        "for iteration in tqdm.tqdm(range(1000000)):\n",
        "  game = play_blackjack(epsilon)\n",
        "  update_counters(game)\n"
      ],
      "execution_count": null,
      "outputs": [
        {
          "output_type": "stream",
          "text": [
            "100%|██████████| 1000000/1000000 [01:05<00:00, 15341.31it/s]\n"
          ],
          "name": "stderr"
        }
      ]
    },
    {
      "cell_type": "markdown",
      "metadata": {
        "id": "VQr1frsDE3pM"
      },
      "source": [
        "# Testing it out! \n",
        "When it's done training, let's put it to the test and play some real games!\n",
        "![](https://www.johnchow.com/wp-content/uploads/2012/03/lots-of-money.jpeg)\n",
        "\n",
        "**Question:** Why is epsilon = 0 below?\n"
      ]
    },
    {
      "cell_type": "code",
      "metadata": {
        "id": "inDFbi1HFCtk",
        "colab": {
          "base_uri": "https://localhost:8080/",
          "height": 164
        },
        "outputId": "de01d846-ead6-4e01-9c38-4bd98514064a"
      },
      "source": [
        "play_blackjack(epsilon=0, print_steps=True)"
      ],
      "execution_count": null,
      "outputs": [
        {
          "output_type": "error",
          "ename": "NameError",
          "evalue": "ignored",
          "traceback": [
            "\u001b[0;31m---------------------------------------------------------------------------\u001b[0m",
            "\u001b[0;31mNameError\u001b[0m                                 Traceback (most recent call last)",
            "\u001b[0;32m<ipython-input-1-b8c2cc87f236>\u001b[0m in \u001b[0;36m<module>\u001b[0;34m()\u001b[0m\n\u001b[0;32m----> 1\u001b[0;31m \u001b[0mplay_blackjack\u001b[0m\u001b[0;34m(\u001b[0m\u001b[0mepsilon\u001b[0m\u001b[0;34m=\u001b[0m\u001b[0;36m0\u001b[0m\u001b[0;34m,\u001b[0m \u001b[0mprint_steps\u001b[0m\u001b[0;34m=\u001b[0m\u001b[0;32mTrue\u001b[0m\u001b[0;34m)\u001b[0m\u001b[0;34m\u001b[0m\u001b[0;34m\u001b[0m\u001b[0m\n\u001b[0m",
            "\u001b[0;31mNameError\u001b[0m: name 'play_blackjack' is not defined"
          ]
        }
      ]
    },
    {
      "cell_type": "markdown",
      "metadata": {
        "id": "zwtdy2H_liFY"
      },
      "source": [
        "# Strategy Visualization\n",
        "\n",
        "Let's take a look at the strategy our agent has learned! We've written a function called `plot_strategy()` that will do the visualization for you; give it a try!"
      ]
    },
    {
      "cell_type": "code",
      "metadata": {
        "id": "Wu8_JP628kp4",
        "colab": {
          "base_uri": "https://localhost:8080/",
          "height": 441
        },
        "outputId": "ad73a850-cec9-4bcd-e6dc-aad3301120e9"
      },
      "source": [
        "plot_strategy()"
      ],
      "execution_count": null,
      "outputs": [
        {
          "output_type": "display_data",
          "data": {
            "image/png": "[encoded data removed]",
            "text/plain": [
              "<Figure size 936x936 with 2 Axes>"
            ]
          },
          "metadata": {
            "tags": [],
            "needs_background": "light"
          }
        }
      ]
    },
    {
      "cell_type": "markdown",
      "metadata": {
        "id": "y_XiNWcl6n3G"
      },
      "source": [
        "Compare the strategy that your agent learned to the optimal Blackjack strategy, shown below on the left. It should look pretty similar!\n",
        "\n",
        "(Notice that the grid layouts differ a bit between our visualization and the one below; we plot the best actions aligned with the tick marks, whereas the following figure plots the best actions in between tick marks).\n",
        "\n",
        "\n",
        "![alt text](https://ankonzoid.github.io/LearningX/classical_RL/blackjack/images/coverart.png)\n"
      ]
    },
    {
      "cell_type": "markdown",
      "metadata": {
        "id": "yCPWrq29QGL2"
      },
      "source": [
        "# Optional: Questions to ponder\n",
        "* We kept $\\varepsilon$, our exploration probability, at a constant $0.15$. If you could change the exploration probability throughout the training (and you definitely can!), how would you? Why?\n",
        "* We initialized our value estimates at $0$ for each state/action pair. How would our training behave differently if we initialized them to all $10$?\n",
        "* How big is our table for storing the values in terms of $n_s$, the number of possible states, and $n_a$ the number of possible actions?\n",
        "* If our states are images (think for example in robotics/self driving car applications which use cameras to model state), which have size say 128x128x3 pixels, each pixel taking a value from 0-255. What is $n_s$, the number of possible states?\n",
        "* Given the above discussion, what is one fatal flaw for the $Q$-learning algorithm, and how might you address it?"
      ]
    }
  ]
}