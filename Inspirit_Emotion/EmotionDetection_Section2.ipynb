{
  "nbformat": 4,
  "nbformat_minor": 0,
  "metadata": {
    "colab": {
      "name": "EmotionDetection_Section2.ipynb",
      "provenance": [],
      "collapsed_sections": [],
      "include_colab_link": true
    },
    "kernelspec": {
      "name": "python3",
      "display_name": "Python 3"
    },
    "accelerator": "GPU"
  },
  "cells": [
    {
      "cell_type": "markdown",
      "metadata": {
        "id": "view-in-github",
        "colab_type": "text"
      },
      "source": [
        "<a href=\"https://colab.research.google.com/github/cullena20/aistuff/blob/main/Inspirit_Emotion/EmotionDetection_Section2.ipynb\" target=\"_parent\"><img src=\"https://colab.research.google.com/assets/colab-badge.svg\" alt=\"Open In Colab\"/></a>"
      ]
    },
    {
      "cell_type": "code",
      "metadata": {
        "id": "H1K_OUCXfPzH",
        "colab": {
          "base_uri": "https://localhost:8080/"
        },
        "outputId": "d0d399c2-c080-4dd0-9060-b9af3c88359f"
      },
      "source": [
        "# Run this to download the data and setup our environment\n",
        "\n",
        "import cv2\n",
        "import dlib\n",
        "import gdown\n",
        "import pickle\n",
        "import warnings\n",
        "\n",
        "import numpy as np\n",
        "import pandas as pd\n",
        "import seaborn as sns\n",
        "\n",
        "import urllib.request\n",
        "\n",
        "from sklearn import metrics\n",
        "\n",
        "\n",
        "from scipy.spatial import distance\n",
        "from matplotlib import pyplot as plt\n",
        "from sklearn.decomposition import PCA\n",
        "from sklearn.preprocessing import StandardScaler\n",
        "from sklearn.linear_model import LogisticRegression\n",
        "from sklearn.tree import DecisionTreeClassifier \n",
        "from sklearn.neighbors import KNeighborsClassifier\n",
        "from sklearn.model_selection import train_test_split\n",
        "\n",
        "warnings.filterwarnings(\"ignore\")\n",
        "\n",
        "###Getting the csv data loaded\n",
        "!wget -O ./ferdata.csv https://www.dropbox.com/s/rwb5hepfn1uw212/fer2013_5.csv?dl=1\n",
        "dataset_path = './ferdata.csv'\n",
        "\n",
        "###Getting the Dlib Shape predictor!\n",
        "!wget -O ./shape_predictor_68_face_landmarks.dat https://www.dropbox.com/s/ch5euco240mvjgq/shape_predictor_68_face_landmarks.dat?dl=1\n",
        "dlibshape_path ='./shape_predictor_68_face_landmarks.dat'\n",
        "\n",
        "###Getting the Xpure loaded\n",
        "!wget -O ./pureX.npy https://www.dropbox.com/s/6kmzfluo4hn5795/pureX.npy?dl=1\n",
        "pureX_path = './pureX.npy'\n",
        "\n",
        "###Getting the Xdata loaded\n",
        "!wget -O ./dataX.npy https://www.dropbox.com/s/uid9ndffnzzpuqn/dataX.npy?dl=1\n",
        "dataX_path = './dataX.npy'\n",
        "\n",
        "###Getting the Ydata loaded\n",
        "!wget -O ./dataY.npy https://www.dropbox.com/s/2p6vm3kfrik5lzz/dataY.npy?dl=1\n",
        "dataY_path = './dataY.npy'\n",
        "\n",
        "\n",
        "print (\"Data Downloaded!\")\n"
      ],
      "execution_count": 1,
      "outputs": [
        {
          "output_type": "stream",
          "text": [
            "--2021-01-27 20:21:37--  https://www.dropbox.com/s/rwb5hepfn1uw212/fer2013_5.csv?dl=1\n",
            "Resolving www.dropbox.com (www.dropbox.com)... 162.125.1.18, 2620:100:6016:18::a27d:112\n",
            "Connecting to www.dropbox.com (www.dropbox.com)|162.125.1.18|:443... connected.\n",
            "HTTP request sent, awaiting response... 301 Moved Permanently\n",
            "Location: /s/dl/rwb5hepfn1uw212/fer2013_5.csv [following]\n",
            "--2021-01-27 20:21:37--  https://www.dropbox.com/s/dl/rwb5hepfn1uw212/fer2013_5.csv\n",
            "Reusing existing connection to www.dropbox.com:443.\n",
            "HTTP request sent, awaiting response... 302 Found\n",
            "Location: https://uc434b2f0539248b0f9e37715ae3.dl.dropboxusercontent.com/cd/0/get/BH1HZWRqVIPbpffyQyhniDODJuPPiaRSd4FUFz6axLz1-PuHV8D2qL1IdJZSKaSt8BHwhl8cSP69UU0sftITdIKLba6TGutuHpnC0WzlsnJFznhKWmFym-DbKA13PAZiWMM/file?dl=1# [following]\n",
            "--2021-01-27 20:21:37--  https://uc434b2f0539248b0f9e37715ae3.dl.dropboxusercontent.com/cd/0/get/BH1HZWRqVIPbpffyQyhniDODJuPPiaRSd4FUFz6axLz1-PuHV8D2qL1IdJZSKaSt8BHwhl8cSP69UU0sftITdIKLba6TGutuHpnC0WzlsnJFznhKWmFym-DbKA13PAZiWMM/file?dl=1\n",
            "Resolving uc434b2f0539248b0f9e37715ae3.dl.dropboxusercontent.com (uc434b2f0539248b0f9e37715ae3.dl.dropboxusercontent.com)... 162.125.1.15, 2620:100:6016:15::a27d:10f\n",
            "Connecting to uc434b2f0539248b0f9e37715ae3.dl.dropboxusercontent.com (uc434b2f0539248b0f9e37715ae3.dl.dropboxusercontent.com)|162.125.1.15|:443... connected.\n",
            "HTTP request sent, awaiting response... 200 OK\n",
            "Length: 167738172 (160M) [application/binary]\n",
            "Saving to: ‘./ferdata.csv’\n",
            "\n",
            "./ferdata.csv       100%[===================>] 159.97M  41.3MB/s    in 4.3s    \n",
            "\n",
            "2021-01-27 20:21:43 (36.9 MB/s) - ‘./ferdata.csv’ saved [167738172/167738172]\n",
            "\n",
            "--2021-01-27 20:21:43--  https://www.dropbox.com/s/ch5euco240mvjgq/shape_predictor_68_face_landmarks.dat?dl=1\n",
            "Resolving www.dropbox.com (www.dropbox.com)... 162.125.1.18, 2620:100:601a:18::a27d:712\n",
            "Connecting to www.dropbox.com (www.dropbox.com)|162.125.1.18|:443... connected.\n",
            "HTTP request sent, awaiting response... 301 Moved Permanently\n",
            "Location: /s/dl/ch5euco240mvjgq/shape_predictor_68_face_landmarks.dat [following]\n",
            "--2021-01-27 20:21:43--  https://www.dropbox.com/s/dl/ch5euco240mvjgq/shape_predictor_68_face_landmarks.dat\n",
            "Reusing existing connection to www.dropbox.com:443.\n",
            "HTTP request sent, awaiting response... 302 Found\n",
            "Location: https://uc5b2680ba3b9267e29b52a8239d.dl.dropboxusercontent.com/cd/0/get/BH3EX9r1Wp7Hc8eKgQ444nM-0Oz3dTDC1jp5eGNhOKww8aYO8cnUs9Ghue7xcXNjSehB_bBqU274iK5bX8flWudn4rhTxfyfCPeNawcVCb8cxXe23fmA18E_PI7K-GsstBY/file?dl=1# [following]\n",
            "--2021-01-27 20:21:44--  https://uc5b2680ba3b9267e29b52a8239d.dl.dropboxusercontent.com/cd/0/get/BH3EX9r1Wp7Hc8eKgQ444nM-0Oz3dTDC1jp5eGNhOKww8aYO8cnUs9Ghue7xcXNjSehB_bBqU274iK5bX8flWudn4rhTxfyfCPeNawcVCb8cxXe23fmA18E_PI7K-GsstBY/file?dl=1\n",
            "Resolving uc5b2680ba3b9267e29b52a8239d.dl.dropboxusercontent.com (uc5b2680ba3b9267e29b52a8239d.dl.dropboxusercontent.com)... 162.125.1.15, 2620:100:6016:15::a27d:10f\n",
            "Connecting to uc5b2680ba3b9267e29b52a8239d.dl.dropboxusercontent.com (uc5b2680ba3b9267e29b52a8239d.dl.dropboxusercontent.com)|162.125.1.15|:443... connected.\n",
            "HTTP request sent, awaiting response... 200 OK\n",
            "Length: 99693937 (95M) [application/binary]\n",
            "Saving to: ‘./shape_predictor_68_face_landmarks.dat’\n",
            "\n",
            "./shape_predictor_6 100%[===================>]  95.08M  80.4MB/s    in 1.2s    \n",
            "\n",
            "2021-01-27 20:21:45 (80.4 MB/s) - ‘./shape_predictor_68_face_landmarks.dat’ saved [99693937/99693937]\n",
            "\n",
            "--2021-01-27 20:21:45--  https://www.dropbox.com/s/6kmzfluo4hn5795/pureX.npy?dl=1\n",
            "Resolving www.dropbox.com (www.dropbox.com)... 162.125.1.18, 2620:100:601a:18::a27d:712\n",
            "Connecting to www.dropbox.com (www.dropbox.com)|162.125.1.18|:443... connected.\n",
            "HTTP request sent, awaiting response... 301 Moved Permanently\n",
            "Location: /s/dl/6kmzfluo4hn5795/pureX.npy [following]\n",
            "--2021-01-27 20:21:46--  https://www.dropbox.com/s/dl/6kmzfluo4hn5795/pureX.npy\n",
            "Reusing existing connection to www.dropbox.com:443.\n",
            "HTTP request sent, awaiting response... 302 Found\n",
            "Location: https://uc6434dfec5ce844d014cf1bc76f.dl.dropboxusercontent.com/cd/0/get/BH3OebtMsxVj4sENFdOcVQJ84y-sy5KsS3CqlJuVayWJ5n6WRrHONr27MFr1M2e2EhpF3to-OQWYM4OuTDQ5uAsYEn1kir0Fcs4ELp-mLd-7iKnQf4qq03ngwSRy627-RYU/file?dl=1# [following]\n",
            "--2021-01-27 20:21:46--  https://uc6434dfec5ce844d014cf1bc76f.dl.dropboxusercontent.com/cd/0/get/BH3OebtMsxVj4sENFdOcVQJ84y-sy5KsS3CqlJuVayWJ5n6WRrHONr27MFr1M2e2EhpF3to-OQWYM4OuTDQ5uAsYEn1kir0Fcs4ELp-mLd-7iKnQf4qq03ngwSRy627-RYU/file?dl=1\n",
            "Resolving uc6434dfec5ce844d014cf1bc76f.dl.dropboxusercontent.com (uc6434dfec5ce844d014cf1bc76f.dl.dropboxusercontent.com)... 162.125.1.15, 2620:100:601a:15::a27d:70f\n",
            "Connecting to uc6434dfec5ce844d014cf1bc76f.dl.dropboxusercontent.com (uc6434dfec5ce844d014cf1bc76f.dl.dropboxusercontent.com)|162.125.1.15|:443... connected.\n",
            "HTTP request sent, awaiting response... 200 OK\n",
            "Length: 46080128 (44M) [application/binary]\n",
            "Saving to: ‘./pureX.npy’\n",
            "\n",
            "./pureX.npy         100%[===================>]  43.95M  87.0MB/s    in 0.5s    \n",
            "\n",
            "2021-01-27 20:21:47 (87.0 MB/s) - ‘./pureX.npy’ saved [46080128/46080128]\n",
            "\n",
            "--2021-01-27 20:21:47--  https://www.dropbox.com/s/uid9ndffnzzpuqn/dataX.npy?dl=1\n",
            "Resolving www.dropbox.com (www.dropbox.com)... 162.125.1.18, 2620:100:601a:18::a27d:712\n",
            "Connecting to www.dropbox.com (www.dropbox.com)|162.125.1.18|:443... connected.\n",
            "HTTP request sent, awaiting response... 301 Moved Permanently\n",
            "Location: /s/dl/uid9ndffnzzpuqn/dataX.npy [following]\n",
            "--2021-01-27 20:21:47--  https://www.dropbox.com/s/dl/uid9ndffnzzpuqn/dataX.npy\n",
            "Reusing existing connection to www.dropbox.com:443.\n",
            "HTTP request sent, awaiting response... 302 Found\n",
            "Location: https://uc65fa99d49220dba90906bd2c51.dl.dropboxusercontent.com/cd/0/get/BH3SBxsW2hC9sWY6ZVjvBl-pjH-i8yGXpcrMQ8e0w5jT5CuPE5ZAPKfhuDZHcT3JCEOGxHlJGwK7NcgHAOKqM_zOtO6yMVm-4tugN8PFpmfm6X_zxrDN7sr-vFXn5cfhK1k/file?dl=1# [following]\n",
            "--2021-01-27 20:21:48--  https://uc65fa99d49220dba90906bd2c51.dl.dropboxusercontent.com/cd/0/get/BH3SBxsW2hC9sWY6ZVjvBl-pjH-i8yGXpcrMQ8e0w5jT5CuPE5ZAPKfhuDZHcT3JCEOGxHlJGwK7NcgHAOKqM_zOtO6yMVm-4tugN8PFpmfm6X_zxrDN7sr-vFXn5cfhK1k/file?dl=1\n",
            "Resolving uc65fa99d49220dba90906bd2c51.dl.dropboxusercontent.com (uc65fa99d49220dba90906bd2c51.dl.dropboxusercontent.com)... 162.125.1.15, 2620:100:6016:15::a27d:10f\n",
            "Connecting to uc65fa99d49220dba90906bd2c51.dl.dropboxusercontent.com (uc65fa99d49220dba90906bd2c51.dl.dropboxusercontent.com)|162.125.1.15|:443... connected.\n",
            "HTTP request sent, awaiting response... 200 OK\n",
            "Length: 728960128 (695M) [application/binary]\n",
            "Saving to: ‘./dataX.npy’\n",
            "\n",
            "./dataX.npy         100%[===================>] 695.19M  66.4MB/s    in 10s     \n",
            "\n",
            "2021-01-27 20:21:59 (66.3 MB/s) - ‘./dataX.npy’ saved [728960128/728960128]\n",
            "\n",
            "--2021-01-27 20:21:59--  https://www.dropbox.com/s/2p6vm3kfrik5lzz/dataY.npy?dl=1\n",
            "Resolving www.dropbox.com (www.dropbox.com)... 162.125.1.18, 2620:100:601a:18::a27d:712\n",
            "Connecting to www.dropbox.com (www.dropbox.com)|162.125.1.18|:443... connected.\n",
            "HTTP request sent, awaiting response... 301 Moved Permanently\n",
            "Location: /s/dl/2p6vm3kfrik5lzz/dataY.npy [following]\n",
            "--2021-01-27 20:21:59--  https://www.dropbox.com/s/dl/2p6vm3kfrik5lzz/dataY.npy\n",
            "Reusing existing connection to www.dropbox.com:443.\n",
            "HTTP request sent, awaiting response... 302 Found\n",
            "Location: https://uce97c33bb4f56b3e14225d623a2.dl.dropboxusercontent.com/cd/0/get/BH33qKpevtgtmORz8m3b_J_lhC6b_pAaHymGWW-_N5VuLs6T36t3CTWBn-H4jEYg1Yda_zkUbmLQ0VMHAFgBrdoL11xOMF5VLQpNizbvGlCYmjX383gJsL1bLkO2wzdvekI/file?dl=1# [following]\n",
            "--2021-01-27 20:22:00--  https://uce97c33bb4f56b3e14225d623a2.dl.dropboxusercontent.com/cd/0/get/BH33qKpevtgtmORz8m3b_J_lhC6b_pAaHymGWW-_N5VuLs6T36t3CTWBn-H4jEYg1Yda_zkUbmLQ0VMHAFgBrdoL11xOMF5VLQpNizbvGlCYmjX383gJsL1bLkO2wzdvekI/file?dl=1\n",
            "Resolving uce97c33bb4f56b3e14225d623a2.dl.dropboxusercontent.com (uce97c33bb4f56b3e14225d623a2.dl.dropboxusercontent.com)... 162.125.1.15, 2620:100:6016:15::a27d:10f\n",
            "Connecting to uce97c33bb4f56b3e14225d623a2.dl.dropboxusercontent.com (uce97c33bb4f56b3e14225d623a2.dl.dropboxusercontent.com)|162.125.1.15|:443... connected.\n",
            "HTTP request sent, awaiting response... 200 OK\n",
            "Length: 160128 (156K) [application/binary]\n",
            "Saving to: ‘./dataY.npy’\n",
            "\n",
            "./dataY.npy         100%[===================>] 156.38K  --.-KB/s    in 0.05s   \n",
            "\n",
            "2021-01-27 20:22:00 (2.99 MB/s) - ‘./dataY.npy’ saved [160128/160128]\n",
            "\n",
            "Data Downloaded!\n"
          ],
          "name": "stdout"
        }
      ]
    },
    {
      "cell_type": "code",
      "metadata": {
        "cellView": "form",
        "id": "31LuqJJSBD9v"
      },
      "source": [
        "#@title If the previous code cell fails to download the data properly, please run this.\n",
        "import cv2\n",
        "import dlib\n",
        "import gdown\n",
        "import pickle\n",
        "import warnings\n",
        "import numpy as np\n",
        "import pandas as pd\n",
        "import seaborn as sns\n",
        "import urllib.request\n",
        "from sklearn import metrics\n",
        "from scipy.spatial import distance\n",
        "from matplotlib import pyplot as plt\n",
        "from sklearn.decomposition import PCA\n",
        "from sklearn.preprocessing import StandardScaler\n",
        "from sklearn.linear_model import LogisticRegression\n",
        "from sklearn.tree import DecisionTreeClassifier \n",
        "from sklearn.neighbors import KNeighborsClassifier\n",
        "from sklearn.model_selection import train_test_split\n",
        "import io\n",
        "# ?pip install --upgrade google-api-python-client google-auth-httplib2 google-auth-oauthlib\n",
        "# warnings.filterwarnings(\"ignore\")\n",
        "###Getting the csv data loaded\n",
        "# dataset_url = 'https://drive.google.com/file/d/1MIMk2o63Ri2bDz0CxGK_uUSnc3XPd4Dm'\n",
        "# dataset_path = './ferdata.csv'\n",
        "# gdown.download(dataset_url, dataset_path, False)\n",
        "%pip install googledrivedownloader\n",
        "# from google_drive_downloader import GoogleDriveDownloader as gdd\n",
        "# gdd.download_file_from_google_drive(file_id='1hNLedQCRl8uutOwtXWxBmiW3x7bckj4u',\n",
        "#                                     dest_path='./ferdata.csv', overwrite=True,showsize=True)\n",
        "#Getting the csv data loaded\n",
        "dataset_url = 'https://drive.google.com/uc?id=1hNLedQCRl8uutOwtXWxBmiW3x7bckj4u'\n",
        "dataset_path = './ferdata.csv'\n",
        "gdown.download(dataset_url, dataset_path, True)\n",
        "###Getting the Dlib Shape predictor!\n",
        "dlibshape_url = 'https://drive.google.com/uc?id=1FDLHRfjs9hH1zhknOmIuebSsG6djb3yg'\n",
        "dlibshape_path ='./shape_predictor_68_face_landmarks.dat'\n",
        "gdown.download(dlibshape_url, dlibshape_path, True)\n",
        "###Getting the Xpure loaded\n",
        "pureX_url = 'https://drive.google.com/uc?id=1tc203qSeCwyayyFV7HHrNaMAdT__WoP5'\n",
        "pureX_path = './pureX.npy'\n",
        "gdown.download(pureX_url, pureX_path,True)\n",
        "###Getting the Xdata loaded\n",
        "dataX_url = 'https://drive.google.com/uc?id=1pQuzapUKRSXDNZqXuUUdJfO1L-AFuefY'\n",
        "dataX_path = './dataX.npy'\n",
        "gdown.download(dataX_url, dataX_path, True)\n",
        "###Getting the Ydata loaded\n",
        "dataY_url = 'https://drive.google.com/uc?id=1figaVbzcmrz8JumBs-1Ql20mbVIh_d0x'\n",
        "dataY_path = './dataY.npy'\n",
        "gdown.download(dataY_url, dataY_path, True)\n",
        "print (\"Data Downloaded!\")"
      ],
      "execution_count": null,
      "outputs": []
    },
    {
      "cell_type": "markdown",
      "metadata": {
        "id": "DtHdXOQqF_kA"
      },
      "source": [
        "#Milestone 1: Understanding Feature Generation Process"
      ]
    },
    {
      "cell_type": "markdown",
      "metadata": {
        "id": "KgB5l___P_Ja"
      },
      "source": [
        "## Instructor-led Discussion: Understanding the significance of Facial landmarks\n"
      ]
    },
    {
      "cell_type": "markdown",
      "metadata": {
        "id": "1w2SA1IIrNbE"
      },
      "source": [
        "Take a look at the images with facial landmarks superimposed over the faces!\n",
        "\n",
        "![alt text](https://upload.wikimedia.org/wikipedia/commons/0/0a/Dlib-face_landmark_detection.jpg)"
      ]
    },
    {
      "cell_type": "markdown",
      "metadata": {
        "id": "xLn2UT8XiF3X"
      },
      "source": [
        "###Exercise 1A(Discussion) | Est Time: | Within a student group"
      ]
    },
    {
      "cell_type": "markdown",
      "metadata": {
        "id": "9mQpj-xyqNJr"
      },
      "source": [
        "#### Comment on positions of Facial Landmarks(FL) based on different emotion images? Can we used euclidean distance to distinguish between emotions?"
      ]
    },
    {
      "cell_type": "markdown",
      "metadata": {
        "id": "Dqw7wKpPSCUR"
      },
      "source": [
        "##Distance between Facial Landmarks\n",
        "\n"
      ]
    },
    {
      "cell_type": "markdown",
      "metadata": {
        "id": "bNftU_43j2AZ"
      },
      "source": [
        "Based on our discussion, we can use the euclidean distances of all facial landmarks with each other and use it as input (X) to our model to predict our emotions (Y)"
      ]
    },
    {
      "cell_type": "markdown",
      "metadata": {
        "id": "VKiMk58TjzKc"
      },
      "source": [
        "###Exercise 1B (Discussion) | Est Time: | Within a student group"
      ]
    },
    {
      "cell_type": "markdown",
      "metadata": {
        "id": "mPRXIYyaTrVd"
      },
      "source": [
        "Cullen: Remember that there are 68 features in the dlab model we are using. Wouldn't this be 68 choose 2?  68 choose 2 is 2278.\n"
      ]
    },
    {
      "cell_type": "markdown",
      "metadata": {
        "id": "eUORShmaUVHp"
      },
      "source": [
        "Cullen: So they're looking at permutations. There are 68 P 2 (4556) distances if you count p1 to p2 and p2 to p1 as distinct. This is what will be done throughout this notebook."
      ]
    },
    {
      "cell_type": "code",
      "metadata": {
        "id": "ex66YDjYjuRN",
        "colab": {
          "base_uri": "https://localhost:8080/"
        },
        "outputId": "fe6f32e4-95fb-4908-ee63-9498fb80b5b6"
      },
      "source": [
        "#@title Q1: Number of distance values after computing euclidean distances among facial landmarks? Q2: Number of distance values after computing euclidean distances (exclusive of distances of facial landmarks points with itself)? { display-mode: \"form\" }\n",
        "\n",
        "Q1 = \"4624\" #@param [\"2304\",\"4556\",\"4624\",\"68\",\"Fill Me In\"] \n",
        "\n",
        "Q2 = \"4556\" #@param [\"2304\",\"4556\",\"4624\",\"68\",\"Fill Me In\"] \n",
        "\n",
        "if Q1 == '4624': \n",
        "  print('Yes! 68 * 68 = 4624.') \n",
        "else: \n",
        "  print('Try Again')\n",
        "\n",
        "if Q2 == \"4556\": \n",
        "  print(\"Thats Right! If we exculde the distance of points with itself, we will have 4624 - 68 = 4556 distance values\")\n",
        "else: \n",
        "  print('Try again!')"
      ],
      "execution_count": 3,
      "outputs": [
        {
          "output_type": "stream",
          "text": [
            "Yes! 68 * 68 = 4624.\n",
            "Thats Right! If we exculde the distance of points with itself, we will have 4624 - 68 = 4556 distance values\n"
          ],
          "name": "stdout"
        }
      ]
    },
    {
      "cell_type": "markdown",
      "metadata": {
        "id": "UiQPTFiMG-Ly"
      },
      "source": [
        "###Exercise Takeaways!\n",
        "\n"
      ]
    },
    {
      "cell_type": "markdown",
      "metadata": {
        "id": "xNRbQK8A25Zu"
      },
      "source": [
        "Facial landmark distances can be used as features (X) into a model where the outputs (Y) are emotions"
      ]
    },
    {
      "cell_type": "markdown",
      "metadata": {
        "id": "_TxlMtSqDMMw"
      },
      "source": [
        "## Instructor-led Discussion: Emotion Detection Pipeline"
      ]
    },
    {
      "cell_type": "markdown",
      "metadata": {
        "id": "yOrucHQ3mFQv"
      },
      "source": [
        "The three main components of Emotion Detection are as follows:\n",
        "\n",
        "\n",
        "1.   Image Preprocessing\n",
        "2.   Feature Extraction\n",
        "3.   Feature Classification\n",
        "\n"
      ]
    },
    {
      "cell_type": "markdown",
      "metadata": {
        "id": "YQgivc1AEOx8"
      },
      "source": [
        "![](https://drive.google.com/uc?export=view&id=13_IxWcKkliquOQXuW4-vyfbpMA3X0Xzx)"
      ]
    },
    {
      "cell_type": "markdown",
      "metadata": {
        "id": "MTquSms-HhMX"
      },
      "source": [
        "# Milestone 2: Understand,Visualize and Prepare the Data"
      ]
    },
    {
      "cell_type": "markdown",
      "metadata": {
        "id": "ml8XwGzOVvWX"
      },
      "source": [
        "### Dataset Background"
      ]
    },
    {
      "cell_type": "markdown",
      "metadata": {
        "id": "kPAqGjslU4T2"
      },
      "source": [
        "We will use modified version of the fer2013 dataset consisting of five emotion labels. \n",
        "\n",
        "The dataset is stored in a csvfile. Each row in the csvfile denotes an instance. \n",
        "Every instance has two column attributes : \n",
        "\n",
        "*   Pixels of the image stored in string format \n",
        "*   Integer encoding of the target label\n",
        "\n",
        "There are total of 20,000 images distributed equally across the five emotions. The images are 48\\*48 grayscale cropped images. The csvfile consists of flattened array of the image stored in form of a string\n",
        "\n",
        "The target labels are integer encoded in the csvfile.They are mapped as follows:\n",
        "\n",
        "*   0 ---> Angry\n",
        "*   1 ---> Happy\n",
        "*   2 ---> Sad\n",
        "*   3 ---> Surprise\n",
        "*   4 ---> Neutral\n",
        "\n"
      ]
    },
    {
      "cell_type": "markdown",
      "metadata": {
        "id": "kbQ9sErcYPil"
      },
      "source": [
        "### Load the dataset "
      ]
    },
    {
      "cell_type": "code",
      "metadata": {
        "id": "kLrzsniFIPn2",
        "colab": {
          "base_uri": "https://localhost:8080/",
          "height": 204
        },
        "outputId": "371cb785-0195-400a-fc39-9f6f52e87b4f"
      },
      "source": [
        "# Integer to Label Mapping \n",
        "# this is for our own reference\n",
        "label_map = {0:\"ANGRY\",1:\"HAPPY\",2:\"SAD\",3:\"SURPRISE\",4:\"NEUTRAL\"}\n",
        "\n",
        "#Load the datala\n",
        "df = pd.read_csv(\"./ferdata.csv\")\n",
        "df.head()"
      ],
      "execution_count": 4,
      "outputs": [
        {
          "output_type": "execute_result",
          "data": {
            "text/html": [
              "<div>\n",
              "<style scoped>\n",
              "    .dataframe tbody tr th:only-of-type {\n",
              "        vertical-align: middle;\n",
              "    }\n",
              "\n",
              "    .dataframe tbody tr th {\n",
              "        vertical-align: top;\n",
              "    }\n",
              "\n",
              "    .dataframe thead th {\n",
              "        text-align: right;\n",
              "    }\n",
              "</style>\n",
              "<table border=\"1\" class=\"dataframe\">\n",
              "  <thead>\n",
              "    <tr style=\"text-align: right;\">\n",
              "      <th></th>\n",
              "      <th>emotion</th>\n",
              "      <th>pixels</th>\n",
              "      <th>Usage</th>\n",
              "    </tr>\n",
              "  </thead>\n",
              "  <tbody>\n",
              "    <tr>\n",
              "      <th>0</th>\n",
              "      <td>0</td>\n",
              "      <td>215 216 215 215 215 216 216 216 214 178 81 30 ...</td>\n",
              "      <td>Training</td>\n",
              "    </tr>\n",
              "    <tr>\n",
              "      <th>1</th>\n",
              "      <td>4</td>\n",
              "      <td>244 244 244 244 243 244 242 190 132 93 81 73 7...</td>\n",
              "      <td>Training</td>\n",
              "    </tr>\n",
              "    <tr>\n",
              "      <th>2</th>\n",
              "      <td>4</td>\n",
              "      <td>255 255 255 255 255 255 255 255 255 255 255 25...</td>\n",
              "      <td>Training</td>\n",
              "    </tr>\n",
              "    <tr>\n",
              "      <th>3</th>\n",
              "      <td>4</td>\n",
              "      <td>38 56 60 52 58 65 53 44 35 48 59 60 36 30 21 3...</td>\n",
              "      <td>Training</td>\n",
              "    </tr>\n",
              "    <tr>\n",
              "      <th>4</th>\n",
              "      <td>4</td>\n",
              "      <td>77 40 27 21 22 25 20 31 27 17 27 42 47 55 51 4...</td>\n",
              "      <td>Training</td>\n",
              "    </tr>\n",
              "  </tbody>\n",
              "</table>\n",
              "</div>"
            ],
            "text/plain": [
              "   emotion                                             pixels     Usage\n",
              "0        0  215 216 215 215 215 216 216 216 214 178 81 30 ...  Training\n",
              "1        4  244 244 244 244 243 244 242 190 132 93 81 73 7...  Training\n",
              "2        4  255 255 255 255 255 255 255 255 255 255 255 25...  Training\n",
              "3        4  38 56 60 52 58 65 53 44 35 48 59 60 36 30 21 3...  Training\n",
              "4        4  77 40 27 21 22 25 20 31 27 17 27 42 47 55 51 4...  Training"
            ]
          },
          "metadata": {
            "tags": []
          },
          "execution_count": 4
        }
      ]
    },
    {
      "cell_type": "code",
      "metadata": {
        "id": "emNk3kn7-SWh",
        "colab": {
          "base_uri": "https://localhost:8080/",
          "height": 306
        },
        "outputId": "ee235f88-1a0a-4a69-9cdd-6e64572ca98d"
      },
      "source": [
        "# generate x labels for our plot\n",
        "emotion_labels = [label_map[i] for i in label_map.keys()]\n",
        "\n",
        "# generate counts for each emotion type\n",
        "emotion_counts = [np.sum(df[\"emotion\"] == i) for i in label_map.keys()]\n",
        "\n",
        "# generate a bar plot for our emotion labels that has different colors \n",
        "[plt.bar(x = emotion_labels[i], height = emotion_counts[i] ) for i in label_map.keys()] \n",
        "\n",
        "# make the plot interpretable with x and y labels + title\n",
        "plt.xlabel('EMOTION LABEL')\n",
        "plt.ylabel('N OBSERVSATIONS')\n",
        "plt.title('A balanced distribution of emotions in our data set', y=1.05); "
      ],
      "execution_count": 5,
      "outputs": [
        {
          "output_type": "display_data",
          "data": {
            "image/png": "[encoded data removed]",
            "text/plain": [
              "<Figure size 432x288 with 1 Axes>"
            ]
          },
          "metadata": {
            "tags": [],
            "needs_background": "light"
          }
        }
      ]
    },
    {
      "cell_type": "markdown",
      "metadata": {
        "id": "0UPLgR0k-fEJ"
      },
      "source": [
        "###Exercise 2A Balanced vs. Unbalanced Datasets"
      ]
    },
    {
      "cell_type": "markdown",
      "metadata": {
        "id": "CG57yqywq1jW"
      },
      "source": [
        "####What would be the implications of an unbalanced dataset?"
      ]
    },
    {
      "cell_type": "markdown",
      "metadata": {
        "id": "KaqNfQF5Y8iM"
      },
      "source": [
        "### Data Visualization"
      ]
    },
    {
      "cell_type": "markdown",
      "metadata": {
        "id": "1BbN1EO_-VMc"
      },
      "source": [
        "In this section, we will convert the flattened pixel arrays to 2D images, so as to plot facial landmarks over the images"
      ]
    },
    {
      "cell_type": "code",
      "metadata": {
        "id": "25joaxHAQcw2"
      },
      "source": [
        "import os"
      ],
      "execution_count": 6,
      "outputs": []
    },
    {
      "cell_type": "code",
      "metadata": {
        "id": "baxrsFUQQeeT",
        "colab": {
          "base_uri": "https://localhost:8080/"
        },
        "outputId": "bd79be1a-455c-4404-9de5-11f42c2e4b14"
      },
      "source": [
        "os.listdir() "
      ],
      "execution_count": 7,
      "outputs": [
        {
          "output_type": "execute_result",
          "data": {
            "text/plain": [
              "['.config',\n",
              " 'dataX.npy',\n",
              " 'dataY.npy',\n",
              " 'ferdata.csv',\n",
              " 'pureX.npy',\n",
              " 'shape_predictor_68_face_landmarks.dat',\n",
              " 'sample_data']"
            ]
          },
          "metadata": {
            "tags": []
          },
          "execution_count": 7
        }
      ]
    },
    {
      "cell_type": "code",
      "metadata": {
        "id": "jTkynlyy75cm"
      },
      "source": [
        "# Run this code to setup the extraction of Facial Landmarks\n",
        "\n",
        "# Load's dlib's pretrained face detector model\n",
        "#frontalface_detector = dlib.get_frontal_face_detector()\n",
        "\n",
        "\n",
        "#Load the 68 face Landmark file\n",
        "predictor = dlib.shape_predictor('./shape_predictor_68_face_landmarks.dat')\n",
        "\"\"\"\n",
        "Returns facial landmarks for the given input image path\n",
        "\"\"\"\n",
        "def get_landmarks(image):\n",
        "  \n",
        "  \n",
        "  #:type image : cv2 object\n",
        "  #:rtype landmarks : list of tuples where each tuple represents \n",
        "  #                  the x and y co-ordinates of facial keypoints\n",
        "  \n",
        "  #Bounding Box co-ordinates around the face(Training data is 48*48(cropped faces))\n",
        "  rects = [dlib.rectangle(left=1, top=1, right=47, bottom=47)]\n",
        "\n",
        "  #Read Image using OpenCV\n",
        "  #image = cv2.imread(image_path)\n",
        "  #Detect the Faces within the image\n",
        "  landmarks = [(p.x, p.y) for p in predictor(image, rects[0]).parts()]\n",
        "  return image,landmarks\n",
        "\n",
        "\"\"\"\n",
        "Display image with its Facial Landmarks\n",
        "\"\"\"\n",
        "def plot_landmarks(image,face_landmarks):\n",
        "  \"\"\"\n",
        "  :type image_path : str\n",
        "  :type face_landmarks : list of tuples where each tuple represents \n",
        "                     the x and y co-ordinates of facial keypoints\n",
        "  :rtype : None\n",
        "  \"\"\"\n",
        "  radius = -2\n",
        "  circle_thickness = 1\n",
        "  image_copy = image.copy()\n",
        "  for (x, y) in face_landmarks:\n",
        "    cv2.circle(image_copy, (x, y), circle_thickness, (255,0,0), radius)\n",
        "    \n",
        "  plt.imshow(image_copy, interpolation='nearest', cmap='Greys_r')\n",
        "  plt.xticks([]); plt.yticks([])\n",
        "  plt.show()\n",
        "  \n",
        " \n",
        "'''\n",
        "Converts pixels values to 2D-image. \n",
        "Displays the image and returns the cv2 image\n",
        "object\n",
        "'''\n",
        "def pixels_image(img_pixels,plt_flag):\n",
        "  \"\"\"\n",
        "  :type image_pixels : str\n",
        "  :type plt_flag : boolean\n",
        "  :rtype image : cv2 object\n",
        "  \"\"\"\n",
        "  \n",
        "  width = 48\n",
        "  height = 48\n",
        "  \n",
        "  image = np.fromstring(img_pixels, dtype=np.uint8, sep=\" \").reshape((height, width))\n",
        "  \n",
        "  if plt_flag:\n",
        "      plt.imshow(image, interpolation='nearest', cmap=\"Greys_r\")\n",
        "      plt.xticks([]); plt.yticks([])\n",
        "      plt.show()\n",
        "      \n",
        "      \n",
        "  return image\n"
      ],
      "execution_count": 8,
      "outputs": []
    },
    {
      "cell_type": "markdown",
      "metadata": {
        "id": "fMrrq0fxlBbN"
      },
      "source": [
        "###Lets visualize our datapoints!\n"
      ]
    },
    {
      "cell_type": "code",
      "metadata": {
        "id": "E6kqtTORlAZ3",
        "colab": {
          "base_uri": "https://localhost:8080/",
          "height": 252
        },
        "outputId": "dad55af3-e29b-4d1e-b3d9-eb2088bed13e"
      },
      "source": [
        "# select random index \n",
        "i_index = np.random.randint(len(df))\n",
        "\n",
        "# extract pixel values\n",
        "image_pixels = df['pixels'][i_index]        \n",
        "\n",
        "# convert pixels to 2D Images\n",
        "image = pixels_image(image_pixels, True)"
      ],
      "execution_count": 9,
      "outputs": [
        {
          "output_type": "display_data",
          "data": {
            "image/png": "[encoded data removed]",
            "text/plain": [
              "<Figure size 432x288 with 1 Axes>"
            ]
          },
          "metadata": {
            "tags": []
          }
        }
      ]
    },
    {
      "cell_type": "markdown",
      "metadata": {
        "id": "iEKhOBy1-_aB"
      },
      "source": [
        "####Plot Facial Landmarks on the Datapoints"
      ]
    },
    {
      "cell_type": "markdown",
      "metadata": {
        "id": "c5MLFnvDjzPu"
      },
      "source": [
        "Cullen: It's interesting that we are relying on another model here to train our emotion detector. Sometimes these landmarks are plotted horribly wrong."
      ]
    },
    {
      "cell_type": "code",
      "metadata": {
        "id": "LLcpEqE_-w-T",
        "colab": {
          "base_uri": "https://localhost:8080/",
          "height": 252
        },
        "outputId": "2d37f0cb-db2c-4e2e-f21a-d6f499e3b28e"
      },
      "source": [
        "# Extract the Facial Landmarks\n",
        "image, facial_landmarks = get_landmarks(image)\n",
        "# Display the Facial Landmarks on the Image\n",
        "plot_landmarks(image,facial_landmarks)"
      ],
      "execution_count": 10,
      "outputs": [
        {
          "output_type": "display_data",
          "data": {
            "image/png": "[encoded data removed]",
            "text/plain": [
              "<Figure size 432x288 with 1 Axes>"
            ]
          },
          "metadata": {
            "tags": []
          }
        }
      ]
    },
    {
      "cell_type": "markdown",
      "metadata": {
        "id": "27HUOaMqagU7"
      },
      "source": [
        "###Extract the features and save the data"
      ]
    },
    {
      "cell_type": "markdown",
      "metadata": {
        "id": "uh4mN71xbyvO"
      },
      "source": [
        " We'll need to create X and Y arrays for our model:\n",
        " \n",
        "      X is a list of lists, where each element in X represents a single picture\n",
        "                            where a picture is represented by a list distances \n",
        "                            between facial landmark points\n",
        "\n",
        "      Y is a list of numbers, where each element in Y represents the emotion \n",
        "                              for the corresponding picture\n",
        "\n",
        "      X_pixels is a list of lists, where each element in X represents a single \n",
        "                           picture where a picture is represented by its pixels \n",
        "\n",
        " X and Y must be ordered in the same way so that X[0] and Y[0] refer to the \n",
        " first picture, X[1] and Y[1] refer to the second picture, and so on.\n",
        "\n",
        " "
      ]
    },
    {
      "cell_type": "markdown",
      "metadata": {
        "id": "GiBA4Uz1ZjOb"
      },
      "source": [
        "###Euclidean Distance between Facial Landmarks"
      ]
    },
    {
      "cell_type": "markdown",
      "metadata": {
        "id": "DZkElB0PATtd"
      },
      "source": [
        "####Exercise(Coding)\n",
        "\n",
        "Complete the function below to compute the euclidean distances between all 68 Facial Landmark points, excluding the distances of the points with themselves"
      ]
    },
    {
      "cell_type": "markdown",
      "metadata": {
        "id": "pvJXGTW6WaA_"
      },
      "source": [
        "Cullen: I used the below code to get all combinations rather than permunations.\n",
        "\n",
        "```\n",
        "for j in face_landmarks[i:]\n",
        "```\n"
      ]
    },
    {
      "cell_type": "code",
      "metadata": {
        "id": "AblhKSuIZufy"
      },
      "source": [
        "\"\"\"\n",
        "Computes euclidean distance between 68 Landmark Points for our features\n",
        "e_dist is a list of features that will go into our model.\n",
        "Each feature is a distance between two landmark points, and every pair of points\n",
        "must have a feature. \n",
        "Scipy Library has readily available fuction to compute euclidean distance. You can \n",
        "compute the distance using distance.euclidean(point1,point2)\n",
        "point1,point2 :2D points\n",
        "\"\"\"\n",
        "def landmarks_edist(face_landmarks):\n",
        "  \n",
        "    e_dist = []\n",
        "    # FILL ME IN!\n",
        "    # Use this to get the distance between two points: \n",
        "    #               distance.euclidean(face_landmarks[i],face_landmarks[j])\n",
        "    for i in face_landmarks:\n",
        "      for j in face_landmarks[i:]:\n",
        "        e_dist.append(distance.euclidean(face_landmarks[i], face_landmarks[j]))\n",
        "    return e_dist"
      ],
      "execution_count": 11,
      "outputs": []
    },
    {
      "cell_type": "code",
      "metadata": {
        "id": "Im_3G3gtaqsK"
      },
      "source": [
        "# Function that preprocesses the data to extract distances between all points\n",
        "\n",
        "def preprocess_data(df):\n",
        "  \n",
        "  X = []\n",
        "  Y = []\n",
        "  X_pixels = []\n",
        "  \n",
        "  n_pixels = 2304\n",
        "  \n",
        "  for index, row in (df.iterrows()):\n",
        "\n",
        "      if index%1000 == 0:\n",
        "        print (index, \"Datapoints Processed\")\n",
        "        \n",
        "      try:\n",
        "          image = pixels_image(row['pixels'],0)\n",
        "          X_pixels.append(image.ravel()) \n",
        "          image = cv2.GaussianBlur(image,(5,5),0)\n",
        "         \n",
        "          _,face_landmarks = get_landmarks(image)\n",
        "          X.append(landmarks_edist(face_landmarks)) # Using our feature function!\n",
        "          Y.append(row['emotion'])\n",
        "\n",
        "      except Exception as e:\n",
        "          print (\"An error occured:\",e)\n",
        "\n",
        "  #Save the data \n",
        "  np.save(\"pureX1\", X_pixels)\n",
        "  np.save(\"dataX1\", X)\n",
        "  np.save(\"dataY1\", Y)\n",
        "  \n",
        "  return np.array(X_pixels),np.array(X),np.array(Y) "
      ],
      "execution_count": 31,
      "outputs": []
    },
    {
      "cell_type": "markdown",
      "metadata": {
        "id": "5tMU3NCZcpcF"
      },
      "source": [
        "###Load the Saved Data"
      ]
    },
    {
      "cell_type": "code",
      "metadata": {
        "id": "cypubed0HIBt"
      },
      "source": [
        "# set to True if we want to preload data -- which has already been generated for us :) \n",
        "preload = True\n",
        "\n",
        "if preload: \n",
        "\n",
        "  # load outputs saved in this folder after running preprocess_data() \n",
        "  dataX = np.load('./dataX.npy')\n",
        "  dataY = np.load('./dataY.npy')\n",
        "  \n",
        "else: \n",
        "  \n",
        "  # this takes 15-20 minutes to run, but someone has already run it and saved the ouputs in this folder\n",
        "  pureX, dataX, dataY = preprocess_data(df)"
      ],
      "execution_count": 13,
      "outputs": []
    },
    {
      "cell_type": "markdown",
      "metadata": {
        "id": "243exuhMd38d"
      },
      "source": [
        "###Split the data\n",
        "\n"
      ]
    },
    {
      "cell_type": "markdown",
      "metadata": {
        "id": "cNWZEOrJDVpF"
      },
      "source": [
        "We split our data into different 'sets' that each will work differently with our machine learning model.\n",
        "\n",
        "Think of our AI as a machine learning 'student'.\n",
        "\n",
        "**Training Set**: Our training set is like a training manual. Our algorithm will read, or 'train', on this over and over again to try and learn its task.\n",
        "\n",
        "**Test Set**: Our test set is like a test. It is testing our model on problems that it has not seen before.\n",
        "\n",
        "We usually have a much larger training manual than our test. Let's see if this is the case with our data!"
      ]
    },
    {
      "cell_type": "markdown",
      "metadata": {
        "id": "t9wi-O2KdeL7"
      },
      "source": [
        "Cullen: Note that this data is not the pure images. Each images is represented as its 4056 euclidean distances."
      ]
    },
    {
      "cell_type": "code",
      "metadata": {
        "id": "3cAC2tMjwK34"
      },
      "source": [
        "#Split Data into Train, Test (90-10)\n",
        "X_train, X_test, y_train, y_test = train_test_split(dataX, dataY, test_size=0.1, random_state=42, stratify=dataY)"
      ],
      "execution_count": 14,
      "outputs": []
    },
    {
      "cell_type": "markdown",
      "metadata": {
        "id": "NuhYYWCjd0Ug"
      },
      "source": [
        "Cullen: There are 18000 test examples. Each represents an image to be classified. Each contains 4556 euclidean distances."
      ]
    },
    {
      "cell_type": "code",
      "metadata": {
        "id": "BgzUfFcdPIkr",
        "colab": {
          "base_uri": "https://localhost:8080/"
        },
        "outputId": "6e643501-e3e6-4646-863f-8e9dc5aed079"
      },
      "source": [
        "print(X_train.shape)\n",
        "print(X_test.shape)"
      ],
      "execution_count": 15,
      "outputs": [
        {
          "output_type": "stream",
          "text": [
            "(18000, 4556)\n",
            "(2000, 4556)\n"
          ],
          "name": "stdout"
        }
      ]
    },
    {
      "cell_type": "markdown",
      "metadata": {
        "id": "jFES356Ndp6U"
      },
      "source": [
        "### Instructor-led Discussion: Standardization of Data"
      ]
    },
    {
      "cell_type": "markdown",
      "metadata": {
        "id": "pbtM9MnxBozT"
      },
      "source": [
        "Standardization is the process of putting different variables on the same scale. It is a transformation that centers the data by removing the mean value of each feature and then scale it by dividing (non-constant) features by their standard deviation.\n",
        "\n",
        "After standardizing data the mean will be zero and the standard deviation one.\n",
        "\n",
        "We can use sklearn's inbuilt function which will help us to standardize our train data:\n",
        "* `StandardScaler()`"
      ]
    },
    {
      "cell_type": "code",
      "metadata": {
        "id": "ctD2nHn1wKFA"
      },
      "source": [
        "####Standardize the data####################\n",
        "###Note: Do not use test data to fit your Standardscaler Model\n",
        "scaler = StandardScaler()\n",
        "scaler.fit(X_train)\n",
        "X_train = scaler.transform(X_train)\n",
        "X_test = scaler.transform(X_test)"
      ],
      "execution_count": 16,
      "outputs": []
    },
    {
      "cell_type": "markdown",
      "metadata": {
        "id": "R7GpTLtCUd9c"
      },
      "source": [
        "### Instructor-led Discussion: Dimensionality Reduction"
      ]
    },
    {
      "cell_type": "markdown",
      "metadata": {
        "id": "1ZLbw8c1VRik"
      },
      "source": [
        "Dimensionality reduction helps us find a low-dimensional representation of the data that retains as much information as possible.\n",
        "\n",
        "Principal Component Analysis (PCA) is one such technique.PCA is a technique used to emphasize variation and bring out strong patterns in a dataset. \n",
        "\n"
      ]
    },
    {
      "cell_type": "code",
      "metadata": {
        "id": "cVKY8f_V5_1C",
        "colab": {
          "base_uri": "https://localhost:8080/"
        },
        "outputId": "40675706-dba8-4e29-9879-057f34dc4b9f"
      },
      "source": [
        "#Reduces features by maintaining 95% variance of the data\n",
        "#After doing PCA on our training data, 4556 Dimensions --->reduced to 20\n",
        "#Note: PCA is trained only on training data \n",
        "# this takes a while\n",
        "pca = PCA(.95)\n",
        "pca.fit(X_train)"
      ],
      "execution_count": 17,
      "outputs": [
        {
          "output_type": "execute_result",
          "data": {
            "text/plain": [
              "PCA(copy=True, iterated_power='auto', n_components=0.95, random_state=None,\n",
              "    svd_solver='auto', tol=0.0, whiten=False)"
            ]
          },
          "metadata": {
            "tags": []
          },
          "execution_count": 17
        }
      ]
    },
    {
      "cell_type": "code",
      "metadata": {
        "id": "8qZ3ksjeab5z"
      },
      "source": [
        "X_train = pca.transform(X_train)\n",
        "X_test= pca.transform(X_test)"
      ],
      "execution_count": 18,
      "outputs": []
    },
    {
      "cell_type": "code",
      "metadata": {
        "id": "t3fh0Q8CPGeJ",
        "colab": {
          "base_uri": "https://localhost:8080/"
        },
        "outputId": "febad6f8-241c-49cd-d24c-6c07d639ed15"
      },
      "source": [
        "X_train.shape"
      ],
      "execution_count": 19,
      "outputs": [
        {
          "output_type": "execute_result",
          "data": {
            "text/plain": [
              "(18000, 20)"
            ]
          },
          "metadata": {
            "tags": []
          },
          "execution_count": 19
        }
      ]
    },
    {
      "cell_type": "markdown",
      "metadata": {
        "id": "SV0jORxMH3w1"
      },
      "source": [
        "#Milestone 3 : Applying Machine Learning to Emotion Detection"
      ]
    },
    {
      "cell_type": "markdown",
      "metadata": {
        "id": "rx3TiV9KJSSl"
      },
      "source": [
        "##Activity 3a. Defining our machine learning problem"
      ]
    },
    {
      "cell_type": "markdown",
      "metadata": {
        "id": "mRmAsd_WJX7C"
      },
      "source": [
        "Before we build our model, we have to identify what kind of problem it will solve and what data it's going to use. "
      ]
    },
    {
      "cell_type": "markdown",
      "metadata": {
        "id": "xNxpdkT_JZF3"
      },
      "source": [
        "### Instructor-led Discussion: Machine Learning for Emotion Detection?\n"
      ]
    },
    {
      "cell_type": "markdown",
      "metadata": {
        "id": "e6PKSHcpJisw"
      },
      "source": [
        "What WILL our model look like? Remember, in machine learning, we always identify inputs and outputs. Our goal is to predict outputs from inputs with either classification or regression.\n",
        "\n",
        "In classification, our output is a category (like dogs or cats).\n",
        "\n",
        "In regression, our output is a value (like 0, 0.1, 0.3, 100, ...)."
      ]
    },
    {
      "cell_type": "code",
      "metadata": {
        "id": "049tc1P6JslF",
        "colab": {
          "base_uri": "https://localhost:8080/"
        },
        "outputId": "e8963f46-3111-4622-d1cc-08ce7751a0a0"
      },
      "source": [
        "#@title How will our model operate? { display-mode: \"form\" }\n",
        "\n",
        "#@markdown What are our inputs? \n",
        "inputs = \"images\" #@param [\"images\", \"facial landmarks\", \"distances between facial landmarks\", \"Fill Me In\"]\n",
        "\n",
        "#@markdown What are our outputs? \n",
        "outputs = \"integer encoded emotions\" #@param [\"integer encoded emotions\", \"images\", \"image edges\", \"Fill Me In\"]\n",
        "\n",
        "#@markdown What kind of problem will our AI model solve? \n",
        "problem_type  = \"classification\" #@param [\"classification\", \"regression\",\"Fill Me In\"]\n",
        "\n",
        "\n",
        "if inputs == \"distances between facial landmarks\":\n",
        "  print(\"Yes, our inputs are our distance between facial landmarks!\")\n",
        "else:\n",
        "  print('Not quite our inputs.')\n",
        "\n",
        "if outputs == \"integer encoded emotions\":\n",
        "  print(\"Yes, our outputs are integer encoded emotions!\")\n",
        "else:\n",
        "  print('Not quite our outputs.')\n",
        "  \n",
        "if problem_type == \"classification\":\n",
        "  print(\"We are trying to predict labels, therefore this is classification!\")\n",
        "else:\n",
        "  print('Not quite our problem!')"
      ],
      "execution_count": 20,
      "outputs": [
        {
          "output_type": "stream",
          "text": [
            "Not quite our inputs.\n",
            "Yes, our outputs are integer encoded emotions!\n",
            "We are trying to predict labels, therefore this is classification!\n"
          ],
          "name": "stdout"
        }
      ]
    },
    {
      "cell_type": "markdown",
      "metadata": {
        "id": "3ZGgfUZNJyTF"
      },
      "source": [
        "## Activity 3b. Building and evaluating models\n",
        "\n",
        "\n",
        "We've tried a the KNN, Logistic Regression,Decision Tree model last week in sklearn. Establish best baseline acccuracy using either of the models today. Below, we list it with the sample parameters:\n",
        "* `knn = KNeighborsClassifier(n_neighbors = 1)`\n",
        "* `lr = LogisticRegression(solver='lbfgs',multi_class='multinomial')`\n",
        "* `dt = DecisionTreeClassifier(max_depth=1)`\n",
        "\n",
        "\n",
        "\n",
        "\n",
        "Test your models with accuracy_score on the test_data, which can be accessed through the X_test variable\n",
        "\n",
        "Try to build the best model that you can! \n",
        "\n",
        "Human accuracy for the fer2013 dataset is 65% +- 5%. Lets try getting as closer as possible!\n",
        "\n"
      ]
    },
    {
      "cell_type": "markdown",
      "metadata": {
        "id": "DqavAnDpKDqE"
      },
      "source": [
        "### Exercise (Coding)     | Est Time | Within a student group\n"
      ]
    },
    {
      "cell_type": "markdown",
      "metadata": {
        "id": "dTsla-LdaL2k"
      },
      "source": [
        "Cullen: Here's a loop to check out a bunch of models at once."
      ]
    },
    {
      "cell_type": "code",
      "metadata": {
        "id": "Nj85T8KjZW7H"
      },
      "source": [
        "models = [KNeighborsClassifier(n_neighbors=1), LogisticRegression(solver='lbfgs', multi_class='multinomial'), DecisionTreeClassifier(max_depth=3)]"
      ],
      "execution_count": 21,
      "outputs": []
    },
    {
      "cell_type": "code",
      "metadata": {
        "id": "Bci7JRWuZUj4",
        "colab": {
          "base_uri": "https://localhost:8080/"
        },
        "outputId": "4a7090cd-8f0b-45fc-e000-628e3391269f"
      },
      "source": [
        "for model in models:\n",
        "  model.fit(X_train, y_train)\n",
        "  y_pred = model.predict(X_test)\n",
        "  accuracy = metrics.accuracy_score(y_test, y_pred)\n",
        "  print(model)\n",
        "  print('Accuracy Score:', accuracy)"
      ],
      "execution_count": 22,
      "outputs": [
        {
          "output_type": "stream",
          "text": [
            "KNeighborsClassifier(algorithm='auto', leaf_size=30, metric='minkowski',\n",
            "                     metric_params=None, n_jobs=None, n_neighbors=1, p=2,\n",
            "                     weights='uniform')\n",
            "Accuracy Score: 0.4615\n",
            "LogisticRegression(C=1.0, class_weight=None, dual=False, fit_intercept=True,\n",
            "                   intercept_scaling=1, l1_ratio=None, max_iter=100,\n",
            "                   multi_class='multinomial', n_jobs=None, penalty='l2',\n",
            "                   random_state=None, solver='lbfgs', tol=0.0001, verbose=0,\n",
            "                   warm_start=False)\n",
            "Accuracy Score: 0.5015\n",
            "DecisionTreeClassifier(ccp_alpha=0.0, class_weight=None, criterion='gini',\n",
            "                       max_depth=3, max_features=None, max_leaf_nodes=None,\n",
            "                       min_impurity_decrease=0.0, min_impurity_split=None,\n",
            "                       min_samples_leaf=1, min_samples_split=2,\n",
            "                       min_weight_fraction_leaf=0.0, presort='deprecated',\n",
            "                       random_state=None, splitter='best')\n",
            "Accuracy Score: 0.3885\n"
          ],
          "name": "stdout"
        }
      ]
    },
    {
      "cell_type": "markdown",
      "metadata": {
        "id": "L75JNwXDbw8x"
      },
      "source": [
        "Logistic Regression worked best so I'll go with that."
      ]
    },
    {
      "cell_type": "code",
      "metadata": {
        "id": "1H32Wc8AbuqY",
        "colab": {
          "base_uri": "https://localhost:8080/"
        },
        "outputId": "93875d2a-59b2-45ba-caac-1da51a33f8ed"
      },
      "source": [
        "log_reg = LogisticRegression(solver='lbfgs', multi_class='multinomial')\n",
        "log_reg.fit(X_train, y_train)\n",
        "y_pred = log_reg.predict(X_test)\n",
        "accuracy = metrics.accuracy_score(y_test, y_pred)\n",
        "print('Accuracy:', accuracy)"
      ],
      "execution_count": 23,
      "outputs": [
        {
          "output_type": "stream",
          "text": [
            "Accuracy: 0.5015\n"
          ],
          "name": "stdout"
        }
      ]
    },
    {
      "cell_type": "markdown",
      "metadata": {
        "id": "VJVpZmRSN2lY"
      },
      "source": [
        "###Exercise 3A(Discussion) | Est Time: | Within a student group\n",
        "\n",
        "Discussion over different algorithms used for Emotion Detection!\n",
        "\n"
      ]
    },
    {
      "cell_type": "markdown",
      "metadata": {
        "id": "fVr-933j4LRC"
      },
      "source": [
        "###Plot the Confusion Matrix"
      ]
    },
    {
      "cell_type": "code",
      "metadata": {
        "id": "eN0uVF7cwbGk"
      },
      "source": [
        "'''\n",
        "Plots the confusion Matrix and saves it\n",
        "Pass the true labels and the predicted labels\n",
        "'''\n",
        "def plot_confusion_matrix(y_true,y_predicted):\n",
        "  cm = metrics.confusion_matrix(y_true, y_predicted)\n",
        "  labels = list(label_map.values())\n",
        "  df_cm = pd.DataFrame(cm,index = labels,columns = labels)\n",
        "  fig = plt.figure()\n",
        "  res = sns.heatmap(df_cm, annot=True,cmap='Blues', fmt='g')\n",
        "  plt.yticks([0.5,1.5,2.5,3.5,4.5], labels,va='center')\n",
        "  plt.title('Confusion Matrix - TestData')\n",
        "  plt.ylabel('True label')\n",
        "  plt.xlabel('Predicted label')\n",
        "  #plt.savefig(fig_name)\n",
        "  plt.show()\n",
        "  plt.close()\n",
        "\n",
        " \n"
      ],
      "execution_count": 24,
      "outputs": []
    },
    {
      "cell_type": "markdown",
      "metadata": {
        "id": "DoFYims7cJJU"
      },
      "source": [
        "Note that this is the y_test and y_pred using Logistic Regression."
      ]
    },
    {
      "cell_type": "code",
      "metadata": {
        "id": "_7BrfLuF7Q4X",
        "colab": {
          "base_uri": "https://localhost:8080/",
          "height": 295
        },
        "outputId": "81f7b297-4916-4bf1-95ad-4935a57c6b6e"
      },
      "source": [
        "plot_confusion_matrix(y_test, y_pred)"
      ],
      "execution_count": 25,
      "outputs": [
        {
          "output_type": "display_data",
          "data": {
            "image/png": "[encoded data removed]",
            "text/plain": [
              "<Figure size 432x288 with 2 Axes>"
            ]
          },
          "metadata": {
            "tags": [],
            "needs_background": "light"
          }
        }
      ]
    },
    {
      "cell_type": "markdown",
      "metadata": {
        "id": "ONN5x6QTcR1A"
      },
      "source": [
        "Cullen: Let's check out the confusion matrix for every model. Yes I know I'm retraining every model."
      ]
    },
    {
      "cell_type": "code",
      "metadata": {
        "id": "PWacYBCCcVMp",
        "colab": {
          "base_uri": "https://localhost:8080/",
          "height": 1000
        },
        "outputId": "ebad2049-f23e-4219-92e3-54c2545424d2"
      },
      "source": [
        "for model in models:\n",
        "  model.fit(X_train, y_train)\n",
        "  y_pred = model.predict(X_test)\n",
        "  accuracy = metrics.accuracy_score(y_test, y_pred)\n",
        "  print(model)\n",
        "  print('Accuracy:', accuracy)\n",
        "  plot_confusion_matrix(y_test, y_pred)"
      ],
      "execution_count": 26,
      "outputs": [
        {
          "output_type": "stream",
          "text": [
            "KNeighborsClassifier(algorithm='auto', leaf_size=30, metric='minkowski',\n",
            "                     metric_params=None, n_jobs=None, n_neighbors=1, p=2,\n",
            "                     weights='uniform')\n",
            "Accuracy: 0.4615\n"
          ],
          "name": "stdout"
        },
        {
          "output_type": "display_data",
          "data": {
            "image/png": "[encoded data removed]",
            "text/plain": [
              "<Figure size 432x288 with 2 Axes>"
            ]
          },
          "metadata": {
            "tags": [],
            "needs_background": "light"
          }
        },
        {
          "output_type": "stream",
          "text": [
            "LogisticRegression(C=1.0, class_weight=None, dual=False, fit_intercept=True,\n",
            "                   intercept_scaling=1, l1_ratio=None, max_iter=100,\n",
            "                   multi_class='multinomial', n_jobs=None, penalty='l2',\n",
            "                   random_state=None, solver='lbfgs', tol=0.0001, verbose=0,\n",
            "                   warm_start=False)\n",
            "Accuracy: 0.5015\n"
          ],
          "name": "stdout"
        },
        {
          "output_type": "display_data",
          "data": {
            "image/png": "[encoded data removed]",
            "text/plain": [
              "<Figure size 432x288 with 2 Axes>"
            ]
          },
          "metadata": {
            "tags": [],
            "needs_background": "light"
          }
        },
        {
          "output_type": "stream",
          "text": [
            "DecisionTreeClassifier(ccp_alpha=0.0, class_weight=None, criterion='gini',\n",
            "                       max_depth=3, max_features=None, max_leaf_nodes=None,\n",
            "                       min_impurity_decrease=0.0, min_impurity_split=None,\n",
            "                       min_samples_leaf=1, min_samples_split=2,\n",
            "                       min_weight_fraction_leaf=0.0, presort='deprecated',\n",
            "                       random_state=None, splitter='best')\n",
            "Accuracy: 0.3885\n"
          ],
          "name": "stdout"
        },
        {
          "output_type": "display_data",
          "data": {
            "image/png": "[encoded data removed]",
            "text/plain": [
              "<Figure size 432x288 with 2 Axes>"
            ]
          },
          "metadata": {
            "tags": [],
            "needs_background": "light"
          }
        }
      ]
    },
    {
      "cell_type": "markdown",
      "metadata": {
        "id": "7iyM_SREPTbE"
      },
      "source": [
        "####Exercise (Discussion) | Est Time: | Within a student group"
      ]
    },
    {
      "cell_type": "markdown",
      "metadata": {
        "id": "KFc7OwM6c4nr"
      },
      "source": [
        "Cullen: I won't bother to fill these in (partially because they didn't include every label), but questions to think about when analyzing results."
      ]
    },
    {
      "cell_type": "code",
      "metadata": {
        "id": "cVsJs_arPTnR",
        "cellView": "form"
      },
      "source": [
        "#@title Take a look at your confusion Matrix and answer the following questions\n",
        "\n",
        "#@markdown Name most correctly classified emotion? \n",
        "correct_emotion = \"Happy\"#@param [\"Anger\",\"Happy\",\"Sad\",\"Surprise\",\"Fill Me In\"] \n",
        "\n",
        "#@markdown Name most incorrectly classified emotion? \n",
        "incorrect_emotion = \"Sad\"#@param [\"Anger\",\"Happy\",\"Sad\",\"Surprise\",\"Fill Me In\"] \n",
        "\n",
        "#@markdown Sad Emotion is highly misclassified as?\n",
        "sad_misclassify =\"Fill Me In\"#@param [\"Anger\",\"Happy\",\"Sad\",\"Surprise\",\"Fill Me In\"] \n",
        "\n",
        "#@markdown Neutral Emotion is highly misclassified as?\n",
        "neutral_misclassify =\"Surprise\"#@param [\"Anger\",\"Happy\",\"Sad\",\"Surprise\",\"Fill Me In\"] \n",
        "\n",
        "\n",
        "#@markdown Angry Emotion is highly misclassified as?\n",
        "angry_misclassify =\"Fill Me In\"#@param [\"Anger\",\"Happy\",\"Sad\",\"Surprise\",\"Fill Me In\"] \n",
        "\n",
        "\n"
      ],
      "execution_count": 27,
      "outputs": []
    },
    {
      "cell_type": "markdown",
      "metadata": {
        "id": "g0dNBYIPI2-c"
      },
      "source": [
        "#Milestone 4: Coding Exercise\n",
        "\n"
      ]
    },
    {
      "cell_type": "markdown",
      "metadata": {
        "id": "GolaaB1-tvBC"
      },
      "source": [
        "We performed feature generation and extraction process in the previous sections. Now train your best model from Section 3 again with actual pixels of the images with standardization.\n",
        "\n",
        "####Report and Comment over the result!"
      ]
    },
    {
      "cell_type": "markdown",
      "metadata": {
        "id": "748zDMkeeKmM"
      },
      "source": [
        "Cullen: This data contains the images straight from the database. There are 20000 images, each 48x48 pixels and black and white. Thus, each example is represented by 2304 pixels (each with a value 0 to 255)."
      ]
    },
    {
      "cell_type": "code",
      "metadata": {
        "id": "zqMKoYD0Ib9L",
        "colab": {
          "base_uri": "https://localhost:8080/"
        },
        "outputId": "7b7f3407-7312-450d-c13e-638ba25f98e1"
      },
      "source": [
        "#Load the true pixel data and corresponding labels\n",
        "X = np.load('pureX.npy')\n",
        "Y = np.load('dataY.npy')\n",
        "print(X.shape)"
      ],
      "execution_count": 28,
      "outputs": [
        {
          "output_type": "stream",
          "text": [
            "(20000, 2304)\n"
          ],
          "name": "stdout"
        }
      ]
    },
    {
      "cell_type": "code",
      "metadata": {
        "id": "WatuJy48Qe__",
        "colab": {
          "base_uri": "https://localhost:8080/"
        },
        "outputId": "cd371435-4898-48d8-8864-aa0c1dd202d8"
      },
      "source": [
        "###YOUR CODE HERE\n",
        "X_pure_train, X_pure_test, y_train, y_test = train_test_split(X, Y, test_size=0.1)\n",
        "log_reg = LogisticRegression(solver='lbfgs', multi_class='multinomial')\n",
        "log_reg.fit(X_pure_train, y_train)\n",
        "y_pred = log_reg.predict(X_pure_test)\n",
        "accuracy = metrics.accuracy_score(y_test, y_pred)\n",
        "print('Accuracy:', accuracy)"
      ],
      "execution_count": 32,
      "outputs": [
        {
          "output_type": "stream",
          "text": [
            "Accuracy: 0.421\n"
          ],
          "name": "stdout"
        }
      ]
    },
    {
      "cell_type": "markdown",
      "metadata": {
        "id": "xZ8WDgIqjRvU"
      },
      "source": [
        "Cullen: The logistic regression model achieves a 42.1% accuracy trained and tested on pure images rather than on euclidean distances (where a 50.15% accuracy was achieved). The model also takes much longer to train (additionally, I did no preprocessing here such as standard scalar or pca)."
      ]
    },
    {
      "cell_type": "markdown",
      "metadata": {
        "id": "jTI1-quUzf96"
      },
      "source": [
        "#Finish!"
      ]
    },
    {
      "cell_type": "markdown",
      "metadata": {
        "id": "Nh00iNeFgUQJ"
      },
      "source": [
        "### Example"
      ]
    },
    {
      "cell_type": "code",
      "metadata": {
        "id": "lfM0GGKm1FMQ",
        "colab": {
          "base_uri": "https://localhost:8080/"
        },
        "outputId": "c8d34552-1a7d-4d80-e29b-d8c634a9595d"
      },
      "source": [
        "# extract images as vectors, convert from strings to ints -- this is called a \"list comprihension\" \n",
        "x_image = np.array( [np.fromstring(df['pixels'][i], dtype=np.uint8, sep=\" \") for i in range(len(df))] ) \n",
        "\n",
        "# extract labels in the same way--through a list comprehension\n",
        "y_image = np.array( [df['emotion'][i] for i in range(len(df)) ])\n",
        "\n",
        "# generate train-test (90/10) splits\n",
        "X_train, X_test, y_train, y_test = train_test_split(x_image, y_image, test_size=0.1,random_state=42)\n",
        "\n",
        "# define the model\n",
        "knn = KNeighborsClassifier(n_neighbors=10)\n",
        "\n",
        "# train \n",
        "print (\"training knn model ...\")\n",
        "knn.fit(X_train, y_train)\n",
        "\n",
        "# test\n",
        "print (\"Predict for KNN Model\")\n",
        "y_pred_knn = knn.predict(X_test)\n",
        "\n",
        "# display results\n",
        "print (\"KNN Test Accuracy on raw image inputs:\", metrics.accuracy_score(y_test, y_pred_knn))"
      ],
      "execution_count": 30,
      "outputs": [
        {
          "output_type": "stream",
          "text": [
            "training knn model ...\n",
            "Predict for KNN Model\n",
            "KNN Test Accuracy on raw image inputs: 0.359\n"
          ],
          "name": "stdout"
        }
      ]
    }
  ]
}