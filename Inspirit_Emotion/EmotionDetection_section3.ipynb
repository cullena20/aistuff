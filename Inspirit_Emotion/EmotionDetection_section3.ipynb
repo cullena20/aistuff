{
  "nbformat": 4,
  "nbformat_minor": 0,
  "metadata": {
    "colab": {
      "name": "EmotionDetection_section3.ipynb",
      "provenance": [],
      "collapsed_sections": [],
      "include_colab_link": true
    },
    "kernelspec": {
      "name": "python3",
      "display_name": "Python 3"
    },
    "accelerator": "GPU"
  },
  "cells": [
    {
      "cell_type": "markdown",
      "metadata": {
        "id": "view-in-github",
        "colab_type": "text"
      },
      "source": [
        "<a href=\"https://colab.research.google.com/github/cullena20/aistuff/blob/main/Inspirit_Emotion/EmotionDetection_section3.ipynb\" target=\"_parent\"><img src=\"https://colab.research.google.com/assets/colab-badge.svg\" alt=\"Open In Colab\"/></a>"
      ]
    },
    {
      "cell_type": "code",
      "metadata": {
        "id": "Qhr-G_92H2Bc",
        "colab": {
          "base_uri": "https://localhost:8080/"
        },
        "outputId": "9efdf3dc-9fe3-485f-a5bf-5523d1128392"
      },
      "source": [
        "# Run this to download data and prepare our environment!  { display-mode: \"form\" }\n",
        "\n",
        "import cv2\n",
        "import dlib\n",
        "import pickle\n",
        "import warnings\n",
        "import numpy as np\n",
        "import pandas as pd\n",
        "import seaborn as sns\n",
        "\n",
        "import urllib.request\n",
        "\n",
        "from sklearn import metrics\n",
        "from scipy.spatial import distance\n",
        "from sklearn.metrics import accuracy_score\n",
        "from matplotlib import pyplot as plt\n",
        "from tqdm import tqdm,tqdm_pandas\n",
        "from sklearn.preprocessing import StandardScaler\n",
        "from sklearn.model_selection import train_test_split\n",
        "\n",
        "import re\n",
        "import gdown\n",
        "import keras\n",
        "\n",
        "from keras.models import Sequential\n",
        "from keras.utils import to_categorical\n",
        "from keras.optimizers import Adam\n",
        "from keras.layers import Dense, Dropout, Activation, Flatten\n",
        "from keras.layers import Conv2D, MaxPooling2D, BatchNormalization\n",
        "from keras.losses import categorical_crossentropy\n",
        "from keras.optimizers import Adam, SGD\n",
        "from keras.regularizers import l2\n",
        "from keras.callbacks import EarlyStopping, ModelCheckpoint\n",
        "from keras.models import load_model\n",
        "\n",
        "# grab tools from our tensorflow and keras toolboxes!\n",
        "import tensorflow as tf\n",
        "from keras.models import Sequential\n",
        "from keras.layers import Activation, Dropout, Flatten, Dense\n",
        "from keras import optimizers\n",
        "\n",
        "warnings.filterwarnings(\"ignore\")\n",
        "def model_to_string(model):\n",
        "    import re\n",
        "    stringlist = []\n",
        "    model.summary(print_fn=lambda x: stringlist.append(x))\n",
        "    sms = \"\\n\".join(stringlist)\n",
        "    sms = re.sub('_\\d\\d\\d','', sms)\n",
        "    sms = re.sub('_\\d\\d','', sms)\n",
        "    sms = re.sub('_\\d','', sms)  \n",
        "    return sms\n",
        "\n",
        "###Getting the csv data loaded\n",
        "!wget -O ./ferdata.csv https://www.dropbox.com/s/rwb5hepfn1uw212/fer2013_5.csv?dl=1\n",
        "dataset_path = './ferdata.csv'\n",
        "\n",
        "###Getting the Dlib Shape predictor!\n",
        "!wget -O ./shape_predictor_68_face_landmarks.dat https://www.dropbox.com/s/ch5euco240mvjgq/shape_predictor_68_face_landmarks.dat?dl=1\n",
        "dlibshape_path ='./shape_predictor_68_face_landmarks.dat'\n",
        "\n",
        "###Getting the Xpure loaded\n",
        "!wget -O ./pureX.npy https://www.dropbox.com/s/6kmzfluo4hn5795/pureX.npy?dl=1\n",
        "pureX_path = './pureX.npy'\n",
        "\n",
        "###Getting the Xdata loaded\n",
        "!wget -O ./dataX.npy https://www.dropbox.com/s/uid9ndffnzzpuqn/dataX.npy?dl=1\n",
        "dataX_path = './dataX.npy'\n",
        "\n",
        "###Getting the Ydata loaded\n",
        "!wget -O ./dataY.npy https://www.dropbox.com/s/2p6vm3kfrik5lzz/dataY.npy?dl=1\n",
        "dataY_path = './dataY.npy'\n",
        "\n",
        "print (\"Data Downloaded!\")\n",
        "\n",
        "'''\n",
        "Plots the confusion Matrix and saves it\n",
        "'''\n",
        "def plot_confusion_matrix(y_true,y_predicted):\n",
        "  cm = metrics.confusion_matrix(y_true, y_predicted)\n",
        "  print (\"Plotting the Confusion Matrix\")\n",
        "  labels = list(label_map.values())\n",
        "  df_cm = pd.DataFrame(cm,index = labels,columns = labels)\n",
        "  fig = plt.figure()\n",
        "  res = sns.heatmap(df_cm, annot=True,cmap='Blues', fmt='g')\n",
        "  plt.yticks([0.5,1.5,2.5,3.5,4.5], labels,va='center')\n",
        "  plt.title('Confusion Matrix - TestData')\n",
        "  plt.ylabel('True label')\n",
        "  plt.xlabel('Predicted label')\n",
        " \n",
        "  plt.show()\n",
        "  plt.close()\n",
        "\n",
        "def plot_graphs(history, best):\n",
        "  \n",
        "  plt.figure(figsize=[10,4])\n",
        "  # summarize history for accuracy\n",
        "  plt.subplot(121)\n",
        "  plt.plot(history.history['accuracy'])\n",
        "  plt.plot(history.history['val_accuracy'])\n",
        "  plt.title('model accuracy across training\\n best accuracy of %.02f'%best[1])\n",
        "  plt.ylabel('accuracy')\n",
        "  plt.xlabel('epoch')\n",
        "  plt.legend(['train', 'test'], loc='upper left')\n",
        "  \n",
        "  # summarize history for loss\n",
        "  plt.subplot(122)\n",
        "  plt.plot(history.history['loss'])\n",
        "  plt.plot(history.history['val_loss'])\n",
        "  plt.title('model loss across training\\n best loss of %.02f'%best[0])\n",
        "  plt.ylabel('loss')\n",
        "  plt.xlabel('epoch')\n",
        "  plt.legend(['train', 'test'], loc='upper left')\n",
        "  plt.show()\n",
        "\n",
        "#Integer to Label Mapping\n",
        "label_map = {\"0\":\"ANGRY\",\"1\":\"HAPPY\",\"2\":\"SAD\",\"3\":\"SURPRISE\",\"4\":\"NEUTRAL\"}\n",
        "\n",
        "\n",
        "#Load the 68 face Landmark file\n",
        "predictor = dlib.shape_predictor('./shape_predictor_68_face_landmarks.dat')\n",
        "\"\"\"\n",
        "Returns facial landmarks for the given input image path\n",
        "\"\"\"\n",
        "def get_landmarks(image):\n",
        "  \n",
        "  \n",
        "  #:type image : cv2 object\n",
        "  #:rtype landmarks : list of tuples where each tuple represents \n",
        "  #                  the x and y co-ordinates of facial keypoints\n",
        "  \n",
        "  #Bounding Box co-ordinates around the face(Training data is 48*48(cropped faces))\n",
        "  rects = [dlib.rectangle(left=1, top=1, right=47, bottom=47)]\n",
        "\n",
        "  #Read Image using OpenCV\n",
        "  #image = cv2.imread(image_path)\n",
        "  #Detect the Faces within the image\n",
        "  landmarks = [(p.x, p.y) for p in predictor(image, rects[0]).parts()]\n",
        "  return image,landmarks\n",
        "\n",
        "\"\"\"\n",
        "Display image with its Facial Landmarks\n",
        "\"\"\"\n",
        "def image_landmarks(image,face_landmarks):\n",
        "  \"\"\"\n",
        "  :type image_path : str\n",
        "  :type face_landmarks : list of tuples where each tuple represents \n",
        "                     the x and y co-ordinates of facial keypoints\n",
        "  :rtype : None\n",
        "  \"\"\"\n",
        "  radius = -4\n",
        "  circle_thickness = 1\n",
        "  image_copy = image.copy()\n",
        "  for (x, y) in face_landmarks:\n",
        "    cv2.circle(image_copy, (x, y), circle_thickness, (255,0,0), radius)\n",
        "    \n",
        "  plt.imshow(image_copy, interpolation='nearest')\n",
        "  plt.show()\n",
        "  \n",
        "\"\"\"\n",
        "Computes euclidean distance between 68 Landmark Points for our features\n",
        "e_dist is a list of features that will go into our model.\n",
        "Each feature is a distance between two landmark points, and every pair of points\n",
        "must have a feature.\n",
        "\"\"\"\n",
        "  \n",
        "def landmarks_edist(face_landmarks):\n",
        "    e_dist = []\n",
        "    for i in range(len(face_landmarks)):\n",
        "        for j in range(len(face_landmarks)):\n",
        "            if i!= j:\n",
        "                e_dist.append(distance.euclidean(face_landmarks[i],face_landmarks[j]))\n",
        "    return e_dist\n",
        "  \n",
        "def compare_learning(mlp, lm, cnn, vgg): # there's one model missing: MLP from pixels\n",
        "  \n",
        "  # summarize history for accuracy\n",
        "  plt.plot(vgg.history['val_accuracy'],)\n",
        "  plt.plot(cnn.history['val_accuracy'])\n",
        "  plt.plot(mlp.history['val_accuracy'],)\n",
        "  plt.plot(lm.history['val_accuracy'])\n",
        "  plt.ylabel('validitation accuracy')\n",
        "  plt.xlabel('epoch')\n",
        "  plt.legend(['cnn_transfer', 'cnn_scratch', 'mlp_pixels', 'mlp_landmarks'], bbox_to_anchor=[1,1])\n",
        "  plt.xticks(range(0, epochs+1, 5), range(0, epochs+1, 5))\n",
        "  plt.show()\n"
      ],
      "execution_count": 1,
      "outputs": [
        {
          "output_type": "stream",
          "text": [
            "--2021-01-27 20:30:53--  https://www.dropbox.com/s/rwb5hepfn1uw212/fer2013_5.csv?dl=1\n",
            "Resolving www.dropbox.com (www.dropbox.com)... 162.125.6.18, 2620:100:6019:18::a27d:412\n",
            "Connecting to www.dropbox.com (www.dropbox.com)|162.125.6.18|:443... connected.\n",
            "HTTP request sent, awaiting response... 301 Moved Permanently\n",
            "Location: /s/dl/rwb5hepfn1uw212/fer2013_5.csv [following]\n",
            "--2021-01-27 20:30:54--  https://www.dropbox.com/s/dl/rwb5hepfn1uw212/fer2013_5.csv\n",
            "Reusing existing connection to www.dropbox.com:443.\n",
            "HTTP request sent, awaiting response... 302 Found\n",
            "Location: https://uc434b2f0539248b0f9e37715ae3.dl.dropboxusercontent.com/cd/0/get/BH1HZWRqVIPbpffyQyhniDODJuPPiaRSd4FUFz6axLz1-PuHV8D2qL1IdJZSKaSt8BHwhl8cSP69UU0sftITdIKLba6TGutuHpnC0WzlsnJFznhKWmFym-DbKA13PAZiWMM/file?dl=1# [following]\n",
            "--2021-01-27 20:30:54--  https://uc434b2f0539248b0f9e37715ae3.dl.dropboxusercontent.com/cd/0/get/BH1HZWRqVIPbpffyQyhniDODJuPPiaRSd4FUFz6axLz1-PuHV8D2qL1IdJZSKaSt8BHwhl8cSP69UU0sftITdIKLba6TGutuHpnC0WzlsnJFznhKWmFym-DbKA13PAZiWMM/file?dl=1\n",
            "Resolving uc434b2f0539248b0f9e37715ae3.dl.dropboxusercontent.com (uc434b2f0539248b0f9e37715ae3.dl.dropboxusercontent.com)... 162.125.2.15, 2620:100:6019:15::a27d:40f\n",
            "Connecting to uc434b2f0539248b0f9e37715ae3.dl.dropboxusercontent.com (uc434b2f0539248b0f9e37715ae3.dl.dropboxusercontent.com)|162.125.2.15|:443... connected.\n",
            "HTTP request sent, awaiting response... 200 OK\n",
            "Length: 167738172 (160M) [application/binary]\n",
            "Saving to: ‘./ferdata.csv’\n",
            "\n",
            "./ferdata.csv       100%[===================>] 159.97M  40.5MB/s    in 4.3s    \n",
            "\n",
            "2021-01-27 20:30:59 (37.3 MB/s) - ‘./ferdata.csv’ saved [167738172/167738172]\n",
            "\n",
            "--2021-01-27 20:30:59--  https://www.dropbox.com/s/ch5euco240mvjgq/shape_predictor_68_face_landmarks.dat?dl=1\n",
            "Resolving www.dropbox.com (www.dropbox.com)... 162.125.6.18, 2620:100:601c:18::a27d:612\n",
            "Connecting to www.dropbox.com (www.dropbox.com)|162.125.6.18|:443... connected.\n",
            "HTTP request sent, awaiting response... 301 Moved Permanently\n",
            "Location: /s/dl/ch5euco240mvjgq/shape_predictor_68_face_landmarks.dat [following]\n",
            "--2021-01-27 20:31:00--  https://www.dropbox.com/s/dl/ch5euco240mvjgq/shape_predictor_68_face_landmarks.dat\n",
            "Reusing existing connection to www.dropbox.com:443.\n",
            "HTTP request sent, awaiting response... 302 Found\n",
            "Location: https://uc5b2680ba3b9267e29b52a8239d.dl.dropboxusercontent.com/cd/0/get/BH3EX9r1Wp7Hc8eKgQ444nM-0Oz3dTDC1jp5eGNhOKww8aYO8cnUs9Ghue7xcXNjSehB_bBqU274iK5bX8flWudn4rhTxfyfCPeNawcVCb8cxXe23fmA18E_PI7K-GsstBY/file?dl=1# [following]\n",
            "--2021-01-27 20:31:01--  https://uc5b2680ba3b9267e29b52a8239d.dl.dropboxusercontent.com/cd/0/get/BH3EX9r1Wp7Hc8eKgQ444nM-0Oz3dTDC1jp5eGNhOKww8aYO8cnUs9Ghue7xcXNjSehB_bBqU274iK5bX8flWudn4rhTxfyfCPeNawcVCb8cxXe23fmA18E_PI7K-GsstBY/file?dl=1\n",
            "Resolving uc5b2680ba3b9267e29b52a8239d.dl.dropboxusercontent.com (uc5b2680ba3b9267e29b52a8239d.dl.dropboxusercontent.com)... 162.125.6.15, 2620:100:601c:15::a27d:60f\n",
            "Connecting to uc5b2680ba3b9267e29b52a8239d.dl.dropboxusercontent.com (uc5b2680ba3b9267e29b52a8239d.dl.dropboxusercontent.com)|162.125.6.15|:443... connected.\n",
            "HTTP request sent, awaiting response... 200 OK\n",
            "Length: 99693937 (95M) [application/binary]\n",
            "Saving to: ‘./shape_predictor_68_face_landmarks.dat’\n",
            "\n",
            "./shape_predictor_6 100%[===================>]  95.08M   122MB/s    in 0.8s    \n",
            "\n",
            "2021-01-27 20:31:02 (122 MB/s) - ‘./shape_predictor_68_face_landmarks.dat’ saved [99693937/99693937]\n",
            "\n",
            "--2021-01-27 20:31:02--  https://www.dropbox.com/s/6kmzfluo4hn5795/pureX.npy?dl=1\n",
            "Resolving www.dropbox.com (www.dropbox.com)... 162.125.6.18, 2620:100:601c:18::a27d:612\n",
            "Connecting to www.dropbox.com (www.dropbox.com)|162.125.6.18|:443... connected.\n",
            "HTTP request sent, awaiting response... 301 Moved Permanently\n",
            "Location: /s/dl/6kmzfluo4hn5795/pureX.npy [following]\n",
            "--2021-01-27 20:31:03--  https://www.dropbox.com/s/dl/6kmzfluo4hn5795/pureX.npy\n",
            "Reusing existing connection to www.dropbox.com:443.\n",
            "HTTP request sent, awaiting response... 302 Found\n",
            "Location: https://uc6434dfec5ce844d014cf1bc76f.dl.dropboxusercontent.com/cd/0/get/BH3OebtMsxVj4sENFdOcVQJ84y-sy5KsS3CqlJuVayWJ5n6WRrHONr27MFr1M2e2EhpF3to-OQWYM4OuTDQ5uAsYEn1kir0Fcs4ELp-mLd-7iKnQf4qq03ngwSRy627-RYU/file?dl=1# [following]\n",
            "--2021-01-27 20:31:03--  https://uc6434dfec5ce844d014cf1bc76f.dl.dropboxusercontent.com/cd/0/get/BH3OebtMsxVj4sENFdOcVQJ84y-sy5KsS3CqlJuVayWJ5n6WRrHONr27MFr1M2e2EhpF3to-OQWYM4OuTDQ5uAsYEn1kir0Fcs4ELp-mLd-7iKnQf4qq03ngwSRy627-RYU/file?dl=1\n",
            "Resolving uc6434dfec5ce844d014cf1bc76f.dl.dropboxusercontent.com (uc6434dfec5ce844d014cf1bc76f.dl.dropboxusercontent.com)... 162.125.4.15, 2620:100:601c:15::a27d:60f\n",
            "Connecting to uc6434dfec5ce844d014cf1bc76f.dl.dropboxusercontent.com (uc6434dfec5ce844d014cf1bc76f.dl.dropboxusercontent.com)|162.125.4.15|:443... connected.\n",
            "HTTP request sent, awaiting response... 200 OK\n",
            "Length: 46080128 (44M) [application/binary]\n",
            "Saving to: ‘./pureX.npy’\n",
            "\n",
            "./pureX.npy         100%[===================>]  43.95M  48.0MB/s    in 0.9s    \n",
            "\n",
            "2021-01-27 20:31:05 (48.0 MB/s) - ‘./pureX.npy’ saved [46080128/46080128]\n",
            "\n",
            "--2021-01-27 20:31:05--  https://www.dropbox.com/s/uid9ndffnzzpuqn/dataX.npy?dl=1\n",
            "Resolving www.dropbox.com (www.dropbox.com)... 162.125.6.18, 2620:100:601c:18::a27d:612\n",
            "Connecting to www.dropbox.com (www.dropbox.com)|162.125.6.18|:443... connected.\n",
            "HTTP request sent, awaiting response... 301 Moved Permanently\n",
            "Location: /s/dl/uid9ndffnzzpuqn/dataX.npy [following]\n",
            "--2021-01-27 20:31:05--  https://www.dropbox.com/s/dl/uid9ndffnzzpuqn/dataX.npy\n",
            "Reusing existing connection to www.dropbox.com:443.\n",
            "HTTP request sent, awaiting response... 302 Found\n",
            "Location: https://uc65fa99d49220dba90906bd2c51.dl.dropboxusercontent.com/cd/0/get/BH3SBxsW2hC9sWY6ZVjvBl-pjH-i8yGXpcrMQ8e0w5jT5CuPE5ZAPKfhuDZHcT3JCEOGxHlJGwK7NcgHAOKqM_zOtO6yMVm-4tugN8PFpmfm6X_zxrDN7sr-vFXn5cfhK1k/file?dl=1# [following]\n",
            "--2021-01-27 20:31:06--  https://uc65fa99d49220dba90906bd2c51.dl.dropboxusercontent.com/cd/0/get/BH3SBxsW2hC9sWY6ZVjvBl-pjH-i8yGXpcrMQ8e0w5jT5CuPE5ZAPKfhuDZHcT3JCEOGxHlJGwK7NcgHAOKqM_zOtO6yMVm-4tugN8PFpmfm6X_zxrDN7sr-vFXn5cfhK1k/file?dl=1\n",
            "Resolving uc65fa99d49220dba90906bd2c51.dl.dropboxusercontent.com (uc65fa99d49220dba90906bd2c51.dl.dropboxusercontent.com)... 162.125.6.15, 2620:100:601c:15::a27d:60f\n",
            "Connecting to uc65fa99d49220dba90906bd2c51.dl.dropboxusercontent.com (uc65fa99d49220dba90906bd2c51.dl.dropboxusercontent.com)|162.125.6.15|:443... connected.\n",
            "HTTP request sent, awaiting response... 200 OK\n",
            "Length: 728960128 (695M) [application/binary]\n",
            "Saving to: ‘./dataX.npy’\n",
            "\n",
            "./dataX.npy         100%[===================>] 695.19M  83.4MB/s    in 7.8s    \n",
            "\n",
            "2021-01-27 20:31:14 (88.9 MB/s) - ‘./dataX.npy’ saved [728960128/728960128]\n",
            "\n",
            "--2021-01-27 20:31:15--  https://www.dropbox.com/s/2p6vm3kfrik5lzz/dataY.npy?dl=1\n",
            "Resolving www.dropbox.com (www.dropbox.com)... 162.125.6.18, 2620:100:601c:18::a27d:612\n",
            "Connecting to www.dropbox.com (www.dropbox.com)|162.125.6.18|:443... connected.\n",
            "HTTP request sent, awaiting response... 301 Moved Permanently\n",
            "Location: /s/dl/2p6vm3kfrik5lzz/dataY.npy [following]\n",
            "--2021-01-27 20:31:15--  https://www.dropbox.com/s/dl/2p6vm3kfrik5lzz/dataY.npy\n",
            "Reusing existing connection to www.dropbox.com:443.\n",
            "HTTP request sent, awaiting response... 302 Found\n",
            "Location: https://uce97c33bb4f56b3e14225d623a2.dl.dropboxusercontent.com/cd/0/get/BH33qKpevtgtmORz8m3b_J_lhC6b_pAaHymGWW-_N5VuLs6T36t3CTWBn-H4jEYg1Yda_zkUbmLQ0VMHAFgBrdoL11xOMF5VLQpNizbvGlCYmjX383gJsL1bLkO2wzdvekI/file?dl=1# [following]\n",
            "--2021-01-27 20:31:15--  https://uce97c33bb4f56b3e14225d623a2.dl.dropboxusercontent.com/cd/0/get/BH33qKpevtgtmORz8m3b_J_lhC6b_pAaHymGWW-_N5VuLs6T36t3CTWBn-H4jEYg1Yda_zkUbmLQ0VMHAFgBrdoL11xOMF5VLQpNizbvGlCYmjX383gJsL1bLkO2wzdvekI/file?dl=1\n",
            "Resolving uce97c33bb4f56b3e14225d623a2.dl.dropboxusercontent.com (uce97c33bb4f56b3e14225d623a2.dl.dropboxusercontent.com)... 162.125.6.15, 2620:100:601c:15::a27d:60f\n",
            "Connecting to uce97c33bb4f56b3e14225d623a2.dl.dropboxusercontent.com (uce97c33bb4f56b3e14225d623a2.dl.dropboxusercontent.com)|162.125.6.15|:443... connected.\n",
            "HTTP request sent, awaiting response... 200 OK\n",
            "Length: 160128 (156K) [application/binary]\n",
            "Saving to: ‘./dataY.npy’\n",
            "\n",
            "./dataY.npy         100%[===================>] 156.38K  --.-KB/s    in 0.004s  \n",
            "\n",
            "2021-01-27 20:31:16 (38.7 MB/s) - ‘./dataY.npy’ saved [160128/160128]\n",
            "\n",
            "Data Downloaded!\n"
          ],
          "name": "stdout"
        }
      ]
    },
    {
      "cell_type": "code",
      "metadata": {
        "cellView": "form",
        "id": "poQHw3CWA3oy"
      },
      "source": [
        "#@title If the previous code cell fails to download the data properly, please run this.\n",
        "import cv2\n",
        "import dlib\n",
        "import gdown\n",
        "import pickle\n",
        "import warnings\n",
        "import numpy as np\n",
        "import pandas as pd\n",
        "import seaborn as sns\n",
        "import urllib.request\n",
        "from sklearn import metrics\n",
        "from scipy.spatial import distance\n",
        "from matplotlib import pyplot as plt\n",
        "from sklearn.decomposition import PCA\n",
        "from sklearn.preprocessing import StandardScaler\n",
        "from sklearn.linear_model import LogisticRegression\n",
        "from sklearn.tree import DecisionTreeClassifier \n",
        "from sklearn.neighbors import KNeighborsClassifier\n",
        "from sklearn.model_selection import train_test_split\n",
        "import io\n",
        "# ?pip install --upgrade google-api-python-client google-auth-httplib2 google-auth-oauthlib\n",
        "# warnings.filterwarnings(\"ignore\")\n",
        "###Getting the csv data loaded\n",
        "# dataset_url = 'https://drive.google.com/file/d/1MIMk2o63Ri2bDz0CxGK_uUSnc3XPd4Dm'\n",
        "# dataset_path = './ferdata.csv'\n",
        "# gdown.download(dataset_url, dataset_path, False)\n",
        "%pip install googledrivedownloader\n",
        "# from google_drive_downloader import GoogleDriveDownloader as gdd\n",
        "# gdd.download_file_from_google_drive(file_id='1hNLedQCRl8uutOwtXWxBmiW3x7bckj4u',\n",
        "#                                     dest_path='./ferdata.csv', overwrite=True,showsize=True)\n",
        "#Getting the csv data loaded\n",
        "dataset_url = 'https://drive.google.com/uc?id=1hNLedQCRl8uutOwtXWxBmiW3x7bckj4u'\n",
        "dataset_path = './ferdata.csv'\n",
        "gdown.download(dataset_url, dataset_path, True)\n",
        "###Getting the Dlib Shape predictor!\n",
        "dlibshape_url = 'https://drive.google.com/uc?id=1FDLHRfjs9hH1zhknOmIuebSsG6djb3yg'\n",
        "dlibshape_path ='./shape_predictor_68_face_landmarks.dat'\n",
        "gdown.download(dlibshape_url, dlibshape_path, True)\n",
        "###Getting the Xpure loaded\n",
        "pureX_url = 'https://drive.google.com/uc?id=1tc203qSeCwyayyFV7HHrNaMAdT__WoP5'\n",
        "pureX_path = './pureX.npy'\n",
        "gdown.download(pureX_url, pureX_path,True)\n",
        "###Getting the Xdata loaded\n",
        "dataX_url = 'https://drive.google.com/uc?id=1pQuzapUKRSXDNZqXuUUdJfO1L-AFuefY'\n",
        "dataX_path = './dataX.npy'\n",
        "gdown.download(dataX_url, dataX_path, True)\n",
        "###Getting the Ydata loaded\n",
        "dataY_url = 'https://drive.google.com/uc?id=1figaVbzcmrz8JumBs-1Ql20mbVIh_d0x'\n",
        "dataY_path = './dataY.npy'\n",
        "gdown.download(dataY_url, dataY_path, True)\n",
        "print (\"Data Downloaded!\")"
      ],
      "execution_count": null,
      "outputs": []
    },
    {
      "cell_type": "markdown",
      "metadata": {
        "id": "xq10yh_OuVlg"
      },
      "source": [
        "#Understanding and building Neural Networks"
      ]
    },
    {
      "cell_type": "markdown",
      "metadata": {
        "id": "OOfhabJ_4hvE"
      },
      "source": [
        "A neural network is a series of algorithms that endeavors to recognize underlying relationships in a set of data through a process that mimics the way the human brain operates. Basically, neural network algorithm helps computers think and learn like humans.\n",
        "\n",
        "The whole idea of artificial neural network is based on the concept of the structure and functions of a human brain. A human brain consists of neurons that process and transmit information between themselves."
      ]
    },
    {
      "cell_type": "markdown",
      "metadata": {
        "id": "4DcLenvXu7th"
      },
      "source": [
        "### Why try neural networks?"
      ]
    },
    {
      "cell_type": "markdown",
      "metadata": {
        "id": "s77Fm2CbvZi7"
      },
      "source": [
        "Our Baseline model performed at ~50 %\n",
        "\n",
        "Human accuracy for fer2013 is around 65 %, suggesting that we could do better!\n",
        "\n",
        "What we require now is a model that can capture more complicated patterns. One class of models that is able to do this and has been very effective for doing this for images are neural networks. \n",
        "\n",
        "\n",
        "### What are neural networks?\n"
      ]
    },
    {
      "cell_type": "markdown",
      "metadata": {
        "id": "ZB_uPibnv2UG"
      },
      "source": [
        "## Instructor-Led Discussion: Building networks\n",
        "\n",
        "To build neural networks in Python, we use the packages known as `tensorflow` and `keras`. Let's learn how to build and use these networks!\n",
        "\n",
        "Tensorflow calls the various machine learning algorithms that it uses 'models'.  These 'models' are 'learning machines.''\n",
        "\n",
        "1. We **teach** models by **training** them on **data**. \n",
        "2. We **use** models to **predict** things. \n",
        "\n",
        "Here is example code for building a Tensorflow model with Keras:"
      ]
    },
    {
      "cell_type": "markdown",
      "metadata": {
        "id": "RUtJ7_FkkPr-"
      },
      "source": [
        "The things you'll want to pay most attention to as we go over how to build networks are: \n",
        "1. The number of neurons\n",
        "2. The activation of the neurons\n",
        "3. The losses and metrics\n",
        "\n",
        "Everything else will work with the default settings!\n",
        "\n",
        "Let's walk though what each of these lines of code means!\n",
        "\n",
        "**1. Specify model**\n",
        "\n",
        "```\n",
        "model = Sequential()\n",
        "```\n",
        "In this line of code, we build our network where the information flows from LEFT to RIGHT through the network in ONE DIRECTION as opposed to multiple directions. Neurons on the right never pass informations to neurons on the left of it. \n",
        "\n",
        "\n",
        "**2. Add layers to the network**\n",
        "```\n",
        "model.add(Dense(4,input_shape = (3,), activation = 'sigmoid'))\n",
        "```\n",
        "In this code, we `add` a `layer` of neurons to our network. \n",
        "\n",
        "This layers consists of 4 neurons. Each neuron is DENSE and connects to all of the previous layer's inputs and all of the subsequent layers outputs. We specify that there are 3 inputs here.\n",
        "\n",
        "We also specify what kind of output the neuron will give. If you want the neuron to output a number between 0 and 1 (like a probability!) you would use 'softmax' or 'sigmoid'. If you want the neuron to output any number, you can use 'linear'! You'll also often see 'relu', which is when a neuron will only output positive numbers. \n",
        "\n",
        "```\n",
        "model.add(Dense(1, activation = 'linear'))\n",
        "```\n",
        "This code adds ANOTHER layer to the network that has 1 neuron. This one neuron is used to predict a continuous value!\n",
        "\n",
        "\n",
        "**3. Turn the model on by compiling it** \n",
        "\n",
        "After having built the network, we want to train and use it, so we have to 'turn it on' and 'compile' it. To turn it on, we have to specify at the very least, a loss, an optimizer, and some ways of evaluating the model (metrics). Don't worry too much about what this means! Just know that this is necessary. \n",
        "\n",
        "```\n",
        "model.compile(loss='mean_squared_error',\n",
        "optimizer = 'adam',\n",
        "metrics = ['mean_squared_error'])\n",
        "  ```\n",
        "  \n",
        "  Once we've created our network, we can use it very simply! Just like we did with sklearn, we define our input data (x), the true predictions from that data (y), and then train our model with `fit`. \n",
        "\n",
        "```\n",
        "model.fit(x, y)\n",
        "```\n",
        "\n",
        "To use the model, you can use it to predict something with:\n",
        "```\n",
        "y = model.predict_classes(x)\n",
        "```\n",
        "\n"
      ]
    },
    {
      "cell_type": "markdown",
      "metadata": {
        "id": "CrW6KxLy8Ox3"
      },
      "source": [
        "### For reference, this is a lot like the kind of models we've been training with scikit learn.\n",
        "\n",
        "The big difference is that defining the model is more involved. We can look at an example from KNN: \n",
        "\n",
        "```\n",
        "# define the model instance \n",
        "knn = KNeighborsClassifier()\n",
        "\n",
        "# train model with X_train\n",
        "knn.fit(X_train, y_train) \n",
        "\n",
        "# predict testing data\n",
        "y_predict = knn.predict(X_test)\n",
        "\n",
        "```"
      ]
    },
    {
      "cell_type": "markdown",
      "metadata": {
        "id": "YJXxWYXcwoGn"
      },
      "source": [
        "##Exercise: Coding a 2 hidden layer MLP\n",
        "\n",
        "\n",
        "Just as we went over last week, neural networks look something like this: \n",
        "\n",
        "\n",
        "![A 2 layer neural network](https://cdn-images-1.medium.com/max/1600/1*DW0Ccmj1hZ0OvSXi7Kz5MQ.jpeg)\n",
        "\n",
        "\n",
        "Each orange and blue node is a neuron. The network itself is composed of a bunch of neurons that talk to each other and eventually give us a prediction. Let's get a bit more concrete with this..."
      ]
    },
    {
      "cell_type": "markdown",
      "metadata": {
        "id": "2MamYyRf16Ii"
      },
      "source": [
        "### How can we build this network above? Fill in the ___ 's below "
      ]
    },
    {
      "cell_type": "code",
      "metadata": {
        "id": "g1FadMwUkOwV"
      },
      "source": [
        "# First, we initialize our model\n",
        "tmp_model = Sequential()\n",
        "# then we add a \"Dense\" (i.e. fully connected) layer\n",
        "tmp_model.add(Dense(____, input_shape=(____,), activation = 'relu')) # for the first layer we specify the input dimensions \n",
        "# then we have to add another layer \n",
        "tmp_model.add(Dense(____, activation = 'relu'))\n",
        "# we end by defining the output layer, which has the number of dimensions of the predictions we're making\n",
        "tmp_model.add(Dense(____, activation = 'linear'))\n",
        "# we finalize the model by \"compiling\" it and defining some other hyperparameters \n",
        "tmp_model.compile(loss='mean_squared_error', optimizer='adam', metrics=['mean_squared_error'])"
      ],
      "execution_count": null,
      "outputs": []
    },
    {
      "cell_type": "markdown",
      "metadata": {
        "id": "-rrqPkJWVLOY"
      },
      "source": [
        "## Exercise: Building our custom neural network"
      ]
    },
    {
      "cell_type": "markdown",
      "metadata": {
        "id": "25DoFvA0VWnq"
      },
      "source": [
        "###Keypoints"
      ]
    },
    {
      "cell_type": "markdown",
      "metadata": {
        "id": "tchJVYOTVZAh"
      },
      "source": [
        "We will build a simple 3-layer network for our first model!\n",
        "\n",
        "\n",
        "For our model, we have as our layers: \n",
        "* Input Layer:  However many inputs there are!\n",
        "* Layer 1 (Hidden): 1024 neurons that are activated by `'relu'` and weights are intialized using '`kernel_initializer='glorot_normal'`. Specify the input shape as `(4556,)`.\n",
        "* Layer 2 (Hidden): 512 neurons that are activated by `'relu'` and weights are intialized using '`kernel_initializer='glorot_normal'`\n",
        "* Layer 3 (Output): 5 neuron that should have an appropriate activation. \n",
        "* We will compile with the `optimizers.SGD(lr=0.001)` optimizer\n",
        "\n",
        "As a hint for the output activation and the compilation loss, we know that:\n",
        "* Multi-class classification problems require an output activation of `'softmax'` and a loss of `'categorical_crossentropy'`\n",
        "\n",
        "\n"
      ]
    },
    {
      "cell_type": "markdown",
      "metadata": {
        "id": "sv3U4FxbVyfs"
      },
      "source": [
        "###Build your Model (call it `perceptron`)"
      ]
    },
    {
      "cell_type": "code",
      "metadata": {
        "id": "WJh4klMtV3Q_"
      },
      "source": [
        "# YOUR CODE HERE\n",
        "\n",
        "# END CODE"
      ],
      "execution_count": null,
      "outputs": []
    },
    {
      "cell_type": "code",
      "metadata": {
        "id": "rWDzNTh9Wm0e"
      },
      "source": [
        " #@title Run this to test if your model is right! { display-mode: \"form\" }\n",
        "perceptron_answer = Sequential()\n",
        "perceptron_answer.add(Dense(units = 1024, input_shape = (4556,),kernel_initializer='glorot_normal',activation = 'relu'))\n",
        "perceptron_answer.add(Dense(units = 512,kernel_initializer='glorot_normal' , activation = 'relu'))\n",
        "perceptron_answer.add(Dense(units = 5, activation = 'softmax'))\n",
        "    \n",
        "perceptron_answer.compile(loss='categorical_crossentropy',\n",
        "              optimizer=SGD(lr=0.001),\n",
        "              metrics=['accuracy'])\n",
        "\n",
        "if model_to_string(perceptron) == model_to_string(perceptron_answer):\n",
        "  print('Good job, you specified it correctly!')\n",
        "else: \n",
        "  print('Please check your code again!')"
      ],
      "execution_count": null,
      "outputs": []
    },
    {
      "cell_type": "markdown",
      "metadata": {
        "id": "6bbdW8Cm-iti"
      },
      "source": [
        "###Keras Neural Network Model"
      ]
    },
    {
      "cell_type": "markdown",
      "metadata": {
        "id": "AgQEGSXJueyV"
      },
      "source": [
        "Neural Network performance depends a lot on *how much* they train. As we'll see, they usually get better with more training BUT actually can get worse with too much training. With too much training, our model can get overconfident in its abilities with the training manual (overfitting), and so doesn't actually think (generalize) when it is tested. \n",
        "\n",
        "The  `fit()` function pertain to how the neural networks train. Don't worry too much about the extra options, what really matters for us is that the right data is specified.\n",
        "\n",
        "\n",
        "What are all these options?\n",
        "* `epochs`: how many times the model trains on the entire data set\n",
        "* `batch_size`: number of samples processed at a time\n",
        "* `shuffle`: mixes the training dataset so the model pays better attention to the data and learns better while training\n",
        "* `validation_data`: we request that our model tests itself on the `test_data` after every epoch. **It is essential to use validation data to test for overfitting!**\n",
        "* `callbacks`: With a custom command, we tell our model to save the best version of itself to a model file called `best_dnn_model.h5`. \n"
      ]
    },
    {
      "cell_type": "markdown",
      "metadata": {
        "id": "oeb1iFnZw3W1"
      },
      "source": [
        "#Applying Neural Networks (MLPs) to predicting emotions"
      ]
    },
    {
      "cell_type": "markdown",
      "metadata": {
        "id": "pf4GspMjAGoE"
      },
      "source": [
        "First, let's try to build a 4-Layer Neural Network  for our training data to achieve accuracy closer to the human accuracy on the dataset (around 65%)\n",
        "\n",
        "\n",
        " We want to identify the key things that we need to design our network. \n",
        "\n",
        "In your group, discuss: \n",
        "\n",
        "* What are our inputs?\n",
        "* What is/are our outputs?\n",
        "\n",
        "How could this look in a neural network diagram?\n",
        "\n",
        "**Show your instructor your diagram once you're done!!**"
      ]
    },
    {
      "cell_type": "markdown",
      "metadata": {
        "id": "G-hJkIeQthKl"
      },
      "source": [
        "##Activity: Train Neural Network on Emotion Dataset"
      ]
    },
    {
      "cell_type": "markdown",
      "metadata": {
        "id": "LDZqO4EMHeSZ"
      },
      "source": [
        "###Set some hyper parameters for all models"
      ]
    },
    {
      "cell_type": "code",
      "metadata": {
        "id": "284_6dNsHiS5"
      },
      "source": [
        "# the number of times we pass all the training data through the model \n",
        "epochs = 20\n",
        "# the number of examples we pass to the model at each time\n",
        "batch_size = 64\n",
        "# the proportion of testing data we set aside (e.g. 10%)\n",
        "test_ratio = .1\n",
        "# the number of emotion categories we have to predict\n",
        "n_labels = 5 "
      ],
      "execution_count": 4,
      "outputs": []
    },
    {
      "cell_type": "markdown",
      "metadata": {
        "id": "gNJx9QCE8w8p"
      },
      "source": [
        "###Load the original (unprocessed) data saved on Day 2!"
      ]
    },
    {
      "cell_type": "code",
      "metadata": {
        "id": "oG7AIjf3xWBa"
      },
      "source": [
        "# load data \n",
        "dataX_pixels = np.load('pureX.npy')\n",
        "dataY_pixels = np.load('dataY.npy')"
      ],
      "execution_count": 5,
      "outputs": []
    },
    {
      "cell_type": "code",
      "metadata": {
        "colab": {
          "base_uri": "https://localhost:8080/"
        },
        "id": "krdo5kminV5l",
        "outputId": "cabf66ab-d3ac-47d1-bdac-efbc947889d2"
      },
      "source": [
        "print(dataX_pixels.shape)\n",
        "print(dataY_pixels.shape)"
      ],
      "execution_count": 6,
      "outputs": [
        {
          "output_type": "stream",
          "text": [
            "(20000, 2304)\n",
            "(20000,)\n"
          ],
          "name": "stdout"
        }
      ]
    },
    {
      "cell_type": "markdown",
      "metadata": {
        "id": "7y6HwMAg85jx"
      },
      "source": [
        "### Convert labels to one-hot encoded labels\n",
        "\n",
        "One hot encoding is a representation of categorical variables as binary vectors"
      ]
    },
    {
      "cell_type": "code",
      "metadata": {
        "id": "qA_0acGq9AJN"
      },
      "source": [
        "# convert labels to one hot encoding\n",
        "y_onehot = keras.utils.to_categorical(dataY_pixels, len(set(dataY_pixels)))\n",
        "\n",
        "# what does this data type look like? "
      ],
      "execution_count": 7,
      "outputs": []
    },
    {
      "cell_type": "code",
      "metadata": {
        "colab": {
          "base_uri": "https://localhost:8080/"
        },
        "id": "HzTg3Vljnb5T",
        "outputId": "90644b16-d81c-4dfb-9560-531101e896c4"
      },
      "source": [
        "print(y_onehot.shape)\n",
        "print(y_onehot[0])"
      ],
      "execution_count": 8,
      "outputs": [
        {
          "output_type": "stream",
          "text": [
            "(20000, 5)\n",
            "[1. 0. 0. 0. 0.]\n"
          ],
          "name": "stdout"
        }
      ]
    },
    {
      "cell_type": "markdown",
      "metadata": {
        "id": "TW1zSxMvmlVW"
      },
      "source": [
        "Is it clear how these are to equavalent ways to represent the target?"
      ]
    },
    {
      "cell_type": "markdown",
      "metadata": {
        "id": "1RodV9eQ71Yz"
      },
      "source": [
        "###Split and Standardize your Data\n",
        "\n"
      ]
    },
    {
      "cell_type": "code",
      "metadata": {
        "id": "cVO4wnTY7rRk"
      },
      "source": [
        "# split Data into Train, Test (90-10)\n",
        "X_train, X_test, y_train, y_test = train_test_split(dataX_pixels, y_onehot, test_size=test_ratio, random_state=42)\n",
        "\n",
        "#### Standardize the data ##########\n",
        "pixel_scaler = StandardScaler()\n",
        "pixel_scaler.fit(X_train)\n",
        "X_train = pixel_scaler.transform(X_train)\n",
        "X_test = pixel_scaler.transform(X_test)"
      ],
      "execution_count": 9,
      "outputs": []
    },
    {
      "cell_type": "markdown",
      "metadata": {
        "id": "iaQQkwNsHGSM"
      },
      "source": [
        "## Exercise: Build a simple MLP for emotion detection (call it `mlp_model`)\n"
      ]
    },
    {
      "cell_type": "code",
      "metadata": {
        "id": "QBk3kFJSgQJ0",
        "cellView": "both"
      },
      "source": [
        "#YOUR CODE HERE\n",
        "\n",
        "mlp_model = keras.Sequential()\n",
        "mlp_model.add(Dense(1024, input_shape=(2304,), activation='relu'))\n",
        "mlp_model.add(Dense(512, activation='relu'))\n",
        "mlp_model.add(Dense(100, activation='relu'))\n",
        "mlp_model.add(Dense(5, activation='softmax'))\n",
        "\n",
        "\n",
        "\n",
        "#END CODE"
      ],
      "execution_count": 10,
      "outputs": []
    },
    {
      "cell_type": "code",
      "metadata": {
        "id": "IwYofcaXzWVa",
        "colab": {
          "base_uri": "https://localhost:8080/"
        },
        "outputId": "c3b83c4c-0887-41a3-da80-f6513adcf5e8"
      },
      "source": [
        "# Compiling the model with SGD optimixer and categorical crossentropy loss\n",
        "mlp_model.compile(loss=categorical_crossentropy, optimizer=SGD(lr=0.001), metrics=['accuracy'])\n",
        "              \n",
        "#Saves the Best Model Based on Val Loss\n",
        "checkpoint = ModelCheckpoint('best_mlp_model.h5', verbose=1, monitor='val_accuracy', save_best_only=True,  mode='auto')  \n",
        "\n",
        "#training the model\n",
        "mlp_history = mlp_model.fit(X_train, y_train, batch_size=batch_size, epochs=epochs, verbose=1, \n",
        "                            callbacks=[checkpoint], validation_data=(X_test, y_test), shuffle=True)"
      ],
      "execution_count": 11,
      "outputs": [
        {
          "output_type": "stream",
          "text": [
            "Epoch 1/20\n",
            "282/282 [==============================] - 3s 4ms/step - loss: 1.6597 - accuracy: 0.2539 - val_loss: 1.5559 - val_accuracy: 0.2930\n",
            "\n",
            "Epoch 00001: val_accuracy improved from -inf to 0.29300, saving model to best_mlp_model.h5\n",
            "Epoch 2/20\n",
            "282/282 [==============================] - 1s 3ms/step - loss: 1.5153 - accuracy: 0.3296 - val_loss: 1.5120 - val_accuracy: 0.3395\n",
            "\n",
            "Epoch 00002: val_accuracy improved from 0.29300 to 0.33950, saving model to best_mlp_model.h5\n",
            "Epoch 3/20\n",
            "282/282 [==============================] - 1s 3ms/step - loss: 1.4535 - accuracy: 0.3798 - val_loss: 1.4799 - val_accuracy: 0.3575\n",
            "\n",
            "Epoch 00003: val_accuracy improved from 0.33950 to 0.35750, saving model to best_mlp_model.h5\n",
            "Epoch 4/20\n",
            "282/282 [==============================] - 1s 3ms/step - loss: 1.4155 - accuracy: 0.4014 - val_loss: 1.4599 - val_accuracy: 0.3740\n",
            "\n",
            "Epoch 00004: val_accuracy improved from 0.35750 to 0.37400, saving model to best_mlp_model.h5\n",
            "Epoch 5/20\n",
            "282/282 [==============================] - 1s 3ms/step - loss: 1.3874 - accuracy: 0.4192 - val_loss: 1.4440 - val_accuracy: 0.3870\n",
            "\n",
            "Epoch 00005: val_accuracy improved from 0.37400 to 0.38700, saving model to best_mlp_model.h5\n",
            "Epoch 6/20\n",
            "282/282 [==============================] - 1s 3ms/step - loss: 1.3551 - accuracy: 0.4441 - val_loss: 1.4356 - val_accuracy: 0.3940\n",
            "\n",
            "Epoch 00006: val_accuracy improved from 0.38700 to 0.39400, saving model to best_mlp_model.h5\n",
            "Epoch 7/20\n",
            "282/282 [==============================] - 1s 3ms/step - loss: 1.3273 - accuracy: 0.4657 - val_loss: 1.4225 - val_accuracy: 0.3985\n",
            "\n",
            "Epoch 00007: val_accuracy improved from 0.39400 to 0.39850, saving model to best_mlp_model.h5\n",
            "Epoch 8/20\n",
            "282/282 [==============================] - 1s 3ms/step - loss: 1.3202 - accuracy: 0.4683 - val_loss: 1.4133 - val_accuracy: 0.4045\n",
            "\n",
            "Epoch 00008: val_accuracy improved from 0.39850 to 0.40450, saving model to best_mlp_model.h5\n",
            "Epoch 9/20\n",
            "282/282 [==============================] - 1s 3ms/step - loss: 1.2999 - accuracy: 0.4804 - val_loss: 1.4057 - val_accuracy: 0.4120\n",
            "\n",
            "Epoch 00009: val_accuracy improved from 0.40450 to 0.41200, saving model to best_mlp_model.h5\n",
            "Epoch 10/20\n",
            "282/282 [==============================] - 1s 3ms/step - loss: 1.2795 - accuracy: 0.4870 - val_loss: 1.3981 - val_accuracy: 0.4125\n",
            "\n",
            "Epoch 00010: val_accuracy improved from 0.41200 to 0.41250, saving model to best_mlp_model.h5\n",
            "Epoch 11/20\n",
            "282/282 [==============================] - 1s 3ms/step - loss: 1.2601 - accuracy: 0.4975 - val_loss: 1.3903 - val_accuracy: 0.4190\n",
            "\n",
            "Epoch 00011: val_accuracy improved from 0.41250 to 0.41900, saving model to best_mlp_model.h5\n",
            "Epoch 12/20\n",
            "282/282 [==============================] - 1s 3ms/step - loss: 1.2567 - accuracy: 0.5036 - val_loss: 1.3820 - val_accuracy: 0.4195\n",
            "\n",
            "Epoch 00012: val_accuracy improved from 0.41900 to 0.41950, saving model to best_mlp_model.h5\n",
            "Epoch 13/20\n",
            "282/282 [==============================] - 1s 3ms/step - loss: 1.2381 - accuracy: 0.5108 - val_loss: 1.3773 - val_accuracy: 0.4265\n",
            "\n",
            "Epoch 00013: val_accuracy improved from 0.41950 to 0.42650, saving model to best_mlp_model.h5\n",
            "Epoch 14/20\n",
            "282/282 [==============================] - 1s 3ms/step - loss: 1.2166 - accuracy: 0.5254 - val_loss: 1.3715 - val_accuracy: 0.4355\n",
            "\n",
            "Epoch 00014: val_accuracy improved from 0.42650 to 0.43550, saving model to best_mlp_model.h5\n",
            "Epoch 15/20\n",
            "282/282 [==============================] - 1s 3ms/step - loss: 1.2085 - accuracy: 0.5225 - val_loss: 1.3682 - val_accuracy: 0.4360\n",
            "\n",
            "Epoch 00015: val_accuracy improved from 0.43550 to 0.43600, saving model to best_mlp_model.h5\n",
            "Epoch 16/20\n",
            "282/282 [==============================] - 1s 3ms/step - loss: 1.1895 - accuracy: 0.5408 - val_loss: 1.3627 - val_accuracy: 0.4385\n",
            "\n",
            "Epoch 00016: val_accuracy improved from 0.43600 to 0.43850, saving model to best_mlp_model.h5\n",
            "Epoch 17/20\n",
            "282/282 [==============================] - 1s 3ms/step - loss: 1.1794 - accuracy: 0.5451 - val_loss: 1.3611 - val_accuracy: 0.4390\n",
            "\n",
            "Epoch 00017: val_accuracy improved from 0.43850 to 0.43900, saving model to best_mlp_model.h5\n",
            "Epoch 18/20\n",
            "282/282 [==============================] - 1s 3ms/step - loss: 1.1658 - accuracy: 0.5501 - val_loss: 1.3574 - val_accuracy: 0.4450\n",
            "\n",
            "Epoch 00018: val_accuracy improved from 0.43900 to 0.44500, saving model to best_mlp_model.h5\n",
            "Epoch 19/20\n",
            "282/282 [==============================] - 1s 3ms/step - loss: 1.1511 - accuracy: 0.5570 - val_loss: 1.3531 - val_accuracy: 0.4470\n",
            "\n",
            "Epoch 00019: val_accuracy improved from 0.44500 to 0.44700, saving model to best_mlp_model.h5\n",
            "Epoch 20/20\n",
            "282/282 [==============================] - 1s 3ms/step - loss: 1.1474 - accuracy: 0.5581 - val_loss: 1.3497 - val_accuracy: 0.4475\n",
            "\n",
            "Epoch 00020: val_accuracy improved from 0.44700 to 0.44750, saving model to best_mlp_model.h5\n"
          ],
          "name": "stdout"
        }
      ]
    },
    {
      "cell_type": "markdown",
      "metadata": {
        "id": "qF0MmGV8Lm7y"
      },
      "source": [
        "##Neural Network Model Evaluation on pixel inputs"
      ]
    },
    {
      "cell_type": "markdown",
      "metadata": {
        "id": "ORXi0y71t3o8"
      },
      "source": [
        "###Evaluate best model"
      ]
    },
    {
      "cell_type": "code",
      "metadata": {
        "id": "DnjfotXoth4e",
        "colab": {
          "base_uri": "https://localhost:8080/"
        },
        "outputId": "a8e533a5-8a8e-4a9a-bb89-d0f10bef0849"
      },
      "source": [
        "mlp_performance = mlp_model.evaluate(X_test, y_test, batch_size=64)"
      ],
      "execution_count": 12,
      "outputs": [
        {
          "output_type": "stream",
          "text": [
            "32/32 [==============================] - 0s 3ms/step - loss: 1.3497 - accuracy: 0.4475\n"
          ],
          "name": "stdout"
        }
      ]
    },
    {
      "cell_type": "markdown",
      "metadata": {
        "id": "3vgEP7OnGlR9"
      },
      "source": [
        "###Visualize accuracy and loss over training + display best model's performance"
      ]
    },
    {
      "cell_type": "code",
      "metadata": {
        "id": "ktHNwzn0G73y",
        "colab": {
          "base_uri": "https://localhost:8080/",
          "height": 310
        },
        "outputId": "0b2910ee-c3d8-4572-d2fc-9887e8e12b00"
      },
      "source": [
        "plot_graphs(mlp_history, mlp_performance)"
      ],
      "execution_count": 13,
      "outputs": [
        {
          "output_type": "display_data",
          "data": {
            "image/png": "[encoded data removed]",
            "text/plain": [
              "<Figure size 720x288 with 2 Axes>"
            ]
          },
          "metadata": {
            "tags": [],
            "needs_background": "light"
          }
        }
      ]
    },
    {
      "cell_type": "markdown",
      "metadata": {
        "id": "oPeyL20OFzjN"
      },
      "source": [
        "###Plot the Confusion Matrix"
      ]
    },
    {
      "cell_type": "code",
      "metadata": {
        "id": "MgkxPwg2F7eL",
        "colab": {
          "base_uri": "https://localhost:8080/",
          "height": 312
        },
        "outputId": "1cb369c9-9b47-42f4-d543-cbbc1c3a9567"
      },
      "source": [
        "y_pred_mlp = mlp_model.predict_classes(X_test)\n",
        "y_true = np.argmax(y_test,axis=1)\n",
        "plot_confusion_matrix(y_true, y_pred_mlp)"
      ],
      "execution_count": 14,
      "outputs": [
        {
          "output_type": "stream",
          "text": [
            "Plotting the Confusion Matrix\n"
          ],
          "name": "stdout"
        },
        {
          "output_type": "display_data",
          "data": {
            "image/png": "[encoded data removed]",
            "text/plain": [
              "<Figure size 432x288 with 2 Axes>"
            ]
          },
          "metadata": {
            "tags": [],
            "needs_background": "light"
          }
        }
      ]
    },
    {
      "cell_type": "markdown",
      "metadata": {
        "id": "XqLIJTjW0JE_"
      },
      "source": [
        "##Neural Network Model Evaluation on distance inputs\n",
        "\n",
        "We saw yesterday that building a model on the distances between facial landmarks did better than on raw pixel inputs, is this true for these models as well? "
      ]
    },
    {
      "cell_type": "code",
      "metadata": {
        "id": "3yFQHl8n7Xjd",
        "cellView": "both"
      },
      "source": [
        "#Load the data (Distances between facial Landmarks)\n",
        "dataX_lm = np.load('./dataX.npy')\n",
        "#dataY_lm = np.load('./dataY.npy')\n",
        "\n",
        "# convert labels to one hot encoding\n",
        "#y_onehot = keras.utils.to_categorical(dataY_lm, len(set(dataY_lm)))"
      ],
      "execution_count": 15,
      "outputs": []
    },
    {
      "cell_type": "code",
      "metadata": {
        "id": "k-aKmK6e0a4J"
      },
      "source": [
        "# split Data into Train, Test (90-10)\n",
        "X_train_lm, X_test_lm, y_train_lm, y_test_lm = train_test_split(dataX_lm, y_onehot, test_size=0.1, random_state=42)\n",
        "\n",
        "#### Standardize the data ##########\n",
        "lm_scaler = StandardScaler()\n",
        "lm_scaler.fit(X_train_lm)\n",
        "X_train_lm = lm_scaler.transform(X_train_lm)\n",
        "X_test_lm = lm_scaler.transform(X_test_lm)"
      ],
      "execution_count": 16,
      "outputs": []
    },
    {
      "cell_type": "code",
      "metadata": {
        "id": "OPub4NX31R3q"
      },
      "source": [
        "#YOUR CODE HERE\n",
        "lm_model = keras.Sequential()\n",
        "lm_model.add(Dense(1024, input_shape=(4556,), activation='relu'))\n",
        "lm_model.add(Dense(512, activation='relu'))\n",
        "lm_model.add(Dense(100, activation='relu'))\n",
        "lm_model.add(Dense(5, activation='softmax'))\n",
        "#YOUR CODE HERE"
      ],
      "execution_count": 17,
      "outputs": []
    },
    {
      "cell_type": "code",
      "metadata": {
        "id": "_QEUcTxh7Ara",
        "colab": {
          "base_uri": "https://localhost:8080/"
        },
        "outputId": "ce9b4edf-55e6-4b9c-e947-12a595c6333c"
      },
      "source": [
        "# Compliling the model with SGD optimixer and categorical crossentropy loss\n",
        "lm_model.compile(loss=categorical_crossentropy, optimizer=SGD(lr=0.001), metrics=['accuracy'])\n",
        "\n",
        "#Saves the Best Model Based on Val Loss\n",
        "checkpoint = ModelCheckpoint('best_lm_model.h5', verbose=1, monitor='val_loss',save_best_only=True,  mode='auto')  \n",
        "#training the model\n",
        "lm_history = lm_model.fit(X_train_lm, y_train_lm, batch_size=batch_size, epochs=epochs, \n",
        "                          verbose=1, callbacks=[checkpoint], validation_data=(X_test_lm, y_test_lm), shuffle=True)"
      ],
      "execution_count": 18,
      "outputs": [
        {
          "output_type": "stream",
          "text": [
            "Epoch 1/20\n",
            "282/282 [==============================] - 2s 4ms/step - loss: 1.4968 - accuracy: 0.3613 - val_loss: 1.3208 - val_accuracy: 0.4480\n",
            "\n",
            "Epoch 00001: val_loss improved from inf to 1.32077, saving model to best_lm_model.h5\n",
            "Epoch 2/20\n",
            "282/282 [==============================] - 1s 4ms/step - loss: 1.2902 - accuracy: 0.4682 - val_loss: 1.2655 - val_accuracy: 0.4675\n",
            "\n",
            "Epoch 00002: val_loss improved from 1.32077 to 1.26547, saving model to best_lm_model.h5\n",
            "Epoch 3/20\n",
            "282/282 [==============================] - 1s 4ms/step - loss: 1.2314 - accuracy: 0.4950 - val_loss: 1.2465 - val_accuracy: 0.4750\n",
            "\n",
            "Epoch 00003: val_loss improved from 1.26547 to 1.24653, saving model to best_lm_model.h5\n",
            "Epoch 4/20\n",
            "282/282 [==============================] - 1s 4ms/step - loss: 1.2146 - accuracy: 0.5055 - val_loss: 1.2308 - val_accuracy: 0.4925\n",
            "\n",
            "Epoch 00004: val_loss improved from 1.24653 to 1.23084, saving model to best_lm_model.h5\n",
            "Epoch 5/20\n",
            "282/282 [==============================] - 1s 4ms/step - loss: 1.1865 - accuracy: 0.5203 - val_loss: 1.2226 - val_accuracy: 0.5000\n",
            "\n",
            "Epoch 00005: val_loss improved from 1.23084 to 1.22259, saving model to best_lm_model.h5\n",
            "Epoch 6/20\n",
            "282/282 [==============================] - 1s 4ms/step - loss: 1.1685 - accuracy: 0.5326 - val_loss: 1.2099 - val_accuracy: 0.5085\n",
            "\n",
            "Epoch 00006: val_loss improved from 1.22259 to 1.20986, saving model to best_lm_model.h5\n",
            "Epoch 7/20\n",
            "282/282 [==============================] - 1s 4ms/step - loss: 1.1449 - accuracy: 0.5407 - val_loss: 1.2011 - val_accuracy: 0.5150\n",
            "\n",
            "Epoch 00007: val_loss improved from 1.20986 to 1.20108, saving model to best_lm_model.h5\n",
            "Epoch 8/20\n",
            "282/282 [==============================] - 1s 4ms/step - loss: 1.1395 - accuracy: 0.5456 - val_loss: 1.1994 - val_accuracy: 0.5185\n",
            "\n",
            "Epoch 00008: val_loss improved from 1.20108 to 1.19938, saving model to best_lm_model.h5\n",
            "Epoch 9/20\n",
            "282/282 [==============================] - 1s 4ms/step - loss: 1.1307 - accuracy: 0.5512 - val_loss: 1.1963 - val_accuracy: 0.5235\n",
            "\n",
            "Epoch 00009: val_loss improved from 1.19938 to 1.19632, saving model to best_lm_model.h5\n",
            "Epoch 10/20\n",
            "282/282 [==============================] - 1s 4ms/step - loss: 1.1285 - accuracy: 0.5555 - val_loss: 1.1851 - val_accuracy: 0.5220\n",
            "\n",
            "Epoch 00010: val_loss improved from 1.19632 to 1.18508, saving model to best_lm_model.h5\n",
            "Epoch 11/20\n",
            "282/282 [==============================] - 1s 4ms/step - loss: 1.1207 - accuracy: 0.5627 - val_loss: 1.1820 - val_accuracy: 0.5275\n",
            "\n",
            "Epoch 00011: val_loss improved from 1.18508 to 1.18197, saving model to best_lm_model.h5\n",
            "Epoch 12/20\n",
            "282/282 [==============================] - 1s 4ms/step - loss: 1.1011 - accuracy: 0.5611 - val_loss: 1.1724 - val_accuracy: 0.5240\n",
            "\n",
            "Epoch 00012: val_loss improved from 1.18197 to 1.17236, saving model to best_lm_model.h5\n",
            "Epoch 13/20\n",
            "282/282 [==============================] - 1s 4ms/step - loss: 1.0862 - accuracy: 0.5767 - val_loss: 1.1813 - val_accuracy: 0.5270\n",
            "\n",
            "Epoch 00013: val_loss did not improve from 1.17236\n",
            "Epoch 14/20\n",
            "282/282 [==============================] - 1s 4ms/step - loss: 1.0820 - accuracy: 0.5680 - val_loss: 1.1666 - val_accuracy: 0.5335\n",
            "\n",
            "Epoch 00014: val_loss improved from 1.17236 to 1.16660, saving model to best_lm_model.h5\n",
            "Epoch 15/20\n",
            "282/282 [==============================] - 1s 4ms/step - loss: 1.0709 - accuracy: 0.5780 - val_loss: 1.1686 - val_accuracy: 0.5285\n",
            "\n",
            "Epoch 00015: val_loss did not improve from 1.16660\n",
            "Epoch 16/20\n",
            "282/282 [==============================] - 1s 4ms/step - loss: 1.0689 - accuracy: 0.5776 - val_loss: 1.1604 - val_accuracy: 0.5335\n",
            "\n",
            "Epoch 00016: val_loss improved from 1.16660 to 1.16045, saving model to best_lm_model.h5\n",
            "Epoch 17/20\n",
            "282/282 [==============================] - 1s 4ms/step - loss: 1.0651 - accuracy: 0.5797 - val_loss: 1.1663 - val_accuracy: 0.5355\n",
            "\n",
            "Epoch 00017: val_loss did not improve from 1.16045\n",
            "Epoch 18/20\n",
            "282/282 [==============================] - 1s 4ms/step - loss: 1.0614 - accuracy: 0.5868 - val_loss: 1.1531 - val_accuracy: 0.5350\n",
            "\n",
            "Epoch 00018: val_loss improved from 1.16045 to 1.15305, saving model to best_lm_model.h5\n",
            "Epoch 19/20\n",
            "282/282 [==============================] - 1s 4ms/step - loss: 1.0461 - accuracy: 0.5904 - val_loss: 1.1572 - val_accuracy: 0.5340\n",
            "\n",
            "Epoch 00019: val_loss did not improve from 1.15305\n",
            "Epoch 20/20\n",
            "282/282 [==============================] - 1s 4ms/step - loss: 1.0494 - accuracy: 0.5842 - val_loss: 1.1566 - val_accuracy: 0.5340\n",
            "\n",
            "Epoch 00020: val_loss did not improve from 1.15305\n"
          ],
          "name": "stdout"
        }
      ]
    },
    {
      "cell_type": "markdown",
      "metadata": {
        "id": "Xb2ruZoq1YPO"
      },
      "source": [
        "### Evaluate model"
      ]
    },
    {
      "cell_type": "markdown",
      "metadata": {
        "id": "wNzEHFZ7g17q"
      },
      "source": [
        "Cullen: This model achieved a 53.4 % accuracy while the model trained on pure pixel images achieved a 44.75% accuracy.\n"
      ]
    },
    {
      "cell_type": "code",
      "metadata": {
        "id": "IBOe-N6NgQag",
        "colab": {
          "base_uri": "https://localhost:8080/"
        },
        "outputId": "81e98816-06a6-4091-e85c-57690ee1accd"
      },
      "source": [
        "# YOUR CODE HERE\n",
        "lm_performance = lm_model.evaluate(X_test_lm, y_test_lm, batch_size=64)"
      ],
      "execution_count": 19,
      "outputs": [
        {
          "output_type": "stream",
          "text": [
            "32/32 [==============================] - 0s 3ms/step - loss: 1.1566 - accuracy: 0.5340\n"
          ],
          "name": "stdout"
        }
      ]
    },
    {
      "cell_type": "markdown",
      "metadata": {
        "id": "yj3XDT2eu31x"
      },
      "source": [
        "###Visualize accuracy and loss over training + display best model's performance"
      ]
    },
    {
      "cell_type": "code",
      "metadata": {
        "id": "kG1V_8AIs9Xf",
        "colab": {
          "base_uri": "https://localhost:8080/",
          "height": 310
        },
        "outputId": "a4eafbd2-e966-410b-b329-dccdc5edac75"
      },
      "source": [
        "# YOUR CODE HERE\n",
        "plot_graphs(lm_history, lm_performance)"
      ],
      "execution_count": 20,
      "outputs": [
        {
          "output_type": "display_data",
          "data": {
            "image/png": "[encoded data removed]",
            "text/plain": [
              "<Figure size 720x288 with 2 Axes>"
            ]
          },
          "metadata": {
            "tags": [],
            "needs_background": "light"
          }
        }
      ]
    },
    {
      "cell_type": "markdown",
      "metadata": {
        "id": "hULQjXFypvzX"
      },
      "source": [
        "### Plot Confusion Matrix"
      ]
    },
    {
      "cell_type": "code",
      "metadata": {
        "colab": {
          "base_uri": "https://localhost:8080/",
          "height": 312
        },
        "id": "saTILd0npvWh",
        "outputId": "089e616f-4cce-4db0-e514-eab5816c0813"
      },
      "source": [
        "y_pred_lm = lm_model.predict_classes(X_test_lm)\n",
        "y_true = np.argmax(y_test,axis=1)\n",
        "plot_confusion_matrix(y_true, y_pred_lm)"
      ],
      "execution_count": 21,
      "outputs": [
        {
          "output_type": "stream",
          "text": [
            "Plotting the Confusion Matrix\n"
          ],
          "name": "stdout"
        },
        {
          "output_type": "display_data",
          "data": {
            "image/png": "[encoded data removed]",
            "text/plain": [
              "<Figure size 432x288 with 2 Axes>"
            ]
          },
          "metadata": {
            "tags": [],
            "needs_background": "light"
          }
        }
      ]
    },
    {
      "cell_type": "markdown",
      "metadata": {
        "id": "1Xk6GHxUgiY6"
      },
      "source": [
        "## Instructor-Led Discussion\n",
        "\n",
        "How can we explain the difference between these two models?"
      ]
    },
    {
      "cell_type": "markdown",
      "metadata": {
        "id": "lX9zvfvrAtrj"
      },
      "source": [
        "#Convolutional Neural Networks for Emotion Detection!"
      ]
    },
    {
      "cell_type": "markdown",
      "metadata": {
        "id": "elpt0o8ehIbM"
      },
      "source": [
        "Note that this is using the pure pixels yet again.\n"
      ]
    },
    {
      "cell_type": "markdown",
      "metadata": {
        "id": "jXuDr1x1CZYP"
      },
      "source": [
        "###Model Hyperparameters"
      ]
    },
    {
      "cell_type": "code",
      "metadata": {
        "id": "OvPqbBy8Cc1G"
      },
      "source": [
        "# we'll use the same epochs and batch size as above\n",
        "width, height = 48, 48"
      ],
      "execution_count": 22,
      "outputs": []
    },
    {
      "cell_type": "markdown",
      "metadata": {
        "id": "wTH-IlrL0HVE"
      },
      "source": [
        "###Reshape the inputs"
      ]
    },
    {
      "cell_type": "code",
      "metadata": {
        "id": "DwTlyCBk6FOd",
        "colab": {
          "base_uri": "https://localhost:8080/"
        },
        "outputId": "c989fd46-9b69-4dab-ac98-c709ebb77f52"
      },
      "source": [
        "# pixels were vectors\n",
        "print(X_train.shape) "
      ],
      "execution_count": 23,
      "outputs": [
        {
          "output_type": "stream",
          "text": [
            "(18000, 2304)\n"
          ],
          "name": "stdout"
        }
      ]
    },
    {
      "cell_type": "code",
      "metadata": {
        "id": "NNSP1-vz6Lnk",
        "colab": {
          "base_uri": "https://localhost:8080/"
        },
        "outputId": "55127c37-0109-471f-bffd-2f5cf1996218"
      },
      "source": [
        "X_train_cnn = X_train.reshape(len(X_train),height,width)\n",
        "X_test_cnn = X_test.reshape(len(X_test),height,width)\n",
        "\n",
        "# we've converted them to images\n",
        "print(X_train_cnn.shape) "
      ],
      "execution_count": 24,
      "outputs": [
        {
          "output_type": "stream",
          "text": [
            "(18000, 48, 48)\n"
          ],
          "name": "stdout"
        }
      ]
    },
    {
      "cell_type": "code",
      "metadata": {
        "id": "RFP5S57i69o7",
        "colab": {
          "base_uri": "https://localhost:8080/"
        },
        "outputId": "eea1de4d-8afa-4c70-d132-092ff149d628"
      },
      "source": [
        "# now we add one more dimension for model compatability\n",
        "X_train_cnn = np.expand_dims(X_train_cnn,3)\n",
        "X_test_cnn = np.expand_dims(X_test_cnn,3)\n",
        "\n",
        "print(X_train_cnn.shape)"
      ],
      "execution_count": 25,
      "outputs": [
        {
          "output_type": "stream",
          "text": [
            "(18000, 48, 48, 1)\n"
          ],
          "name": "stdout"
        }
      ]
    },
    {
      "cell_type": "code",
      "metadata": {
        "id": "fnI75Z1yDylH",
        "cellView": "both"
      },
      "source": [
        "# Change the hyperparameters in the model below \n",
        "\n",
        "# initialize model\n",
        "cnn_model = Sequential()\n",
        "# this conv layer has 64 filters! the input shape needs to be the same dimensions of the image\n",
        "cnn_model.add(Conv2D(64, kernel_size=(3, 3), activation='relu', input_shape=(48, 48, 1)))\n",
        "# batch normalization \n",
        "cnn_model.add(BatchNormalization())\n",
        "# max pooling\n",
        "cnn_model.add(MaxPooling2D(pool_size=(2, 2), strides=(2, 2)))\n",
        "# dropout\n",
        "cnn_model.add(Dropout(0.5))\n",
        "\n",
        "# flatten all the outputs between convolutional and dense layers\n",
        "cnn_model.add(Flatten())\n",
        "# add a \"dense layer\" (i.e. the fully connected layers in MLPs) with dropout\n",
        "cnn_model.add(Dense(512, activation='relu'))\n",
        "# output layer\n",
        "cnn_model.add(Dense(n_labels, activation='softmax'))"
      ],
      "execution_count": 26,
      "outputs": []
    },
    {
      "cell_type": "code",
      "metadata": {
        "id": "vtRf96cBdcom"
      },
      "source": [
        "#YOUR CODE HERE\n",
        "#YOUR CODE HERE\n",
        "#YOUR CODE HERE\n",
        "#YOUR CODE HERE\n",
        "############### CALL YOUR MODEL 'cnn_model' \n",
        "#YOUR CODE HERE\n",
        "#YOUR CODE HERE\n",
        "#YOUR CODE HERE\n",
        "#YOUR CODE HERE"
      ],
      "execution_count": null,
      "outputs": []
    },
    {
      "cell_type": "code",
      "metadata": {
        "id": "YqirnWL8wDGR",
        "colab": {
          "base_uri": "https://localhost:8080/"
        },
        "outputId": "9e8ed22a-5dc5-4b40-cf88-c863bbf06892"
      },
      "source": [
        "#Saves the Best Model Based on Val Loss\n",
        "checkpoint = ModelCheckpoint('best_cnn_model.h5', verbose=1, monitor='val_loss',save_best_only=True, mode='auto')  \n",
        "\n",
        "# compliling the model with adam optimixer and categorical crossentropy loss\n",
        "cnn_model.compile(loss=categorical_crossentropy, optimizer=Adam(lr=0.001, beta_1=0.9, beta_2=0.999), metrics=['accuracy'])\n",
        "\n",
        "# training the model\n",
        "cnn_history = cnn_model.fit(X_train_cnn, y_train, batch_size=batch_size, epochs=epochs, verbose=1, \n",
        "                            callbacks=[checkpoint], validation_data=(X_test_cnn, y_test), shuffle=True)"
      ],
      "execution_count": 27,
      "outputs": [
        {
          "output_type": "stream",
          "text": [
            "Epoch 1/20\n",
            "282/282 [==============================] - 9s 12ms/step - loss: 4.7582 - accuracy: 0.3422 - val_loss: 1.4616 - val_accuracy: 0.4470\n",
            "\n",
            "Epoch 00001: val_loss improved from inf to 1.46161, saving model to best_cnn_model.h5\n",
            "Epoch 2/20\n",
            "282/282 [==============================] - 3s 12ms/step - loss: 1.1756 - accuracy: 0.5170 - val_loss: 1.2182 - val_accuracy: 0.4930\n",
            "\n",
            "Epoch 00002: val_loss improved from 1.46161 to 1.21816, saving model to best_cnn_model.h5\n",
            "Epoch 3/20\n",
            "282/282 [==============================] - 3s 12ms/step - loss: 1.0184 - accuracy: 0.5837 - val_loss: 1.1984 - val_accuracy: 0.5115\n",
            "\n",
            "Epoch 00003: val_loss improved from 1.21816 to 1.19842, saving model to best_cnn_model.h5\n",
            "Epoch 4/20\n",
            "282/282 [==============================] - 3s 12ms/step - loss: 0.8832 - accuracy: 0.6512 - val_loss: 1.2029 - val_accuracy: 0.5295\n",
            "\n",
            "Epoch 00004: val_loss did not improve from 1.19842\n",
            "Epoch 5/20\n",
            "282/282 [==============================] - 3s 12ms/step - loss: 0.7679 - accuracy: 0.7013 - val_loss: 1.2495 - val_accuracy: 0.5530\n",
            "\n",
            "Epoch 00005: val_loss did not improve from 1.19842\n",
            "Epoch 6/20\n",
            "282/282 [==============================] - 3s 12ms/step - loss: 0.6567 - accuracy: 0.7480 - val_loss: 1.2973 - val_accuracy: 0.5470\n",
            "\n",
            "Epoch 00006: val_loss did not improve from 1.19842\n",
            "Epoch 7/20\n",
            "282/282 [==============================] - 3s 12ms/step - loss: 0.5479 - accuracy: 0.7899 - val_loss: 1.4475 - val_accuracy: 0.5395\n",
            "\n",
            "Epoch 00007: val_loss did not improve from 1.19842\n",
            "Epoch 8/20\n",
            "282/282 [==============================] - 3s 12ms/step - loss: 0.4590 - accuracy: 0.8244 - val_loss: 1.4745 - val_accuracy: 0.5480\n",
            "\n",
            "Epoch 00008: val_loss did not improve from 1.19842\n",
            "Epoch 9/20\n",
            "282/282 [==============================] - 3s 11ms/step - loss: 0.4018 - accuracy: 0.8496 - val_loss: 1.6380 - val_accuracy: 0.5430\n",
            "\n",
            "Epoch 00009: val_loss did not improve from 1.19842\n",
            "Epoch 10/20\n",
            "282/282 [==============================] - 3s 12ms/step - loss: 0.3584 - accuracy: 0.8686 - val_loss: 1.7649 - val_accuracy: 0.5355\n",
            "\n",
            "Epoch 00010: val_loss did not improve from 1.19842\n",
            "Epoch 11/20\n",
            "282/282 [==============================] - 3s 12ms/step - loss: 0.3187 - accuracy: 0.8834 - val_loss: 1.9008 - val_accuracy: 0.5400\n",
            "\n",
            "Epoch 00011: val_loss did not improve from 1.19842\n",
            "Epoch 12/20\n",
            "282/282 [==============================] - 3s 12ms/step - loss: 0.2755 - accuracy: 0.8990 - val_loss: 1.9529 - val_accuracy: 0.5460\n",
            "\n",
            "Epoch 00012: val_loss did not improve from 1.19842\n",
            "Epoch 13/20\n",
            "282/282 [==============================] - 3s 12ms/step - loss: 0.2350 - accuracy: 0.9124 - val_loss: 2.1182 - val_accuracy: 0.5500\n",
            "\n",
            "Epoch 00013: val_loss did not improve from 1.19842\n",
            "Epoch 14/20\n",
            "282/282 [==============================] - 3s 12ms/step - loss: 0.2022 - accuracy: 0.9289 - val_loss: 2.2964 - val_accuracy: 0.5495\n",
            "\n",
            "Epoch 00014: val_loss did not improve from 1.19842\n",
            "Epoch 15/20\n",
            "282/282 [==============================] - 3s 12ms/step - loss: 0.1933 - accuracy: 0.9333 - val_loss: 2.2169 - val_accuracy: 0.5525\n",
            "\n",
            "Epoch 00015: val_loss did not improve from 1.19842\n",
            "Epoch 16/20\n",
            "282/282 [==============================] - 3s 12ms/step - loss: 0.1846 - accuracy: 0.9325 - val_loss: 2.2057 - val_accuracy: 0.5500\n",
            "\n",
            "Epoch 00016: val_loss did not improve from 1.19842\n",
            "Epoch 17/20\n",
            "282/282 [==============================] - 3s 12ms/step - loss: 0.1775 - accuracy: 0.9374 - val_loss: 2.5103 - val_accuracy: 0.5420\n",
            "\n",
            "Epoch 00017: val_loss did not improve from 1.19842\n",
            "Epoch 18/20\n",
            "282/282 [==============================] - 3s 11ms/step - loss: 0.1489 - accuracy: 0.9462 - val_loss: 2.4029 - val_accuracy: 0.5425\n",
            "\n",
            "Epoch 00018: val_loss did not improve from 1.19842\n",
            "Epoch 19/20\n",
            "282/282 [==============================] - 3s 12ms/step - loss: 0.1620 - accuracy: 0.9454 - val_loss: 2.5998 - val_accuracy: 0.5330\n",
            "\n",
            "Epoch 00019: val_loss did not improve from 1.19842\n",
            "Epoch 20/20\n",
            "282/282 [==============================] - 3s 12ms/step - loss: 0.1387 - accuracy: 0.9518 - val_loss: 2.4276 - val_accuracy: 0.5315\n",
            "\n",
            "Epoch 00020: val_loss did not improve from 1.19842\n"
          ],
          "name": "stdout"
        }
      ]
    },
    {
      "cell_type": "markdown",
      "metadata": {
        "id": "wXprpaHpxVb-"
      },
      "source": [
        "###Evaluate the model"
      ]
    },
    {
      "cell_type": "markdown",
      "metadata": {
        "id": "FUvH-40HhS3b"
      },
      "source": [
        "Cullen: This model attains much better accuracy than the regular neural network trained on the pixel images (44.75 % accuracy) but still falls slightly short of the regular neural network trained on Euclidean distances (53.4% accuracy).\n"
      ]
    },
    {
      "cell_type": "code",
      "metadata": {
        "id": "JvCbnwZ_CBYv",
        "colab": {
          "base_uri": "https://localhost:8080/"
        },
        "outputId": "071564b4-60f0-49d7-d510-24efd34f0719"
      },
      "source": [
        "# YOUR CODE HERE\n",
        "cnn_performance = cnn_model.evaluate(X_test_cnn, y_test, batch_size=64)"
      ],
      "execution_count": 28,
      "outputs": [
        {
          "output_type": "stream",
          "text": [
            "32/32 [==============================] - 0s 4ms/step - loss: 2.4276 - accuracy: 0.5315\n"
          ],
          "name": "stdout"
        }
      ]
    },
    {
      "cell_type": "markdown",
      "metadata": {
        "id": "cDmHi_05BKnr"
      },
      "source": [
        "###Plot Accuracy and Loss"
      ]
    },
    {
      "cell_type": "markdown",
      "metadata": {
        "id": "9JeQjXBpheh0"
      },
      "source": [
        "Cullen: This model overfits far more than either of the previous models as can be seen in these two graphs.\n"
      ]
    },
    {
      "cell_type": "code",
      "metadata": {
        "id": "YdRZz5w2ixwO",
        "colab": {
          "base_uri": "https://localhost:8080/",
          "height": 310
        },
        "outputId": "d0775fc3-5173-4033-8906-2b7a0add9e84"
      },
      "source": [
        "# YOUR CODE HERE \n",
        "plot_graphs(cnn_history, cnn_performance)"
      ],
      "execution_count": 29,
      "outputs": [
        {
          "output_type": "display_data",
          "data": {
            "image/png": "[encoded data removed]",
            "text/plain": [
              "<Figure size 720x288 with 2 Axes>"
            ]
          },
          "metadata": {
            "tags": [],
            "needs_background": "light"
          }
        }
      ]
    },
    {
      "cell_type": "markdown",
      "metadata": {
        "id": "iBvxZWuFrBck"
      },
      "source": [
        "### Plot Confusion Matrix\n"
      ]
    },
    {
      "cell_type": "code",
      "metadata": {
        "colab": {
          "base_uri": "https://localhost:8080/",
          "height": 312
        },
        "id": "I5tmjrZyq94e",
        "outputId": "6d662868-7ec3-48ce-9e9f-82887e5b6a53"
      },
      "source": [
        "y_pred_cnn = cnn_model.predict_classes(X_test_cnn)\n",
        "y_true = np.argmax(y_test,axis=1)\n",
        "plot_confusion_matrix(y_true, y_pred_cnn)"
      ],
      "execution_count": 30,
      "outputs": [
        {
          "output_type": "stream",
          "text": [
            "Plotting the Confusion Matrix\n"
          ],
          "name": "stdout"
        },
        {
          "output_type": "display_data",
          "data": {
            "image/png": "[encoded data removed]",
            "text/plain": [
              "<Figure size 432x288 with 2 Axes>"
            ]
          },
          "metadata": {
            "tags": [],
            "needs_background": "light"
          }
        }
      ]
    },
    {
      "cell_type": "markdown",
      "metadata": {
        "id": "hzLSZVH0jdG0"
      },
      "source": [
        "## Instructor-Led Discussion\n",
        "\n",
        "How does this model compare with the others? Did this perform as well as we wanted it to? What might be some of the reasons why?"
      ]
    },
    {
      "cell_type": "markdown",
      "metadata": {
        "id": "_eqKTSlRmEGF"
      },
      "source": [
        "#Transfer Learning"
      ]
    },
    {
      "cell_type": "code",
      "metadata": {
        "id": "OPpE58jJmIdY",
        "colab": {
          "base_uri": "https://localhost:8080/"
        },
        "outputId": "9a1b38ec-f1de-4393-ad75-e79ea3463623"
      },
      "source": [
        "#@title Run this to build your transfer learning model { display-mode: \"form\" }\n",
        "\n",
        "import keras\n",
        "from keras.models import Sequential\n",
        "from keras.layers import Activation, MaxPooling2D, Dropout, Flatten, Reshape, Dense, Conv2D, GlobalAveragePooling2D\n",
        "from keras.wrappers.scikit_learn import KerasClassifier\n",
        "import keras.optimizers as optimizers\n",
        "from keras.applications.vgg16 import VGG16\n",
        "\n",
        "# load the vgg network that is an 'expert' at 'imagenet' but do not include the FC layers\n",
        "vgg_expert = VGG16(weights = 'imagenet', include_top = False, input_shape = (48, 48, 3))\n",
        "\n",
        "# we add the first 12 layers of vgg to our own model vgg_model\n",
        "vgg_model = Sequential()\n",
        "vgg_model.add(vgg_expert)\n",
        "\n",
        "# and then add our own layers on top of it\n",
        "vgg_model.add(GlobalAveragePooling2D())\n",
        "vgg_model.add(Dense(1024, activation = 'relu'))\n",
        "vgg_model.add(Dropout(0.3))\n",
        "vgg_model.add(Dense(512, activation = 'relu'))\n",
        "vgg_model.add(Dropout(0.3))\n",
        "vgg_model.add(Dense(5, activation = 'sigmoid'))\n",
        "\n",
        "# finally, we build the vgg model and turn it on so we can use it!\n",
        "vgg_model.compile(loss = 'categorical_crossentropy', \n",
        "          optimizer = optimizers.SGD(lr=1e-4, momentum=0.95), \n",
        "          metrics=['accuracy'])\n",
        "\n",
        "X_TRAIN = np.array([np.transpose(np.array([X_train_cnn[ix].squeeze() for i in range(3)]), (1,2,0)) for ix in range(len(X_train))])\n",
        "X_TEST = np.array([np.transpose(np.array([X_test_cnn[ix].squeeze() for i in range(3)]), (1,2,0)) for ix in range(len(X_test))])\n",
        "\n",
        "#training the model\n",
        "vgg_history = vgg_model.fit(X_TRAIN, y_train,\n",
        "          batch_size=batch_size,\n",
        "          epochs=epochs,\n",
        "          verbose=1,\n",
        "          callbacks=[checkpoint],\n",
        "          validation_data=(X_TEST, y_test),\n",
        "          shuffle=True)"
      ],
      "execution_count": 31,
      "outputs": [
        {
          "output_type": "stream",
          "text": [
            "Downloading data from https://storage.googleapis.com/tensorflow/keras-applications/vgg16/vgg16_weights_tf_dim_ordering_tf_kernels_notop.h5\n",
            "58892288/58889256 [==============================] - 0s 0us/step\n",
            "Epoch 1/20\n",
            "282/282 [==============================] - 19s 60ms/step - loss: 1.6128 - accuracy: 0.2562 - val_loss: 1.3356 - val_accuracy: 0.4380\n",
            "\n",
            "Epoch 00001: val_loss did not improve from 1.19842\n",
            "Epoch 2/20\n",
            "282/282 [==============================] - 17s 59ms/step - loss: 1.3118 - accuracy: 0.4444 - val_loss: 1.1209 - val_accuracy: 0.5315\n",
            "\n",
            "Epoch 00002: val_loss improved from 1.19842 to 1.12094, saving model to best_cnn_model.h5\n",
            "Epoch 3/20\n",
            "282/282 [==============================] - 17s 59ms/step - loss: 1.1455 - accuracy: 0.5342 - val_loss: 1.0449 - val_accuracy: 0.5860\n",
            "\n",
            "Epoch 00003: val_loss improved from 1.12094 to 1.04490, saving model to best_cnn_model.h5\n",
            "Epoch 4/20\n",
            "282/282 [==============================] - 17s 60ms/step - loss: 1.0434 - accuracy: 0.5801 - val_loss: 0.9881 - val_accuracy: 0.6035\n",
            "\n",
            "Epoch 00004: val_loss improved from 1.04490 to 0.98806, saving model to best_cnn_model.h5\n",
            "Epoch 5/20\n",
            "282/282 [==============================] - 17s 60ms/step - loss: 0.9966 - accuracy: 0.6042 - val_loss: 0.9502 - val_accuracy: 0.6260\n",
            "\n",
            "Epoch 00005: val_loss improved from 0.98806 to 0.95017, saving model to best_cnn_model.h5\n",
            "Epoch 6/20\n",
            "282/282 [==============================] - 17s 61ms/step - loss: 0.9489 - accuracy: 0.6277 - val_loss: 0.9558 - val_accuracy: 0.6175\n",
            "\n",
            "Epoch 00006: val_loss did not improve from 0.95017\n",
            "Epoch 7/20\n",
            "282/282 [==============================] - 17s 61ms/step - loss: 0.8981 - accuracy: 0.6476 - val_loss: 0.9162 - val_accuracy: 0.6470\n",
            "\n",
            "Epoch 00007: val_loss improved from 0.95017 to 0.91618, saving model to best_cnn_model.h5\n",
            "Epoch 8/20\n",
            "282/282 [==============================] - 17s 61ms/step - loss: 0.8728 - accuracy: 0.6634 - val_loss: 0.9317 - val_accuracy: 0.6435\n",
            "\n",
            "Epoch 00008: val_loss did not improve from 0.91618\n",
            "Epoch 9/20\n",
            "282/282 [==============================] - 17s 62ms/step - loss: 0.8759 - accuracy: 0.6566 - val_loss: 0.8729 - val_accuracy: 0.6575\n",
            "\n",
            "Epoch 00009: val_loss improved from 0.91618 to 0.87289, saving model to best_cnn_model.h5\n",
            "Epoch 10/20\n",
            "282/282 [==============================] - 17s 62ms/step - loss: 0.7962 - accuracy: 0.6931 - val_loss: 0.8819 - val_accuracy: 0.6575\n",
            "\n",
            "Epoch 00010: val_loss did not improve from 0.87289\n",
            "Epoch 11/20\n",
            "282/282 [==============================] - 17s 62ms/step - loss: 0.7407 - accuracy: 0.7235 - val_loss: 0.8922 - val_accuracy: 0.6565\n",
            "\n",
            "Epoch 00011: val_loss did not improve from 0.87289\n",
            "Epoch 12/20\n",
            "282/282 [==============================] - 17s 61ms/step - loss: 0.7399 - accuracy: 0.7184 - val_loss: 0.8427 - val_accuracy: 0.6715\n",
            "\n",
            "Epoch 00012: val_loss improved from 0.87289 to 0.84274, saving model to best_cnn_model.h5\n",
            "Epoch 13/20\n",
            "282/282 [==============================] - 17s 62ms/step - loss: 0.7102 - accuracy: 0.7321 - val_loss: 0.8443 - val_accuracy: 0.6790\n",
            "\n",
            "Epoch 00013: val_loss did not improve from 0.84274\n",
            "Epoch 14/20\n",
            "282/282 [==============================] - 17s 62ms/step - loss: 0.6625 - accuracy: 0.7539 - val_loss: 0.8515 - val_accuracy: 0.6725\n",
            "\n",
            "Epoch 00014: val_loss did not improve from 0.84274\n",
            "Epoch 15/20\n",
            "282/282 [==============================] - 17s 61ms/step - loss: 0.6386 - accuracy: 0.7664 - val_loss: 0.8589 - val_accuracy: 0.6700\n",
            "\n",
            "Epoch 00015: val_loss did not improve from 0.84274\n",
            "Epoch 16/20\n",
            "282/282 [==============================] - 17s 61ms/step - loss: 0.6095 - accuracy: 0.7727 - val_loss: 0.8559 - val_accuracy: 0.6780\n",
            "\n",
            "Epoch 00016: val_loss did not improve from 0.84274\n",
            "Epoch 17/20\n",
            "282/282 [==============================] - 17s 61ms/step - loss: 0.5673 - accuracy: 0.7914 - val_loss: 0.8792 - val_accuracy: 0.6780\n",
            "\n",
            "Epoch 00017: val_loss did not improve from 0.84274\n",
            "Epoch 18/20\n",
            "282/282 [==============================] - 17s 62ms/step - loss: 0.5243 - accuracy: 0.8129 - val_loss: 0.9686 - val_accuracy: 0.6700\n",
            "\n",
            "Epoch 00018: val_loss did not improve from 0.84274\n",
            "Epoch 19/20\n",
            "282/282 [==============================] - 17s 61ms/step - loss: 0.5006 - accuracy: 0.8183 - val_loss: 0.9065 - val_accuracy: 0.6755\n",
            "\n",
            "Epoch 00019: val_loss did not improve from 0.84274\n",
            "Epoch 20/20\n",
            "282/282 [==============================] - 17s 61ms/step - loss: 0.4723 - accuracy: 0.8286 - val_loss: 0.9308 - val_accuracy: 0.6790\n",
            "\n",
            "Epoch 00020: val_loss did not improve from 0.84274\n"
          ],
          "name": "stdout"
        }
      ]
    },
    {
      "cell_type": "markdown",
      "metadata": {
        "id": "rwABV9sHAclF"
      },
      "source": [
        "###Evaluate model"
      ]
    },
    {
      "cell_type": "markdown",
      "metadata": {
        "id": "GNiuUlbelVWS"
      },
      "source": [
        "Cullen: Wow this model performs significantly better than any of the other models. I suppose that a CNN is still the best bet rather than the use of Euclidean distances."
      ]
    },
    {
      "cell_type": "code",
      "metadata": {
        "id": "JkXQP816AedQ",
        "colab": {
          "base_uri": "https://localhost:8080/"
        },
        "outputId": "f22ccfe5-0254-4aaa-928a-a89c2998bc51"
      },
      "source": [
        "# YOUR CODE HERE\n",
        "vgg_performance = vgg_model.evaluate(X_TEST, y_test, batch_size=64)"
      ],
      "execution_count": 32,
      "outputs": [
        {
          "output_type": "stream",
          "text": [
            "32/32 [==============================] - 1s 19ms/step - loss: 0.9308 - accuracy: 0.6790\n"
          ],
          "name": "stdout"
        }
      ]
    },
    {
      "cell_type": "markdown",
      "metadata": {
        "id": "EjquMpMmAZEo"
      },
      "source": [
        "###Visualize accuracy and loss over training + display best model's performance"
      ]
    },
    {
      "cell_type": "markdown",
      "metadata": {
        "id": "sbRjQJetlhEQ"
      },
      "source": [
        "Cullen: This model overfits more than the non CNNs, but much less than the CNN built from scratch."
      ]
    },
    {
      "cell_type": "code",
      "metadata": {
        "id": "OflGd8RFsrTX",
        "colab": {
          "base_uri": "https://localhost:8080/",
          "height": 310
        },
        "outputId": "63454a28-d71e-4cc6-d157-aae0c1e0a208"
      },
      "source": [
        "# YOUR CODE HERE\n",
        "plot_graphs(vgg_history, vgg_performance)"
      ],
      "execution_count": 33,
      "outputs": [
        {
          "output_type": "display_data",
          "data": {
            "image/png": "[encoded data removed]",
            "text/plain": [
              "<Figure size 720x288 with 2 Axes>"
            ]
          },
          "metadata": {
            "tags": [],
            "needs_background": "light"
          }
        }
      ]
    },
    {
      "cell_type": "markdown",
      "metadata": {
        "id": "B9qCnuaMlqsx"
      },
      "source": [
        "Cullen: Super cool stuff!"
      ]
    },
    {
      "cell_type": "code",
      "metadata": {
        "id": "A-V2HVMOGRZ-",
        "colab": {
          "base_uri": "https://localhost:8080/",
          "height": 279
        },
        "outputId": "3bcb20b4-782a-4cff-e303-cab457c31c79"
      },
      "source": [
        "compare_learning(mlp_history, lm_history, cnn_history, vgg_history)"
      ],
      "execution_count": 34,
      "outputs": [
        {
          "output_type": "display_data",
          "data": {
            "image/png": "[encoded data removed]",
            "text/plain": [
              "<Figure size 432x288 with 1 Axes>"
            ]
          },
          "metadata": {
            "tags": [],
            "needs_background": "light"
          }
        }
      ]
    },
    {
      "cell_type": "markdown",
      "metadata": {
        "id": "-kmm2fWDBtfW"
      },
      "source": [
        "###How can we explain this pattern of performance across all these models?"
      ]
    },
    {
      "cell_type": "markdown",
      "metadata": {
        "id": "SRW9UiFbBoAK"
      },
      "source": [
        "# Finished :D"
      ]
    }
  ]
}